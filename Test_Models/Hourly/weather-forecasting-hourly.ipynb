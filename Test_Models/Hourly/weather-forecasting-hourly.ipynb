{
 "cells": [
  {
   "cell_type": "markdown",
   "metadata": {},
   "source": [
    "# 1 FEATURE , PAST 27 YEAR , NEXT DAY PREDICTION WINDO SIZE=100"
   ]
  },
  {
   "cell_type": "code",
   "execution_count": 171,
   "metadata": {
    "execution": {
     "iopub.execute_input": "2024-12-29T08:54:39.624144Z",
     "iopub.status.busy": "2024-12-29T08:54:39.623807Z",
     "iopub.status.idle": "2024-12-29T08:54:39.628989Z",
     "shell.execute_reply": "2024-12-29T08:54:39.628287Z",
     "shell.execute_reply.started": "2024-12-29T08:54:39.624115Z"
    },
    "trusted": true
   },
   "outputs": [
    {
     "data": {
      "text/plain": [
       "'\\nJUST CHANGE data[feature] : feature with tmin,tmax,tavg \\n                            and change Scaler with Standard Scaler and MinMax Scaler\\n                            remain all other code same \\n\\nAnd You wil get result as i got which i mentioned in All model evalution portion.\\n\\n'"
      ]
     },
     "execution_count": 171,
     "metadata": {},
     "output_type": "execute_result"
    }
   ],
   "source": [
    "\"\"\"\n",
    "JUST CHANGE data[feature] : feature with tmin,tmax,tavg \n",
    "                            and change Scaler with Standard Scaler and MinMax Scaler\n",
    "                            remain all other code same \n",
    "\n",
    "And You wil get result as i got which i mentioned in All model evalution portion.\n",
    "\n",
    "\"\"\""
   ]
  },
  {
   "cell_type": "code",
   "execution_count": 4,
   "metadata": {
    "execution": {
     "iopub.execute_input": "2024-12-29T04:59:04.605779Z",
     "iopub.status.busy": "2024-12-29T04:59:04.605576Z",
     "iopub.status.idle": "2024-12-29T04:59:07.800168Z",
     "shell.execute_reply": "2024-12-29T04:59:07.799075Z",
     "shell.execute_reply.started": "2024-12-29T04:59:04.605759Z"
    },
    "trusted": true
   },
   "outputs": [
    {
     "name": "stderr",
     "output_type": "stream",
     "text": [
      "/usr/lib/python3.10/pty.py:89: RuntimeWarning: os.fork() was called. os.fork() is incompatible with multithreaded code, and JAX is multithreaded, so this will likely lead to a deadlock.\n",
      "  pid, fd = os.forkpty()\n"
     ]
    },
    {
     "name": "stdout",
     "output_type": "stream",
     "text": [
      "Requirement already satisfied: meteostat in /usr/local/lib/python3.10/dist-packages (1.6.8)\n",
      "Requirement already satisfied: pandas>=1.1 in /usr/local/lib/python3.10/dist-packages (from meteostat) (2.1.4)\n",
      "Requirement already satisfied: pytz in /usr/local/lib/python3.10/dist-packages (from meteostat) (2024.2)\n",
      "Requirement already satisfied: numpy in /usr/local/lib/python3.10/dist-packages (from meteostat) (1.26.4)\n",
      "Requirement already satisfied: python-dateutil>=2.8.2 in /usr/local/lib/python3.10/dist-packages (from pandas>=1.1->meteostat) (2.8.2)\n",
      "Requirement already satisfied: tzdata>=2022.1 in /usr/local/lib/python3.10/dist-packages (from pandas>=1.1->meteostat) (2024.1)\n",
      "Requirement already satisfied: six>=1.5 in /usr/local/lib/python3.10/dist-packages (from python-dateutil>=2.8.2->pandas>=1.1->meteostat) (1.16.0)\n"
     ]
    }
   ],
   "source": [
    "!pip install meteostat"
   ]
  },
  {
   "cell_type": "code",
   "execution_count": 5,
   "metadata": {
    "execution": {
     "iopub.execute_input": "2024-12-29T04:59:07.802026Z",
     "iopub.status.busy": "2024-12-29T04:59:07.801748Z",
     "iopub.status.idle": "2024-12-29T04:59:07.806395Z",
     "shell.execute_reply": "2024-12-29T04:59:07.805487Z",
     "shell.execute_reply.started": "2024-12-29T04:59:07.802004Z"
    },
    "id": "Zyzpl9j-zyQ3",
    "trusted": true
   },
   "outputs": [],
   "source": [
    "import numpy as np\n",
    "import matplotlib.pyplot as plt\n",
    "from tensorflow.keras.models import Sequential\n",
    "from keras.layers import Dense,LSTM,Dropout,Flatten,BatchNormalization\n",
    "from sklearn.preprocessing import MinMaxScaler\n",
    "import pandas as pd\n"
   ]
  },
  {
   "cell_type": "code",
   "execution_count": 6,
   "metadata": {
    "execution": {
     "iopub.execute_input": "2024-12-29T04:59:07.807624Z",
     "iopub.status.busy": "2024-12-29T04:59:07.807350Z",
     "iopub.status.idle": "2024-12-29T04:59:08.136274Z",
     "shell.execute_reply": "2024-12-29T04:59:08.135534Z",
     "shell.execute_reply.started": "2024-12-29T04:59:07.807592Z"
    },
    "trusted": true
   },
   "outputs": [
    {
     "name": "stdout",
     "output_type": "stream",
     "text": [
      "City: Ahmedabad, India\n",
      "Latitude: 23.0215374, Longitude: 72.5800568\n"
     ]
    }
   ],
   "source": [
    "from geopy.geocoders import Nominatim\n",
    "\n",
    "geolocator = Nominatim(user_agent=\"jainam\")\n",
    "\n",
    "# Example city\n",
    "city = \"Ahmedabad, India\"\n",
    "\n",
    "location = geolocator.geocode(city)\n",
    "\n",
    "if location:\n",
    "    print(f\"City: {city}\")\n",
    "    print(f\"Latitude: {location.latitude}, Longitude: {location.longitude}\")\n",
    "else:\n",
    "    print(f\"Could not find coordinates for {city}\")\n"
   ]
  },
  {
   "cell_type": "code",
   "execution_count": 56,
   "metadata": {
    "execution": {
     "iopub.execute_input": "2024-12-29T06:55:02.647130Z",
     "iopub.status.busy": "2024-12-29T06:55:02.646851Z",
     "iopub.status.idle": "2024-12-29T06:55:02.652711Z",
     "shell.execute_reply": "2024-12-29T06:55:02.651791Z",
     "shell.execute_reply.started": "2024-12-29T06:55:02.647108Z"
    },
    "trusted": true
   },
   "outputs": [],
   "source": [
    "def plot_loss_curves(history):\n",
    "    \"\"\"\n",
    "    Plots the loss curves of a model\n",
    "    \"\"\"\n",
    "    loss = history['loss']\n",
    "    val_loss = history['val_loss']\n",
    "\n",
    "    accuracy = history['mae']\n",
    "    val_accuracy = history['val_mae']\n",
    "\n",
    "    epochs = range(len(history['loss']))\n",
    "\n",
    "\n",
    "    plt.plot(epochs, loss, label='training_loss')\n",
    "    plt.plot(epochs, val_loss, label='val_loss')\n",
    "    plt.title('Loss')\n",
    "    plt.xlabel('Epochs')\n",
    "    plt.legend()\n",
    "\n",
    "    plt.figure()\n",
    "    plt.plot(epochs, accuracy, label='training_accuracy')\n",
    "    plt.plot(epochs, val_accuracy, label='val_accuracy')\n",
    "    plt.title('Accuracy')\n",
    "    plt.xlabel('Epochs')\n",
    "    plt.legend();"
   ]
  },
  {
   "cell_type": "code",
   "execution_count": 84,
   "metadata": {
    "execution": {
     "iopub.execute_input": "2024-12-29T07:00:49.896409Z",
     "iopub.status.busy": "2024-12-29T07:00:49.896085Z",
     "iopub.status.idle": "2024-12-29T07:00:50.267871Z",
     "shell.execute_reply": "2024-12-29T07:00:50.266876Z",
     "shell.execute_reply.started": "2024-12-29T07:00:49.896375Z"
    },
    "trusted": true
   },
   "outputs": [
    {
     "name": "stdout",
     "output_type": "stream",
     "text": [
      "                     temp  dwpt  rhum  prcp  snow   wdir  wspd  wpgt    pres  \\\n",
      "time                                                                           \n",
      "1990-06-01 00:00:00  25.4  23.8  91.0   NaN   NaN  230.0  11.2   NaN  1002.5   \n",
      "1990-06-01 01:00:00   NaN   NaN   NaN   NaN   NaN    NaN   NaN   NaN     NaN   \n",
      "1990-06-01 02:00:00   NaN   NaN   NaN   NaN   NaN    NaN   NaN   NaN     NaN   \n",
      "1990-06-01 03:00:00  29.4  23.6  71.0   NaN   NaN  320.0  18.4   NaN  1004.2   \n",
      "1990-06-01 04:00:00   NaN   NaN   NaN   NaN   NaN    NaN   NaN   NaN     NaN   \n",
      "...                   ...   ...   ...   ...   ...    ...   ...   ...     ...   \n",
      "2024-05-31 20:00:00  32.0  24.1  63.0   0.0   NaN  250.0  13.0   NaN  1003.0   \n",
      "2024-05-31 21:00:00  32.6  24.4  62.0   0.0   NaN  250.0   7.6   NaN  1002.8   \n",
      "2024-05-31 22:00:00  31.0  22.1  59.0   0.0   NaN  210.0  22.3   NaN  1003.0   \n",
      "2024-05-31 23:00:00  30.0  21.9  62.0   0.0   NaN  210.0  14.8   NaN  1003.0   \n",
      "2024-06-01 00:00:00  31.0  23.1  63.0   0.0   NaN  230.0   5.4   NaN  1003.5   \n",
      "\n",
      "                     tsun  coco  \n",
      "time                             \n",
      "1990-06-01 00:00:00   NaN   NaN  \n",
      "1990-06-01 01:00:00   NaN   NaN  \n",
      "1990-06-01 02:00:00   NaN   NaN  \n",
      "1990-06-01 03:00:00   NaN   NaN  \n",
      "1990-06-01 04:00:00   NaN   NaN  \n",
      "...                   ...   ...  \n",
      "2024-05-31 20:00:00   NaN   1.0  \n",
      "2024-05-31 21:00:00   NaN   1.0  \n",
      "2024-05-31 22:00:00   NaN   1.0  \n",
      "2024-05-31 23:00:00   NaN   1.0  \n",
      "2024-06-01 00:00:00   NaN   1.0  \n",
      "\n",
      "[298057 rows x 11 columns]\n"
     ]
    }
   ],
   "source": [
    "from meteostat import Point, Hourly\n",
    "import datetime\n",
    "\n",
    "\n",
    "location = Point( 23.0215374, 72.5800568)\n",
    "start = datetime.datetime(1990, 6, 1)\n",
    "end = datetime.datetime(2024, 6, 1)\n",
    "\n",
    "# Get historical data\n",
    "data = Hourly(location, start, end)\n",
    "data = data.fetch()\n",
    "\n",
    "print(data)\n"
   ]
  },
  {
   "cell_type": "code",
   "execution_count": 85,
   "metadata": {
    "execution": {
     "iopub.execute_input": "2024-12-29T07:00:56.398767Z",
     "iopub.status.busy": "2024-12-29T07:00:56.398449Z",
     "iopub.status.idle": "2024-12-29T07:00:56.403356Z",
     "shell.execute_reply": "2024-12-29T07:00:56.402475Z",
     "shell.execute_reply.started": "2024-12-29T07:00:56.398742Z"
    },
    "trusted": true
   },
   "outputs": [
    {
     "name": "stdout",
     "output_type": "stream",
     "text": [
      "(298057, 11)\n"
     ]
    }
   ],
   "source": [
    "print(data.shape)"
   ]
  },
  {
   "cell_type": "code",
   "execution_count": 86,
   "metadata": {
    "execution": {
     "iopub.execute_input": "2024-12-29T07:00:59.568042Z",
     "iopub.status.busy": "2024-12-29T07:00:59.567755Z",
     "iopub.status.idle": "2024-12-29T07:00:59.572166Z",
     "shell.execute_reply": "2024-12-29T07:00:59.571243Z",
     "shell.execute_reply.started": "2024-12-29T07:00:59.568019Z"
    },
    "trusted": true
   },
   "outputs": [],
   "source": [
    "temperature_avg=data[\"temp\"]"
   ]
  },
  {
   "cell_type": "code",
   "execution_count": 87,
   "metadata": {
    "execution": {
     "iopub.execute_input": "2024-12-29T07:00:59.986055Z",
     "iopub.status.busy": "2024-12-29T07:00:59.985784Z",
     "iopub.status.idle": "2024-12-29T07:00:59.991879Z",
     "shell.execute_reply": "2024-12-29T07:00:59.990934Z",
     "shell.execute_reply.started": "2024-12-29T07:00:59.986033Z"
    },
    "trusted": true
   },
   "outputs": [
    {
     "name": "stdout",
     "output_type": "stream",
     "text": [
      "TOTAL NULL VALUES IN DATASET: 150410\n"
     ]
    }
   ],
   "source": [
    "print(\"TOTAL NULL VALUES IN DATASET:\",temperature_avg.isnull().sum())"
   ]
  },
  {
   "cell_type": "code",
   "execution_count": 88,
   "metadata": {
    "execution": {
     "iopub.execute_input": "2024-12-29T07:01:01.488199Z",
     "iopub.status.busy": "2024-12-29T07:01:01.487888Z",
     "iopub.status.idle": "2024-12-29T07:01:01.494913Z",
     "shell.execute_reply": "2024-12-29T07:01:01.494201Z",
     "shell.execute_reply.started": "2024-12-29T07:01:01.488172Z"
    },
    "trusted": true
   },
   "outputs": [],
   "source": [
    "temperature_avg.dropna(inplace=True)"
   ]
  },
  {
   "cell_type": "code",
   "execution_count": 89,
   "metadata": {
    "execution": {
     "iopub.execute_input": "2024-12-29T07:01:01.780133Z",
     "iopub.status.busy": "2024-12-29T07:01:01.779835Z",
     "iopub.status.idle": "2024-12-29T07:01:01.793595Z",
     "shell.execute_reply": "2024-12-29T07:01:01.792871Z",
     "shell.execute_reply.started": "2024-12-29T07:01:01.780107Z"
    },
    "trusted": true
   },
   "outputs": [
    {
     "data": {
      "text/plain": [
       "count    147647.000000\n",
       "mean         27.703418\n",
       "std           6.452841\n",
       "min           4.200000\n",
       "25%          24.000000\n",
       "50%          28.000000\n",
       "75%          32.000000\n",
       "max          50.000000\n",
       "Name: temp, dtype: float64"
      ]
     },
     "execution_count": 89,
     "metadata": {},
     "output_type": "execute_result"
    }
   ],
   "source": [
    "temperature_avg.describe()"
   ]
  },
  {
   "cell_type": "code",
   "execution_count": 90,
   "metadata": {
    "execution": {
     "iopub.execute_input": "2024-12-29T07:01:04.040957Z",
     "iopub.status.busy": "2024-12-29T07:01:04.040645Z",
     "iopub.status.idle": "2024-12-29T07:01:04.051751Z",
     "shell.execute_reply": "2024-12-29T07:01:04.050863Z",
     "shell.execute_reply.started": "2024-12-29T07:01:04.040933Z"
    },
    "trusted": true
   },
   "outputs": [
    {
     "name": "stdout",
     "output_type": "stream",
     "text": [
      "<class 'pandas.core.series.Series'>\n",
      "DatetimeIndex: 147647 entries, 1990-06-01 00:00:00 to 2024-06-01 00:00:00\n",
      "Series name: temp\n",
      "Non-Null Count   Dtype  \n",
      "--------------   -----  \n",
      "147647 non-null  float64\n",
      "dtypes: float64(1)\n",
      "memory usage: 2.3 MB\n"
     ]
    }
   ],
   "source": [
    "temperature_avg.info()"
   ]
  },
  {
   "cell_type": "code",
   "execution_count": 91,
   "metadata": {
    "execution": {
     "iopub.execute_input": "2024-12-29T07:01:06.126006Z",
     "iopub.status.busy": "2024-12-29T07:01:06.125675Z",
     "iopub.status.idle": "2024-12-29T07:01:06.131211Z",
     "shell.execute_reply": "2024-12-29T07:01:06.130189Z",
     "shell.execute_reply.started": "2024-12-29T07:01:06.125976Z"
    },
    "trusted": true
   },
   "outputs": [
    {
     "name": "stdout",
     "output_type": "stream",
     "text": [
      "[25.4 29.4 33.4 ... 31.  30.  31. ] (147647,)\n"
     ]
    }
   ],
   "source": [
    "temperature_avg_seq=temperature_avg.values\n",
    "print(temperature_avg_seq,temperature_avg_seq.shape)"
   ]
  },
  {
   "cell_type": "code",
   "execution_count": 95,
   "metadata": {
    "execution": {
     "iopub.execute_input": "2024-12-29T07:01:18.079061Z",
     "iopub.status.busy": "2024-12-29T07:01:18.078788Z",
     "iopub.status.idle": "2024-12-29T07:01:18.178930Z",
     "shell.execute_reply": "2024-12-29T07:01:18.178182Z",
     "shell.execute_reply.started": "2024-12-29T07:01:18.079039Z"
    },
    "trusted": true
   },
   "outputs": [],
   "source": [
    "\n",
    "window_size=100\n",
    "\n",
    "X=[]\n",
    "Y=[]\n",
    "for i in range(len(temperature_avg_seq)-window_size):\n",
    "  X.append(temperature_avg_seq[i:i+window_size])\n",
    "  Y.append(temperature_avg_seq[i+window_size])"
   ]
  },
  {
   "cell_type": "code",
   "execution_count": 96,
   "metadata": {
    "execution": {
     "iopub.execute_input": "2024-12-29T07:01:18.628077Z",
     "iopub.status.busy": "2024-12-29T07:01:18.627770Z",
     "iopub.status.idle": "2024-12-29T07:01:18.721904Z",
     "shell.execute_reply": "2024-12-29T07:01:18.720888Z",
     "shell.execute_reply.started": "2024-12-29T07:01:18.628049Z"
    },
    "trusted": true
   },
   "outputs": [],
   "source": [
    "X=np.array(X)\n",
    "Y=np.array(Y)"
   ]
  },
  {
   "cell_type": "code",
   "execution_count": 97,
   "metadata": {
    "execution": {
     "iopub.execute_input": "2024-12-29T07:01:19.196122Z",
     "iopub.status.busy": "2024-12-29T07:01:19.195853Z",
     "iopub.status.idle": "2024-12-29T07:01:19.201567Z",
     "shell.execute_reply": "2024-12-29T07:01:19.200634Z",
     "shell.execute_reply.started": "2024-12-29T07:01:19.196099Z"
    },
    "trusted": true
   },
   "outputs": [
    {
     "name": "stdout",
     "output_type": "stream",
     "text": [
      "X Shape (147547, 100)\n",
      "Y Shape (147547,)\n"
     ]
    }
   ],
   "source": [
    "print(\"X Shape\",X.shape)\n",
    "print(\"Y Shape\",Y.shape)\n"
   ]
  },
  {
   "cell_type": "code",
   "execution_count": 98,
   "metadata": {
    "execution": {
     "iopub.execute_input": "2024-12-29T07:01:22.066347Z",
     "iopub.status.busy": "2024-12-29T07:01:22.066014Z",
     "iopub.status.idle": "2024-12-29T07:01:22.072004Z",
     "shell.execute_reply": "2024-12-29T07:01:22.071238Z",
     "shell.execute_reply.started": "2024-12-29T07:01:22.066312Z"
    },
    "trusted": true
   },
   "outputs": [
    {
     "data": {
      "text/plain": [
       "array([[25.4, 29.4, 33.4, ..., 29.4, 30.6, 34.6],\n",
       "       [29.4, 33.4, 34.2, ..., 30.6, 34.6, 40.6],\n",
       "       [33.4, 34.2, 30. , ..., 34.6, 40.6, 37. ],\n",
       "       ...,\n",
       "       [33.6, 32. , 31. , ..., 32. , 32. , 32.6],\n",
       "       [32. , 31. , 31.6, ..., 32. , 32.6, 31. ],\n",
       "       [31. , 31.6, 30. , ..., 32.6, 31. , 30. ]])"
      ]
     },
     "execution_count": 98,
     "metadata": {},
     "output_type": "execute_result"
    }
   ],
   "source": [
    "X"
   ]
  },
  {
   "cell_type": "code",
   "execution_count": 99,
   "metadata": {
    "execution": {
     "iopub.execute_input": "2024-12-29T07:01:24.657995Z",
     "iopub.status.busy": "2024-12-29T07:01:24.657682Z",
     "iopub.status.idle": "2024-12-29T07:01:24.709448Z",
     "shell.execute_reply": "2024-12-29T07:01:24.708507Z",
     "shell.execute_reply.started": "2024-12-29T07:01:24.657967Z"
    },
    "trusted": true
   },
   "outputs": [],
   "source": [
    "from sklearn.model_selection import train_test_split\n",
    "\n",
    "X_train,X_test,Y_train,Y_test=train_test_split(X,Y,test_size=0.3,random_state=42)"
   ]
  },
  {
   "cell_type": "code",
   "execution_count": 100,
   "metadata": {
    "execution": {
     "iopub.execute_input": "2024-12-29T07:01:24.982680Z",
     "iopub.status.busy": "2024-12-29T07:01:24.982355Z",
     "iopub.status.idle": "2024-12-29T07:01:24.988576Z",
     "shell.execute_reply": "2024-12-29T07:01:24.987809Z",
     "shell.execute_reply.started": "2024-12-29T07:01:24.982644Z"
    },
    "trusted": true
   },
   "outputs": [
    {
     "name": "stdout",
     "output_type": "stream",
     "text": [
      "X_train Shape (103282, 100)\n",
      "X_test Shape (44265, 100)\n",
      "Y_train Shape (103282,)\n",
      "Y_test Shape (44265,)\n"
     ]
    }
   ],
   "source": [
    "print(\"X_train Shape\",X_train.shape)\n",
    "print(\"X_test Shape\",X_test.shape)\n",
    "print(\"Y_train Shape\",Y_train.shape)\n",
    "print(\"Y_test Shape\",Y_test.shape)\n"
   ]
  },
  {
   "cell_type": "code",
   "execution_count": 106,
   "metadata": {
    "execution": {
     "iopub.execute_input": "2024-12-29T07:01:44.488407Z",
     "iopub.status.busy": "2024-12-29T07:01:44.488092Z",
     "iopub.status.idle": "2024-12-29T07:01:44.494000Z",
     "shell.execute_reply": "2024-12-29T07:01:44.493317Z",
     "shell.execute_reply.started": "2024-12-29T07:01:44.488383Z"
    },
    "trusted": true
   },
   "outputs": [
    {
     "data": {
      "text/plain": [
       "array([[ 0.20080145,  0.04584215, -0.10911716, ..., -0.10911716,\n",
       "        -0.01614158, -0.41903576],\n",
       "       [ 1.56444331,  0.88262238,  0.72766308, ...,  0.35576075,\n",
       "         0.20080145,  0.51072005],\n",
       "       [-1.50375088, -0.17110088,  0.32476889, ..., -0.69796251,\n",
       "         0.75865494,  0.85163052],\n",
       "       ...,\n",
       "       [-0.0781253 ,  0.04584215,  0.20080145, ...,  0.51072005,\n",
       "         0.66567936,  0.6346875 ],\n",
       "       [ 1.44047587,  1.28551657,  1.28551657, ...,  1.28551657,\n",
       "         0.9446061 ,  0.66567936],\n",
       "       [ 0.51072005,  0.51072005,  0.44873633, ...,  0.35576075,\n",
       "         0.51072005,  0.35576075]])"
      ]
     },
     "execution_count": 106,
     "metadata": {},
     "output_type": "execute_result"
    }
   ],
   "source": [
    "X_train"
   ]
  },
  {
   "cell_type": "code",
   "execution_count": 102,
   "metadata": {
    "execution": {
     "iopub.execute_input": "2024-12-29T07:01:34.898366Z",
     "iopub.status.busy": "2024-12-29T07:01:34.898072Z",
     "iopub.status.idle": "2024-12-29T07:01:35.050617Z",
     "shell.execute_reply": "2024-12-29T07:01:35.049692Z",
     "shell.execute_reply.started": "2024-12-29T07:01:34.898343Z"
    },
    "trusted": true
   },
   "outputs": [],
   "source": [
    "from sklearn.preprocessing import StandardScaler\n",
    "MinMax=StandardScaler()\n",
    "X_train_Scaled=MinMax.fit_transform(X_train.reshape(-1,1))\n",
    "X_test_Scaled=MinMax.transform(X_test.reshape(-1,1))"
   ]
  },
  {
   "cell_type": "code",
   "execution_count": 103,
   "metadata": {
    "execution": {
     "iopub.execute_input": "2024-12-29T07:01:35.428119Z",
     "iopub.status.busy": "2024-12-29T07:01:35.427836Z",
     "iopub.status.idle": "2024-12-29T07:01:35.432101Z",
     "shell.execute_reply": "2024-12-29T07:01:35.431080Z",
     "shell.execute_reply.started": "2024-12-29T07:01:35.428097Z"
    },
    "trusted": true
   },
   "outputs": [],
   "source": [
    "X_train=X_train_Scaled.reshape(X_train.shape[0],100)"
   ]
  },
  {
   "cell_type": "code",
   "execution_count": 104,
   "metadata": {
    "execution": {
     "iopub.execute_input": "2024-12-29T07:01:35.788980Z",
     "iopub.status.busy": "2024-12-29T07:01:35.788721Z",
     "iopub.status.idle": "2024-12-29T07:01:35.792664Z",
     "shell.execute_reply": "2024-12-29T07:01:35.791879Z",
     "shell.execute_reply.started": "2024-12-29T07:01:35.788958Z"
    },
    "trusted": true
   },
   "outputs": [],
   "source": [
    "X_test=X_test_Scaled.reshape(X_test.shape[0],100)"
   ]
  },
  {
   "cell_type": "code",
   "execution_count": 105,
   "metadata": {
    "execution": {
     "iopub.execute_input": "2024-12-29T07:01:36.209865Z",
     "iopub.status.busy": "2024-12-29T07:01:36.209601Z",
     "iopub.status.idle": "2024-12-29T07:01:36.215306Z",
     "shell.execute_reply": "2024-12-29T07:01:36.214545Z",
     "shell.execute_reply.started": "2024-12-29T07:01:36.209841Z"
    },
    "trusted": true
   },
   "outputs": [
    {
     "name": "stdout",
     "output_type": "stream",
     "text": [
      "X_train Shape (103282, 100)\n",
      "X_test Shape (44265, 100)\n",
      "Y_train Shape (103282,)\n",
      "Y_test Shape (44265,)\n"
     ]
    }
   ],
   "source": [
    "print(\"X_train Shape\",X_train.shape)\n",
    "print(\"X_test Shape\",X_test.shape)\n",
    "print(\"Y_train Shape\",Y_train.shape)\n",
    "print(\"Y_test Shape\",Y_test.shape)\n"
   ]
  },
  {
   "cell_type": "code",
   "execution_count": 107,
   "metadata": {
    "execution": {
     "iopub.execute_input": "2024-12-29T07:01:48.788142Z",
     "iopub.status.busy": "2024-12-29T07:01:48.787837Z",
     "iopub.status.idle": "2024-12-29T07:01:48.921516Z",
     "shell.execute_reply": "2024-12-29T07:01:48.920612Z",
     "shell.execute_reply.started": "2024-12-29T07:01:48.788115Z"
    },
    "trusted": true
   },
   "outputs": [
    {
     "name": "stderr",
     "output_type": "stream",
     "text": [
      "UserWarning: Do not pass an `input_shape`/`input_dim` argument to a layer. When using Sequential models, prefer using an `Input(shape)` object as the first layer in the model instead.\n"
     ]
    }
   ],
   "source": [
    "maxLength=6\n",
    "upgraded_naive_model=Sequential()\n",
    "upgraded_naive_model.add(LSTM(128,return_sequences=True,input_shape=(window_size,1)))\n",
    "upgraded_naive_model.add(Dropout(0.2))\n",
    "upgraded_naive_model.add(LSTM(100,return_sequences=True))\n",
    "upgraded_naive_model.add(Dropout(0.2))\n",
    "upgraded_naive_model.add(LSTM(100,return_sequences=True))\n",
    "upgraded_naive_model.add(Dropout(0.2))\n",
    "upgraded_naive_model.add(LSTM(100))\n",
    "upgraded_naive_model.add(Dropout(0.2))\n",
    "\n",
    "upgraded_naive_model.add(Dense(128,activation=\"relu\"))\n",
    "upgraded_naive_model.add(Dropout(0.2))\n",
    "\n",
    "\n",
    "upgraded_naive_model.add(Dense(1))\n"
   ]
  },
  {
   "cell_type": "code",
   "execution_count": 108,
   "metadata": {
    "execution": {
     "iopub.execute_input": "2024-12-29T07:01:49.378760Z",
     "iopub.status.busy": "2024-12-29T07:01:49.378499Z",
     "iopub.status.idle": "2024-12-29T07:01:49.398883Z",
     "shell.execute_reply": "2024-12-29T07:01:49.398244Z",
     "shell.execute_reply.started": "2024-12-29T07:01:49.378737Z"
    },
    "trusted": true
   },
   "outputs": [
    {
     "data": {
      "text/html": [
       "<pre style=\"white-space:pre;overflow-x:auto;line-height:normal;font-family:Menlo,'DejaVu Sans Mono',consolas,'Courier New',monospace\"><span style=\"font-weight: bold\">Model: \"sequential_1\"</span>\n",
       "</pre>\n"
      ],
      "text/plain": [
       "\u001b[1mModel: \"sequential_1\"\u001b[0m\n"
      ]
     },
     "metadata": {},
     "output_type": "display_data"
    },
    {
     "data": {
      "text/html": [
       "<pre style=\"white-space:pre;overflow-x:auto;line-height:normal;font-family:Menlo,'DejaVu Sans Mono',consolas,'Courier New',monospace\">┏━━━━━━━━━━━━━━━━━━━━━━━━━━━━━━━━━━━━━━┳━━━━━━━━━━━━━━━━━━━━━━━━━━━━━┳━━━━━━━━━━━━━━━━━┓\n",
       "┃<span style=\"font-weight: bold\"> Layer (type)                         </span>┃<span style=\"font-weight: bold\"> Output Shape                </span>┃<span style=\"font-weight: bold\">         Param # </span>┃\n",
       "┡━━━━━━━━━━━━━━━━━━━━━━━━━━━━━━━━━━━━━━╇━━━━━━━━━━━━━━━━━━━━━━━━━━━━━╇━━━━━━━━━━━━━━━━━┩\n",
       "│ lstm_4 (<span style=\"color: #0087ff; text-decoration-color: #0087ff\">LSTM</span>)                        │ (<span style=\"color: #00d7ff; text-decoration-color: #00d7ff\">None</span>, <span style=\"color: #00af00; text-decoration-color: #00af00\">100</span>, <span style=\"color: #00af00; text-decoration-color: #00af00\">128</span>)            │          <span style=\"color: #00af00; text-decoration-color: #00af00\">66,560</span> │\n",
       "├──────────────────────────────────────┼─────────────────────────────┼─────────────────┤\n",
       "│ dropout_5 (<span style=\"color: #0087ff; text-decoration-color: #0087ff\">Dropout</span>)                  │ (<span style=\"color: #00d7ff; text-decoration-color: #00d7ff\">None</span>, <span style=\"color: #00af00; text-decoration-color: #00af00\">100</span>, <span style=\"color: #00af00; text-decoration-color: #00af00\">128</span>)            │               <span style=\"color: #00af00; text-decoration-color: #00af00\">0</span> │\n",
       "├──────────────────────────────────────┼─────────────────────────────┼─────────────────┤\n",
       "│ lstm_5 (<span style=\"color: #0087ff; text-decoration-color: #0087ff\">LSTM</span>)                        │ (<span style=\"color: #00d7ff; text-decoration-color: #00d7ff\">None</span>, <span style=\"color: #00af00; text-decoration-color: #00af00\">100</span>, <span style=\"color: #00af00; text-decoration-color: #00af00\">100</span>)            │          <span style=\"color: #00af00; text-decoration-color: #00af00\">91,600</span> │\n",
       "├──────────────────────────────────────┼─────────────────────────────┼─────────────────┤\n",
       "│ dropout_6 (<span style=\"color: #0087ff; text-decoration-color: #0087ff\">Dropout</span>)                  │ (<span style=\"color: #00d7ff; text-decoration-color: #00d7ff\">None</span>, <span style=\"color: #00af00; text-decoration-color: #00af00\">100</span>, <span style=\"color: #00af00; text-decoration-color: #00af00\">100</span>)            │               <span style=\"color: #00af00; text-decoration-color: #00af00\">0</span> │\n",
       "├──────────────────────────────────────┼─────────────────────────────┼─────────────────┤\n",
       "│ lstm_6 (<span style=\"color: #0087ff; text-decoration-color: #0087ff\">LSTM</span>)                        │ (<span style=\"color: #00d7ff; text-decoration-color: #00d7ff\">None</span>, <span style=\"color: #00af00; text-decoration-color: #00af00\">100</span>, <span style=\"color: #00af00; text-decoration-color: #00af00\">100</span>)            │          <span style=\"color: #00af00; text-decoration-color: #00af00\">80,400</span> │\n",
       "├──────────────────────────────────────┼─────────────────────────────┼─────────────────┤\n",
       "│ dropout_7 (<span style=\"color: #0087ff; text-decoration-color: #0087ff\">Dropout</span>)                  │ (<span style=\"color: #00d7ff; text-decoration-color: #00d7ff\">None</span>, <span style=\"color: #00af00; text-decoration-color: #00af00\">100</span>, <span style=\"color: #00af00; text-decoration-color: #00af00\">100</span>)            │               <span style=\"color: #00af00; text-decoration-color: #00af00\">0</span> │\n",
       "├──────────────────────────────────────┼─────────────────────────────┼─────────────────┤\n",
       "│ lstm_7 (<span style=\"color: #0087ff; text-decoration-color: #0087ff\">LSTM</span>)                        │ (<span style=\"color: #00d7ff; text-decoration-color: #00d7ff\">None</span>, <span style=\"color: #00af00; text-decoration-color: #00af00\">100</span>)                 │          <span style=\"color: #00af00; text-decoration-color: #00af00\">80,400</span> │\n",
       "├──────────────────────────────────────┼─────────────────────────────┼─────────────────┤\n",
       "│ dropout_8 (<span style=\"color: #0087ff; text-decoration-color: #0087ff\">Dropout</span>)                  │ (<span style=\"color: #00d7ff; text-decoration-color: #00d7ff\">None</span>, <span style=\"color: #00af00; text-decoration-color: #00af00\">100</span>)                 │               <span style=\"color: #00af00; text-decoration-color: #00af00\">0</span> │\n",
       "├──────────────────────────────────────┼─────────────────────────────┼─────────────────┤\n",
       "│ dense_2 (<span style=\"color: #0087ff; text-decoration-color: #0087ff\">Dense</span>)                      │ (<span style=\"color: #00d7ff; text-decoration-color: #00d7ff\">None</span>, <span style=\"color: #00af00; text-decoration-color: #00af00\">128</span>)                 │          <span style=\"color: #00af00; text-decoration-color: #00af00\">12,928</span> │\n",
       "├──────────────────────────────────────┼─────────────────────────────┼─────────────────┤\n",
       "│ dropout_9 (<span style=\"color: #0087ff; text-decoration-color: #0087ff\">Dropout</span>)                  │ (<span style=\"color: #00d7ff; text-decoration-color: #00d7ff\">None</span>, <span style=\"color: #00af00; text-decoration-color: #00af00\">128</span>)                 │               <span style=\"color: #00af00; text-decoration-color: #00af00\">0</span> │\n",
       "├──────────────────────────────────────┼─────────────────────────────┼─────────────────┤\n",
       "│ dense_3 (<span style=\"color: #0087ff; text-decoration-color: #0087ff\">Dense</span>)                      │ (<span style=\"color: #00d7ff; text-decoration-color: #00d7ff\">None</span>, <span style=\"color: #00af00; text-decoration-color: #00af00\">1</span>)                   │             <span style=\"color: #00af00; text-decoration-color: #00af00\">129</span> │\n",
       "└──────────────────────────────────────┴─────────────────────────────┴─────────────────┘\n",
       "</pre>\n"
      ],
      "text/plain": [
       "┏━━━━━━━━━━━━━━━━━━━━━━━━━━━━━━━━━━━━━━┳━━━━━━━━━━━━━━━━━━━━━━━━━━━━━┳━━━━━━━━━━━━━━━━━┓\n",
       "┃\u001b[1m \u001b[0m\u001b[1mLayer (type)                        \u001b[0m\u001b[1m \u001b[0m┃\u001b[1m \u001b[0m\u001b[1mOutput Shape               \u001b[0m\u001b[1m \u001b[0m┃\u001b[1m \u001b[0m\u001b[1m        Param #\u001b[0m\u001b[1m \u001b[0m┃\n",
       "┡━━━━━━━━━━━━━━━━━━━━━━━━━━━━━━━━━━━━━━╇━━━━━━━━━━━━━━━━━━━━━━━━━━━━━╇━━━━━━━━━━━━━━━━━┩\n",
       "│ lstm_4 (\u001b[38;5;33mLSTM\u001b[0m)                        │ (\u001b[38;5;45mNone\u001b[0m, \u001b[38;5;34m100\u001b[0m, \u001b[38;5;34m128\u001b[0m)            │          \u001b[38;5;34m66,560\u001b[0m │\n",
       "├──────────────────────────────────────┼─────────────────────────────┼─────────────────┤\n",
       "│ dropout_5 (\u001b[38;5;33mDropout\u001b[0m)                  │ (\u001b[38;5;45mNone\u001b[0m, \u001b[38;5;34m100\u001b[0m, \u001b[38;5;34m128\u001b[0m)            │               \u001b[38;5;34m0\u001b[0m │\n",
       "├──────────────────────────────────────┼─────────────────────────────┼─────────────────┤\n",
       "│ lstm_5 (\u001b[38;5;33mLSTM\u001b[0m)                        │ (\u001b[38;5;45mNone\u001b[0m, \u001b[38;5;34m100\u001b[0m, \u001b[38;5;34m100\u001b[0m)            │          \u001b[38;5;34m91,600\u001b[0m │\n",
       "├──────────────────────────────────────┼─────────────────────────────┼─────────────────┤\n",
       "│ dropout_6 (\u001b[38;5;33mDropout\u001b[0m)                  │ (\u001b[38;5;45mNone\u001b[0m, \u001b[38;5;34m100\u001b[0m, \u001b[38;5;34m100\u001b[0m)            │               \u001b[38;5;34m0\u001b[0m │\n",
       "├──────────────────────────────────────┼─────────────────────────────┼─────────────────┤\n",
       "│ lstm_6 (\u001b[38;5;33mLSTM\u001b[0m)                        │ (\u001b[38;5;45mNone\u001b[0m, \u001b[38;5;34m100\u001b[0m, \u001b[38;5;34m100\u001b[0m)            │          \u001b[38;5;34m80,400\u001b[0m │\n",
       "├──────────────────────────────────────┼─────────────────────────────┼─────────────────┤\n",
       "│ dropout_7 (\u001b[38;5;33mDropout\u001b[0m)                  │ (\u001b[38;5;45mNone\u001b[0m, \u001b[38;5;34m100\u001b[0m, \u001b[38;5;34m100\u001b[0m)            │               \u001b[38;5;34m0\u001b[0m │\n",
       "├──────────────────────────────────────┼─────────────────────────────┼─────────────────┤\n",
       "│ lstm_7 (\u001b[38;5;33mLSTM\u001b[0m)                        │ (\u001b[38;5;45mNone\u001b[0m, \u001b[38;5;34m100\u001b[0m)                 │          \u001b[38;5;34m80,400\u001b[0m │\n",
       "├──────────────────────────────────────┼─────────────────────────────┼─────────────────┤\n",
       "│ dropout_8 (\u001b[38;5;33mDropout\u001b[0m)                  │ (\u001b[38;5;45mNone\u001b[0m, \u001b[38;5;34m100\u001b[0m)                 │               \u001b[38;5;34m0\u001b[0m │\n",
       "├──────────────────────────────────────┼─────────────────────────────┼─────────────────┤\n",
       "│ dense_2 (\u001b[38;5;33mDense\u001b[0m)                      │ (\u001b[38;5;45mNone\u001b[0m, \u001b[38;5;34m128\u001b[0m)                 │          \u001b[38;5;34m12,928\u001b[0m │\n",
       "├──────────────────────────────────────┼─────────────────────────────┼─────────────────┤\n",
       "│ dropout_9 (\u001b[38;5;33mDropout\u001b[0m)                  │ (\u001b[38;5;45mNone\u001b[0m, \u001b[38;5;34m128\u001b[0m)                 │               \u001b[38;5;34m0\u001b[0m │\n",
       "├──────────────────────────────────────┼─────────────────────────────┼─────────────────┤\n",
       "│ dense_3 (\u001b[38;5;33mDense\u001b[0m)                      │ (\u001b[38;5;45mNone\u001b[0m, \u001b[38;5;34m1\u001b[0m)                   │             \u001b[38;5;34m129\u001b[0m │\n",
       "└──────────────────────────────────────┴─────────────────────────────┴─────────────────┘\n"
      ]
     },
     "metadata": {},
     "output_type": "display_data"
    },
    {
     "data": {
      "text/html": [
       "<pre style=\"white-space:pre;overflow-x:auto;line-height:normal;font-family:Menlo,'DejaVu Sans Mono',consolas,'Courier New',monospace\"><span style=\"font-weight: bold\"> Total params: </span><span style=\"color: #00af00; text-decoration-color: #00af00\">332,017</span> (1.27 MB)\n",
       "</pre>\n"
      ],
      "text/plain": [
       "\u001b[1m Total params: \u001b[0m\u001b[38;5;34m332,017\u001b[0m (1.27 MB)\n"
      ]
     },
     "metadata": {},
     "output_type": "display_data"
    },
    {
     "data": {
      "text/html": [
       "<pre style=\"white-space:pre;overflow-x:auto;line-height:normal;font-family:Menlo,'DejaVu Sans Mono',consolas,'Courier New',monospace\"><span style=\"font-weight: bold\"> Trainable params: </span><span style=\"color: #00af00; text-decoration-color: #00af00\">332,017</span> (1.27 MB)\n",
       "</pre>\n"
      ],
      "text/plain": [
       "\u001b[1m Trainable params: \u001b[0m\u001b[38;5;34m332,017\u001b[0m (1.27 MB)\n"
      ]
     },
     "metadata": {},
     "output_type": "display_data"
    },
    {
     "data": {
      "text/html": [
       "<pre style=\"white-space:pre;overflow-x:auto;line-height:normal;font-family:Menlo,'DejaVu Sans Mono',consolas,'Courier New',monospace\"><span style=\"font-weight: bold\"> Non-trainable params: </span><span style=\"color: #00af00; text-decoration-color: #00af00\">0</span> (0.00 B)\n",
       "</pre>\n"
      ],
      "text/plain": [
       "\u001b[1m Non-trainable params: \u001b[0m\u001b[38;5;34m0\u001b[0m (0.00 B)\n"
      ]
     },
     "metadata": {},
     "output_type": "display_data"
    }
   ],
   "source": [
    "upgraded_naive_model.summary()"
   ]
  },
  {
   "cell_type": "code",
   "execution_count": 112,
   "metadata": {
    "execution": {
     "iopub.execute_input": "2024-12-29T07:02:12.856786Z",
     "iopub.status.busy": "2024-12-29T07:02:12.856488Z",
     "iopub.status.idle": "2024-12-29T07:02:12.864091Z",
     "shell.execute_reply": "2024-12-29T07:02:12.863474Z",
     "shell.execute_reply.started": "2024-12-29T07:02:12.856760Z"
    },
    "trusted": true
   },
   "outputs": [],
   "source": [
    "upgraded_naive_model.compile(optimizer=\"adam\",loss=\"mse\",metrics=[\"mae\"])"
   ]
  },
  {
   "cell_type": "code",
   "execution_count": 113,
   "metadata": {
    "execution": {
     "iopub.execute_input": "2024-12-29T07:02:15.255953Z",
     "iopub.status.busy": "2024-12-29T07:02:15.255675Z",
     "iopub.status.idle": "2024-12-29T07:02:15.259881Z",
     "shell.execute_reply": "2024-12-29T07:02:15.258980Z",
     "shell.execute_reply.started": "2024-12-29T07:02:15.255931Z"
    },
    "trusted": true
   },
   "outputs": [],
   "source": [
    "from tensorflow.keras.callbacks import ModelCheckpoint\n",
    "checkpoint = ModelCheckpoint(\n",
    "    \"temperature_best_Standard_Hourly.keras\",\n",
    "    monitor = \"val_loss\",\n",
    "    mode = \"min\",\n",
    "    save_best_only = True,\n",
    "    verbose = 1\n",
    ")"
   ]
  },
  {
   "cell_type": "code",
   "execution_count": 110,
   "metadata": {
    "execution": {
     "iopub.execute_input": "2024-12-29T07:02:02.206136Z",
     "iopub.status.busy": "2024-12-29T07:02:02.205836Z",
     "iopub.status.idle": "2024-12-29T07:02:02.211120Z",
     "shell.execute_reply": "2024-12-29T07:02:02.210467Z",
     "shell.execute_reply.started": "2024-12-29T07:02:02.206109Z"
    },
    "trusted": true
   },
   "outputs": [
    {
     "data": {
      "text/plain": [
       "((44265, 100), (44265,))"
      ]
     },
     "execution_count": 110,
     "metadata": {},
     "output_type": "execute_result"
    }
   ],
   "source": [
    "X_test.shape, Y_test.shape"
   ]
  },
  {
   "cell_type": "code",
   "execution_count": 114,
   "metadata": {
    "execution": {
     "iopub.execute_input": "2024-12-29T07:02:17.669582Z",
     "iopub.status.busy": "2024-12-29T07:02:17.669212Z",
     "iopub.status.idle": "2024-12-29T07:23:23.073153Z",
     "shell.execute_reply": "2024-12-29T07:23:23.072364Z",
     "shell.execute_reply.started": "2024-12-29T07:02:17.669550Z"
    },
    "trusted": true
   },
   "outputs": [
    {
     "name": "stdout",
     "output_type": "stream",
     "text": [
      "Epoch 1/10\n",
      "\u001b[1m6455/6456\u001b[0m \u001b[32m━━━━━━━━━━━━━━━━━━━\u001b[0m\u001b[37m━\u001b[0m \u001b[1m0s\u001b[0m 17ms/step - loss: 48.7040 - mae: 5.0435\n",
      "Epoch 1: val_loss improved from inf to 3.49655, saving model to temperature_best_Standard_Hourly.keras\n",
      "\u001b[1m6456/6456\u001b[0m \u001b[32m━━━━━━━━━━━━━━━━━━━━\u001b[0m\u001b[37m\u001b[0m \u001b[1m130s\u001b[0m 20ms/step - loss: 48.6968 - mae: 5.0431 - val_loss: 3.4965 - val_mae: 1.3250\n",
      "Epoch 2/10\n",
      "\u001b[1m6454/6456\u001b[0m \u001b[32m━━━━━━━━━━━━━━━━━━━\u001b[0m\u001b[37m━\u001b[0m \u001b[1m0s\u001b[0m 17ms/step - loss: 8.1366 - mae: 2.2124\n",
      "Epoch 2: val_loss improved from 3.49655 to 3.23514, saving model to temperature_best_Standard_Hourly.keras\n",
      "\u001b[1m6456/6456\u001b[0m \u001b[32m━━━━━━━━━━━━━━━━━━━━\u001b[0m\u001b[37m\u001b[0m \u001b[1m126s\u001b[0m 19ms/step - loss: 8.1364 - mae: 2.2123 - val_loss: 3.2351 - val_mae: 1.3455\n",
      "Epoch 3/10\n",
      "\u001b[1m6453/6456\u001b[0m \u001b[32m━━━━━━━━━━━━━━━━━━━\u001b[0m\u001b[37m━\u001b[0m \u001b[1m0s\u001b[0m 17ms/step - loss: 6.3896 - mae: 1.9385\n",
      "Epoch 3: val_loss improved from 3.23514 to 2.71883, saving model to temperature_best_Standard_Hourly.keras\n",
      "\u001b[1m6456/6456\u001b[0m \u001b[32m━━━━━━━━━━━━━━━━━━━━\u001b[0m\u001b[37m\u001b[0m \u001b[1m126s\u001b[0m 20ms/step - loss: 6.3894 - mae: 1.9385 - val_loss: 2.7188 - val_mae: 1.1734\n",
      "Epoch 4/10\n",
      "\u001b[1m6455/6456\u001b[0m \u001b[32m━━━━━━━━━━━━━━━━━━━\u001b[0m\u001b[37m━\u001b[0m \u001b[1m0s\u001b[0m 17ms/step - loss: 5.6664 - mae: 1.8162\n",
      "Epoch 4: val_loss improved from 2.71883 to 2.71591, saving model to temperature_best_Standard_Hourly.keras\n",
      "\u001b[1m6456/6456\u001b[0m \u001b[32m━━━━━━━━━━━━━━━━━━━━\u001b[0m\u001b[37m\u001b[0m \u001b[1m126s\u001b[0m 20ms/step - loss: 5.6663 - mae: 1.8162 - val_loss: 2.7159 - val_mae: 1.1452\n",
      "Epoch 5/10\n",
      "\u001b[1m6455/6456\u001b[0m \u001b[32m━━━━━━━━━━━━━━━━━━━\u001b[0m\u001b[37m━\u001b[0m \u001b[1m0s\u001b[0m 17ms/step - loss: 5.1454 - mae: 1.7280\n",
      "Epoch 5: val_loss improved from 2.71591 to 2.56462, saving model to temperature_best_Standard_Hourly.keras\n",
      "\u001b[1m6456/6456\u001b[0m \u001b[32m━━━━━━━━━━━━━━━━━━━━\u001b[0m\u001b[37m\u001b[0m \u001b[1m126s\u001b[0m 19ms/step - loss: 5.1454 - mae: 1.7280 - val_loss: 2.5646 - val_mae: 1.1374\n",
      "Epoch 6/10\n",
      "\u001b[1m6456/6456\u001b[0m \u001b[32m━━━━━━━━━━━━━━━━━━━━\u001b[0m\u001b[37m\u001b[0m \u001b[1m0s\u001b[0m 17ms/step - loss: 4.9478 - mae: 1.6834\n",
      "Epoch 6: val_loss improved from 2.56462 to 2.43698, saving model to temperature_best_Standard_Hourly.keras\n",
      "\u001b[1m6456/6456\u001b[0m \u001b[32m━━━━━━━━━━━━━━━━━━━━\u001b[0m\u001b[37m\u001b[0m \u001b[1m125s\u001b[0m 19ms/step - loss: 4.9478 - mae: 1.6834 - val_loss: 2.4370 - val_mae: 1.0723\n",
      "Epoch 7/10\n",
      "\u001b[1m6454/6456\u001b[0m \u001b[32m━━━━━━━━━━━━━━━━━━━\u001b[0m\u001b[37m━\u001b[0m \u001b[1m0s\u001b[0m 17ms/step - loss: 4.9401 - mae: 1.6363\n",
      "Epoch 7: val_loss did not improve from 2.43698\n",
      "\u001b[1m6456/6456\u001b[0m \u001b[32m━━━━━━━━━━━━━━━━━━━━\u001b[0m\u001b[37m\u001b[0m \u001b[1m126s\u001b[0m 19ms/step - loss: 4.9400 - mae: 1.6363 - val_loss: 2.5017 - val_mae: 1.0785\n",
      "Epoch 8/10\n",
      "\u001b[1m6454/6456\u001b[0m \u001b[32m━━━━━━━━━━━━━━━━━━━\u001b[0m\u001b[37m━\u001b[0m \u001b[1m0s\u001b[0m 17ms/step - loss: 4.3743 - mae: 1.5797\n",
      "Epoch 8: val_loss improved from 2.43698 to 2.25635, saving model to temperature_best_Standard_Hourly.keras\n",
      "\u001b[1m6456/6456\u001b[0m \u001b[32m━━━━━━━━━━━━━━━━━━━━\u001b[0m\u001b[37m\u001b[0m \u001b[1m125s\u001b[0m 19ms/step - loss: 4.3743 - mae: 1.5797 - val_loss: 2.2564 - val_mae: 1.0234\n",
      "Epoch 9/10\n",
      "\u001b[1m6455/6456\u001b[0m \u001b[32m━━━━━━━━━━━━━━━━━━━\u001b[0m\u001b[37m━\u001b[0m \u001b[1m0s\u001b[0m 17ms/step - loss: 4.2270 - mae: 1.5461\n",
      "Epoch 9: val_loss did not improve from 2.25635\n",
      "\u001b[1m6456/6456\u001b[0m \u001b[32m━━━━━━━━━━━━━━━━━━━━\u001b[0m\u001b[37m\u001b[0m \u001b[1m126s\u001b[0m 19ms/step - loss: 4.2270 - mae: 1.5461 - val_loss: 2.5248 - val_mae: 1.1124\n",
      "Epoch 10/10\n",
      "\u001b[1m6454/6456\u001b[0m \u001b[32m━━━━━━━━━━━━━━━━━━━\u001b[0m\u001b[37m━\u001b[0m \u001b[1m0s\u001b[0m 18ms/step - loss: 4.2096 - mae: 1.5364\n",
      "Epoch 10: val_loss did not improve from 2.25635\n",
      "\u001b[1m6456/6456\u001b[0m \u001b[32m━━━━━━━━━━━━━━━━━━━━\u001b[0m\u001b[37m\u001b[0m \u001b[1m130s\u001b[0m 20ms/step - loss: 4.2096 - mae: 1.5364 - val_loss: 2.3808 - val_mae: 1.0690\n"
     ]
    }
   ],
   "source": [
    "history=upgraded_naive_model.fit(np.array(X_train).reshape(-1,window_size,1),Y_train,epochs=10,batch_size=16,validation_data=(X_test,Y_test),callbacks=[checkpoint])"
   ]
  },
  {
   "cell_type": "code",
   "execution_count": 116,
   "metadata": {
    "execution": {
     "iopub.execute_input": "2024-12-29T07:23:49.859220Z",
     "iopub.status.busy": "2024-12-29T07:23:49.858937Z",
     "iopub.status.idle": "2024-12-29T07:44:43.903837Z",
     "shell.execute_reply": "2024-12-29T07:44:43.902913Z",
     "shell.execute_reply.started": "2024-12-29T07:23:49.859197Z"
    },
    "trusted": true
   },
   "outputs": [
    {
     "name": "stdout",
     "output_type": "stream",
     "text": [
      "Epoch 1/10\n",
      "\u001b[1m6454/6456\u001b[0m \u001b[32m━━━━━━━━━━━━━━━━━━━\u001b[0m\u001b[37m━\u001b[0m \u001b[1m0s\u001b[0m 17ms/step - loss: 4.2440 - mae: 1.5445\n",
      "Epoch 1: val_loss did not improve from 2.25635\n",
      "\u001b[1m6456/6456\u001b[0m \u001b[32m━━━━━━━━━━━━━━━━━━━━\u001b[0m\u001b[37m\u001b[0m \u001b[1m131s\u001b[0m 20ms/step - loss: 4.2440 - mae: 1.5445 - val_loss: 2.4191 - val_mae: 1.0671\n",
      "Epoch 2/10\n",
      "\u001b[1m6455/6456\u001b[0m \u001b[32m━━━━━━━━━━━━━━━━━━━\u001b[0m\u001b[37m━\u001b[0m \u001b[1m0s\u001b[0m 17ms/step - loss: 4.1861 - mae: 1.5309\n",
      "Epoch 2: val_loss did not improve from 2.25635\n",
      "\u001b[1m6456/6456\u001b[0m \u001b[32m━━━━━━━━━━━━━━━━━━━━\u001b[0m\u001b[37m\u001b[0m \u001b[1m126s\u001b[0m 20ms/step - loss: 4.1861 - mae: 1.5309 - val_loss: 2.5258 - val_mae: 1.0930\n",
      "Epoch 3/10\n",
      "\u001b[1m6455/6456\u001b[0m \u001b[32m━━━━━━━━━━━━━━━━━━━\u001b[0m\u001b[37m━\u001b[0m \u001b[1m0s\u001b[0m 17ms/step - loss: 4.0692 - mae: 1.5104\n",
      "Epoch 3: val_loss did not improve from 2.25635\n",
      "\u001b[1m6456/6456\u001b[0m \u001b[32m━━━━━━━━━━━━━━━━━━━━\u001b[0m\u001b[37m\u001b[0m \u001b[1m126s\u001b[0m 19ms/step - loss: 4.0692 - mae: 1.5104 - val_loss: 2.7518 - val_mae: 1.1440\n",
      "Epoch 4/10\n",
      "\u001b[1m6453/6456\u001b[0m \u001b[32m━━━━━━━━━━━━━━━━━━━\u001b[0m\u001b[37m━\u001b[0m \u001b[1m0s\u001b[0m 17ms/step - loss: 3.9002 - mae: 1.4689\n",
      "Epoch 4: val_loss did not improve from 2.25635\n",
      "\u001b[1m6456/6456\u001b[0m \u001b[32m━━━━━━━━━━━━━━━━━━━━\u001b[0m\u001b[37m\u001b[0m \u001b[1m125s\u001b[0m 19ms/step - loss: 3.9002 - mae: 1.4689 - val_loss: 2.2948 - val_mae: 1.0239\n",
      "Epoch 5/10\n",
      "\u001b[1m6454/6456\u001b[0m \u001b[32m━━━━━━━━━━━━━━━━━━━\u001b[0m\u001b[37m━\u001b[0m \u001b[1m0s\u001b[0m 17ms/step - loss: 3.7378 - mae: 1.4384\n",
      "Epoch 5: val_loss did not improve from 2.25635\n",
      "\u001b[1m6456/6456\u001b[0m \u001b[32m━━━━━━━━━━━━━━━━━━━━\u001b[0m\u001b[37m\u001b[0m \u001b[1m125s\u001b[0m 19ms/step - loss: 3.7378 - mae: 1.4384 - val_loss: 2.5798 - val_mae: 1.1192\n",
      "Epoch 6/10\n",
      "\u001b[1m6453/6456\u001b[0m \u001b[32m━━━━━━━━━━━━━━━━━━━\u001b[0m\u001b[37m━\u001b[0m \u001b[1m0s\u001b[0m 17ms/step - loss: 3.6113 - mae: 1.4119\n",
      "Epoch 6: val_loss improved from 2.25635 to 2.15612, saving model to temperature_best_Standard_Hourly.keras\n",
      "\u001b[1m6456/6456\u001b[0m \u001b[32m━━━━━━━━━━━━━━━━━━━━\u001b[0m\u001b[37m\u001b[0m \u001b[1m124s\u001b[0m 19ms/step - loss: 3.6113 - mae: 1.4119 - val_loss: 2.1561 - val_mae: 1.0004\n",
      "Epoch 7/10\n",
      "\u001b[1m6455/6456\u001b[0m \u001b[32m━━━━━━━━━━━━━━━━━━━\u001b[0m\u001b[37m━\u001b[0m \u001b[1m0s\u001b[0m 17ms/step - loss: 3.5518 - mae: 1.3922\n",
      "Epoch 7: val_loss improved from 2.15612 to 2.13650, saving model to temperature_best_Standard_Hourly.keras\n",
      "\u001b[1m6456/6456\u001b[0m \u001b[32m━━━━━━━━━━━━━━━━━━━━\u001b[0m\u001b[37m\u001b[0m \u001b[1m124s\u001b[0m 19ms/step - loss: 3.5518 - mae: 1.3922 - val_loss: 2.1365 - val_mae: 0.9890\n",
      "Epoch 8/10\n",
      "\u001b[1m6455/6456\u001b[0m \u001b[32m━━━━━━━━━━━━━━━━━━━\u001b[0m\u001b[37m━\u001b[0m \u001b[1m0s\u001b[0m 17ms/step - loss: 3.3863 - mae: 1.3554\n",
      "Epoch 8: val_loss did not improve from 2.13650\n",
      "\u001b[1m6456/6456\u001b[0m \u001b[32m━━━━━━━━━━━━━━━━━━━━\u001b[0m\u001b[37m\u001b[0m \u001b[1m124s\u001b[0m 19ms/step - loss: 3.3863 - mae: 1.3554 - val_loss: 2.2388 - val_mae: 1.0346\n",
      "Epoch 9/10\n",
      "\u001b[1m6454/6456\u001b[0m \u001b[32m━━━━━━━━━━━━━━━━━━━\u001b[0m\u001b[37m━\u001b[0m \u001b[1m0s\u001b[0m 17ms/step - loss: 3.3143 - mae: 1.3377\n",
      "Epoch 9: val_loss did not improve from 2.13650\n",
      "\u001b[1m6456/6456\u001b[0m \u001b[32m━━━━━━━━━━━━━━━━━━━━\u001b[0m\u001b[37m\u001b[0m \u001b[1m124s\u001b[0m 19ms/step - loss: 3.3143 - mae: 1.3377 - val_loss: 2.2336 - val_mae: 1.0287\n",
      "Epoch 10/10\n",
      "\u001b[1m6454/6456\u001b[0m \u001b[32m━━━━━━━━━━━━━━━━━━━\u001b[0m\u001b[37m━\u001b[0m \u001b[1m0s\u001b[0m 17ms/step - loss: 3.2130 - mae: 1.3148\n",
      "Epoch 10: val_loss did not improve from 2.13650\n",
      "\u001b[1m6456/6456\u001b[0m \u001b[32m━━━━━━━━━━━━━━━━━━━━\u001b[0m\u001b[37m\u001b[0m \u001b[1m124s\u001b[0m 19ms/step - loss: 3.2130 - mae: 1.3148 - val_loss: 2.3953 - val_mae: 1.0788\n"
     ]
    }
   ],
   "source": [
    "history1=best_model.fit(np.array(X_train).reshape(-1,window_size,1),Y_train,epochs=10,batch_size=16,validation_data=(X_test,Y_test),callbacks=[checkpoint])"
   ]
  },
  {
   "cell_type": "code",
   "execution_count": 121,
   "metadata": {
    "execution": {
     "iopub.execute_input": "2024-12-29T08:01:09.896206Z",
     "iopub.status.busy": "2024-12-29T08:01:09.895929Z",
     "iopub.status.idle": "2024-12-29T08:21:52.276276Z",
     "shell.execute_reply": "2024-12-29T08:21:52.275381Z",
     "shell.execute_reply.started": "2024-12-29T08:01:09.896184Z"
    },
    "trusted": true
   },
   "outputs": [
    {
     "name": "stdout",
     "output_type": "stream",
     "text": [
      "Epoch 1/10\n",
      "\u001b[1m6455/6456\u001b[0m \u001b[32m━━━━━━━━━━━━━━━━━━━\u001b[0m\u001b[37m━\u001b[0m \u001b[1m0s\u001b[0m 17ms/step - loss: 3.3219 - mae: 1.3413\n",
      "Epoch 1: val_loss did not improve from 2.05785\n",
      "\u001b[1m6456/6456\u001b[0m \u001b[32m━━━━━━━━━━━━━━━━━━━━\u001b[0m\u001b[37m\u001b[0m \u001b[1m127s\u001b[0m 19ms/step - loss: 3.3219 - mae: 1.3413 - val_loss: 2.0865 - val_mae: 0.9611\n",
      "Epoch 2/10\n",
      "\u001b[1m6456/6456\u001b[0m \u001b[32m━━━━━━━━━━━━━━━━━━━━\u001b[0m\u001b[37m\u001b[0m \u001b[1m0s\u001b[0m 17ms/step - loss: 3.2334 - mae: 1.3140\n",
      "Epoch 2: val_loss did not improve from 2.05785\n",
      "\u001b[1m6456/6456\u001b[0m \u001b[32m━━━━━━━━━━━━━━━━━━━━\u001b[0m\u001b[37m\u001b[0m \u001b[1m124s\u001b[0m 19ms/step - loss: 3.2334 - mae: 1.3140 - val_loss: 2.1414 - val_mae: 0.9874\n",
      "Epoch 3/10\n",
      "\u001b[1m6453/6456\u001b[0m \u001b[32m━━━━━━━━━━━━━━━━━━━\u001b[0m\u001b[37m━\u001b[0m \u001b[1m0s\u001b[0m 17ms/step - loss: 3.1433 - mae: 1.2979\n",
      "Epoch 3: val_loss did not improve from 2.05785\n",
      "\u001b[1m6456/6456\u001b[0m \u001b[32m━━━━━━━━━━━━━━━━━━━━\u001b[0m\u001b[37m\u001b[0m \u001b[1m124s\u001b[0m 19ms/step - loss: 3.1433 - mae: 1.2979 - val_loss: 2.1357 - val_mae: 0.9919\n",
      "Epoch 4/10\n",
      "\u001b[1m6454/6456\u001b[0m \u001b[32m━━━━━━━━━━━━━━━━━━━\u001b[0m\u001b[37m━\u001b[0m \u001b[1m0s\u001b[0m 17ms/step - loss: 2.9961 - mae: 1.2648\n",
      "Epoch 4: val_loss did not improve from 2.05785\n",
      "\u001b[1m6456/6456\u001b[0m \u001b[32m━━━━━━━━━━━━━━━━━━━━\u001b[0m\u001b[37m\u001b[0m \u001b[1m124s\u001b[0m 19ms/step - loss: 2.9961 - mae: 1.2648 - val_loss: 2.3734 - val_mae: 1.0690\n",
      "Epoch 5/10\n",
      "\u001b[1m6454/6456\u001b[0m \u001b[32m━━━━━━━━━━━━━━━━━━━\u001b[0m\u001b[37m━\u001b[0m \u001b[1m0s\u001b[0m 17ms/step - loss: 2.9690 - mae: 1.2554\n",
      "Epoch 5: val_loss did not improve from 2.05785\n",
      "\u001b[1m6456/6456\u001b[0m \u001b[32m━━━━━━━━━━━━━━━━━━━━\u001b[0m\u001b[37m\u001b[0m \u001b[1m123s\u001b[0m 19ms/step - loss: 2.9690 - mae: 1.2554 - val_loss: 2.2438 - val_mae: 1.0219\n",
      "Epoch 6/10\n",
      "\u001b[1m6456/6456\u001b[0m \u001b[32m━━━━━━━━━━━━━━━━━━━━\u001b[0m\u001b[37m\u001b[0m \u001b[1m0s\u001b[0m 17ms/step - loss: 2.9290 - mae: 1.2400\n",
      "Epoch 6: val_loss did not improve from 2.05785\n",
      "\u001b[1m6456/6456\u001b[0m \u001b[32m━━━━━━━━━━━━━━━━━━━━\u001b[0m\u001b[37m\u001b[0m \u001b[1m124s\u001b[0m 19ms/step - loss: 2.9290 - mae: 1.2400 - val_loss: 2.1251 - val_mae: 0.9881\n",
      "Epoch 7/10\n",
      "\u001b[1m6454/6456\u001b[0m \u001b[32m━━━━━━━━━━━━━━━━━━━\u001b[0m\u001b[37m━\u001b[0m \u001b[1m0s\u001b[0m 17ms/step - loss: 2.9116 - mae: 1.2320\n",
      "Epoch 7: val_loss did not improve from 2.05785\n",
      "\u001b[1m6456/6456\u001b[0m \u001b[32m━━━━━━━━━━━━━━━━━━━━\u001b[0m\u001b[37m\u001b[0m \u001b[1m124s\u001b[0m 19ms/step - loss: 2.9116 - mae: 1.2320 - val_loss: 2.1897 - val_mae: 1.0093\n",
      "Epoch 8/10\n",
      "\u001b[1m6455/6456\u001b[0m \u001b[32m━━━━━━━━━━━━━━━━━━━\u001b[0m\u001b[37m━\u001b[0m \u001b[1m0s\u001b[0m 17ms/step - loss: 2.8319 - mae: 1.2137\n",
      "Epoch 8: val_loss improved from 2.05785 to 2.03834, saving model to temperature_best_Standard_Hourly.keras\n",
      "\u001b[1m6456/6456\u001b[0m \u001b[32m━━━━━━━━━━━━━━━━━━━━\u001b[0m\u001b[37m\u001b[0m \u001b[1m124s\u001b[0m 19ms/step - loss: 2.8319 - mae: 1.2137 - val_loss: 2.0383 - val_mae: 0.9586\n",
      "Epoch 9/10\n",
      "\u001b[1m6456/6456\u001b[0m \u001b[32m━━━━━━━━━━━━━━━━━━━━\u001b[0m\u001b[37m\u001b[0m \u001b[1m0s\u001b[0m 17ms/step - loss: 2.7806 - mae: 1.1991\n",
      "Epoch 9: val_loss did not improve from 2.03834\n",
      "\u001b[1m6456/6456\u001b[0m \u001b[32m━━━━━━━━━━━━━━━━━━━━\u001b[0m\u001b[37m\u001b[0m \u001b[1m124s\u001b[0m 19ms/step - loss: 2.7806 - mae: 1.1991 - val_loss: 2.0855 - val_mae: 0.9869\n",
      "Epoch 10/10\n",
      "\u001b[1m6454/6456\u001b[0m \u001b[32m━━━━━━━━━━━━━━━━━━━\u001b[0m\u001b[37m━\u001b[0m \u001b[1m0s\u001b[0m 17ms/step - loss: 2.6919 - mae: 1.1844\n",
      "Epoch 10: val_loss did not improve from 2.03834\n",
      "\u001b[1m6456/6456\u001b[0m \u001b[32m━━━━━━━━━━━━━━━━━━━━\u001b[0m\u001b[37m\u001b[0m \u001b[1m124s\u001b[0m 19ms/step - loss: 2.6919 - mae: 1.1844 - val_loss: 2.1760 - val_mae: 0.9840\n"
     ]
    }
   ],
   "source": [
    "history2=best_model.fit(np.array(X_train).reshape(-1,window_size,1),Y_train,epochs=10,batch_size=16,validation_data=(X_test,Y_test),callbacks=[checkpoint])"
   ]
  },
  {
   "cell_type": "code",
   "execution_count": 39,
   "metadata": {
    "execution": {
     "iopub.execute_input": "2024-12-29T06:05:12.747777Z",
     "iopub.status.busy": "2024-12-29T06:05:12.747453Z",
     "iopub.status.idle": "2024-12-29T06:26:12.707158Z",
     "shell.execute_reply": "2024-12-29T06:26:12.706405Z",
     "shell.execute_reply.started": "2024-12-29T06:05:12.747748Z"
    },
    "trusted": true
   },
   "outputs": [
    {
     "name": "stdout",
     "output_type": "stream",
     "text": [
      "Epoch 1/10\n",
      "\u001b[1m6453/6456\u001b[0m \u001b[32m━━━━━━━━━━━━━━━━━━━\u001b[0m\u001b[37m━\u001b[0m \u001b[1m0s\u001b[0m 17ms/step - loss: 3.2378 - mae: 1.3185\n",
      "Epoch 1: val_loss did not improve from 2.16284\n",
      "\u001b[1m6456/6456\u001b[0m \u001b[32m━━━━━━━━━━━━━━━━━━━━\u001b[0m\u001b[37m\u001b[0m \u001b[1m130s\u001b[0m 20ms/step - loss: 3.2378 - mae: 1.3185 - val_loss: 2.2725 - val_mae: 1.0503\n",
      "Epoch 2/10\n",
      "\u001b[1m6454/6456\u001b[0m \u001b[32m━━━━━━━━━━━━━━━━━━━\u001b[0m\u001b[37m━\u001b[0m \u001b[1m0s\u001b[0m 17ms/step - loss: 3.1884 - mae: 1.2996\n",
      "Epoch 2: val_loss did not improve from 2.16284\n",
      "\u001b[1m6456/6456\u001b[0m \u001b[32m━━━━━━━━━━━━━━━━━━━━\u001b[0m\u001b[37m\u001b[0m \u001b[1m125s\u001b[0m 19ms/step - loss: 3.1883 - mae: 1.2996 - val_loss: 2.4445 - val_mae: 1.0838\n",
      "Epoch 3/10\n",
      "\u001b[1m6454/6456\u001b[0m \u001b[32m━━━━━━━━━━━━━━━━━━━\u001b[0m\u001b[37m━\u001b[0m \u001b[1m0s\u001b[0m 17ms/step - loss: 3.0457 - mae: 1.2752\n",
      "Epoch 3: val_loss improved from 2.16284 to 2.14195, saving model to temperature_best_MinMax_Hourly.keras\n",
      "\u001b[1m6456/6456\u001b[0m \u001b[32m━━━━━━━━━━━━━━━━━━━━\u001b[0m\u001b[37m\u001b[0m \u001b[1m126s\u001b[0m 19ms/step - loss: 3.0457 - mae: 1.2752 - val_loss: 2.1419 - val_mae: 0.9787\n",
      "Epoch 4/10\n",
      "\u001b[1m6455/6456\u001b[0m \u001b[32m━━━━━━━━━━━━━━━━━━━\u001b[0m\u001b[37m━\u001b[0m \u001b[1m0s\u001b[0m 17ms/step - loss: 3.1228 - mae: 1.2808\n",
      "Epoch 4: val_loss improved from 2.14195 to 2.12098, saving model to temperature_best_MinMax_Hourly.keras\n",
      "\u001b[1m6456/6456\u001b[0m \u001b[32m━━━━━━━━━━━━━━━━━━━━\u001b[0m\u001b[37m\u001b[0m \u001b[1m126s\u001b[0m 20ms/step - loss: 3.1228 - mae: 1.2808 - val_loss: 2.1210 - val_mae: 0.9908\n",
      "Epoch 5/10\n",
      "\u001b[1m6454/6456\u001b[0m \u001b[32m━━━━━━━━━━━━━━━━━━━\u001b[0m\u001b[37m━\u001b[0m \u001b[1m0s\u001b[0m 17ms/step - loss: 3.0070 - mae: 1.2561\n",
      "Epoch 5: val_loss did not improve from 2.12098\n",
      "\u001b[1m6456/6456\u001b[0m \u001b[32m━━━━━━━━━━━━━━━━━━━━\u001b[0m\u001b[37m\u001b[0m \u001b[1m126s\u001b[0m 20ms/step - loss: 3.0070 - mae: 1.2561 - val_loss: 2.2795 - val_mae: 1.0342\n",
      "Epoch 6/10\n",
      "\u001b[1m6454/6456\u001b[0m \u001b[32m━━━━━━━━━━━━━━━━━━━\u001b[0m\u001b[37m━\u001b[0m \u001b[1m0s\u001b[0m 17ms/step - loss: 2.9775 - mae: 1.2487\n",
      "Epoch 6: val_loss improved from 2.12098 to 2.11025, saving model to temperature_best_MinMax_Hourly.keras\n",
      "\u001b[1m6456/6456\u001b[0m \u001b[32m━━━━━━━━━━━━━━━━━━━━\u001b[0m\u001b[37m\u001b[0m \u001b[1m126s\u001b[0m 20ms/step - loss: 2.9775 - mae: 1.2487 - val_loss: 2.1103 - val_mae: 0.9873\n",
      "Epoch 7/10\n",
      "\u001b[1m6455/6456\u001b[0m \u001b[32m━━━━━━━━━━━━━━━━━━━\u001b[0m\u001b[37m━\u001b[0m \u001b[1m0s\u001b[0m 17ms/step - loss: 2.9633 - mae: 1.2388\n",
      "Epoch 7: val_loss did not improve from 2.11025\n",
      "\u001b[1m6456/6456\u001b[0m \u001b[32m━━━━━━━━━━━━━━━━━━━━\u001b[0m\u001b[37m\u001b[0m \u001b[1m125s\u001b[0m 19ms/step - loss: 2.9633 - mae: 1.2388 - val_loss: 2.2928 - val_mae: 1.0550\n",
      "Epoch 8/10\n",
      "\u001b[1m6454/6456\u001b[0m \u001b[32m━━━━━━━━━━━━━━━━━━━\u001b[0m\u001b[37m━\u001b[0m \u001b[1m0s\u001b[0m 17ms/step - loss: 2.8482 - mae: 1.2210\n",
      "Epoch 8: val_loss improved from 2.11025 to 2.05692, saving model to temperature_best_MinMax_Hourly.keras\n",
      "\u001b[1m6456/6456\u001b[0m \u001b[32m━━━━━━━━━━━━━━━━━━━━\u001b[0m\u001b[37m\u001b[0m \u001b[1m125s\u001b[0m 19ms/step - loss: 2.8482 - mae: 1.2210 - val_loss: 2.0569 - val_mae: 0.9700\n",
      "Epoch 9/10\n",
      "\u001b[1m6456/6456\u001b[0m \u001b[32m━━━━━━━━━━━━━━━━━━━━\u001b[0m\u001b[37m\u001b[0m \u001b[1m0s\u001b[0m 17ms/step - loss: 2.8034 - mae: 1.2051\n",
      "Epoch 9: val_loss did not improve from 2.05692\n",
      "\u001b[1m6456/6456\u001b[0m \u001b[32m━━━━━━━━━━━━━━━━━━━━\u001b[0m\u001b[37m\u001b[0m \u001b[1m125s\u001b[0m 19ms/step - loss: 2.8034 - mae: 1.2051 - val_loss: 2.1384 - val_mae: 0.9937\n",
      "Epoch 10/10\n",
      "\u001b[1m6454/6456\u001b[0m \u001b[32m━━━━━━━━━━━━━━━━━━━\u001b[0m\u001b[37m━\u001b[0m \u001b[1m0s\u001b[0m 17ms/step - loss: 2.8118 - mae: 1.2042\n",
      "Epoch 10: val_loss did not improve from 2.05692\n",
      "\u001b[1m6456/6456\u001b[0m \u001b[32m━━━━━━━━━━━━━━━━━━━━\u001b[0m\u001b[37m\u001b[0m \u001b[1m125s\u001b[0m 19ms/step - loss: 2.8118 - mae: 1.2042 - val_loss: 2.0854 - val_mae: 0.9742\n"
     ]
    }
   ],
   "source": [
    "history3=best_model.fit(np.array(X_train).reshape(-1,window_size,1),Y_train,epochs=10,batch_size=16,validation_data=(X_test,Y_test),callbacks=[checkpoint])"
   ]
  },
  {
   "cell_type": "code",
   "execution_count": 123,
   "metadata": {
    "execution": {
     "iopub.execute_input": "2024-12-29T08:22:02.808081Z",
     "iopub.status.busy": "2024-12-29T08:22:02.807769Z",
     "iopub.status.idle": "2024-12-29T08:42:52.282907Z",
     "shell.execute_reply": "2024-12-29T08:42:52.282221Z",
     "shell.execute_reply.started": "2024-12-29T08:22:02.808054Z"
    },
    "trusted": true
   },
   "outputs": [
    {
     "name": "stdout",
     "output_type": "stream",
     "text": [
      "Epoch 1/10\n",
      "\u001b[1m6454/6456\u001b[0m \u001b[32m━━━━━━━━━━━━━━━━━━━\u001b[0m\u001b[37m━\u001b[0m \u001b[1m0s\u001b[0m 17ms/step - loss: 2.7579 - mae: 1.1967\n",
      "Epoch 1: val_loss did not improve from 2.03834\n",
      "\u001b[1m6456/6456\u001b[0m \u001b[32m━━━━━━━━━━━━━━━━━━━━\u001b[0m\u001b[37m\u001b[0m \u001b[1m128s\u001b[0m 19ms/step - loss: 2.7579 - mae: 1.1967 - val_loss: 2.1967 - val_mae: 0.9960\n",
      "Epoch 2/10\n",
      "\u001b[1m6453/6456\u001b[0m \u001b[32m━━━━━━━━━━━━━━━━━━━\u001b[0m\u001b[37m━\u001b[0m \u001b[1m0s\u001b[0m 17ms/step - loss: 2.7206 - mae: 1.1873\n",
      "Epoch 2: val_loss did not improve from 2.03834\n",
      "\u001b[1m6456/6456\u001b[0m \u001b[32m━━━━━━━━━━━━━━━━━━━━\u001b[0m\u001b[37m\u001b[0m \u001b[1m125s\u001b[0m 19ms/step - loss: 2.7206 - mae: 1.1873 - val_loss: 2.0554 - val_mae: 0.9492\n",
      "Epoch 3/10\n",
      "\u001b[1m6454/6456\u001b[0m \u001b[32m━━━━━━━━━━━━━━━━━━━\u001b[0m\u001b[37m━\u001b[0m \u001b[1m0s\u001b[0m 17ms/step - loss: 2.6508 - mae: 1.1675\n",
      "Epoch 3: val_loss did not improve from 2.03834\n",
      "\u001b[1m6456/6456\u001b[0m \u001b[32m━━━━━━━━━━━━━━━━━━━━\u001b[0m\u001b[37m\u001b[0m \u001b[1m124s\u001b[0m 19ms/step - loss: 2.6508 - mae: 1.1675 - val_loss: 2.1500 - val_mae: 0.9893\n",
      "Epoch 4/10\n",
      "\u001b[1m6454/6456\u001b[0m \u001b[32m━━━━━━━━━━━━━━━━━━━\u001b[0m\u001b[37m━\u001b[0m \u001b[1m0s\u001b[0m 17ms/step - loss: 2.6303 - mae: 1.1666\n",
      "Epoch 4: val_loss did not improve from 2.03834\n",
      "\u001b[1m6456/6456\u001b[0m \u001b[32m━━━━━━━━━━━━━━━━━━━━\u001b[0m\u001b[37m\u001b[0m \u001b[1m125s\u001b[0m 19ms/step - loss: 2.6303 - mae: 1.1666 - val_loss: 2.0432 - val_mae: 0.9477\n",
      "Epoch 5/10\n",
      "\u001b[1m6455/6456\u001b[0m \u001b[32m━━━━━━━━━━━━━━━━━━━\u001b[0m\u001b[37m━\u001b[0m \u001b[1m0s\u001b[0m 17ms/step - loss: 2.6033 - mae: 1.1571\n",
      "Epoch 5: val_loss did not improve from 2.03834\n",
      "\u001b[1m6456/6456\u001b[0m \u001b[32m━━━━━━━━━━━━━━━━━━━━\u001b[0m\u001b[37m\u001b[0m \u001b[1m125s\u001b[0m 19ms/step - loss: 2.6033 - mae: 1.1571 - val_loss: 2.0549 - val_mae: 0.9616\n",
      "Epoch 6/10\n",
      "\u001b[1m6454/6456\u001b[0m \u001b[32m━━━━━━━━━━━━━━━━━━━\u001b[0m\u001b[37m━\u001b[0m \u001b[1m0s\u001b[0m 17ms/step - loss: 2.5415 - mae: 1.1398\n",
      "Epoch 6: val_loss did not improve from 2.03834\n",
      "\u001b[1m6456/6456\u001b[0m \u001b[32m━━━━━━━━━━━━━━━━━━━━\u001b[0m\u001b[37m\u001b[0m \u001b[1m125s\u001b[0m 19ms/step - loss: 2.5415 - mae: 1.1398 - val_loss: 2.0665 - val_mae: 0.9675\n",
      "Epoch 7/10\n",
      "\u001b[1m6456/6456\u001b[0m \u001b[32m━━━━━━━━━━━━━━━━━━━━\u001b[0m\u001b[37m\u001b[0m \u001b[1m0s\u001b[0m 17ms/step - loss: 2.5089 - mae: 1.1317\n",
      "Epoch 7: val_loss improved from 2.03834 to 1.99108, saving model to temperature_best_Standard_Hourly.keras\n",
      "\u001b[1m6456/6456\u001b[0m \u001b[32m━━━━━━━━━━━━━━━━━━━━\u001b[0m\u001b[37m\u001b[0m \u001b[1m125s\u001b[0m 19ms/step - loss: 2.5089 - mae: 1.1317 - val_loss: 1.9911 - val_mae: 0.9373\n",
      "Epoch 8/10\n",
      "\u001b[1m6455/6456\u001b[0m \u001b[32m━━━━━━━━━━━━━━━━━━━\u001b[0m\u001b[37m━\u001b[0m \u001b[1m0s\u001b[0m 17ms/step - loss: 2.4803 - mae: 1.1254\n",
      "Epoch 8: val_loss did not improve from 1.99108\n",
      "\u001b[1m6456/6456\u001b[0m \u001b[32m━━━━━━━━━━━━━━━━━━━━\u001b[0m\u001b[37m\u001b[0m \u001b[1m125s\u001b[0m 19ms/step - loss: 2.4803 - mae: 1.1254 - val_loss: 2.2865 - val_mae: 1.0401\n",
      "Epoch 9/10\n",
      "\u001b[1m6455/6456\u001b[0m \u001b[32m━━━━━━━━━━━━━━━━━━━\u001b[0m\u001b[37m━\u001b[0m \u001b[1m0s\u001b[0m 17ms/step - loss: 2.4879 - mae: 1.1196\n",
      "Epoch 9: val_loss did not improve from 1.99108\n",
      "\u001b[1m6456/6456\u001b[0m \u001b[32m━━━━━━━━━━━━━━━━━━━━\u001b[0m\u001b[37m\u001b[0m \u001b[1m125s\u001b[0m 19ms/step - loss: 2.4879 - mae: 1.1196 - val_loss: 2.0168 - val_mae: 0.9523\n",
      "Epoch 10/10\n",
      "\u001b[1m6455/6456\u001b[0m \u001b[32m━━━━━━━━━━━━━━━━━━━\u001b[0m\u001b[37m━\u001b[0m \u001b[1m0s\u001b[0m 17ms/step - loss: 2.4618 - mae: 1.1153\n",
      "Epoch 10: val_loss did not improve from 1.99108\n",
      "\u001b[1m6456/6456\u001b[0m \u001b[32m━━━━━━━━━━━━━━━━━━━━\u001b[0m\u001b[37m\u001b[0m \u001b[1m124s\u001b[0m 19ms/step - loss: 2.4618 - mae: 1.1153 - val_loss: 2.1255 - val_mae: 0.9861\n"
     ]
    }
   ],
   "source": [
    "history4=best_model.fit(np.array(X_train).reshape(-1,window_size,1),Y_train,epochs=10,batch_size=16,validation_data=(X_test,Y_test),callbacks=[checkpoint])"
   ]
  },
  {
   "cell_type": "code",
   "execution_count": 124,
   "metadata": {
    "execution": {
     "iopub.execute_input": "2024-12-29T08:43:11.957732Z",
     "iopub.status.busy": "2024-12-29T08:43:11.957442Z",
     "iopub.status.idle": "2024-12-29T08:43:11.961955Z",
     "shell.execute_reply": "2024-12-29T08:43:11.961016Z",
     "shell.execute_reply.started": "2024-12-29T08:43:11.957709Z"
    },
    "trusted": true
   },
   "outputs": [],
   "source": [
    "final_history={}\n",
    "\n",
    "for key in history.history.keys():\n",
    "    final_history[key]=history.history[key]+history1.history[key]+history2.history[key]+history3.history[key]+history4.history[key]\n"
   ]
  },
  {
   "cell_type": "code",
   "execution_count": 125,
   "metadata": {
    "execution": {
     "iopub.execute_input": "2024-12-29T08:43:13.625145Z",
     "iopub.status.busy": "2024-12-29T08:43:13.624839Z",
     "iopub.status.idle": "2024-12-29T08:43:14.136116Z",
     "shell.execute_reply": "2024-12-29T08:43:14.135161Z",
     "shell.execute_reply.started": "2024-12-29T08:43:13.625117Z"
    },
    "trusted": true
   },
   "outputs": [
    {
     "data": {
      "image/png": "[encoded data removed]",
      "text/plain": [
       "<Figure size 640x480 with 1 Axes>"
      ]
     },
     "metadata": {},
     "output_type": "display_data"
    },
    {
     "data": {
      "image/png": "[encoded data removed]",
      "text/plain": [
       "<Figure size 640x480 with 1 Axes>"
      ]
     },
     "metadata": {},
     "output_type": "display_data"
    }
   ],
   "source": [
    "plot_loss_curves(final_history)"
   ]
  },
  {
   "cell_type": "code",
   "execution_count": 126,
   "metadata": {
    "execution": {
     "iopub.execute_input": "2024-12-29T08:43:18.057952Z",
     "iopub.status.busy": "2024-12-29T08:43:18.057661Z",
     "iopub.status.idle": "2024-12-29T08:43:18.259739Z",
     "shell.execute_reply": "2024-12-29T08:43:18.259022Z",
     "shell.execute_reply.started": "2024-12-29T08:43:18.057928Z"
    },
    "trusted": true
   },
   "outputs": [],
   "source": [
    "from tensorflow.keras.models import load_model\n",
    "best_model=load_model(\"/kaggle/working/temperature_best_Standard_Hourly.keras\")\n",
    "# best_model.save(\"upgraded_naive_model_best_avg.h5\")\n"
   ]
  },
  {
   "cell_type": "code",
   "execution_count": 127,
   "metadata": {
    "execution": {
     "iopub.execute_input": "2024-12-29T08:43:19.501856Z",
     "iopub.status.busy": "2024-12-29T08:43:19.501572Z",
     "iopub.status.idle": "2024-12-29T08:43:19.550099Z",
     "shell.execute_reply": "2024-12-29T08:43:19.549446Z",
     "shell.execute_reply.started": "2024-12-29T08:43:19.501833Z"
    },
    "trusted": true
   },
   "outputs": [
    {
     "name": "stdout",
     "output_type": "stream",
     "text": [
      "                     temp  dwpt  rhum  prcp  snow   wdir  wspd  wpgt    pres  \\\n",
      "time                                                                           \n",
      "2024-06-01 00:00:00  31.0  23.1  63.0   0.0   NaN  230.0   5.4   NaN  1003.5   \n",
      "2024-06-01 01:00:00  30.0  21.9  62.0   0.0   NaN  210.0  18.4   NaN  1004.0   \n",
      "2024-06-01 02:00:00  31.0  22.1  59.0   0.0   NaN  210.0  18.4   NaN  1005.0   \n",
      "2024-06-01 03:00:00  33.2  24.4  60.0   0.0   NaN  200.0   5.4   NaN  1005.7   \n",
      "2024-06-01 04:00:00  32.0  22.1  56.0   0.0   NaN  200.0  14.8   NaN  1006.0   \n",
      "2024-06-01 05:00:00  34.0  21.1  47.0   0.0   NaN  200.0  20.5   NaN  1005.0   \n",
      "2024-06-01 06:00:00  37.4  23.1  44.0   0.0   NaN  200.0   5.4   NaN  1005.5   \n",
      "2024-06-01 07:00:00  36.0  19.9  39.0   0.0   NaN  200.0  16.6   NaN  1004.0   \n",
      "2024-06-01 08:00:00  38.0  18.9  33.0   0.0   NaN  200.0  18.4   NaN  1003.0   \n",
      "2024-06-01 09:00:00  40.5  21.6  34.0   0.0   NaN  270.0   7.6   NaN  1002.9   \n",
      "2024-06-01 10:00:00  39.0  18.3  30.0   0.0   NaN  200.0  24.1   NaN  1001.0   \n",
      "2024-06-01 11:00:00  40.0  18.0  28.0   0.0   NaN  180.0  16.6   NaN  1001.0   \n",
      "2024-06-01 12:00:00  41.6  22.6  34.0   0.0   NaN  230.0   7.6   NaN  1000.7   \n",
      "2024-06-01 13:00:00  38.0  19.9  35.0   0.0   NaN  180.0  25.9   NaN  1001.0   \n",
      "2024-06-01 14:00:00  35.0  22.0  47.0   0.0   NaN  170.0  14.8   NaN  1001.0   \n",
      "2024-06-01 15:00:00  35.2  21.8  46.0   0.0   NaN  180.0  20.5   NaN  1002.4   \n",
      "2024-06-01 16:00:00  33.0  22.2  53.0   0.0   NaN  160.0  13.0   NaN  1004.0   \n",
      "2024-06-01 17:00:00  32.0  23.0  59.0   0.0   NaN  180.0  20.5   NaN  1004.0   \n",
      "2024-06-01 18:00:00  32.6  24.6  63.0   0.0   NaN  180.0  11.2   NaN  1004.3   \n",
      "2024-06-01 19:00:00  31.0  23.9  66.0   0.0   NaN  140.0  14.8   NaN  1003.0   \n",
      "2024-06-01 20:00:00  31.0  23.9  66.0   0.0   NaN  200.0   9.4   NaN  1003.0   \n",
      "2024-06-01 21:00:00  32.4  24.7  64.0   0.0   NaN  290.0   3.6   NaN  1003.5   \n",
      "2024-06-01 22:00:00  31.0  23.1  63.0   0.0   NaN  230.0  14.8   NaN  1004.0   \n",
      "2024-06-01 23:00:00  31.0  20.9  55.0   0.0   NaN  190.0  14.8   NaN  1005.0   \n",
      "2024-06-02 00:00:00  30.6  23.5  66.0   0.0   NaN  270.0   5.4   NaN  1005.5   \n",
      "2024-06-02 01:00:00  30.0  21.9  62.0   0.0   NaN  210.0  13.0   NaN  1006.0   \n",
      "2024-06-02 02:00:00  30.0  21.9  62.0   0.0   NaN  210.0  11.2   NaN  1007.0   \n",
      "2024-06-02 03:00:00  32.0  24.9  66.0   0.0   NaN  270.0   3.6   NaN  1006.8   \n",
      "2024-06-02 04:00:00  32.0  22.1  56.0   0.0   NaN  180.0  11.2   NaN  1007.0   \n",
      "2024-06-02 05:00:00  33.0  20.9  49.0   0.0   NaN  240.0  11.2   NaN  1007.0   \n",
      "2024-06-02 06:00:00  37.0  22.0  42.0   0.0   NaN  270.0   5.4   NaN  1006.6   \n",
      "2024-06-02 07:00:00  36.0  19.9  39.0   0.0   NaN  190.0  14.8   NaN  1005.0   \n",
      "2024-06-02 08:00:00  37.0  18.1  33.0   0.0   NaN  220.0   7.6   NaN  1004.0   \n",
      "2024-06-02 09:00:00  39.6  19.3  31.0   0.0   NaN  270.0   7.6   NaN  1003.9   \n",
      "2024-06-02 10:00:00  38.0  16.9  29.0   0.0   NaN  220.0  11.2   NaN  1002.0   \n",
      "2024-06-02 11:00:00  39.0  17.2  28.0   0.0   NaN  210.0   7.6   NaN  1002.0   \n",
      "2024-06-02 12:00:00  41.4  17.4  25.0   0.0   NaN  250.0   3.6   NaN  1001.9   \n",
      "2024-06-02 13:00:00  39.0  16.0  26.0   0.0   NaN  200.0  11.2   NaN  1002.0   \n",
      "2024-06-02 14:00:00  37.0  16.0  29.0   0.0   NaN  140.0  13.0   NaN  1003.0   \n",
      "2024-06-02 15:00:00  37.6  15.4  27.0   0.0   NaN  160.0  14.8   NaN  1003.1   \n",
      "2024-06-02 16:00:00  35.0  20.9  44.0   0.0   NaN  180.0  18.4   NaN  1004.0   \n",
      "2024-06-02 17:00:00  33.0  22.2  53.0   0.0   NaN  170.0  16.6   NaN  1004.0   \n",
      "2024-06-02 18:00:00  33.6  22.1  51.0   0.0   NaN  200.0  16.6   NaN  1005.1   \n",
      "2024-06-02 19:00:00  32.0  23.0  59.0   0.0   NaN  180.0  16.6   NaN  1004.0   \n",
      "2024-06-02 20:00:00  31.0  23.1  63.0   0.0   NaN  180.0  18.4   NaN  1003.0   \n",
      "2024-06-02 21:00:00  32.4  25.5  67.0   0.0   NaN  230.0  14.8   NaN  1003.5   \n",
      "2024-06-02 22:00:00  31.0  23.9  66.0   0.0   NaN  200.0  14.8   NaN  1003.0   \n",
      "2024-06-02 23:00:00  31.0  20.9  55.0   0.0   NaN  230.0  14.8   NaN  1003.0   \n",
      "2024-06-03 00:00:00  31.4  22.7  60.0   0.0   NaN  270.0   5.4   NaN  1004.2   \n",
      "\n",
      "                     tsun  coco  \n",
      "time                             \n",
      "2024-06-01 00:00:00   NaN   1.0  \n",
      "2024-06-01 01:00:00   NaN   1.0  \n",
      "2024-06-01 02:00:00   NaN   1.0  \n",
      "2024-06-01 03:00:00   NaN   1.0  \n",
      "2024-06-01 04:00:00   NaN   1.0  \n",
      "2024-06-01 05:00:00   NaN   1.0  \n",
      "2024-06-01 06:00:00   NaN   1.0  \n",
      "2024-06-01 07:00:00   NaN   1.0  \n",
      "2024-06-01 08:00:00   NaN   1.0  \n",
      "2024-06-01 09:00:00   NaN   1.0  \n",
      "2024-06-01 10:00:00   NaN   2.0  \n",
      "2024-06-01 11:00:00   NaN   2.0  \n",
      "2024-06-01 12:00:00   NaN   1.0  \n",
      "2024-06-01 13:00:00   NaN   1.0  \n",
      "2024-06-01 14:00:00   NaN   1.0  \n",
      "2024-06-01 15:00:00   NaN   1.0  \n",
      "2024-06-01 16:00:00   NaN   2.0  \n",
      "2024-06-01 17:00:00   NaN   1.0  \n",
      "2024-06-01 18:00:00   NaN   5.0  \n",
      "2024-06-01 19:00:00   NaN   5.0  \n",
      "2024-06-01 20:00:00   NaN   5.0  \n",
      "2024-06-01 21:00:00   NaN   1.0  \n",
      "2024-06-01 22:00:00   NaN   2.0  \n",
      "2024-06-01 23:00:00   NaN   2.0  \n",
      "2024-06-02 00:00:00   NaN   2.0  \n",
      "2024-06-02 01:00:00   NaN   2.0  \n",
      "2024-06-02 02:00:00   NaN   1.0  \n",
      "2024-06-02 03:00:00   NaN   1.0  \n",
      "2024-06-02 04:00:00   NaN   1.0  \n",
      "2024-06-02 05:00:00   NaN   1.0  \n",
      "2024-06-02 06:00:00   NaN   1.0  \n",
      "2024-06-02 07:00:00   NaN   1.0  \n",
      "2024-06-02 08:00:00   NaN   1.0  \n",
      "2024-06-02 09:00:00   NaN   1.0  \n",
      "2024-06-02 10:00:00   NaN   2.0  \n",
      "2024-06-02 11:00:00   NaN   2.0  \n",
      "2024-06-02 12:00:00   NaN   1.0  \n",
      "2024-06-02 13:00:00   NaN   1.0  \n",
      "2024-06-02 14:00:00   NaN   1.0  \n",
      "2024-06-02 15:00:00   NaN   1.0  \n",
      "2024-06-02 16:00:00   NaN   2.0  \n",
      "2024-06-02 17:00:00   NaN   1.0  \n",
      "2024-06-02 18:00:00   NaN   1.0  \n",
      "2024-06-02 19:00:00   NaN   1.0  \n",
      "2024-06-02 20:00:00   NaN   1.0  \n",
      "2024-06-02 21:00:00   NaN   1.0  \n",
      "2024-06-02 22:00:00   NaN   1.0  \n",
      "2024-06-02 23:00:00   NaN   1.0  \n",
      "2024-06-03 00:00:00   NaN   1.0  \n"
     ]
    }
   ],
   "source": [
    "from meteostat import Point, Hourly\n",
    "import datetime\n",
    "\n",
    "\n",
    "location = Point( 23.0215374, 72.5800568)\n",
    "start = datetime.datetime(2024, 6, 1)\n",
    "end = datetime.datetime(2024, 6, 3)\n",
    "\n",
    "# Get historical data\n",
    "data = Hourly(location, start, end)\n",
    "data = data.fetch()\n",
    "\n",
    "print(data)\n"
   ]
  },
  {
   "cell_type": "code",
   "execution_count": 128,
   "metadata": {
    "execution": {
     "iopub.execute_input": "2024-12-29T08:43:22.400065Z",
     "iopub.status.busy": "2024-12-29T08:43:22.399785Z",
     "iopub.status.idle": "2024-12-29T08:43:22.404477Z",
     "shell.execute_reply": "2024-12-29T08:43:22.403667Z",
     "shell.execute_reply.started": "2024-12-29T08:43:22.400042Z"
    },
    "trusted": true
   },
   "outputs": [
    {
     "name": "stdout",
     "output_type": "stream",
     "text": [
      "(49, 11)\n"
     ]
    }
   ],
   "source": [
    "print(data.shape)"
   ]
  },
  {
   "cell_type": "code",
   "execution_count": 129,
   "metadata": {
    "execution": {
     "iopub.execute_input": "2024-12-29T08:43:22.804836Z",
     "iopub.status.busy": "2024-12-29T08:43:22.804563Z",
     "iopub.status.idle": "2024-12-29T08:43:22.808381Z",
     "shell.execute_reply": "2024-12-29T08:43:22.807505Z",
     "shell.execute_reply.started": "2024-12-29T08:43:22.804814Z"
    },
    "trusted": true
   },
   "outputs": [],
   "source": [
    "next_6_months_temp=data[\"temp\"]\n"
   ]
  },
  {
   "cell_type": "code",
   "execution_count": 130,
   "metadata": {
    "execution": {
     "iopub.execute_input": "2024-12-29T08:43:24.192176Z",
     "iopub.status.busy": "2024-12-29T08:43:24.191877Z",
     "iopub.status.idle": "2024-12-29T08:43:24.407968Z",
     "shell.execute_reply": "2024-12-29T08:43:24.407258Z",
     "shell.execute_reply.started": "2024-12-29T08:43:24.192152Z"
    },
    "trusted": true
   },
   "outputs": [
    {
     "data": {
      "text/plain": [
       "[<matplotlib.lines.Line2D at 0x7d2044719e40>]"
      ]
     },
     "execution_count": 130,
     "metadata": {},
     "output_type": "execute_result"
    },
    {
     "data": {
      "image/png": "[encoded data removed]",
      "text/plain": [
       "<Figure size 640x480 with 1 Axes>"
      ]
     },
     "metadata": {},
     "output_type": "display_data"
    }
   ],
   "source": [
    "plt.plot(next_6_months_temp.values.flatten())"
   ]
  },
  {
   "cell_type": "code",
   "execution_count": 131,
   "metadata": {
    "execution": {
     "iopub.execute_input": "2024-12-29T08:43:27.202272Z",
     "iopub.status.busy": "2024-12-29T08:43:27.201988Z",
     "iopub.status.idle": "2024-12-29T08:43:27.243142Z",
     "shell.execute_reply": "2024-12-29T08:43:27.242453Z",
     "shell.execute_reply.started": "2024-12-29T08:43:27.202248Z"
    },
    "trusted": true
   },
   "outputs": [
    {
     "name": "stdout",
     "output_type": "stream",
     "text": [
      "                     temp  dwpt  rhum  prcp  snow   wdir  wspd  wpgt    pres  \\\n",
      "time                                                                           \n",
      "2024-05-26 00:00:00  32.4  20.3  49.0   0.0   NaN  290.0   5.4   NaN  1001.5   \n",
      "2024-05-26 01:00:00  31.0  20.9  55.0   0.0   NaN  240.0  14.8   NaN  1002.0   \n",
      "2024-05-26 02:00:00  30.0  23.0  66.0   0.0   NaN  230.0  18.4   NaN  1003.0   \n",
      "2024-05-26 03:00:00  32.0  24.6  65.0   0.0   NaN  230.0   5.4   NaN  1003.1   \n",
      "2024-05-26 04:00:00  33.0  23.1  56.0   0.0   NaN  250.0  18.4   NaN  1004.0   \n",
      "...                   ...   ...   ...   ...   ...    ...   ...   ...     ...   \n",
      "2024-05-30 20:00:00  32.0  25.1  67.0   0.0   NaN  240.0  14.8   NaN  1003.0   \n",
      "2024-05-30 21:00:00  32.4  25.7  68.0   0.0   NaN  320.0   3.6   NaN  1003.2   \n",
      "2024-05-30 22:00:00  31.0  23.9  66.0   0.0   NaN  210.0  22.3   NaN  1003.0   \n",
      "2024-05-30 23:00:00  30.0  21.9  62.0   0.0   NaN  200.0  22.3   NaN  1004.0   \n",
      "2024-05-31 00:00:00  31.6  24.2  65.0   0.0   NaN  270.0   7.6   NaN  1004.2   \n",
      "\n",
      "                     tsun  coco  \n",
      "time                             \n",
      "2024-05-26 00:00:00   NaN   1.0  \n",
      "2024-05-26 01:00:00   NaN   1.0  \n",
      "2024-05-26 02:00:00   NaN   5.0  \n",
      "2024-05-26 03:00:00   NaN   5.0  \n",
      "2024-05-26 04:00:00   NaN   1.0  \n",
      "...                   ...   ...  \n",
      "2024-05-30 20:00:00   NaN   5.0  \n",
      "2024-05-30 21:00:00   NaN   5.0  \n",
      "2024-05-30 22:00:00   NaN   5.0  \n",
      "2024-05-30 23:00:00   NaN   5.0  \n",
      "2024-05-31 00:00:00   NaN   5.0  \n",
      "\n",
      "[121 rows x 11 columns]\n"
     ]
    }
   ],
   "source": [
    "location = Point( 23.0215374, 72.5800568)\n",
    "start = datetime.datetime(2024, 5, 26)\n",
    "end = datetime.datetime(2024, 5, 31)\n",
    "\n",
    "# Get historical data\n",
    "data_for_model = Hourly(location, start, end)\n",
    "data_for_model = data_for_model.fetch()\n",
    "\n",
    "print(data_for_model)\n"
   ]
  },
  {
   "cell_type": "code",
   "execution_count": 132,
   "metadata": {
    "execution": {
     "iopub.execute_input": "2024-12-29T08:43:29.367123Z",
     "iopub.status.busy": "2024-12-29T08:43:29.366838Z",
     "iopub.status.idle": "2024-12-29T08:43:29.372184Z",
     "shell.execute_reply": "2024-12-29T08:43:29.371502Z",
     "shell.execute_reply.started": "2024-12-29T08:43:29.367099Z"
    },
    "trusted": true
   },
   "outputs": [
    {
     "data": {
      "text/plain": [
       "(100,)"
      ]
     },
     "execution_count": 132,
     "metadata": {},
     "output_type": "execute_result"
    }
   ],
   "source": [
    "data_for_model[\"temp\"].values[21:].shape"
   ]
  },
  {
   "cell_type": "code",
   "execution_count": 133,
   "metadata": {
    "execution": {
     "iopub.execute_input": "2024-12-29T08:43:29.862071Z",
     "iopub.status.busy": "2024-12-29T08:43:29.861788Z",
     "iopub.status.idle": "2024-12-29T08:43:29.866588Z",
     "shell.execute_reply": "2024-12-29T08:43:29.865535Z",
     "shell.execute_reply.started": "2024-12-29T08:43:29.862048Z"
    },
    "trusted": true
   },
   "outputs": [],
   "source": [
    "data_for_model=MinMax.transform(np.array(data_for_model[\"temp\"].values[2).reshape(-1,1))\n"
   ]
  },
  {
   "cell_type": "markdown",
   "metadata": {},
   "source": []
  },
  {
   "cell_type": "code",
   "execution_count": 134,
   "metadata": {
    "execution": {
     "iopub.execute_input": "2024-12-29T08:43:33.049907Z",
     "iopub.status.busy": "2024-12-29T08:43:33.049609Z",
     "iopub.status.idle": "2024-12-29T08:43:33.053787Z",
     "shell.execute_reply": "2024-12-29T08:43:33.052820Z",
     "shell.execute_reply.started": "2024-12-29T08:43:33.049884Z"
    },
    "trusted": true
   },
   "outputs": [],
   "source": [
    "data_for_model=data_for_model.reshape(1,100,1)"
   ]
  },
  {
   "cell_type": "code",
   "execution_count": 135,
   "metadata": {
    "execution": {
     "iopub.execute_input": "2024-12-29T08:43:33.340698Z",
     "iopub.status.busy": "2024-12-29T08:43:33.340445Z",
     "iopub.status.idle": "2024-12-29T08:43:33.345930Z",
     "shell.execute_reply": "2024-12-29T08:43:33.345283Z",
     "shell.execute_reply.started": "2024-12-29T08:43:33.340676Z"
    },
    "trusted": true
   },
   "outputs": [
    {
     "data": {
      "text/plain": [
       "array([0.82063866, 0.51072005, 0.35576075, 0.82063866, 0.20080145,\n",
       "       0.35576075, 0.66567936, 0.82063866, 0.82063866, 1.59543518,\n",
       "       1.59543518, 2.06031308, 2.46320727, 2.37023169, 2.37023169,\n",
       "       2.6801503 , 1.44047587, 1.13055727, 1.09956541, 0.82063866,\n",
       "       0.66567936, 0.91361424, 0.66567936, 0.51072005, 0.60369564,\n",
       "       0.35576075, 0.35576075, 0.41774447, 0.20080145, 0.35576075,\n",
       "       0.66567936, 0.66567936, 0.82063866, 1.44047587, 1.44047587,\n",
       "       1.59543518, 2.27725611, 2.06031308, 2.21527239, 2.43221541,\n",
       "       1.44047587, 1.13055727, 0.97559796, 0.66567936, 0.66567936,\n",
       "       0.91361424, 0.82063866, 0.66567936, 0.66567936, 0.51072005,\n",
       "       0.35576075, 0.41774447, 0.20080145, 0.20080145, 0.66567936,\n",
       "       0.66567936, 0.97559796, 1.28551657, 1.44047587, 1.59543518,\n",
       "       2.12229681, 1.90535378, 1.90535378, 1.84337006, 1.28551657,\n",
       "       0.97559796, 0.97559796, 0.66567936, 0.66567936, 0.85163052,\n",
       "       0.66567936, 0.51072005, 0.72766308, 0.51072005, 0.35576075,\n",
       "       0.57270378, 0.35576075, 0.35576075, 0.69667122, 0.66567936,\n",
       "       0.82063866, 1.34750029, 1.28551657, 1.59543518, 2.06031308,\n",
       "       1.90535378, 2.06031308, 2.37023169, 1.59543518, 1.13055727,\n",
       "       1.06857355, 0.66567936, 0.51072005, 0.72766308, 0.51072005,\n",
       "       0.66567936, 0.72766308, 0.51072005, 0.35576075, 0.60369564])"
      ]
     },
     "execution_count": 135,
     "metadata": {},
     "output_type": "execute_result"
    }
   ],
   "source": [
    "data_for_model=data_for_model.flatten()\n",
    "data_for_model"
   ]
  },
  {
   "cell_type": "code",
   "execution_count": 75,
   "metadata": {
    "execution": {
     "iopub.execute_input": "2024-12-28T06:37:07.165186Z",
     "iopub.status.busy": "2024-12-28T06:37:07.164823Z",
     "iopub.status.idle": "2024-12-28T06:37:07.172051Z",
     "shell.execute_reply": "2024-12-28T06:37:07.171076Z",
     "shell.execute_reply.started": "2024-12-28T06:37:07.165141Z"
    },
    "trusted": true
   },
   "outputs": [
    {
     "data": {
      "text/plain": [
       "array([-1.01036587, -1.11302757, -1.05143055, -0.74344547, -0.41492805,\n",
       "       -0.35333103, -0.04534595,  0.24210679, -0.41492805, -1.52367434,\n",
       "       -1.40048031, -1.09249523, -0.82557483, -0.5997191 , -0.49705741,\n",
       "       -0.41492805, -0.27120168, -0.00428128,  0.0367834 , -0.12747531,\n",
       "       -0.08641063, -0.14800765, -0.04534595,  0.28317147,  0.28317147,\n",
       "        0.09838042,  0.36530082,  0.38583316,  0.28317147,  0.52955953,\n",
       "        0.44743018,  0.63222122,  0.7759476 ,  1.00180332,  1.042868  ,\n",
       "        0.81701227,  0.50902719,  0.36530082,  0.46796251,  0.52955953,\n",
       "        0.55009187,  0.52955953,  0.61168889,  0.73488292,  0.65275356,\n",
       "        0.94020631,  0.98127098,  1.12499735,  0.96073864,  0.85807695,\n",
       "        0.71435058,  0.79647993,  0.98127098,  1.12499735,  1.33032074,\n",
       "        1.45351477,  1.042868  ,  0.71435058,  0.73488292,  0.87860929,\n",
       "        0.96073864,  1.18659437,  1.26872373,  1.10446502,  1.06340034,\n",
       "        1.18659437,  1.26872373,  1.14552969,  1.042868  ,  1.042868  ,\n",
       "        1.20712671,  1.43298243,  1.24819139,  1.20712671,  1.45351477,\n",
       "        1.49457945,  1.47404711,  1.39191776,  1.45351477,  1.55617647,\n",
       "        1.02233566,  0.59115655,  1.16606203,  1.63830582,  1.80256453,\n",
       "        1.90522623,  2.06948494,  2.02842026,  2.00788792,  2.0489526 ,\n",
       "        2.15161429,  2.0489526 ,  1.76149985,  1.72043518,  1.57670881,\n",
       "        1.4124501 ,  1.35085308,  1.39191776,  1.4124501 ,  1.2       ])"
      ]
     },
     "execution_count": 75,
     "metadata": {},
     "output_type": "execute_result"
    }
   ],
   "source": [
    "copied=data_for_model.copy()\n",
    "copied=copied[1:]\n",
    "copied = np.append(copied, 1.2)\n",
    "copied"
   ]
  },
  {
   "cell_type": "markdown",
   "metadata": {},
   "source": []
  },
  {
   "cell_type": "code",
   "execution_count": 136,
   "metadata": {
    "collapsed": true,
    "execution": {
     "iopub.execute_input": "2024-12-29T08:43:37.471400Z",
     "iopub.status.busy": "2024-12-29T08:43:37.471074Z",
     "iopub.status.idle": "2024-12-29T08:43:39.336032Z",
     "shell.execute_reply": "2024-12-29T08:43:39.335149Z",
     "shell.execute_reply.started": "2024-12-29T08:43:37.471375Z"
    },
    "jupyter": {
     "outputs_hidden": true
    },
    "trusted": true
   },
   "outputs": [
    {
     "name": "stdout",
     "output_type": "stream",
     "text": [
      "[0.82063866 0.51072005 0.35576075 0.82063866 0.20080145 0.35576075\n",
      " 0.66567936 0.82063866 0.82063866 1.59543518 1.59543518 2.06031308\n",
      " 2.46320727 2.37023169 2.37023169 2.6801503  1.44047587 1.13055727\n",
      " 1.09956541 0.82063866 0.66567936 0.91361424 0.66567936 0.51072005\n",
      " 0.60369564 0.35576075 0.35576075 0.41774447 0.20080145 0.35576075\n",
      " 0.66567936 0.66567936 0.82063866 1.44047587 1.44047587 1.59543518\n",
      " 2.27725611 2.06031308 2.21527239 2.43221541 1.44047587 1.13055727\n",
      " 0.97559796 0.66567936 0.66567936 0.91361424 0.82063866 0.66567936\n",
      " 0.66567936 0.51072005 0.35576075 0.41774447 0.20080145 0.20080145\n",
      " 0.66567936 0.66567936 0.97559796 1.28551657 1.44047587 1.59543518\n",
      " 2.12229681 1.90535378 1.90535378 1.84337006 1.28551657 0.97559796\n",
      " 0.97559796 0.66567936 0.66567936 0.85163052 0.66567936 0.51072005\n",
      " 0.72766308 0.51072005 0.35576075 0.57270378 0.35576075 0.35576075\n",
      " 0.69667122 0.66567936 0.82063866 1.34750029 1.28551657 1.59543518\n",
      " 2.06031308 1.90535378 2.06031308 2.37023169 1.59543518 1.13055727\n",
      " 1.06857355 0.66567936 0.51072005 0.72766308 0.51072005 0.66567936\n",
      " 0.72766308 0.51072005 0.35576075 0.60369564]\n",
      "\u001b[1m1/1\u001b[0m \u001b[32m━━━━━━━━━━━━━━━━━━━━\u001b[0m\u001b[37m\u001b[0m \u001b[1m0s\u001b[0m 247ms/step\n",
      "[ 0.51072005  0.35576075  0.82063866  0.20080145  0.35576075  0.66567936\n",
      "  0.82063866  0.82063866  1.59543518  1.59543518  2.06031308  2.46320727\n",
      "  2.37023169  2.37023169  2.6801503   1.44047587  1.13055727  1.09956541\n",
      "  0.82063866  0.66567936  0.91361424  0.66567936  0.51072005  0.60369564\n",
      "  0.35576075  0.35576075  0.41774447  0.20080145  0.35576075  0.66567936\n",
      "  0.66567936  0.82063866  1.44047587  1.44047587  1.59543518  2.27725611\n",
      "  2.06031308  2.21527239  2.43221541  1.44047587  1.13055727  0.97559796\n",
      "  0.66567936  0.66567936  0.91361424  0.82063866  0.66567936  0.66567936\n",
      "  0.51072005  0.35576075  0.41774447  0.20080145  0.20080145  0.66567936\n",
      "  0.66567936  0.97559796  1.28551657  1.44047587  1.59543518  2.12229681\n",
      "  1.90535378  1.90535378  1.84337006  1.28551657  0.97559796  0.97559796\n",
      "  0.66567936  0.66567936  0.85163052  0.66567936  0.51072005  0.72766308\n",
      "  0.51072005  0.35576075  0.57270378  0.35576075  0.35576075  0.69667122\n",
      "  0.66567936  0.82063866  1.34750029  1.28551657  1.59543518  2.06031308\n",
      "  1.90535378  2.06031308  2.37023169  1.59543518  1.13055727  1.06857355\n",
      "  0.66567936  0.51072005  0.72766308  0.51072005  0.66567936  0.72766308\n",
      "  0.51072005  0.35576075  0.60369564 30.90781403]\n",
      "\u001b[1m1/1\u001b[0m \u001b[32m━━━━━━━━━━━━━━━━━━━━\u001b[0m\u001b[37m\u001b[0m \u001b[1m0s\u001b[0m 20ms/step\n",
      "[ 0.35576075  0.82063866  0.20080145  0.35576075  0.66567936  0.82063866\n",
      "  0.82063866  1.59543518  1.59543518  2.06031308  2.46320727  2.37023169\n",
      "  2.37023169  2.6801503   1.44047587  1.13055727  1.09956541  0.82063866\n",
      "  0.66567936  0.91361424  0.66567936  0.51072005  0.60369564  0.35576075\n",
      "  0.35576075  0.41774447  0.20080145  0.35576075  0.66567936  0.66567936\n",
      "  0.82063866  1.44047587  1.44047587  1.59543518  2.27725611  2.06031308\n",
      "  2.21527239  2.43221541  1.44047587  1.13055727  0.97559796  0.66567936\n",
      "  0.66567936  0.91361424  0.82063866  0.66567936  0.66567936  0.51072005\n",
      "  0.35576075  0.41774447  0.20080145  0.20080145  0.66567936  0.66567936\n",
      "  0.97559796  1.28551657  1.44047587  1.59543518  2.12229681  1.90535378\n",
      "  1.90535378  1.84337006  1.28551657  0.97559796  0.97559796  0.66567936\n",
      "  0.66567936  0.85163052  0.66567936  0.51072005  0.72766308  0.51072005\n",
      "  0.35576075  0.57270378  0.35576075  0.35576075  0.69667122  0.66567936\n",
      "  0.82063866  1.34750029  1.28551657  1.59543518  2.06031308  1.90535378\n",
      "  2.06031308  2.37023169  1.59543518  1.13055727  1.06857355  0.66567936\n",
      "  0.51072005  0.72766308  0.51072005  0.66567936  0.72766308  0.51072005\n",
      "  0.35576075  0.60369564 30.90781403 36.94646454]\n",
      "\u001b[1m1/1\u001b[0m \u001b[32m━━━━━━━━━━━━━━━━━━━━\u001b[0m\u001b[37m\u001b[0m \u001b[1m0s\u001b[0m 20ms/step\n",
      "[ 0.82063866  0.20080145  0.35576075  0.66567936  0.82063866  0.82063866\n",
      "  1.59543518  1.59543518  2.06031308  2.46320727  2.37023169  2.37023169\n",
      "  2.6801503   1.44047587  1.13055727  1.09956541  0.82063866  0.66567936\n",
      "  0.91361424  0.66567936  0.51072005  0.60369564  0.35576075  0.35576075\n",
      "  0.41774447  0.20080145  0.35576075  0.66567936  0.66567936  0.82063866\n",
      "  1.44047587  1.44047587  1.59543518  2.27725611  2.06031308  2.21527239\n",
      "  2.43221541  1.44047587  1.13055727  0.97559796  0.66567936  0.66567936\n",
      "  0.91361424  0.82063866  0.66567936  0.66567936  0.51072005  0.35576075\n",
      "  0.41774447  0.20080145  0.20080145  0.66567936  0.66567936  0.97559796\n",
      "  1.28551657  1.44047587  1.59543518  2.12229681  1.90535378  1.90535378\n",
      "  1.84337006  1.28551657  0.97559796  0.97559796  0.66567936  0.66567936\n",
      "  0.85163052  0.66567936  0.51072005  0.72766308  0.51072005  0.35576075\n",
      "  0.57270378  0.35576075  0.35576075  0.69667122  0.66567936  0.82063866\n",
      "  1.34750029  1.28551657  1.59543518  2.06031308  1.90535378  2.06031308\n",
      "  2.37023169  1.59543518  1.13055727  1.06857355  0.66567936  0.51072005\n",
      "  0.72766308  0.51072005  0.66567936  0.72766308  0.51072005  0.35576075\n",
      "  0.60369564 30.90781403 36.94646454 41.09367752]\n",
      "\u001b[1m1/1\u001b[0m \u001b[32m━━━━━━━━━━━━━━━━━━━━\u001b[0m\u001b[37m\u001b[0m \u001b[1m0s\u001b[0m 19ms/step\n",
      "[ 0.20080145  0.35576075  0.66567936  0.82063866  0.82063866  1.59543518\n",
      "  1.59543518  2.06031308  2.46320727  2.37023169  2.37023169  2.6801503\n",
      "  1.44047587  1.13055727  1.09956541  0.82063866  0.66567936  0.91361424\n",
      "  0.66567936  0.51072005  0.60369564  0.35576075  0.35576075  0.41774447\n",
      "  0.20080145  0.35576075  0.66567936  0.66567936  0.82063866  1.44047587\n",
      "  1.44047587  1.59543518  2.27725611  2.06031308  2.21527239  2.43221541\n",
      "  1.44047587  1.13055727  0.97559796  0.66567936  0.66567936  0.91361424\n",
      "  0.82063866  0.66567936  0.66567936  0.51072005  0.35576075  0.41774447\n",
      "  0.20080145  0.20080145  0.66567936  0.66567936  0.97559796  1.28551657\n",
      "  1.44047587  1.59543518  2.12229681  1.90535378  1.90535378  1.84337006\n",
      "  1.28551657  0.97559796  0.97559796  0.66567936  0.66567936  0.85163052\n",
      "  0.66567936  0.51072005  0.72766308  0.51072005  0.35576075  0.57270378\n",
      "  0.35576075  0.35576075  0.69667122  0.66567936  0.82063866  1.34750029\n",
      "  1.28551657  1.59543518  2.06031308  1.90535378  2.06031308  2.37023169\n",
      "  1.59543518  1.13055727  1.06857355  0.66567936  0.51072005  0.72766308\n",
      "  0.51072005  0.66567936  0.72766308  0.51072005  0.35576075  0.60369564\n",
      " 30.90781403 36.94646454 41.09367752 42.42511368]\n",
      "\u001b[1m1/1\u001b[0m \u001b[32m━━━━━━━━━━━━━━━━━━━━\u001b[0m\u001b[37m\u001b[0m \u001b[1m0s\u001b[0m 20ms/step\n",
      "[ 0.35576075  0.66567936  0.82063866  0.82063866  1.59543518  1.59543518\n",
      "  2.06031308  2.46320727  2.37023169  2.37023169  2.6801503   1.44047587\n",
      "  1.13055727  1.09956541  0.82063866  0.66567936  0.91361424  0.66567936\n",
      "  0.51072005  0.60369564  0.35576075  0.35576075  0.41774447  0.20080145\n",
      "  0.35576075  0.66567936  0.66567936  0.82063866  1.44047587  1.44047587\n",
      "  1.59543518  2.27725611  2.06031308  2.21527239  2.43221541  1.44047587\n",
      "  1.13055727  0.97559796  0.66567936  0.66567936  0.91361424  0.82063866\n",
      "  0.66567936  0.66567936  0.51072005  0.35576075  0.41774447  0.20080145\n",
      "  0.20080145  0.66567936  0.66567936  0.97559796  1.28551657  1.44047587\n",
      "  1.59543518  2.12229681  1.90535378  1.90535378  1.84337006  1.28551657\n",
      "  0.97559796  0.97559796  0.66567936  0.66567936  0.85163052  0.66567936\n",
      "  0.51072005  0.72766308  0.51072005  0.35576075  0.57270378  0.35576075\n",
      "  0.35576075  0.69667122  0.66567936  0.82063866  1.34750029  1.28551657\n",
      "  1.59543518  2.06031308  1.90535378  2.06031308  2.37023169  1.59543518\n",
      "  1.13055727  1.06857355  0.66567936  0.51072005  0.72766308  0.51072005\n",
      "  0.66567936  0.72766308  0.51072005  0.35576075  0.60369564 30.90781403\n",
      " 36.94646454 41.09367752 42.42511368 43.9313736 ]\n",
      "\u001b[1m1/1\u001b[0m \u001b[32m━━━━━━━━━━━━━━━━━━━━\u001b[0m\u001b[37m\u001b[0m \u001b[1m0s\u001b[0m 19ms/step\n",
      "[ 0.66567936  0.82063866  0.82063866  1.59543518  1.59543518  2.06031308\n",
      "  2.46320727  2.37023169  2.37023169  2.6801503   1.44047587  1.13055727\n",
      "  1.09956541  0.82063866  0.66567936  0.91361424  0.66567936  0.51072005\n",
      "  0.60369564  0.35576075  0.35576075  0.41774447  0.20080145  0.35576075\n",
      "  0.66567936  0.66567936  0.82063866  1.44047587  1.44047587  1.59543518\n",
      "  2.27725611  2.06031308  2.21527239  2.43221541  1.44047587  1.13055727\n",
      "  0.97559796  0.66567936  0.66567936  0.91361424  0.82063866  0.66567936\n",
      "  0.66567936  0.51072005  0.35576075  0.41774447  0.20080145  0.20080145\n",
      "  0.66567936  0.66567936  0.97559796  1.28551657  1.44047587  1.59543518\n",
      "  2.12229681  1.90535378  1.90535378  1.84337006  1.28551657  0.97559796\n",
      "  0.97559796  0.66567936  0.66567936  0.85163052  0.66567936  0.51072005\n",
      "  0.72766308  0.51072005  0.35576075  0.57270378  0.35576075  0.35576075\n",
      "  0.69667122  0.66567936  0.82063866  1.34750029  1.28551657  1.59543518\n",
      "  2.06031308  1.90535378  2.06031308  2.37023169  1.59543518  1.13055727\n",
      "  1.06857355  0.66567936  0.51072005  0.72766308  0.51072005  0.66567936\n",
      "  0.72766308  0.51072005  0.35576075  0.60369564 30.90781403 36.94646454\n",
      " 41.09367752 42.42511368 43.9313736  44.23181915]\n",
      "\u001b[1m1/1\u001b[0m \u001b[32m━━━━━━━━━━━━━━━━━━━━\u001b[0m\u001b[37m\u001b[0m \u001b[1m0s\u001b[0m 21ms/step\n",
      "[ 0.82063866  0.82063866  1.59543518  1.59543518  2.06031308  2.46320727\n",
      "  2.37023169  2.37023169  2.6801503   1.44047587  1.13055727  1.09956541\n",
      "  0.82063866  0.66567936  0.91361424  0.66567936  0.51072005  0.60369564\n",
      "  0.35576075  0.35576075  0.41774447  0.20080145  0.35576075  0.66567936\n",
      "  0.66567936  0.82063866  1.44047587  1.44047587  1.59543518  2.27725611\n",
      "  2.06031308  2.21527239  2.43221541  1.44047587  1.13055727  0.97559796\n",
      "  0.66567936  0.66567936  0.91361424  0.82063866  0.66567936  0.66567936\n",
      "  0.51072005  0.35576075  0.41774447  0.20080145  0.20080145  0.66567936\n",
      "  0.66567936  0.97559796  1.28551657  1.44047587  1.59543518  2.12229681\n",
      "  1.90535378  1.90535378  1.84337006  1.28551657  0.97559796  0.97559796\n",
      "  0.66567936  0.66567936  0.85163052  0.66567936  0.51072005  0.72766308\n",
      "  0.51072005  0.35576075  0.57270378  0.35576075  0.35576075  0.69667122\n",
      "  0.66567936  0.82063866  1.34750029  1.28551657  1.59543518  2.06031308\n",
      "  1.90535378  2.06031308  2.37023169  1.59543518  1.13055727  1.06857355\n",
      "  0.66567936  0.51072005  0.72766308  0.51072005  0.66567936  0.72766308\n",
      "  0.51072005  0.35576075  0.60369564 30.90781403 36.94646454 41.09367752\n",
      " 42.42511368 43.9313736  44.23181915 44.02900696]\n",
      "\u001b[1m1/1\u001b[0m \u001b[32m━━━━━━━━━━━━━━━━━━━━\u001b[0m\u001b[37m\u001b[0m \u001b[1m0s\u001b[0m 20ms/step\n",
      "[ 0.82063866  1.59543518  1.59543518  2.06031308  2.46320727  2.37023169\n",
      "  2.37023169  2.6801503   1.44047587  1.13055727  1.09956541  0.82063866\n",
      "  0.66567936  0.91361424  0.66567936  0.51072005  0.60369564  0.35576075\n",
      "  0.35576075  0.41774447  0.20080145  0.35576075  0.66567936  0.66567936\n",
      "  0.82063866  1.44047587  1.44047587  1.59543518  2.27725611  2.06031308\n",
      "  2.21527239  2.43221541  1.44047587  1.13055727  0.97559796  0.66567936\n",
      "  0.66567936  0.91361424  0.82063866  0.66567936  0.66567936  0.51072005\n",
      "  0.35576075  0.41774447  0.20080145  0.20080145  0.66567936  0.66567936\n",
      "  0.97559796  1.28551657  1.44047587  1.59543518  2.12229681  1.90535378\n",
      "  1.90535378  1.84337006  1.28551657  0.97559796  0.97559796  0.66567936\n",
      "  0.66567936  0.85163052  0.66567936  0.51072005  0.72766308  0.51072005\n",
      "  0.35576075  0.57270378  0.35576075  0.35576075  0.69667122  0.66567936\n",
      "  0.82063866  1.34750029  1.28551657  1.59543518  2.06031308  1.90535378\n",
      "  2.06031308  2.37023169  1.59543518  1.13055727  1.06857355  0.66567936\n",
      "  0.51072005  0.72766308  0.51072005  0.66567936  0.72766308  0.51072005\n",
      "  0.35576075  0.60369564 30.90781403 36.94646454 41.09367752 42.42511368\n",
      " 43.9313736  44.23181915 44.02900696 43.92855835]\n",
      "\u001b[1m1/1\u001b[0m \u001b[32m━━━━━━━━━━━━━━━━━━━━\u001b[0m\u001b[37m\u001b[0m \u001b[1m0s\u001b[0m 20ms/step\n",
      "[ 1.59543518  1.59543518  2.06031308  2.46320727  2.37023169  2.37023169\n",
      "  2.6801503   1.44047587  1.13055727  1.09956541  0.82063866  0.66567936\n",
      "  0.91361424  0.66567936  0.51072005  0.60369564  0.35576075  0.35576075\n",
      "  0.41774447  0.20080145  0.35576075  0.66567936  0.66567936  0.82063866\n",
      "  1.44047587  1.44047587  1.59543518  2.27725611  2.06031308  2.21527239\n",
      "  2.43221541  1.44047587  1.13055727  0.97559796  0.66567936  0.66567936\n",
      "  0.91361424  0.82063866  0.66567936  0.66567936  0.51072005  0.35576075\n",
      "  0.41774447  0.20080145  0.20080145  0.66567936  0.66567936  0.97559796\n",
      "  1.28551657  1.44047587  1.59543518  2.12229681  1.90535378  1.90535378\n",
      "  1.84337006  1.28551657  0.97559796  0.97559796  0.66567936  0.66567936\n",
      "  0.85163052  0.66567936  0.51072005  0.72766308  0.51072005  0.35576075\n",
      "  0.57270378  0.35576075  0.35576075  0.69667122  0.66567936  0.82063866\n",
      "  1.34750029  1.28551657  1.59543518  2.06031308  1.90535378  2.06031308\n",
      "  2.37023169  1.59543518  1.13055727  1.06857355  0.66567936  0.51072005\n",
      "  0.72766308  0.51072005  0.66567936  0.72766308  0.51072005  0.35576075\n",
      "  0.60369564 30.90781403 36.94646454 41.09367752 42.42511368 43.9313736\n",
      " 44.23181915 44.02900696 43.92855835 44.140625  ]\n",
      "\u001b[1m1/1\u001b[0m \u001b[32m━━━━━━━━━━━━━━━━━━━━\u001b[0m\u001b[37m\u001b[0m \u001b[1m0s\u001b[0m 19ms/step\n",
      "[ 1.59543518  2.06031308  2.46320727  2.37023169  2.37023169  2.6801503\n",
      "  1.44047587  1.13055727  1.09956541  0.82063866  0.66567936  0.91361424\n",
      "  0.66567936  0.51072005  0.60369564  0.35576075  0.35576075  0.41774447\n",
      "  0.20080145  0.35576075  0.66567936  0.66567936  0.82063866  1.44047587\n",
      "  1.44047587  1.59543518  2.27725611  2.06031308  2.21527239  2.43221541\n",
      "  1.44047587  1.13055727  0.97559796  0.66567936  0.66567936  0.91361424\n",
      "  0.82063866  0.66567936  0.66567936  0.51072005  0.35576075  0.41774447\n",
      "  0.20080145  0.20080145  0.66567936  0.66567936  0.97559796  1.28551657\n",
      "  1.44047587  1.59543518  2.12229681  1.90535378  1.90535378  1.84337006\n",
      "  1.28551657  0.97559796  0.97559796  0.66567936  0.66567936  0.85163052\n",
      "  0.66567936  0.51072005  0.72766308  0.51072005  0.35576075  0.57270378\n",
      "  0.35576075  0.35576075  0.69667122  0.66567936  0.82063866  1.34750029\n",
      "  1.28551657  1.59543518  2.06031308  1.90535378  2.06031308  2.37023169\n",
      "  1.59543518  1.13055727  1.06857355  0.66567936  0.51072005  0.72766308\n",
      "  0.51072005  0.66567936  0.72766308  0.51072005  0.35576075  0.60369564\n",
      " 30.90781403 36.94646454 41.09367752 42.42511368 43.9313736  44.23181915\n",
      " 44.02900696 43.92855835 44.140625   44.03004074]\n",
      "\u001b[1m1/1\u001b[0m \u001b[32m━━━━━━━━━━━━━━━━━━━━\u001b[0m\u001b[37m\u001b[0m \u001b[1m0s\u001b[0m 20ms/step\n",
      "[ 2.06031308  2.46320727  2.37023169  2.37023169  2.6801503   1.44047587\n",
      "  1.13055727  1.09956541  0.82063866  0.66567936  0.91361424  0.66567936\n",
      "  0.51072005  0.60369564  0.35576075  0.35576075  0.41774447  0.20080145\n",
      "  0.35576075  0.66567936  0.66567936  0.82063866  1.44047587  1.44047587\n",
      "  1.59543518  2.27725611  2.06031308  2.21527239  2.43221541  1.44047587\n",
      "  1.13055727  0.97559796  0.66567936  0.66567936  0.91361424  0.82063866\n",
      "  0.66567936  0.66567936  0.51072005  0.35576075  0.41774447  0.20080145\n",
      "  0.20080145  0.66567936  0.66567936  0.97559796  1.28551657  1.44047587\n",
      "  1.59543518  2.12229681  1.90535378  1.90535378  1.84337006  1.28551657\n",
      "  0.97559796  0.97559796  0.66567936  0.66567936  0.85163052  0.66567936\n",
      "  0.51072005  0.72766308  0.51072005  0.35576075  0.57270378  0.35576075\n",
      "  0.35576075  0.69667122  0.66567936  0.82063866  1.34750029  1.28551657\n",
      "  1.59543518  2.06031308  1.90535378  2.06031308  2.37023169  1.59543518\n",
      "  1.13055727  1.06857355  0.66567936  0.51072005  0.72766308  0.51072005\n",
      "  0.66567936  0.72766308  0.51072005  0.35576075  0.60369564 30.90781403\n",
      " 36.94646454 41.09367752 42.42511368 43.9313736  44.23181915 44.02900696\n",
      " 43.92855835 44.140625   44.03004074 44.07763672]\n",
      "\u001b[1m1/1\u001b[0m \u001b[32m━━━━━━━━━━━━━━━━━━━━\u001b[0m\u001b[37m\u001b[0m \u001b[1m0s\u001b[0m 20ms/step\n",
      "[ 2.46320727  2.37023169  2.37023169  2.6801503   1.44047587  1.13055727\n",
      "  1.09956541  0.82063866  0.66567936  0.91361424  0.66567936  0.51072005\n",
      "  0.60369564  0.35576075  0.35576075  0.41774447  0.20080145  0.35576075\n",
      "  0.66567936  0.66567936  0.82063866  1.44047587  1.44047587  1.59543518\n",
      "  2.27725611  2.06031308  2.21527239  2.43221541  1.44047587  1.13055727\n",
      "  0.97559796  0.66567936  0.66567936  0.91361424  0.82063866  0.66567936\n",
      "  0.66567936  0.51072005  0.35576075  0.41774447  0.20080145  0.20080145\n",
      "  0.66567936  0.66567936  0.97559796  1.28551657  1.44047587  1.59543518\n",
      "  2.12229681  1.90535378  1.90535378  1.84337006  1.28551657  0.97559796\n",
      "  0.97559796  0.66567936  0.66567936  0.85163052  0.66567936  0.51072005\n",
      "  0.72766308  0.51072005  0.35576075  0.57270378  0.35576075  0.35576075\n",
      "  0.69667122  0.66567936  0.82063866  1.34750029  1.28551657  1.59543518\n",
      "  2.06031308  1.90535378  2.06031308  2.37023169  1.59543518  1.13055727\n",
      "  1.06857355  0.66567936  0.51072005  0.72766308  0.51072005  0.66567936\n",
      "  0.72766308  0.51072005  0.35576075  0.60369564 30.90781403 36.94646454\n",
      " 41.09367752 42.42511368 43.9313736  44.23181915 44.02900696 43.92855835\n",
      " 44.140625   44.03004074 44.07763672 44.13236618]\n",
      "\u001b[1m1/1\u001b[0m \u001b[32m━━━━━━━━━━━━━━━━━━━━\u001b[0m\u001b[37m\u001b[0m \u001b[1m0s\u001b[0m 20ms/step\n",
      "[ 2.37023169  2.37023169  2.6801503   1.44047587  1.13055727  1.09956541\n",
      "  0.82063866  0.66567936  0.91361424  0.66567936  0.51072005  0.60369564\n",
      "  0.35576075  0.35576075  0.41774447  0.20080145  0.35576075  0.66567936\n",
      "  0.66567936  0.82063866  1.44047587  1.44047587  1.59543518  2.27725611\n",
      "  2.06031308  2.21527239  2.43221541  1.44047587  1.13055727  0.97559796\n",
      "  0.66567936  0.66567936  0.91361424  0.82063866  0.66567936  0.66567936\n",
      "  0.51072005  0.35576075  0.41774447  0.20080145  0.20080145  0.66567936\n",
      "  0.66567936  0.97559796  1.28551657  1.44047587  1.59543518  2.12229681\n",
      "  1.90535378  1.90535378  1.84337006  1.28551657  0.97559796  0.97559796\n",
      "  0.66567936  0.66567936  0.85163052  0.66567936  0.51072005  0.72766308\n",
      "  0.51072005  0.35576075  0.57270378  0.35576075  0.35576075  0.69667122\n",
      "  0.66567936  0.82063866  1.34750029  1.28551657  1.59543518  2.06031308\n",
      "  1.90535378  2.06031308  2.37023169  1.59543518  1.13055727  1.06857355\n",
      "  0.66567936  0.51072005  0.72766308  0.51072005  0.66567936  0.72766308\n",
      "  0.51072005  0.35576075  0.60369564 30.90781403 36.94646454 41.09367752\n",
      " 42.42511368 43.9313736  44.23181915 44.02900696 43.92855835 44.140625\n",
      " 44.03004074 44.07763672 44.13236618 42.72129822]\n",
      "\u001b[1m1/1\u001b[0m \u001b[32m━━━━━━━━━━━━━━━━━━━━\u001b[0m\u001b[37m\u001b[0m \u001b[1m0s\u001b[0m 20ms/step\n",
      "[ 2.37023169  2.6801503   1.44047587  1.13055727  1.09956541  0.82063866\n",
      "  0.66567936  0.91361424  0.66567936  0.51072005  0.60369564  0.35576075\n",
      "  0.35576075  0.41774447  0.20080145  0.35576075  0.66567936  0.66567936\n",
      "  0.82063866  1.44047587  1.44047587  1.59543518  2.27725611  2.06031308\n",
      "  2.21527239  2.43221541  1.44047587  1.13055727  0.97559796  0.66567936\n",
      "  0.66567936  0.91361424  0.82063866  0.66567936  0.66567936  0.51072005\n",
      "  0.35576075  0.41774447  0.20080145  0.20080145  0.66567936  0.66567936\n",
      "  0.97559796  1.28551657  1.44047587  1.59543518  2.12229681  1.90535378\n",
      "  1.90535378  1.84337006  1.28551657  0.97559796  0.97559796  0.66567936\n",
      "  0.66567936  0.85163052  0.66567936  0.51072005  0.72766308  0.51072005\n",
      "  0.35576075  0.57270378  0.35576075  0.35576075  0.69667122  0.66567936\n",
      "  0.82063866  1.34750029  1.28551657  1.59543518  2.06031308  1.90535378\n",
      "  2.06031308  2.37023169  1.59543518  1.13055727  1.06857355  0.66567936\n",
      "  0.51072005  0.72766308  0.51072005  0.66567936  0.72766308  0.51072005\n",
      "  0.35576075  0.60369564 30.90781403 36.94646454 41.09367752 42.42511368\n",
      " 43.9313736  44.23181915 44.02900696 43.92855835 44.140625   44.03004074\n",
      " 44.07763672 44.13236618 42.72129822 43.35224915]\n",
      "\u001b[1m1/1\u001b[0m \u001b[32m━━━━━━━━━━━━━━━━━━━━\u001b[0m\u001b[37m\u001b[0m \u001b[1m0s\u001b[0m 20ms/step\n",
      "[ 2.6801503   1.44047587  1.13055727  1.09956541  0.82063866  0.66567936\n",
      "  0.91361424  0.66567936  0.51072005  0.60369564  0.35576075  0.35576075\n",
      "  0.41774447  0.20080145  0.35576075  0.66567936  0.66567936  0.82063866\n",
      "  1.44047587  1.44047587  1.59543518  2.27725611  2.06031308  2.21527239\n",
      "  2.43221541  1.44047587  1.13055727  0.97559796  0.66567936  0.66567936\n",
      "  0.91361424  0.82063866  0.66567936  0.66567936  0.51072005  0.35576075\n",
      "  0.41774447  0.20080145  0.20080145  0.66567936  0.66567936  0.97559796\n",
      "  1.28551657  1.44047587  1.59543518  2.12229681  1.90535378  1.90535378\n",
      "  1.84337006  1.28551657  0.97559796  0.97559796  0.66567936  0.66567936\n",
      "  0.85163052  0.66567936  0.51072005  0.72766308  0.51072005  0.35576075\n",
      "  0.57270378  0.35576075  0.35576075  0.69667122  0.66567936  0.82063866\n",
      "  1.34750029  1.28551657  1.59543518  2.06031308  1.90535378  2.06031308\n",
      "  2.37023169  1.59543518  1.13055727  1.06857355  0.66567936  0.51072005\n",
      "  0.72766308  0.51072005  0.66567936  0.72766308  0.51072005  0.35576075\n",
      "  0.60369564 30.90781403 36.94646454 41.09367752 42.42511368 43.9313736\n",
      " 44.23181915 44.02900696 43.92855835 44.140625   44.03004074 44.07763672\n",
      " 44.13236618 42.72129822 43.35224915 43.80132294]\n",
      "\u001b[1m1/1\u001b[0m \u001b[32m━━━━━━━━━━━━━━━━━━━━\u001b[0m\u001b[37m\u001b[0m \u001b[1m0s\u001b[0m 20ms/step\n",
      "[ 1.44047587  1.13055727  1.09956541  0.82063866  0.66567936  0.91361424\n",
      "  0.66567936  0.51072005  0.60369564  0.35576075  0.35576075  0.41774447\n",
      "  0.20080145  0.35576075  0.66567936  0.66567936  0.82063866  1.44047587\n",
      "  1.44047587  1.59543518  2.27725611  2.06031308  2.21527239  2.43221541\n",
      "  1.44047587  1.13055727  0.97559796  0.66567936  0.66567936  0.91361424\n",
      "  0.82063866  0.66567936  0.66567936  0.51072005  0.35576075  0.41774447\n",
      "  0.20080145  0.20080145  0.66567936  0.66567936  0.97559796  1.28551657\n",
      "  1.44047587  1.59543518  2.12229681  1.90535378  1.90535378  1.84337006\n",
      "  1.28551657  0.97559796  0.97559796  0.66567936  0.66567936  0.85163052\n",
      "  0.66567936  0.51072005  0.72766308  0.51072005  0.35576075  0.57270378\n",
      "  0.35576075  0.35576075  0.69667122  0.66567936  0.82063866  1.34750029\n",
      "  1.28551657  1.59543518  2.06031308  1.90535378  2.06031308  2.37023169\n",
      "  1.59543518  1.13055727  1.06857355  0.66567936  0.51072005  0.72766308\n",
      "  0.51072005  0.66567936  0.72766308  0.51072005  0.35576075  0.60369564\n",
      " 30.90781403 36.94646454 41.09367752 42.42511368 43.9313736  44.23181915\n",
      " 44.02900696 43.92855835 44.140625   44.03004074 44.07763672 44.13236618\n",
      " 42.72129822 43.35224915 43.80132294 42.37503815]\n",
      "\u001b[1m1/1\u001b[0m \u001b[32m━━━━━━━━━━━━━━━━━━━━\u001b[0m\u001b[37m\u001b[0m \u001b[1m0s\u001b[0m 20ms/step\n",
      "[ 1.13055727  1.09956541  0.82063866  0.66567936  0.91361424  0.66567936\n",
      "  0.51072005  0.60369564  0.35576075  0.35576075  0.41774447  0.20080145\n",
      "  0.35576075  0.66567936  0.66567936  0.82063866  1.44047587  1.44047587\n",
      "  1.59543518  2.27725611  2.06031308  2.21527239  2.43221541  1.44047587\n",
      "  1.13055727  0.97559796  0.66567936  0.66567936  0.91361424  0.82063866\n",
      "  0.66567936  0.66567936  0.51072005  0.35576075  0.41774447  0.20080145\n",
      "  0.20080145  0.66567936  0.66567936  0.97559796  1.28551657  1.44047587\n",
      "  1.59543518  2.12229681  1.90535378  1.90535378  1.84337006  1.28551657\n",
      "  0.97559796  0.97559796  0.66567936  0.66567936  0.85163052  0.66567936\n",
      "  0.51072005  0.72766308  0.51072005  0.35576075  0.57270378  0.35576075\n",
      "  0.35576075  0.69667122  0.66567936  0.82063866  1.34750029  1.28551657\n",
      "  1.59543518  2.06031308  1.90535378  2.06031308  2.37023169  1.59543518\n",
      "  1.13055727  1.06857355  0.66567936  0.51072005  0.72766308  0.51072005\n",
      "  0.66567936  0.72766308  0.51072005  0.35576075  0.60369564 30.90781403\n",
      " 36.94646454 41.09367752 42.42511368 43.9313736  44.23181915 44.02900696\n",
      " 43.92855835 44.140625   44.03004074 44.07763672 44.13236618 42.72129822\n",
      " 43.35224915 43.80132294 42.37503815 43.0615387 ]\n",
      "\u001b[1m1/1\u001b[0m \u001b[32m━━━━━━━━━━━━━━━━━━━━\u001b[0m\u001b[37m\u001b[0m \u001b[1m0s\u001b[0m 20ms/step\n",
      "[ 1.09956541  0.82063866  0.66567936  0.91361424  0.66567936  0.51072005\n",
      "  0.60369564  0.35576075  0.35576075  0.41774447  0.20080145  0.35576075\n",
      "  0.66567936  0.66567936  0.82063866  1.44047587  1.44047587  1.59543518\n",
      "  2.27725611  2.06031308  2.21527239  2.43221541  1.44047587  1.13055727\n",
      "  0.97559796  0.66567936  0.66567936  0.91361424  0.82063866  0.66567936\n",
      "  0.66567936  0.51072005  0.35576075  0.41774447  0.20080145  0.20080145\n",
      "  0.66567936  0.66567936  0.97559796  1.28551657  1.44047587  1.59543518\n",
      "  2.12229681  1.90535378  1.90535378  1.84337006  1.28551657  0.97559796\n",
      "  0.97559796  0.66567936  0.66567936  0.85163052  0.66567936  0.51072005\n",
      "  0.72766308  0.51072005  0.35576075  0.57270378  0.35576075  0.35576075\n",
      "  0.69667122  0.66567936  0.82063866  1.34750029  1.28551657  1.59543518\n",
      "  2.06031308  1.90535378  2.06031308  2.37023169  1.59543518  1.13055727\n",
      "  1.06857355  0.66567936  0.51072005  0.72766308  0.51072005  0.66567936\n",
      "  0.72766308  0.51072005  0.35576075  0.60369564 30.90781403 36.94646454\n",
      " 41.09367752 42.42511368 43.9313736  44.23181915 44.02900696 43.92855835\n",
      " 44.140625   44.03004074 44.07763672 44.13236618 42.72129822 43.35224915\n",
      " 43.80132294 42.37503815 43.0615387  43.99003601]\n",
      "\u001b[1m1/1\u001b[0m \u001b[32m━━━━━━━━━━━━━━━━━━━━\u001b[0m\u001b[37m\u001b[0m \u001b[1m0s\u001b[0m 19ms/step\n",
      "[ 0.82063866  0.66567936  0.91361424  0.66567936  0.51072005  0.60369564\n",
      "  0.35576075  0.35576075  0.41774447  0.20080145  0.35576075  0.66567936\n",
      "  0.66567936  0.82063866  1.44047587  1.44047587  1.59543518  2.27725611\n",
      "  2.06031308  2.21527239  2.43221541  1.44047587  1.13055727  0.97559796\n",
      "  0.66567936  0.66567936  0.91361424  0.82063866  0.66567936  0.66567936\n",
      "  0.51072005  0.35576075  0.41774447  0.20080145  0.20080145  0.66567936\n",
      "  0.66567936  0.97559796  1.28551657  1.44047587  1.59543518  2.12229681\n",
      "  1.90535378  1.90535378  1.84337006  1.28551657  0.97559796  0.97559796\n",
      "  0.66567936  0.66567936  0.85163052  0.66567936  0.51072005  0.72766308\n",
      "  0.51072005  0.35576075  0.57270378  0.35576075  0.35576075  0.69667122\n",
      "  0.66567936  0.82063866  1.34750029  1.28551657  1.59543518  2.06031308\n",
      "  1.90535378  2.06031308  2.37023169  1.59543518  1.13055727  1.06857355\n",
      "  0.66567936  0.51072005  0.72766308  0.51072005  0.66567936  0.72766308\n",
      "  0.51072005  0.35576075  0.60369564 30.90781403 36.94646454 41.09367752\n",
      " 42.42511368 43.9313736  44.23181915 44.02900696 43.92855835 44.140625\n",
      " 44.03004074 44.07763672 44.13236618 42.72129822 43.35224915 43.80132294\n",
      " 42.37503815 43.0615387  43.99003601 42.79545593]\n",
      "\u001b[1m1/1\u001b[0m \u001b[32m━━━━━━━━━━━━━━━━━━━━\u001b[0m\u001b[37m\u001b[0m \u001b[1m0s\u001b[0m 20ms/step\n",
      "[ 0.66567936  0.91361424  0.66567936  0.51072005  0.60369564  0.35576075\n",
      "  0.35576075  0.41774447  0.20080145  0.35576075  0.66567936  0.66567936\n",
      "  0.82063866  1.44047587  1.44047587  1.59543518  2.27725611  2.06031308\n",
      "  2.21527239  2.43221541  1.44047587  1.13055727  0.97559796  0.66567936\n",
      "  0.66567936  0.91361424  0.82063866  0.66567936  0.66567936  0.51072005\n",
      "  0.35576075  0.41774447  0.20080145  0.20080145  0.66567936  0.66567936\n",
      "  0.97559796  1.28551657  1.44047587  1.59543518  2.12229681  1.90535378\n",
      "  1.90535378  1.84337006  1.28551657  0.97559796  0.97559796  0.66567936\n",
      "  0.66567936  0.85163052  0.66567936  0.51072005  0.72766308  0.51072005\n",
      "  0.35576075  0.57270378  0.35576075  0.35576075  0.69667122  0.66567936\n",
      "  0.82063866  1.34750029  1.28551657  1.59543518  2.06031308  1.90535378\n",
      "  2.06031308  2.37023169  1.59543518  1.13055727  1.06857355  0.66567936\n",
      "  0.51072005  0.72766308  0.51072005  0.66567936  0.72766308  0.51072005\n",
      "  0.35576075  0.60369564 30.90781403 36.94646454 41.09367752 42.42511368\n",
      " 43.9313736  44.23181915 44.02900696 43.92855835 44.140625   44.03004074\n",
      " 44.07763672 44.13236618 42.72129822 43.35224915 43.80132294 42.37503815\n",
      " 43.0615387  43.99003601 42.79545593 43.06171036]\n",
      "\u001b[1m1/1\u001b[0m \u001b[32m━━━━━━━━━━━━━━━━━━━━\u001b[0m\u001b[37m\u001b[0m \u001b[1m0s\u001b[0m 20ms/step\n",
      "[ 0.91361424  0.66567936  0.51072005  0.60369564  0.35576075  0.35576075\n",
      "  0.41774447  0.20080145  0.35576075  0.66567936  0.66567936  0.82063866\n",
      "  1.44047587  1.44047587  1.59543518  2.27725611  2.06031308  2.21527239\n",
      "  2.43221541  1.44047587  1.13055727  0.97559796  0.66567936  0.66567936\n",
      "  0.91361424  0.82063866  0.66567936  0.66567936  0.51072005  0.35576075\n",
      "  0.41774447  0.20080145  0.20080145  0.66567936  0.66567936  0.97559796\n",
      "  1.28551657  1.44047587  1.59543518  2.12229681  1.90535378  1.90535378\n",
      "  1.84337006  1.28551657  0.97559796  0.97559796  0.66567936  0.66567936\n",
      "  0.85163052  0.66567936  0.51072005  0.72766308  0.51072005  0.35576075\n",
      "  0.57270378  0.35576075  0.35576075  0.69667122  0.66567936  0.82063866\n",
      "  1.34750029  1.28551657  1.59543518  2.06031308  1.90535378  2.06031308\n",
      "  2.37023169  1.59543518  1.13055727  1.06857355  0.66567936  0.51072005\n",
      "  0.72766308  0.51072005  0.66567936  0.72766308  0.51072005  0.35576075\n",
      "  0.60369564 30.90781403 36.94646454 41.09367752 42.42511368 43.9313736\n",
      " 44.23181915 44.02900696 43.92855835 44.140625   44.03004074 44.07763672\n",
      " 44.13236618 42.72129822 43.35224915 43.80132294 42.37503815 43.0615387\n",
      " 43.99003601 42.79545593 43.06171036 43.93580627]\n",
      "\u001b[1m1/1\u001b[0m \u001b[32m━━━━━━━━━━━━━━━━━━━━\u001b[0m\u001b[37m\u001b[0m \u001b[1m0s\u001b[0m 19ms/step\n",
      "[ 0.66567936  0.51072005  0.60369564  0.35576075  0.35576075  0.41774447\n",
      "  0.20080145  0.35576075  0.66567936  0.66567936  0.82063866  1.44047587\n",
      "  1.44047587  1.59543518  2.27725611  2.06031308  2.21527239  2.43221541\n",
      "  1.44047587  1.13055727  0.97559796  0.66567936  0.66567936  0.91361424\n",
      "  0.82063866  0.66567936  0.66567936  0.51072005  0.35576075  0.41774447\n",
      "  0.20080145  0.20080145  0.66567936  0.66567936  0.97559796  1.28551657\n",
      "  1.44047587  1.59543518  2.12229681  1.90535378  1.90535378  1.84337006\n",
      "  1.28551657  0.97559796  0.97559796  0.66567936  0.66567936  0.85163052\n",
      "  0.66567936  0.51072005  0.72766308  0.51072005  0.35576075  0.57270378\n",
      "  0.35576075  0.35576075  0.69667122  0.66567936  0.82063866  1.34750029\n",
      "  1.28551657  1.59543518  2.06031308  1.90535378  2.06031308  2.37023169\n",
      "  1.59543518  1.13055727  1.06857355  0.66567936  0.51072005  0.72766308\n",
      "  0.51072005  0.66567936  0.72766308  0.51072005  0.35576075  0.60369564\n",
      " 30.90781403 36.94646454 41.09367752 42.42511368 43.9313736  44.23181915\n",
      " 44.02900696 43.92855835 44.140625   44.03004074 44.07763672 44.13236618\n",
      " 42.72129822 43.35224915 43.80132294 42.37503815 43.0615387  43.99003601\n",
      " 42.79545593 43.06171036 43.93580627 42.02896881]\n",
      "\u001b[1m1/1\u001b[0m \u001b[32m━━━━━━━━━━━━━━━━━━━━\u001b[0m\u001b[37m\u001b[0m \u001b[1m0s\u001b[0m 20ms/step\n",
      "[ 0.51072005  0.60369564  0.35576075  0.35576075  0.41774447  0.20080145\n",
      "  0.35576075  0.66567936  0.66567936  0.82063866  1.44047587  1.44047587\n",
      "  1.59543518  2.27725611  2.06031308  2.21527239  2.43221541  1.44047587\n",
      "  1.13055727  0.97559796  0.66567936  0.66567936  0.91361424  0.82063866\n",
      "  0.66567936  0.66567936  0.51072005  0.35576075  0.41774447  0.20080145\n",
      "  0.20080145  0.66567936  0.66567936  0.97559796  1.28551657  1.44047587\n",
      "  1.59543518  2.12229681  1.90535378  1.90535378  1.84337006  1.28551657\n",
      "  0.97559796  0.97559796  0.66567936  0.66567936  0.85163052  0.66567936\n",
      "  0.51072005  0.72766308  0.51072005  0.35576075  0.57270378  0.35576075\n",
      "  0.35576075  0.69667122  0.66567936  0.82063866  1.34750029  1.28551657\n",
      "  1.59543518  2.06031308  1.90535378  2.06031308  2.37023169  1.59543518\n",
      "  1.13055727  1.06857355  0.66567936  0.51072005  0.72766308  0.51072005\n",
      "  0.66567936  0.72766308  0.51072005  0.35576075  0.60369564 30.90781403\n",
      " 36.94646454 41.09367752 42.42511368 43.9313736  44.23181915 44.02900696\n",
      " 43.92855835 44.140625   44.03004074 44.07763672 44.13236618 42.72129822\n",
      " 43.35224915 43.80132294 42.37503815 43.0615387  43.99003601 42.79545593\n",
      " 43.06171036 43.93580627 42.02896881 42.75655746]\n",
      "\u001b[1m1/1\u001b[0m \u001b[32m━━━━━━━━━━━━━━━━━━━━\u001b[0m\u001b[37m\u001b[0m \u001b[1m0s\u001b[0m 19ms/step\n",
      "[ 0.60369564  0.35576075  0.35576075  0.41774447  0.20080145  0.35576075\n",
      "  0.66567936  0.66567936  0.82063866  1.44047587  1.44047587  1.59543518\n",
      "  2.27725611  2.06031308  2.21527239  2.43221541  1.44047587  1.13055727\n",
      "  0.97559796  0.66567936  0.66567936  0.91361424  0.82063866  0.66567936\n",
      "  0.66567936  0.51072005  0.35576075  0.41774447  0.20080145  0.20080145\n",
      "  0.66567936  0.66567936  0.97559796  1.28551657  1.44047587  1.59543518\n",
      "  2.12229681  1.90535378  1.90535378  1.84337006  1.28551657  0.97559796\n",
      "  0.97559796  0.66567936  0.66567936  0.85163052  0.66567936  0.51072005\n",
      "  0.72766308  0.51072005  0.35576075  0.57270378  0.35576075  0.35576075\n",
      "  0.69667122  0.66567936  0.82063866  1.34750029  1.28551657  1.59543518\n",
      "  2.06031308  1.90535378  2.06031308  2.37023169  1.59543518  1.13055727\n",
      "  1.06857355  0.66567936  0.51072005  0.72766308  0.51072005  0.66567936\n",
      "  0.72766308  0.51072005  0.35576075  0.60369564 30.90781403 36.94646454\n",
      " 41.09367752 42.42511368 43.9313736  44.23181915 44.02900696 43.92855835\n",
      " 44.140625   44.03004074 44.07763672 44.13236618 42.72129822 43.35224915\n",
      " 43.80132294 42.37503815 43.0615387  43.99003601 42.79545593 43.06171036\n",
      " 43.93580627 42.02896881 42.75655746 43.36884308]\n",
      "\u001b[1m1/1\u001b[0m \u001b[32m━━━━━━━━━━━━━━━━━━━━\u001b[0m\u001b[37m\u001b[0m \u001b[1m0s\u001b[0m 19ms/step\n",
      "[ 0.35576075  0.35576075  0.41774447  0.20080145  0.35576075  0.66567936\n",
      "  0.66567936  0.82063866  1.44047587  1.44047587  1.59543518  2.27725611\n",
      "  2.06031308  2.21527239  2.43221541  1.44047587  1.13055727  0.97559796\n",
      "  0.66567936  0.66567936  0.91361424  0.82063866  0.66567936  0.66567936\n",
      "  0.51072005  0.35576075  0.41774447  0.20080145  0.20080145  0.66567936\n",
      "  0.66567936  0.97559796  1.28551657  1.44047587  1.59543518  2.12229681\n",
      "  1.90535378  1.90535378  1.84337006  1.28551657  0.97559796  0.97559796\n",
      "  0.66567936  0.66567936  0.85163052  0.66567936  0.51072005  0.72766308\n",
      "  0.51072005  0.35576075  0.57270378  0.35576075  0.35576075  0.69667122\n",
      "  0.66567936  0.82063866  1.34750029  1.28551657  1.59543518  2.06031308\n",
      "  1.90535378  2.06031308  2.37023169  1.59543518  1.13055727  1.06857355\n",
      "  0.66567936  0.51072005  0.72766308  0.51072005  0.66567936  0.72766308\n",
      "  0.51072005  0.35576075  0.60369564 30.90781403 36.94646454 41.09367752\n",
      " 42.42511368 43.9313736  44.23181915 44.02900696 43.92855835 44.140625\n",
      " 44.03004074 44.07763672 44.13236618 42.72129822 43.35224915 43.80132294\n",
      " 42.37503815 43.0615387  43.99003601 42.79545593 43.06171036 43.93580627\n",
      " 42.02896881 42.75655746 43.36884308 42.32204437]\n",
      "\u001b[1m1/1\u001b[0m \u001b[32m━━━━━━━━━━━━━━━━━━━━\u001b[0m\u001b[37m\u001b[0m \u001b[1m0s\u001b[0m 19ms/step\n",
      "[ 0.35576075  0.41774447  0.20080145  0.35576075  0.66567936  0.66567936\n",
      "  0.82063866  1.44047587  1.44047587  1.59543518  2.27725611  2.06031308\n",
      "  2.21527239  2.43221541  1.44047587  1.13055727  0.97559796  0.66567936\n",
      "  0.66567936  0.91361424  0.82063866  0.66567936  0.66567936  0.51072005\n",
      "  0.35576075  0.41774447  0.20080145  0.20080145  0.66567936  0.66567936\n",
      "  0.97559796  1.28551657  1.44047587  1.59543518  2.12229681  1.90535378\n",
      "  1.90535378  1.84337006  1.28551657  0.97559796  0.97559796  0.66567936\n",
      "  0.66567936  0.85163052  0.66567936  0.51072005  0.72766308  0.51072005\n",
      "  0.35576075  0.57270378  0.35576075  0.35576075  0.69667122  0.66567936\n",
      "  0.82063866  1.34750029  1.28551657  1.59543518  2.06031308  1.90535378\n",
      "  2.06031308  2.37023169  1.59543518  1.13055727  1.06857355  0.66567936\n",
      "  0.51072005  0.72766308  0.51072005  0.66567936  0.72766308  0.51072005\n",
      "  0.35576075  0.60369564 30.90781403 36.94646454 41.09367752 42.42511368\n",
      " 43.9313736  44.23181915 44.02900696 43.92855835 44.140625   44.03004074\n",
      " 44.07763672 44.13236618 42.72129822 43.35224915 43.80132294 42.37503815\n",
      " 43.0615387  43.99003601 42.79545593 43.06171036 43.93580627 42.02896881\n",
      " 42.75655746 43.36884308 42.32204437 43.33429337]\n",
      "\u001b[1m1/1\u001b[0m \u001b[32m━━━━━━━━━━━━━━━━━━━━\u001b[0m\u001b[37m\u001b[0m \u001b[1m0s\u001b[0m 19ms/step\n",
      "[ 0.41774447  0.20080145  0.35576075  0.66567936  0.66567936  0.82063866\n",
      "  1.44047587  1.44047587  1.59543518  2.27725611  2.06031308  2.21527239\n",
      "  2.43221541  1.44047587  1.13055727  0.97559796  0.66567936  0.66567936\n",
      "  0.91361424  0.82063866  0.66567936  0.66567936  0.51072005  0.35576075\n",
      "  0.41774447  0.20080145  0.20080145  0.66567936  0.66567936  0.97559796\n",
      "  1.28551657  1.44047587  1.59543518  2.12229681  1.90535378  1.90535378\n",
      "  1.84337006  1.28551657  0.97559796  0.97559796  0.66567936  0.66567936\n",
      "  0.85163052  0.66567936  0.51072005  0.72766308  0.51072005  0.35576075\n",
      "  0.57270378  0.35576075  0.35576075  0.69667122  0.66567936  0.82063866\n",
      "  1.34750029  1.28551657  1.59543518  2.06031308  1.90535378  2.06031308\n",
      "  2.37023169  1.59543518  1.13055727  1.06857355  0.66567936  0.51072005\n",
      "  0.72766308  0.51072005  0.66567936  0.72766308  0.51072005  0.35576075\n",
      "  0.60369564 30.90781403 36.94646454 41.09367752 42.42511368 43.9313736\n",
      " 44.23181915 44.02900696 43.92855835 44.140625   44.03004074 44.07763672\n",
      " 44.13236618 42.72129822 43.35224915 43.80132294 42.37503815 43.0615387\n",
      " 43.99003601 42.79545593 43.06171036 43.93580627 42.02896881 42.75655746\n",
      " 43.36884308 42.32204437 43.33429337 44.30498505]\n",
      "\u001b[1m1/1\u001b[0m \u001b[32m━━━━━━━━━━━━━━━━━━━━\u001b[0m\u001b[37m\u001b[0m \u001b[1m0s\u001b[0m 20ms/step\n",
      "[ 0.20080145  0.35576075  0.66567936  0.66567936  0.82063866  1.44047587\n",
      "  1.44047587  1.59543518  2.27725611  2.06031308  2.21527239  2.43221541\n",
      "  1.44047587  1.13055727  0.97559796  0.66567936  0.66567936  0.91361424\n",
      "  0.82063866  0.66567936  0.66567936  0.51072005  0.35576075  0.41774447\n",
      "  0.20080145  0.20080145  0.66567936  0.66567936  0.97559796  1.28551657\n",
      "  1.44047587  1.59543518  2.12229681  1.90535378  1.90535378  1.84337006\n",
      "  1.28551657  0.97559796  0.97559796  0.66567936  0.66567936  0.85163052\n",
      "  0.66567936  0.51072005  0.72766308  0.51072005  0.35576075  0.57270378\n",
      "  0.35576075  0.35576075  0.69667122  0.66567936  0.82063866  1.34750029\n",
      "  1.28551657  1.59543518  2.06031308  1.90535378  2.06031308  2.37023169\n",
      "  1.59543518  1.13055727  1.06857355  0.66567936  0.51072005  0.72766308\n",
      "  0.51072005  0.66567936  0.72766308  0.51072005  0.35576075  0.60369564\n",
      " 30.90781403 36.94646454 41.09367752 42.42511368 43.9313736  44.23181915\n",
      " 44.02900696 43.92855835 44.140625   44.03004074 44.07763672 44.13236618\n",
      " 42.72129822 43.35224915 43.80132294 42.37503815 43.0615387  43.99003601\n",
      " 42.79545593 43.06171036 43.93580627 42.02896881 42.75655746 43.36884308\n",
      " 42.32204437 43.33429337 44.30498505 43.53074646]\n",
      "\u001b[1m1/1\u001b[0m \u001b[32m━━━━━━━━━━━━━━━━━━━━\u001b[0m\u001b[37m\u001b[0m \u001b[1m0s\u001b[0m 19ms/step\n",
      "[ 0.35576075  0.66567936  0.66567936  0.82063866  1.44047587  1.44047587\n",
      "  1.59543518  2.27725611  2.06031308  2.21527239  2.43221541  1.44047587\n",
      "  1.13055727  0.97559796  0.66567936  0.66567936  0.91361424  0.82063866\n",
      "  0.66567936  0.66567936  0.51072005  0.35576075  0.41774447  0.20080145\n",
      "  0.20080145  0.66567936  0.66567936  0.97559796  1.28551657  1.44047587\n",
      "  1.59543518  2.12229681  1.90535378  1.90535378  1.84337006  1.28551657\n",
      "  0.97559796  0.97559796  0.66567936  0.66567936  0.85163052  0.66567936\n",
      "  0.51072005  0.72766308  0.51072005  0.35576075  0.57270378  0.35576075\n",
      "  0.35576075  0.69667122  0.66567936  0.82063866  1.34750029  1.28551657\n",
      "  1.59543518  2.06031308  1.90535378  2.06031308  2.37023169  1.59543518\n",
      "  1.13055727  1.06857355  0.66567936  0.51072005  0.72766308  0.51072005\n",
      "  0.66567936  0.72766308  0.51072005  0.35576075  0.60369564 30.90781403\n",
      " 36.94646454 41.09367752 42.42511368 43.9313736  44.23181915 44.02900696\n",
      " 43.92855835 44.140625   44.03004074 44.07763672 44.13236618 42.72129822\n",
      " 43.35224915 43.80132294 42.37503815 43.0615387  43.99003601 42.79545593\n",
      " 43.06171036 43.93580627 42.02896881 42.75655746 43.36884308 42.32204437\n",
      " 43.33429337 44.30498505 43.53074646 43.78882599]\n",
      "\u001b[1m1/1\u001b[0m \u001b[32m━━━━━━━━━━━━━━━━━━━━\u001b[0m\u001b[37m\u001b[0m \u001b[1m0s\u001b[0m 20ms/step\n"
     ]
    }
   ],
   "source": [
    "output=[]\n",
    "for i in range(30):\n",
    "    print(data_for_model)\n",
    "\n",
    "    prediction = best_model.predict(np.array(data_for_model).reshape(-1, window_size, 1))\n",
    "    \n",
    "    output.append(prediction)\n",
    "    data_for_model = np.append(data_for_model[1:], prediction)"
   ]
  },
  {
   "cell_type": "code",
   "execution_count": 137,
   "metadata": {
    "execution": {
     "iopub.execute_input": "2024-12-29T08:43:43.568664Z",
     "iopub.status.busy": "2024-12-29T08:43:43.568333Z",
     "iopub.status.idle": "2024-12-29T08:43:43.572491Z",
     "shell.execute_reply": "2024-12-29T08:43:43.571518Z",
     "shell.execute_reply.started": "2024-12-29T08:43:43.568638Z"
    },
    "trusted": true
   },
   "outputs": [],
   "source": [
    "next_6_months_temp=list(next_6_months_temp.values)"
   ]
  },
  {
   "cell_type": "code",
   "execution_count": 138,
   "metadata": {
    "execution": {
     "iopub.execute_input": "2024-12-29T08:43:43.937481Z",
     "iopub.status.busy": "2024-12-29T08:43:43.937211Z",
     "iopub.status.idle": "2024-12-29T08:43:43.941040Z",
     "shell.execute_reply": "2024-12-29T08:43:43.940126Z",
     "shell.execute_reply.started": "2024-12-29T08:43:43.937457Z"
    },
    "trusted": true
   },
   "outputs": [],
   "source": [
    "next_6_months_temp=next_6_months_temp[:30]"
   ]
  },
  {
   "cell_type": "code",
   "execution_count": 139,
   "metadata": {
    "execution": {
     "iopub.execute_input": "2024-12-29T08:43:44.299762Z",
     "iopub.status.busy": "2024-12-29T08:43:44.299546Z",
     "iopub.status.idle": "2024-12-29T08:43:44.304436Z",
     "shell.execute_reply": "2024-12-29T08:43:44.303806Z",
     "shell.execute_reply.started": "2024-12-29T08:43:44.299741Z"
    },
    "trusted": true
   },
   "outputs": [
    {
     "name": "stdout",
     "output_type": "stream",
     "text": [
      "Len Output: 30\n",
      "Len next_6_months_temp: 30\n"
     ]
    }
   ],
   "source": [
    "print(\"Len Output:\",len(output))\n",
    "print(\"Len next_6_months_temp:\",len(next_6_months_temp))\n"
   ]
  },
  {
   "cell_type": "code",
   "execution_count": 302,
   "metadata": {
    "collapsed": true,
    "execution": {
     "iopub.execute_input": "2024-12-28T08:14:11.189578Z",
     "iopub.status.busy": "2024-12-28T08:14:11.189273Z",
     "iopub.status.idle": "2024-12-28T08:14:11.195950Z",
     "shell.execute_reply": "2024-12-28T08:14:11.195266Z",
     "shell.execute_reply.started": "2024-12-28T08:14:11.189553Z"
    },
    "jupyter": {
     "outputs_hidden": true
    },
    "trusted": true
   },
   "outputs": [
    {
     "data": {
      "text/plain": [
       "[42.26219,\n",
       " 43.584137,\n",
       " 43.63522,\n",
       " 43.651714,\n",
       " 43.65484,\n",
       " 43.41555,\n",
       " 43.422462,\n",
       " 43.423683,\n",
       " 43.413635,\n",
       " 43.61869,\n",
       " 43.50193,\n",
       " 43.36956,\n",
       " 43.212875,\n",
       " 43.339005,\n",
       " 43.33207,\n",
       " 43.325966,\n",
       " 43.320354,\n",
       " 43.31549,\n",
       " 43.31143,\n",
       " 43.308105,\n",
       " 43.3054,\n",
       " 43.30322,\n",
       " 43.301453,\n",
       " 43.30001,\n",
       " 43.298832,\n",
       " 43.297867,\n",
       " 43.297073,\n",
       " 43.296406,\n",
       " 43.295853,\n",
       " 43.295387]"
      ]
     },
     "execution_count": 302,
     "metadata": {},
     "output_type": "execute_result"
    }
   ],
   "source": [
    "list(np.array(output).flatten())"
   ]
  },
  {
   "cell_type": "code",
   "execution_count": 140,
   "metadata": {
    "execution": {
     "iopub.execute_input": "2024-12-29T08:43:46.760073Z",
     "iopub.status.busy": "2024-12-29T08:43:46.759795Z",
     "iopub.status.idle": "2024-12-29T08:43:47.024499Z",
     "shell.execute_reply": "2024-12-29T08:43:47.023671Z",
     "shell.execute_reply.started": "2024-12-29T08:43:46.760051Z"
    },
    "trusted": true
   },
   "outputs": [
    {
     "data": {
      "image/png": "[encoded data removed]",
      "text/plain": [
       "<Figure size 640x480 with 1 Axes>"
      ]
     },
     "metadata": {},
     "output_type": "display_data"
    }
   ],
   "source": [
    "\n",
    "# Plot the two arrays\n",
    "import matplotlib.pyplot as plt\n",
    "\n",
    "plt.plot(list(next_6_months_temp), label=\"Actual Temperature\")\n",
    "plt.plot(list(np.array(output).flatten()), label=\"Predicted Temperature\")\n",
    "plt.legend()\n",
    "plt.xlabel(\"Days\")\n",
    "plt.ylabel(\"Temperature\")\n",
    "plt.title(\"Actual vs Predicted Temperature\")\n",
    "plt.show()\n"
   ]
  },
  {
   "cell_type": "code",
   "execution_count": 141,
   "metadata": {
    "execution": {
     "iopub.execute_input": "2024-12-29T08:43:50.540154Z",
     "iopub.status.busy": "2024-12-29T08:43:50.539868Z",
     "iopub.status.idle": "2024-12-29T08:43:50.546076Z",
     "shell.execute_reply": "2024-12-29T08:43:50.545391Z",
     "shell.execute_reply.started": "2024-12-29T08:43:50.540131Z"
    },
    "trusted": true
   },
   "outputs": [
    {
     "data": {
      "text/plain": [
       "93.58702010380271"
      ]
     },
     "execution_count": 141,
     "metadata": {},
     "output_type": "execute_result"
    }
   ],
   "source": [
    "from sklearn.metrics import r2_score,mean_squared_error\n",
    "mean_squared_error(list(next_6_months_temp),list(np.array(output).flatten()))"
   ]
  },
  {
   "cell_type": "code",
   "execution_count": 142,
   "metadata": {
    "execution": {
     "iopub.execute_input": "2024-12-29T08:43:53.964862Z",
     "iopub.status.busy": "2024-12-29T08:43:53.964580Z",
     "iopub.status.idle": "2024-12-29T08:44:02.448402Z",
     "shell.execute_reply": "2024-12-29T08:44:02.447736Z",
     "shell.execute_reply.started": "2024-12-29T08:43:53.964841Z"
    },
    "trusted": true
   },
   "outputs": [
    {
     "name": "stdout",
     "output_type": "stream",
     "text": [
      "\u001b[1m1384/1384\u001b[0m \u001b[32m━━━━━━━━━━━━━━━━━━━━\u001b[0m\u001b[37m\u001b[0m \u001b[1m8s\u001b[0m 6ms/step\n"
     ]
    }
   ],
   "source": [
    "y_prediction_x=best_model.predict(np.array(X_test).reshape(-1,window_size,1))"
   ]
  },
  {
   "cell_type": "code",
   "execution_count": 75,
   "metadata": {
    "execution": {
     "iopub.execute_input": "2024-12-29T06:56:32.538493Z",
     "iopub.status.busy": "2024-12-29T06:56:32.538169Z",
     "iopub.status.idle": "2024-12-29T06:56:32.543748Z",
     "shell.execute_reply": "2024-12-29T06:56:32.542765Z",
     "shell.execute_reply.started": "2024-12-29T06:56:32.538465Z"
    },
    "trusted": true
   },
   "outputs": [
    {
     "data": {
      "text/plain": [
       "44265"
      ]
     },
     "execution_count": 75,
     "metadata": {},
     "output_type": "execute_result"
    }
   ],
   "source": [
    "len(y_prediction_x)"
   ]
  },
  {
   "cell_type": "code",
   "execution_count": 44,
   "metadata": {
    "execution": {
     "iopub.execute_input": "2024-12-28T05:40:38.785868Z",
     "iopub.status.busy": "2024-12-28T05:40:38.785541Z",
     "iopub.status.idle": "2024-12-28T05:40:38.956643Z",
     "shell.execute_reply": "2024-12-28T05:40:38.955963Z",
     "shell.execute_reply.started": "2024-12-28T05:40:38.785841Z"
    },
    "trusted": true
   },
   "outputs": [],
   "source": [
    "y_pred_final=[]\n",
    "for i in y_prediction_x:\n",
    "  # print(i)\n",
    "  y_pred_final.append(MinMax.inverse_transform(i.reshape(-1,1))[0,0])\n"
   ]
  },
  {
   "cell_type": "code",
   "execution_count": 779,
   "metadata": {
    "execution": {
     "iopub.execute_input": "2024-12-27T17:08:27.798077Z",
     "iopub.status.busy": "2024-12-27T17:08:27.797779Z",
     "iopub.status.idle": "2024-12-27T17:08:27.947147Z",
     "shell.execute_reply": "2024-12-27T17:08:27.946393Z",
     "shell.execute_reply.started": "2024-12-27T17:08:27.798052Z"
    },
    "trusted": true
   },
   "outputs": [],
   "source": [
    "y_true_final=[]\n",
    "\n",
    "for i in Y_test:\n",
    "  # print(i)\n",
    "  y_true_final.append(MinMax_Loaded.inverse_transform(np.array(i).reshape(-1,1))[0,0])\n"
   ]
  },
  {
   "cell_type": "code",
   "execution_count": 850,
   "metadata": {
    "execution": {
     "iopub.execute_input": "2024-12-27T17:48:52.669413Z",
     "iopub.status.busy": "2024-12-27T17:48:52.669004Z",
     "iopub.status.idle": "2024-12-27T17:48:52.675828Z",
     "shell.execute_reply": "2024-12-27T17:48:52.674808Z",
     "shell.execute_reply.started": "2024-12-27T17:48:52.669380Z"
    },
    "trusted": true
   },
   "outputs": [
    {
     "data": {
      "text/plain": [
       "(28.4, 164.64227, 28.4, array([28.154232], dtype=float32))"
      ]
     },
     "execution_count": 850,
     "metadata": {},
     "output_type": "execute_result"
    }
   ],
   "source": [
    "y_true_final[0], y_pred_final[0], Y_test[0],y_prediction_x[0]"
   ]
  },
  {
   "cell_type": "code",
   "execution_count": 730,
   "metadata": {
    "execution": {
     "iopub.execute_input": "2024-12-27T16:28:00.778268Z",
     "iopub.status.busy": "2024-12-27T16:28:00.777883Z",
     "iopub.status.idle": "2024-12-27T16:28:00.783331Z",
     "shell.execute_reply": "2024-12-27T16:28:00.782605Z",
     "shell.execute_reply.started": "2024-12-27T16:28:00.778231Z"
    },
    "trusted": true
   },
   "outputs": [
    {
     "data": {
      "text/plain": [
       "3028"
      ]
     },
     "execution_count": 730,
     "metadata": {},
     "output_type": "execute_result"
    }
   ],
   "source": [
    "len(y_true_final)"
   ]
  },
  {
   "cell_type": "code",
   "execution_count": 306,
   "metadata": {
    "execution": {
     "iopub.execute_input": "2024-12-28T08:14:35.204691Z",
     "iopub.status.busy": "2024-12-28T08:14:35.204370Z",
     "iopub.status.idle": "2024-12-28T08:14:35.221903Z",
     "shell.execute_reply": "2024-12-28T08:14:35.220691Z",
     "shell.execute_reply.started": "2024-12-28T08:14:35.204662Z"
    },
    "trusted": true
   },
   "outputs": [
    {
     "ename": "NameError",
     "evalue": "name 'y_true_final' is not defined",
     "output_type": "error",
     "traceback": [
      "\u001b[0;31m---------------------------------------------------------------------------\u001b[0m",
      "\u001b[0;31mNameError\u001b[0m                                 Traceback (most recent call last)",
      "\u001b[0;32m<ipython-input-306-24dfd82cba73>\u001b[0m in \u001b[0;36m<cell line: 1>\u001b[0;34m()\u001b[0m\n\u001b[0;32m----> 1\u001b[0;31m \u001b[0mmean_squared_error\u001b[0m\u001b[0;34m(\u001b[0m\u001b[0my_true_final\u001b[0m\u001b[0;34m,\u001b[0m\u001b[0my_pred_final\u001b[0m\u001b[0;34m)\u001b[0m\u001b[0;34m\u001b[0m\u001b[0;34m\u001b[0m\u001b[0m\n\u001b[0m",
      "\u001b[0;31mNameError\u001b[0m: name 'y_true_final' is not defined"
     ]
    }
   ],
   "source": [
    "mean_squared_error(y_true_final,y_pred_final)"
   ]
  },
  {
   "cell_type": "code",
   "execution_count": 143,
   "metadata": {
    "execution": {
     "iopub.execute_input": "2024-12-29T08:44:02.449786Z",
     "iopub.status.busy": "2024-12-29T08:44:02.449540Z",
     "iopub.status.idle": "2024-12-29T08:44:02.455343Z",
     "shell.execute_reply": "2024-12-29T08:44:02.454727Z",
     "shell.execute_reply.started": "2024-12-29T08:44:02.449763Z"
    },
    "trusted": true
   },
   "outputs": [
    {
     "data": {
      "text/plain": [
       "1.9910862400166045"
      ]
     },
     "execution_count": 143,
     "metadata": {},
     "output_type": "execute_result"
    }
   ],
   "source": [
    "mean_squared_error(Y_test,y_prediction_x)"
   ]
  },
  {
   "cell_type": "code",
   "execution_count": 386,
   "metadata": {
    "execution": {
     "iopub.execute_input": "2024-12-27T12:13:31.240080Z",
     "iopub.status.busy": "2024-12-27T12:13:31.239722Z",
     "iopub.status.idle": "2024-12-27T12:13:31.246098Z",
     "shell.execute_reply": "2024-12-27T12:13:31.244775Z",
     "shell.execute_reply.started": "2024-12-27T12:13:31.240042Z"
    },
    "trusted": true
   },
   "outputs": [
    {
     "data": {
      "text/plain": [
       "3028"
      ]
     },
     "execution_count": 386,
     "metadata": {},
     "output_type": "execute_result"
    }
   ],
   "source": [
    "len(y_true_final)"
   ]
  },
  {
   "cell_type": "code",
   "execution_count": 144,
   "metadata": {
    "execution": {
     "iopub.execute_input": "2024-12-29T08:44:06.358091Z",
     "iopub.status.busy": "2024-12-29T08:44:06.357759Z",
     "iopub.status.idle": "2024-12-29T08:44:07.245718Z",
     "shell.execute_reply": "2024-12-29T08:44:07.244868Z",
     "shell.execute_reply.started": "2024-12-29T08:44:06.358063Z"
    },
    "trusted": true
   },
   "outputs": [
    {
     "data": {
      "image/png": "[encoded data removed]",
      "text/plain": [
       "<Figure size 640x480 with 1 Axes>"
      ]
     },
     "metadata": {},
     "output_type": "display_data"
    }
   ],
   "source": [
    "\n",
    "\n",
    "# Plot the two arrays\n",
    "import matplotlib.pyplot as plt\n",
    "\n",
    "plt.plot(Y_test, label=\"Actual Temperature\")\n",
    "plt.plot(y_prediction_x, label=\"Predicted Temperature\")\n",
    "plt.legend()\n",
    "plt.xlabel(\"Days\")\n",
    "plt.ylabel(\"Temperature\")\n",
    "plt.title(\"Actual vs Predicted Temperature\")\n",
    "plt.show()\n"
   ]
  },
  {
   "cell_type": "code",
   "execution_count": 145,
   "metadata": {
    "execution": {
     "iopub.execute_input": "2024-12-29T08:44:23.121162Z",
     "iopub.status.busy": "2024-12-29T08:44:23.120885Z",
     "iopub.status.idle": "2024-12-29T08:44:23.125522Z",
     "shell.execute_reply": "2024-12-29T08:44:23.124653Z",
     "shell.execute_reply.started": "2024-12-29T08:44:23.121139Z"
    },
    "trusted": true
   },
   "outputs": [],
   "source": [
    "import pickle as pkl\n",
    "\n",
    "pkl.dump(MinMax,open(\"StandardScaler_hourly.pkl\",'wb'))"
   ]
  },
  {
   "cell_type": "code",
   "execution_count": 66,
   "metadata": {
    "execution": {
     "iopub.execute_input": "2024-12-28T06:36:11.060400Z",
     "iopub.status.busy": "2024-12-28T06:36:11.060076Z",
     "iopub.status.idle": "2024-12-28T06:36:11.064761Z",
     "shell.execute_reply": "2024-12-28T06:36:11.063813Z",
     "shell.execute_reply.started": "2024-12-28T06:36:11.060374Z"
    },
    "trusted": true
   },
   "outputs": [],
   "source": [
    "MinMax_Loaded=pkl.load(open(\"/kaggle/working/MinMax_Avg.pkl\",\"rb\"))"
   ]
  },
  {
   "cell_type": "markdown",
   "metadata": {},
   "source": [
    "# EVALUTION "
   ]
  },
  {
   "cell_type": "code",
   "execution_count": 146,
   "metadata": {
    "execution": {
     "iopub.execute_input": "2024-12-29T08:44:26.564921Z",
     "iopub.status.busy": "2024-12-29T08:44:26.564645Z",
     "iopub.status.idle": "2024-12-29T08:44:26.568787Z",
     "shell.execute_reply": "2024-12-29T08:44:26.567844Z",
     "shell.execute_reply.started": "2024-12-29T08:44:26.564899Z"
    },
    "trusted": true
   },
   "outputs": [],
   "source": [
    "from sklearn.metrics import mean_squared_error,mean_absolute_error,median_absolute_error\n"
   ]
  },
  {
   "cell_type": "code",
   "execution_count": 147,
   "metadata": {
    "execution": {
     "iopub.execute_input": "2024-12-29T08:44:26.845484Z",
     "iopub.status.busy": "2024-12-29T08:44:26.845233Z",
     "iopub.status.idle": "2024-12-29T08:44:26.849235Z",
     "shell.execute_reply": "2024-12-29T08:44:26.848593Z",
     "shell.execute_reply.started": "2024-12-29T08:44:26.845455Z"
    },
    "trusted": true
   },
   "outputs": [],
   "source": [
    "def model_evaluation(y_true, y_pred):\n",
    "    \"\"\"Compute evaluation metrics.\"\"\"\n",
    "    mse = mean_squared_error(y_true, y_pred)\n",
    "    mae=mean_absolute_error(y_true,y_pred)\n",
    "    medianae=median_absolute_error(y_true,y_pred)\n",
    "    \n",
    "    \n",
    "    metrics = {\n",
    "        \"Mean Sqaured Error\": mse,\n",
    "        \"Mean Absolute Error\": mae,\n",
    "        \"Median Absolute Error\": medianae\n",
    "    }\n",
    "    return metrics"
   ]
  },
  {
   "cell_type": "code",
   "execution_count": 148,
   "metadata": {
    "execution": {
     "iopub.execute_input": "2024-12-29T08:44:28.697030Z",
     "iopub.status.busy": "2024-12-29T08:44:28.696725Z",
     "iopub.status.idle": "2024-12-29T08:44:28.702519Z",
     "shell.execute_reply": "2024-12-29T08:44:28.701535Z",
     "shell.execute_reply.started": "2024-12-29T08:44:28.697002Z"
    },
    "trusted": true
   },
   "outputs": [],
   "source": [
    "def display_metrics(metrics, save_path=None):\n",
    "    \"\"\"Stylishly display metrics using Matplotlib and optionally save the plot.\"\"\"\n",
    "    fig, ax = plt.subplots(figsize=(10, 4))\n",
    "    ax.barh(list(metrics.keys()), list(metrics.values()), color=\"skyblue\")\n",
    "    ax.set_title(\"Model Evaluation Metrics\", fontsize=16, fontweight=\"bold\")\n",
    "    ax.set_xlabel(\"Scores\", fontsize=12)\n",
    "    ax.set_xlim(0, 4)\n",
    "    for i, v in enumerate(metrics.values()):\n",
    "        ax.text(v + 0.01, i, f\"{v:.2f}\", color=\"black\", va=\"center\", fontsize=10)\n",
    "    plt.tight_layout()\n",
    "    \n",
    "    # Save the plot if a save path is provided\n",
    "    if save_path:\n",
    "        fig.savefig(save_path, dpi=300, bbox_inches=\"tight\")\n",
    "        print(f\"Metrics plot saved to {save_path}\")\n",
    "    plt.show()"
   ]
  },
  {
   "cell_type": "code",
   "execution_count": 149,
   "metadata": {
    "execution": {
     "iopub.execute_input": "2024-12-29T08:44:30.630005Z",
     "iopub.status.busy": "2024-12-29T08:44:30.629723Z",
     "iopub.status.idle": "2024-12-29T08:44:38.894150Z",
     "shell.execute_reply": "2024-12-29T08:44:38.893499Z",
     "shell.execute_reply.started": "2024-12-29T08:44:30.629983Z"
    },
    "trusted": true
   },
   "outputs": [
    {
     "name": "stdout",
     "output_type": "stream",
     "text": [
      "\u001b[1m1384/1384\u001b[0m \u001b[32m━━━━━━━━━━━━━━━━━━━━\u001b[0m\u001b[37m\u001b[0m \u001b[1m8s\u001b[0m 6ms/step\n"
     ]
    }
   ],
   "source": [
    "y_prediction_x=best_model.predict(np.array(X_test).reshape(-1,window_size,1))"
   ]
  },
  {
   "cell_type": "code",
   "execution_count": 150,
   "metadata": {
    "execution": {
     "iopub.execute_input": "2024-12-29T08:44:42.029200Z",
     "iopub.status.busy": "2024-12-29T08:44:42.028917Z",
     "iopub.status.idle": "2024-12-29T08:44:42.588036Z",
     "shell.execute_reply": "2024-12-29T08:44:42.587363Z",
     "shell.execute_reply.started": "2024-12-29T08:44:42.029178Z"
    },
    "trusted": true
   },
   "outputs": [
    {
     "name": "stdout",
     "output_type": "stream",
     "text": [
      "Metrics plot saved to Model_Evalution_Metrics.png\n"
     ]
    },
    {
     "data": {
      "image/png": "[encoded data removed]",
      "text/plain": [
       "<Figure size 1000x400 with 1 Axes>"
      ]
     },
     "metadata": {},
     "output_type": "display_data"
    }
   ],
   "source": [
    "display_metrics(model_evaluation(Y_test,y_prediction_x),\"Model_Evalution_Metrics.png\")"
   ]
  },
  {
   "cell_type": "code",
   "execution_count": 152,
   "metadata": {
    "execution": {
     "iopub.execute_input": "2024-12-29T08:44:54.788817Z",
     "iopub.status.busy": "2024-12-29T08:44:54.788506Z",
     "iopub.status.idle": "2024-12-29T08:44:54.795877Z",
     "shell.execute_reply": "2024-12-29T08:44:54.794913Z",
     "shell.execute_reply.started": "2024-12-29T08:44:54.788793Z"
    },
    "trusted": true
   },
   "outputs": [
    {
     "data": {
      "text/plain": [
       "0.9523115760275177"
      ]
     },
     "execution_count": 152,
     "metadata": {},
     "output_type": "execute_result"
    }
   ],
   "source": [
    "r2_score(Y_test,y_prediction_x)"
   ]
  },
  {
   "cell_type": "markdown",
   "metadata": {},
   "source": [
    "## ALL MODEL EVALUTION"
   ]
  },
  {
   "cell_type": "markdown",
   "metadata": {},
   "source": []
  },
  {
   "cell_type": "code",
   "execution_count": 153,
   "metadata": {
    "execution": {
     "iopub.execute_input": "2024-12-29T08:46:45.893244Z",
     "iopub.status.busy": "2024-12-29T08:46:45.892933Z",
     "iopub.status.idle": "2024-12-29T08:46:45.896773Z",
     "shell.execute_reply": "2024-12-29T08:46:45.895970Z",
     "shell.execute_reply.started": "2024-12-29T08:46:45.893221Z"
    },
    "trusted": true
   },
   "outputs": [],
   "source": [
    "from sklearn.metrics import mean_squared_error,mean_absolute_error,median_absolute_error\n"
   ]
  },
  {
   "cell_type": "code",
   "execution_count": 160,
   "metadata": {
    "execution": {
     "iopub.execute_input": "2024-12-29T08:47:58.384916Z",
     "iopub.status.busy": "2024-12-29T08:47:58.384597Z",
     "iopub.status.idle": "2024-12-29T08:47:58.392353Z",
     "shell.execute_reply": "2024-12-29T08:47:58.391533Z",
     "shell.execute_reply.started": "2024-12-29T08:47:58.384890Z"
    },
    "trusted": true
   },
   "outputs": [],
   "source": [
    "from meteostat import Point, Hourly\n",
    "import datetime\n",
    "\n",
    "def prepare_data(feature,scaler):    \n",
    "    location = Point( 23.0215374, 72.5800568)\n",
    "    start = datetime.datetime(1990, 6, 1)\n",
    "    end = datetime.datetime(2024, 6, 1)\n",
    "    \n",
    "    # Get historical data\n",
    "    data = Hourly(location, start, end)\n",
    "    data = data.fetch()\n",
    "    \n",
    "    \n",
    "    temperature_avg=data[feature]\n",
    "    print(\"TOTAL NULL VALUES IN DATASET:\",temperature_avg.isnull().sum())\n",
    "    temperature_avg.dropna(inplace=True)\n",
    "    \n",
    "    temperature_avg_seq=temperature_avg.values\n",
    "    print(temperature_avg_seq,temperature_avg_seq.shape)\n",
    "    \n",
    "    \n",
    "    \n",
    "    window_size=100\n",
    "    \n",
    "    X=[]\n",
    "    Y=[]\n",
    "    for i in range(len(temperature_avg_seq)-window_size):\n",
    "      X.append(temperature_avg_seq[i:i+window_size])\n",
    "      Y.append(temperature_avg_seq[i+window_size])\n",
    "    \n",
    "    X=np.array(X)\n",
    "    Y=np.array(Y)\n",
    "\n",
    "    X_train,X_test,Y_train,Y_test=train_test_split(X,Y,test_size=0.3,random_state=42)\n",
    "\n",
    "    print(\"X_train Shape\",X_train.shape)\n",
    "    print(\"X_test Shape\",X_test.shape)\n",
    "    print(\"Y_train Shape\",Y_train.shape)\n",
    "    print(\"Y_test Shape\",Y_test.shape)\n",
    "\n",
    "\n",
    "    X_train_Scaled=scaler.transform(X_train.reshape(-1,1))\n",
    "    X_test_Scaled=scaler.transform(X_test.reshape(-1,1))\n",
    "\n",
    "    X_train=X_train_Scaled.reshape(X_train.shape[0],100)\n",
    "    X_test=X_test_Scaled.reshape(X_test.shape[0],100)\n",
    "\n",
    "    \n",
    "    print(\"AFTER SCALED\")\n",
    "    print(\"X_train Shape\",X_train.shape)\n",
    "    print(\"X_test Shape\",X_test.shape)\n",
    "    print(\"Y_train Shape\",Y_train.shape)\n",
    "    print(\"Y_test Shape\",Y_test.shape)\n",
    "    \n",
    "\n",
    "\n",
    "\n",
    "\n",
    "    \n",
    "    return X_train,X_test,Y_train,Y_test"
   ]
  },
  {
   "cell_type": "code",
   "execution_count": 155,
   "metadata": {
    "execution": {
     "iopub.execute_input": "2024-12-29T08:47:09.916646Z",
     "iopub.status.busy": "2024-12-29T08:47:09.916304Z",
     "iopub.status.idle": "2024-12-29T08:47:09.921046Z",
     "shell.execute_reply": "2024-12-29T08:47:09.920181Z",
     "shell.execute_reply.started": "2024-12-29T08:47:09.916617Z"
    },
    "trusted": true
   },
   "outputs": [],
   "source": [
    "def model_evaluation(y_true, y_pred):\n",
    "    \"\"\"Compute evaluation metrics.\"\"\"\n",
    "    mse = mean_squared_error(y_true, y_pred)\n",
    "    mae=mean_absolute_error(y_true,y_pred)\n",
    "    medianae=median_absolute_error(y_true,y_pred)\n",
    "    \n",
    "    \n",
    "    metrics = {\n",
    "        \"Mean Sqaured Error\": mse,\n",
    "        \"Mean Absolute Error\": mae,\n",
    "        \"Median Absolute Error\": medianae\n",
    "    }\n",
    "    return metrics"
   ]
  },
  {
   "cell_type": "code",
   "execution_count": 156,
   "metadata": {
    "execution": {
     "iopub.execute_input": "2024-12-29T08:47:12.080080Z",
     "iopub.status.busy": "2024-12-29T08:47:12.079792Z",
     "iopub.status.idle": "2024-12-29T08:47:12.086369Z",
     "shell.execute_reply": "2024-12-29T08:47:12.085479Z",
     "shell.execute_reply.started": "2024-12-29T08:47:12.080056Z"
    },
    "trusted": true
   },
   "outputs": [],
   "source": [
    "\n",
    "def display_all_metrics(metrics_dicts, features):\n",
    "   \n",
    "    fig, ax = plt.subplots(figsize=(12, 6))\n",
    " \n",
    "    num_groups = len(metrics_dicts)\n",
    "    bar_width = 0.15\n",
    "    indices = np.arange(len(metrics_dicts[0])) \n",
    "    \n",
    "    \n",
    "    for i, (metrics, feature) in enumerate(zip(metrics_dicts, features)):\n",
    "        bar_positions = indices + i * bar_width\n",
    "        ax.barh(bar_positions, list(metrics.values()), bar_width, label=feature)\n",
    " \n",
    "        for j, v in enumerate(metrics.values()):\n",
    "            ax.text(v + 0.01, bar_positions[j], f\"{v:.2f}\", va=\"center\", fontsize=9)\n",
    "    \n",
    " \n",
    "    ax.set_title(\"Model Evaluation Metrics\", fontsize=16, fontweight=\"bold\")\n",
    "    ax.set_xlabel(\"Scores\", fontsize=12)\n",
    "    ax.set_xlim(0, 4) \n",
    "    ax.set_yticks(indices + (num_groups - 1) * bar_width / 2)\n",
    "    ax.set_yticklabels(metrics_dicts[0].keys(), fontsize=10)\n",
    "    ax.legend(loc=\"best\", title=\"Feature Sets\", fontsize=10)\n",
    "    \n",
    "    plt.tight_layout()\n",
    "    plt.show()\n"
   ]
  },
  {
   "cell_type": "markdown",
   "metadata": {},
   "source": [
    "## 1. TEMPERATURE "
   ]
  },
  {
   "cell_type": "markdown",
   "metadata": {},
   "source": [
    "## MIN MAX SCALER"
   ]
  },
  {
   "cell_type": "code",
   "execution_count": 157,
   "metadata": {
    "execution": {
     "iopub.execute_input": "2024-12-29T08:47:28.063366Z",
     "iopub.status.busy": "2024-12-29T08:47:28.063089Z",
     "iopub.status.idle": "2024-12-29T08:47:28.277739Z",
     "shell.execute_reply": "2024-12-29T08:47:28.276720Z",
     "shell.execute_reply.started": "2024-12-29T08:47:28.063344Z"
    },
    "trusted": true
   },
   "outputs": [],
   "source": [
    "from tensorflow.keras.models import load_model\n",
    "best_model=load_model(\"/kaggle/working/temperature_best_MinMax_Hourly.keras\")\n",
    "# best_model.save(\"upgraded_naive_model_best_avg.h5\")\n"
   ]
  },
  {
   "cell_type": "code",
   "execution_count": 158,
   "metadata": {
    "execution": {
     "iopub.execute_input": "2024-12-29T08:47:37.125048Z",
     "iopub.status.busy": "2024-12-29T08:47:37.124755Z",
     "iopub.status.idle": "2024-12-29T08:47:37.129212Z",
     "shell.execute_reply": "2024-12-29T08:47:37.128383Z",
     "shell.execute_reply.started": "2024-12-29T08:47:37.125024Z"
    },
    "trusted": true
   },
   "outputs": [],
   "source": [
    "MinMax_Avg=pkl.load(open(\"/kaggle/working/MinMaxScaler_avg_hourly.pkl\",\"rb\"))"
   ]
  },
  {
   "cell_type": "code",
   "execution_count": 161,
   "metadata": {
    "execution": {
     "iopub.execute_input": "2024-12-29T08:48:01.795001Z",
     "iopub.status.busy": "2024-12-29T08:48:01.794717Z",
     "iopub.status.idle": "2024-12-29T08:48:02.413731Z",
     "shell.execute_reply": "2024-12-29T08:48:02.413012Z",
     "shell.execute_reply.started": "2024-12-29T08:48:01.794979Z"
    },
    "trusted": true
   },
   "outputs": [
    {
     "name": "stdout",
     "output_type": "stream",
     "text": [
      "TOTAL NULL VALUES IN DATASET: 150410\n",
      "[25.4 29.4 33.4 ... 31.  30.  31. ] (147647,)\n",
      "X_train Shape (103282, 100)\n",
      "X_test Shape (44265, 100)\n",
      "Y_train Shape (103282,)\n",
      "Y_test Shape (44265,)\n",
      "AFTER SCALED\n",
      "X_train Shape (103282, 100)\n",
      "X_test Shape (44265, 100)\n",
      "Y_train Shape (103282,)\n",
      "Y_test Shape (44265,)\n"
     ]
    }
   ],
   "source": [
    "X_train,X_test,Y_train,Y_test=prepare_data(\"temp\",MinMax_Avg)"
   ]
  },
  {
   "cell_type": "code",
   "execution_count": 162,
   "metadata": {
    "execution": {
     "iopub.execute_input": "2024-12-29T08:48:07.225975Z",
     "iopub.status.busy": "2024-12-29T08:48:07.225690Z",
     "iopub.status.idle": "2024-12-29T08:48:15.811636Z",
     "shell.execute_reply": "2024-12-29T08:48:15.810946Z",
     "shell.execute_reply.started": "2024-12-29T08:48:07.225952Z"
    },
    "trusted": true
   },
   "outputs": [
    {
     "name": "stdout",
     "output_type": "stream",
     "text": [
      "\u001b[1m1384/1384\u001b[0m \u001b[32m━━━━━━━━━━━━━━━━━━━━\u001b[0m\u001b[37m\u001b[0m \u001b[1m8s\u001b[0m 6ms/step\n"
     ]
    }
   ],
   "source": [
    "y_prediction_x=best_model.predict(np.array(X_test).reshape(-1,window_size,1))"
   ]
  },
  {
   "cell_type": "code",
   "execution_count": 538,
   "metadata": {
    "execution": {
     "iopub.execute_input": "2024-12-28T10:15:46.318164Z",
     "iopub.status.busy": "2024-12-28T10:15:46.317840Z",
     "iopub.status.idle": "2024-12-28T10:15:46.323857Z",
     "shell.execute_reply": "2024-12-28T10:15:46.322883Z",
     "shell.execute_reply.started": "2024-12-28T10:15:46.318137Z"
    },
    "trusted": true
   },
   "outputs": [
    {
     "data": {
      "text/plain": [
       "(array([28.638676], dtype=float32), 29.3)"
      ]
     },
     "execution_count": 538,
     "metadata": {},
     "output_type": "execute_result"
    }
   ],
   "source": [
    "y_prediction_x[0],Y_test[0]"
   ]
  },
  {
   "cell_type": "code",
   "execution_count": 163,
   "metadata": {
    "execution": {
     "iopub.execute_input": "2024-12-29T08:48:17.448028Z",
     "iopub.status.busy": "2024-12-29T08:48:17.447719Z",
     "iopub.status.idle": "2024-12-29T08:48:17.456285Z",
     "shell.execute_reply": "2024-12-29T08:48:17.455403Z",
     "shell.execute_reply.started": "2024-12-29T08:48:17.448002Z"
    },
    "trusted": true
   },
   "outputs": [
    {
     "name": "stdout",
     "output_type": "stream",
     "text": [
      "MEAN SQAURED ERROR: 2.0569216010734004\n"
     ]
    }
   ],
   "source": [
    "from sklearn.metrics import mean_squared_error\n",
    "print(\"MEAN SQAURED ERROR:\",mean_squared_error(Y_test,y_prediction_x))\n",
    "\n",
    "temp_avg_minmax=model_evaluation(Y_test,y_prediction_x)"
   ]
  },
  {
   "cell_type": "markdown",
   "metadata": {},
   "source": [
    "## STANDARD SCALER"
   ]
  },
  {
   "cell_type": "code",
   "execution_count": 164,
   "metadata": {
    "execution": {
     "iopub.execute_input": "2024-12-29T08:48:29.666664Z",
     "iopub.status.busy": "2024-12-29T08:48:29.666350Z",
     "iopub.status.idle": "2024-12-29T08:48:29.867129Z",
     "shell.execute_reply": "2024-12-29T08:48:29.866454Z",
     "shell.execute_reply.started": "2024-12-29T08:48:29.666639Z"
    },
    "trusted": true
   },
   "outputs": [],
   "source": [
    "from tensorflow.keras.models import load_model\n",
    "best_model=load_model(\"/kaggle/working/temperature_best_Standard_Hourly.keras\")\n",
    "# best_model.save(\"upgraded_naive_model_best_avg.h5\")\n"
   ]
  },
  {
   "cell_type": "code",
   "execution_count": 165,
   "metadata": {
    "execution": {
     "iopub.execute_input": "2024-12-29T08:48:38.485144Z",
     "iopub.status.busy": "2024-12-29T08:48:38.484864Z",
     "iopub.status.idle": "2024-12-29T08:48:38.489413Z",
     "shell.execute_reply": "2024-12-29T08:48:38.488444Z",
     "shell.execute_reply.started": "2024-12-29T08:48:38.485121Z"
    },
    "trusted": true
   },
   "outputs": [],
   "source": [
    "Standard_Avg=pkl.load(open(\"/kaggle/working/StandardScaler_hourly.pkl\",\"rb\"))"
   ]
  },
  {
   "cell_type": "code",
   "execution_count": 167,
   "metadata": {
    "execution": {
     "iopub.execute_input": "2024-12-29T08:48:43.799172Z",
     "iopub.status.busy": "2024-12-29T08:48:43.798892Z",
     "iopub.status.idle": "2024-12-29T08:48:44.406518Z",
     "shell.execute_reply": "2024-12-29T08:48:44.405576Z",
     "shell.execute_reply.started": "2024-12-29T08:48:43.799150Z"
    },
    "trusted": true
   },
   "outputs": [
    {
     "name": "stdout",
     "output_type": "stream",
     "text": [
      "TOTAL NULL VALUES IN DATASET: 150410\n",
      "[25.4 29.4 33.4 ... 31.  30.  31. ] (147647,)\n",
      "X_train Shape (103282, 100)\n",
      "X_test Shape (44265, 100)\n",
      "Y_train Shape (103282,)\n",
      "Y_test Shape (44265,)\n",
      "AFTER SCALED\n",
      "X_train Shape (103282, 100)\n",
      "X_test Shape (44265, 100)\n",
      "Y_train Shape (103282,)\n",
      "Y_test Shape (44265,)\n"
     ]
    }
   ],
   "source": [
    "X_train,X_test,Y_train,Y_test=prepare_data(\"temp\",Standard_Avg)"
   ]
  },
  {
   "cell_type": "code",
   "execution_count": 168,
   "metadata": {
    "execution": {
     "iopub.execute_input": "2024-12-29T08:48:47.129785Z",
     "iopub.status.busy": "2024-12-29T08:48:47.129475Z",
     "iopub.status.idle": "2024-12-29T08:48:55.745180Z",
     "shell.execute_reply": "2024-12-29T08:48:55.744497Z",
     "shell.execute_reply.started": "2024-12-29T08:48:47.129758Z"
    },
    "trusted": true
   },
   "outputs": [
    {
     "name": "stdout",
     "output_type": "stream",
     "text": [
      "\u001b[1m1384/1384\u001b[0m \u001b[32m━━━━━━━━━━━━━━━━━━━━\u001b[0m\u001b[37m\u001b[0m \u001b[1m8s\u001b[0m 6ms/step\n"
     ]
    }
   ],
   "source": [
    "y_prediction_x=best_model.predict(np.array(X_test).reshape(-1,window_size,1))"
   ]
  },
  {
   "cell_type": "code",
   "execution_count": 169,
   "metadata": {
    "execution": {
     "iopub.execute_input": "2024-12-29T08:48:55.746408Z",
     "iopub.status.busy": "2024-12-29T08:48:55.746167Z",
     "iopub.status.idle": "2024-12-29T08:48:55.754185Z",
     "shell.execute_reply": "2024-12-29T08:48:55.753504Z",
     "shell.execute_reply.started": "2024-12-29T08:48:55.746387Z"
    },
    "trusted": true
   },
   "outputs": [
    {
     "name": "stdout",
     "output_type": "stream",
     "text": [
      "MEAN SQAURED ERROR: 1.9910862400166045\n"
     ]
    }
   ],
   "source": [
    "from sklearn.metrics import mean_squared_error\n",
    "print(\"MEAN SQAURED ERROR:\",mean_squared_error(Y_test,y_prediction_x))\n",
    "\n",
    "\n",
    "temp_avg_Standard=model_evaluation(Y_test,y_prediction_x)"
   ]
  },
  {
   "cell_type": "markdown",
   "metadata": {},
   "source": [
    "## VISUAL"
   ]
  },
  {
   "cell_type": "code",
   "execution_count": 170,
   "metadata": {
    "execution": {
     "iopub.execute_input": "2024-12-29T08:49:30.734521Z",
     "iopub.status.busy": "2024-12-29T08:49:30.734100Z",
     "iopub.status.idle": "2024-12-29T08:49:31.079756Z",
     "shell.execute_reply": "2024-12-29T08:49:31.075927Z",
     "shell.execute_reply.started": "2024-12-29T08:49:30.734483Z"
    },
    "trusted": true
   },
   "outputs": [
    {
     "data": {
      "image/png": "[encoded data removed]",
      "text/plain": [
       "<Figure size 1200x600 with 1 Axes>"
      ]
     },
     "metadata": {},
     "output_type": "display_data"
    }
   ],
   "source": [
    "metrics_dicts = [\n",
    "    temp_avg_minmax, temp_avg_Standard,\n",
    "]\n",
    "features = [\n",
    "    \"Temperature Average MinMax\", \"Temperature Average Standard\",\n",
    "]\n",
    "\n",
    "# Display all metrics in a single plot\n",
    "display_all_metrics(metrics_dicts, features)"
   ]
  },
  {
   "cell_type": "markdown",
   "metadata": {},
   "source": [
    " <h1 style=\"text-align:center;\">END</h1>"
   ]
  },
  {
   "cell_type": "markdown",
   "metadata": {},
   "source": [
    "---"
   ]
  },
  {
   "cell_type": "code",
   "execution_count": null,
   "metadata": {
    "trusted": true
   },
   "outputs": [],
   "source": []
  }
 ],
 "metadata": {
  "colab": {
   "provenance": []
  },
  "kaggle": {
   "accelerator": "nvidiaTeslaT4",
   "dataSources": [],
   "dockerImageVersionId": 30823,
   "isGpuEnabled": true,
   "isInternetEnabled": true,
   "language": "python",
   "sourceType": "notebook"
  },
  "kernelspec": {
   "display_name": "Python 3",
   "language": "python",
   "name": "python3"
  },
  "language_info": {
   "codemirror_mode": {
    "name": "ipython",
    "version": 3
   },
   "file_extension": ".py",
   "mimetype": "text/x-python",
   "name": "python",
   "nbconvert_exporter": "python",
   "pygments_lexer": "ipython3",
   "version": "3.10.12"
  }
 },
 "nbformat": 4,
 "nbformat_minor": 4
}
