{
 "cells": [
  {
   "cell_type": "markdown",
   "metadata": {},
   "source": [
    "# 1 FEATURE , PAST 10 YEAR , NEXT DAY PREDICTION WINDO SIZE=6"
   ]
  },
  {
   "cell_type": "code",
   "execution_count": 4,
   "metadata": {
    "execution": {
     "iopub.execute_input": "2024-12-27T08:35:45.203139Z",
     "iopub.status.busy": "2024-12-27T08:35:45.202793Z",
     "iopub.status.idle": "2024-12-27T08:35:50.336897Z",
     "shell.execute_reply": "2024-12-27T08:35:50.335688Z",
     "shell.execute_reply.started": "2024-12-27T08:35:45.203111Z"
    },
    "trusted": true
   },
   "outputs": [
    {
     "name": "stderr",
     "output_type": "stream",
     "text": [
      "/usr/lib/python3.10/pty.py:89: RuntimeWarning: os.fork() was called. os.fork() is incompatible with multithreaded code, and JAX is multithreaded, so this will likely lead to a deadlock.\n",
      "  pid, fd = os.forkpty()\n"
     ]
    },
    {
     "name": "stdout",
     "output_type": "stream",
     "text": [
      "Collecting meteostat\n",
      "  Downloading meteostat-1.6.8-py3-none-any.whl.metadata (4.6 kB)\n",
      "Requirement already satisfied: pandas>=1.1 in /usr/local/lib/python3.10/dist-packages (from meteostat) (2.1.4)\n",
      "Requirement already satisfied: pytz in /usr/local/lib/python3.10/dist-packages (from meteostat) (2024.2)\n",
      "Requirement already satisfied: numpy in /usr/local/lib/python3.10/dist-packages (from meteostat) (1.26.4)\n",
      "Requirement already satisfied: python-dateutil>=2.8.2 in /usr/local/lib/python3.10/dist-packages (from pandas>=1.1->meteostat) (2.8.2)\n",
      "Requirement already satisfied: tzdata>=2022.1 in /usr/local/lib/python3.10/dist-packages (from pandas>=1.1->meteostat) (2024.1)\n",
      "Requirement already satisfied: six>=1.5 in /usr/local/lib/python3.10/dist-packages (from python-dateutil>=2.8.2->pandas>=1.1->meteostat) (1.16.0)\n",
      "Downloading meteostat-1.6.8-py3-none-any.whl (31 kB)\n",
      "Installing collected packages: meteostat\n",
      "Successfully installed meteostat-1.6.8\n"
     ]
    }
   ],
   "source": [
    "!pip install meteostat"
   ]
  },
  {
   "cell_type": "code",
   "execution_count": 4,
   "metadata": {
    "execution": {
     "iopub.execute_input": "2024-12-28T05:27:34.923981Z",
     "iopub.status.busy": "2024-12-28T05:27:34.923666Z",
     "iopub.status.idle": "2024-12-28T05:27:45.010203Z",
     "shell.execute_reply": "2024-12-28T05:27:45.009412Z",
     "shell.execute_reply.started": "2024-12-28T05:27:34.923959Z"
    },
    "id": "Zyzpl9j-zyQ3",
    "trusted": true
   },
   "outputs": [],
   "source": [
    "import numpy as np\n",
    "import matplotlib.pyplot as plt\n",
    "from tensorflow.keras.models import Sequential\n",
    "from keras.layers import Dense,LSTM,Dropout,Flatten,BatchNormalization\n",
    "from sklearn.preprocessing import MinMaxScaler\n",
    "import pandas as pd\n"
   ]
  },
  {
   "cell_type": "code",
   "execution_count": 5,
   "metadata": {
    "execution": {
     "iopub.execute_input": "2024-12-28T05:27:54.095078Z",
     "iopub.status.busy": "2024-12-28T05:27:54.094531Z",
     "iopub.status.idle": "2024-12-28T05:27:54.572966Z",
     "shell.execute_reply": "2024-12-28T05:27:54.572109Z",
     "shell.execute_reply.started": "2024-12-28T05:27:54.095049Z"
    },
    "trusted": true
   },
   "outputs": [
    {
     "name": "stdout",
     "output_type": "stream",
     "text": [
      "City: Ahmedabad, India\n",
      "Latitude: 23.0215374, Longitude: 72.5800568\n"
     ]
    }
   ],
   "source": [
    "from geopy.geocoders import Nominatim\n",
    "\n",
    "geolocator = Nominatim(user_agent=\"jainam\")\n",
    "\n",
    "# Example city\n",
    "city = \"Ahmedabad, India\"\n",
    "\n",
    "location = geolocator.geocode(city)\n",
    "\n",
    "if location:\n",
    "    print(f\"City: {city}\")\n",
    "    print(f\"Latitude: {location.latitude}, Longitude: {location.longitude}\")\n",
    "else:\n",
    "    print(f\"Could not find coordinates for {city}\")\n"
   ]
  },
  {
   "cell_type": "code",
   "execution_count": 5,
   "metadata": {
    "execution": {
     "iopub.execute_input": "2024-12-27T08:35:50.868526Z",
     "iopub.status.busy": "2024-12-27T08:35:50.868143Z",
     "iopub.status.idle": "2024-12-27T08:35:52.953118Z",
     "shell.execute_reply": "2024-12-27T08:35:52.952082Z",
     "shell.execute_reply.started": "2024-12-27T08:35:50.868497Z"
    },
    "trusted": true
   },
   "outputs": [
    {
     "name": "stdout",
     "output_type": "stream",
     "text": [
      "            tavg  tmin  tmax  prcp  snow   wdir  wspd  wpgt    pres  tsun\n",
      "time                                                                     \n",
      "2014-06-01  35.3   NaN   NaN   NaN   NaN    NaN   NaN   NaN     NaN   NaN\n",
      "2014-06-02  36.4   NaN   NaN   NaN   NaN    NaN   NaN   NaN     NaN   NaN\n",
      "2014-06-03  37.6   NaN   NaN   NaN   NaN    NaN   NaN   NaN     NaN   NaN\n",
      "2014-06-04  36.8   NaN   NaN   NaN   NaN    NaN   NaN   NaN     NaN   NaN\n",
      "2014-06-05  36.8   NaN   NaN   NaN   NaN    NaN   NaN   NaN     NaN   NaN\n",
      "...          ...   ...   ...   ...   ...    ...   ...   ...     ...   ...\n",
      "2024-05-28  34.4  29.0  43.4   0.0   NaN  214.0  15.5   NaN   999.4   NaN\n",
      "2024-05-29  34.1  29.0  41.4   0.0   NaN  206.0  17.7   NaN   999.8   NaN\n",
      "2024-05-30  34.3  30.0  43.0   0.0   NaN  201.0  13.6   NaN  1001.5   NaN\n",
      "2024-05-31  34.4  30.0  42.4   0.0   NaN  198.0  15.7   NaN  1003.3   NaN\n",
      "2024-06-01  34.5  30.0  41.6   0.0   NaN  203.0  14.7   NaN  1003.3   NaN\n",
      "\n",
      "[3654 rows x 10 columns]\n"
     ]
    }
   ],
   "source": [
    "from meteostat import Point, Daily\n",
    "import datetime\n",
    "\n",
    "\n",
    "location = Point( 23.0215374, 72.5800568)\n",
    "start = datetime.datetime(2014, 6, 1)\n",
    "end = datetime.datetime(2024, 6, 1)\n",
    "\n",
    "# Get historical data\n",
    "data = Daily(location, start, end)\n",
    "data = data.fetch()\n",
    "\n",
    "print(data)\n"
   ]
  },
  {
   "cell_type": "code",
   "execution_count": 6,
   "metadata": {
    "execution": {
     "iopub.execute_input": "2024-12-27T08:36:11.409440Z",
     "iopub.status.busy": "2024-12-27T08:36:11.409081Z",
     "iopub.status.idle": "2024-12-27T08:36:11.414509Z",
     "shell.execute_reply": "2024-12-27T08:36:11.413269Z",
     "shell.execute_reply.started": "2024-12-27T08:36:11.409414Z"
    },
    "trusted": true
   },
   "outputs": [],
   "source": [
    "temperature_avg=data[[\"tavg\"]]\n"
   ]
  },
  {
   "cell_type": "code",
   "execution_count": 7,
   "metadata": {
    "execution": {
     "iopub.execute_input": "2024-12-27T08:36:16.593921Z",
     "iopub.status.busy": "2024-12-27T08:36:16.593627Z",
     "iopub.status.idle": "2024-12-27T08:36:16.600274Z",
     "shell.execute_reply": "2024-12-27T08:36:16.599285Z",
     "shell.execute_reply.started": "2024-12-27T08:36:16.593899Z"
    },
    "trusted": true
   },
   "outputs": [
    {
     "name": "stdout",
     "output_type": "stream",
     "text": [
      "TOTAL NULL VALUES IN DATASET: tavg    6\n",
      "dtype: int64\n"
     ]
    }
   ],
   "source": [
    "print(\"TOTAL NULL VALUES IN DATASET:\",temperature_avg.isnull().sum())"
   ]
  },
  {
   "cell_type": "code",
   "execution_count": 8,
   "metadata": {
    "execution": {
     "iopub.execute_input": "2024-12-27T08:36:22.563267Z",
     "iopub.status.busy": "2024-12-27T08:36:22.562903Z",
     "iopub.status.idle": "2024-12-27T08:36:22.570478Z",
     "shell.execute_reply": "2024-12-27T08:36:22.569473Z",
     "shell.execute_reply.started": "2024-12-27T08:36:22.563229Z"
    },
    "trusted": true
   },
   "outputs": [
    {
     "name": "stderr",
     "output_type": "stream",
     "text": [
      "SettingWithCopyWarning: \n",
      "A value is trying to be set on a copy of a slice from a DataFrame\n",
      "\n",
      "See the caveats in the documentation: https://pandas.pydata.org/pandas-docs/stable/user_guide/indexing.html#returning-a-view-versus-a-copy\n"
     ]
    }
   ],
   "source": [
    "temperature_avg.dropna(inplace=True)"
   ]
  },
  {
   "cell_type": "code",
   "execution_count": 9,
   "metadata": {
    "execution": {
     "iopub.execute_input": "2024-12-27T08:36:28.033398Z",
     "iopub.status.busy": "2024-12-27T08:36:28.033010Z",
     "iopub.status.idle": "2024-12-27T08:36:28.052654Z",
     "shell.execute_reply": "2024-12-27T08:36:28.051613Z",
     "shell.execute_reply.started": "2024-12-27T08:36:28.033369Z"
    },
    "trusted": true
   },
   "outputs": [
    {
     "data": {
      "text/html": [
       "<div>\n",
       "<style scoped>\n",
       "    .dataframe tbody tr th:only-of-type {\n",
       "        vertical-align: middle;\n",
       "    }\n",
       "\n",
       "    .dataframe tbody tr th {\n",
       "        vertical-align: top;\n",
       "    }\n",
       "\n",
       "    .dataframe thead th {\n",
       "        text-align: right;\n",
       "    }\n",
       "</style>\n",
       "<table border=\"1\" class=\"dataframe\">\n",
       "  <thead>\n",
       "    <tr style=\"text-align: right;\">\n",
       "      <th></th>\n",
       "      <th>tavg</th>\n",
       "    </tr>\n",
       "  </thead>\n",
       "  <tbody>\n",
       "    <tr>\n",
       "      <th>count</th>\n",
       "      <td>3648.000000</td>\n",
       "    </tr>\n",
       "    <tr>\n",
       "      <th>mean</th>\n",
       "      <td>28.024205</td>\n",
       "    </tr>\n",
       "    <tr>\n",
       "      <th>std</th>\n",
       "      <td>5.067843</td>\n",
       "    </tr>\n",
       "    <tr>\n",
       "      <th>min</th>\n",
       "      <td>14.800000</td>\n",
       "    </tr>\n",
       "    <tr>\n",
       "      <th>25%</th>\n",
       "      <td>24.200000</td>\n",
       "    </tr>\n",
       "    <tr>\n",
       "      <th>50%</th>\n",
       "      <td>28.800000</td>\n",
       "    </tr>\n",
       "    <tr>\n",
       "      <th>75%</th>\n",
       "      <td>31.600000</td>\n",
       "    </tr>\n",
       "    <tr>\n",
       "      <th>max</th>\n",
       "      <td>39.300000</td>\n",
       "    </tr>\n",
       "  </tbody>\n",
       "</table>\n",
       "</div>"
      ],
      "text/plain": [
       "              tavg\n",
       "count  3648.000000\n",
       "mean     28.024205\n",
       "std       5.067843\n",
       "min      14.800000\n",
       "25%      24.200000\n",
       "50%      28.800000\n",
       "75%      31.600000\n",
       "max      39.300000"
      ]
     },
     "execution_count": 9,
     "metadata": {},
     "output_type": "execute_result"
    }
   ],
   "source": [
    "temperature_avg.describe()"
   ]
  },
  {
   "cell_type": "code",
   "execution_count": 10,
   "metadata": {
    "execution": {
     "iopub.execute_input": "2024-12-27T08:36:35.868224Z",
     "iopub.status.busy": "2024-12-27T08:36:35.867883Z",
     "iopub.status.idle": "2024-12-27T08:36:35.881025Z",
     "shell.execute_reply": "2024-12-27T08:36:35.879836Z",
     "shell.execute_reply.started": "2024-12-27T08:36:35.868175Z"
    },
    "trusted": true
   },
   "outputs": [
    {
     "name": "stdout",
     "output_type": "stream",
     "text": [
      "<class 'pandas.core.frame.DataFrame'>\n",
      "DatetimeIndex: 3648 entries, 2014-06-01 to 2024-06-01\n",
      "Data columns (total 1 columns):\n",
      " #   Column  Non-Null Count  Dtype  \n",
      "---  ------  --------------  -----  \n",
      " 0   tavg    3648 non-null   float64\n",
      "dtypes: float64(1)\n",
      "memory usage: 57.0 KB\n"
     ]
    }
   ],
   "source": [
    "temperature_avg.info()"
   ]
  },
  {
   "cell_type": "code",
   "execution_count": 11,
   "metadata": {
    "execution": {
     "iopub.execute_input": "2024-12-27T08:36:44.523302Z",
     "iopub.status.busy": "2024-12-27T08:36:44.522957Z",
     "iopub.status.idle": "2024-12-27T08:36:44.528405Z",
     "shell.execute_reply": "2024-12-27T08:36:44.527297Z",
     "shell.execute_reply.started": "2024-12-27T08:36:44.523278Z"
    },
    "trusted": true
   },
   "outputs": [
    {
     "name": "stdout",
     "output_type": "stream",
     "text": [
      "[[35.3]\n",
      " [36.4]\n",
      " [37.6]\n",
      " ...\n",
      " [34.3]\n",
      " [34.4]\n",
      " [34.5]] (3648, 1)\n"
     ]
    }
   ],
   "source": [
    "temperature_avg_seq=temperature_avg.values\n",
    "print(temperature_avg_seq,temperature_avg_seq.shape)"
   ]
  },
  {
   "cell_type": "code",
   "execution_count": 12,
   "metadata": {
    "execution": {
     "iopub.execute_input": "2024-12-27T08:38:19.013809Z",
     "iopub.status.busy": "2024-12-27T08:38:19.013494Z",
     "iopub.status.idle": "2024-12-27T08:38:19.019100Z",
     "shell.execute_reply": "2024-12-27T08:38:19.018147Z",
     "shell.execute_reply.started": "2024-12-27T08:38:19.013779Z"
    },
    "trusted": true
   },
   "outputs": [
    {
     "data": {
      "text/plain": [
       "3648"
      ]
     },
     "execution_count": 12,
     "metadata": {},
     "output_type": "execute_result"
    }
   ],
   "source": [
    "len(temperature_avg_seq)"
   ]
  },
  {
   "cell_type": "code",
   "execution_count": 31,
   "metadata": {
    "execution": {
     "iopub.execute_input": "2024-12-28T05:39:34.198797Z",
     "iopub.status.busy": "2024-12-28T05:39:34.198345Z",
     "iopub.status.idle": "2024-12-28T05:39:34.204749Z",
     "shell.execute_reply": "2024-12-28T05:39:34.203702Z",
     "shell.execute_reply.started": "2024-12-28T05:39:34.198754Z"
    },
    "trusted": true
   },
   "outputs": [],
   "source": [
    "def plot_loss_curves(history):\n",
    "    \"\"\"\n",
    "    Plots the loss curves of a model\n",
    "    \"\"\"\n",
    "    loss = history.history['loss']\n",
    "    val_loss = history.history['val_loss']\n",
    "\n",
    "    accuracy = history.history['mae']\n",
    "    val_accuracy = history.history['val_mae']\n",
    "\n",
    "    epochs = range(len(history.history['loss']))\n",
    "\n",
    "\n",
    "    plt.plot(epochs, loss, label='training_loss')\n",
    "    plt.plot(epochs, val_loss, label='val_loss')\n",
    "    plt.title('Loss')\n",
    "    plt.xlabel('Epochs')\n",
    "    plt.legend()\n",
    "\n",
    "    plt.figure()\n",
    "    plt.plot(epochs, accuracy, label='training_accuracy')\n",
    "    plt.plot(epochs, val_accuracy, label='val_accuracy')\n",
    "    plt.title('Accuracy')\n",
    "    plt.xlabel('Epochs')\n",
    "    plt.legend();"
   ]
  },
  {
   "cell_type": "code",
   "execution_count": 14,
   "metadata": {
    "execution": {
     "iopub.execute_input": "2024-12-27T08:39:05.282631Z",
     "iopub.status.busy": "2024-12-27T08:39:05.282302Z",
     "iopub.status.idle": "2024-12-27T08:39:05.290129Z",
     "shell.execute_reply": "2024-12-27T08:39:05.289158Z",
     "shell.execute_reply.started": "2024-12-27T08:39:05.282606Z"
    },
    "trusted": true
   },
   "outputs": [],
   "source": [
    "window_size=6\n",
    "X=[]\n",
    "Y=[]\n",
    "for i in range(len(temperature_avg_seq)-window_size):\n",
    "  X.append(temperature_avg_seq[i:i+window_size])\n",
    "  Y.append(temperature_avg_seq[i+window_size])\n"
   ]
  },
  {
   "cell_type": "code",
   "execution_count": 15,
   "metadata": {
    "execution": {
     "iopub.execute_input": "2024-12-27T08:39:13.183714Z",
     "iopub.status.busy": "2024-12-27T08:39:13.183377Z",
     "iopub.status.idle": "2024-12-27T08:39:13.192451Z",
     "shell.execute_reply": "2024-12-27T08:39:13.191307Z",
     "shell.execute_reply.started": "2024-12-27T08:39:13.183687Z"
    },
    "trusted": true
   },
   "outputs": [],
   "source": [
    "X=np.array(X)\n",
    "Y=np.array(Y)\n"
   ]
  },
  {
   "cell_type": "code",
   "execution_count": 16,
   "metadata": {
    "execution": {
     "iopub.execute_input": "2024-12-27T08:39:19.194086Z",
     "iopub.status.busy": "2024-12-27T08:39:19.193769Z",
     "iopub.status.idle": "2024-12-27T08:39:19.199132Z",
     "shell.execute_reply": "2024-12-27T08:39:19.198233Z",
     "shell.execute_reply.started": "2024-12-27T08:39:19.194063Z"
    },
    "trusted": true
   },
   "outputs": [
    {
     "name": "stdout",
     "output_type": "stream",
     "text": [
      "X Shape (3642, 6, 1)\n",
      "Y Shape (3642, 1)\n"
     ]
    }
   ],
   "source": [
    "print(\"X Shape\",X.shape)\n",
    "print(\"Y Shape\",Y.shape)\n"
   ]
  },
  {
   "cell_type": "code",
   "execution_count": 17,
   "metadata": {
    "execution": {
     "iopub.execute_input": "2024-12-27T08:39:37.903567Z",
     "iopub.status.busy": "2024-12-27T08:39:37.903269Z",
     "iopub.status.idle": "2024-12-27T08:39:37.910911Z",
     "shell.execute_reply": "2024-12-27T08:39:37.909829Z",
     "shell.execute_reply.started": "2024-12-27T08:39:37.903546Z"
    },
    "trusted": true
   },
   "outputs": [],
   "source": [
    "X_scaler=MinMaxScaler()\n",
    "Y_scaler=MinMaxScaler()\n",
    "\n",
    "X_flat = np.array(X).reshape(-1, 1)\n",
    "Y_flat = np.array(Y).reshape(-1, 1)\n",
    "\n",
    "X_scaled=X_scaler.fit_transform(X_flat).reshape(len(X),6,1)\n",
    "Y_scaled=Y_scaler.fit_transform(Y_flat).reshape(len(Y),1)"
   ]
  },
  {
   "cell_type": "code",
   "execution_count": 18,
   "metadata": {
    "execution": {
     "iopub.execute_input": "2024-12-27T08:39:57.812664Z",
     "iopub.status.busy": "2024-12-27T08:39:57.812352Z",
     "iopub.status.idle": "2024-12-27T08:39:57.818615Z",
     "shell.execute_reply": "2024-12-27T08:39:57.817412Z",
     "shell.execute_reply.started": "2024-12-27T08:39:57.812642Z"
    },
    "trusted": true
   },
   "outputs": [
    {
     "name": "stdout",
     "output_type": "stream",
     "text": [
      "X_scaled Shape (3642, 6, 1)\n",
      "Y_scaled Shape (3642, 1)\n"
     ]
    }
   ],
   "source": [
    "print(\"X_scaled Shape\",X_scaled.shape)\n",
    "print(\"Y_scaled Shape\",Y_scaled.shape)\n"
   ]
  },
  {
   "cell_type": "code",
   "execution_count": 20,
   "metadata": {
    "execution": {
     "iopub.execute_input": "2024-12-27T08:40:58.658419Z",
     "iopub.status.busy": "2024-12-27T08:40:58.658024Z",
     "iopub.status.idle": "2024-12-27T08:40:58.747036Z",
     "shell.execute_reply": "2024-12-27T08:40:58.746401Z",
     "shell.execute_reply.started": "2024-12-27T08:40:58.658375Z"
    },
    "trusted": true
   },
   "outputs": [],
   "source": [
    "naive_model=Sequential()\n",
    "naive_model.add(LSTM(128,return_sequences=True,input_shape=(window_size,1)))\n",
    "naive_model.add(Dropout(0.2))\n",
    "naive_model.add(LSTM(64,return_sequences=True))\n",
    "naive_model.add(Dropout(0.2))\n",
    "naive_model.add(LSTM(32))\n",
    "naive_model.add(Dropout(0.2))\n",
    "naive_model.add(Dense(1))"
   ]
  },
  {
   "cell_type": "code",
   "execution_count": 21,
   "metadata": {
    "execution": {
     "iopub.execute_input": "2024-12-27T08:41:05.173345Z",
     "iopub.status.busy": "2024-12-27T08:41:05.172948Z",
     "iopub.status.idle": "2024-12-27T08:41:05.196576Z",
     "shell.execute_reply": "2024-12-27T08:41:05.195737Z",
     "shell.execute_reply.started": "2024-12-27T08:41:05.173320Z"
    },
    "trusted": true
   },
   "outputs": [
    {
     "data": {
      "text/html": [
       "<pre style=\"white-space:pre;overflow-x:auto;line-height:normal;font-family:Menlo,'DejaVu Sans Mono',consolas,'Courier New',monospace\"><span style=\"font-weight: bold\">Model: \"sequential_1\"</span>\n",
       "</pre>\n"
      ],
      "text/plain": [
       "\u001b[1mModel: \"sequential_1\"\u001b[0m\n"
      ]
     },
     "metadata": {},
     "output_type": "display_data"
    },
    {
     "data": {
      "text/html": [
       "<pre style=\"white-space:pre;overflow-x:auto;line-height:normal;font-family:Menlo,'DejaVu Sans Mono',consolas,'Courier New',monospace\">┏━━━━━━━━━━━━━━━━━━━━━━━━━━━━━━━━━━━━━━┳━━━━━━━━━━━━━━━━━━━━━━━━━━━━━┳━━━━━━━━━━━━━━━━━┓\n",
       "┃<span style=\"font-weight: bold\"> Layer (type)                         </span>┃<span style=\"font-weight: bold\"> Output Shape                </span>┃<span style=\"font-weight: bold\">         Param # </span>┃\n",
       "┡━━━━━━━━━━━━━━━━━━━━━━━━━━━━━━━━━━━━━━╇━━━━━━━━━━━━━━━━━━━━━━━━━━━━━╇━━━━━━━━━━━━━━━━━┩\n",
       "│ lstm_3 (<span style=\"color: #0087ff; text-decoration-color: #0087ff\">LSTM</span>)                        │ (<span style=\"color: #00d7ff; text-decoration-color: #00d7ff\">None</span>, <span style=\"color: #00af00; text-decoration-color: #00af00\">6</span>, <span style=\"color: #00af00; text-decoration-color: #00af00\">128</span>)              │          <span style=\"color: #00af00; text-decoration-color: #00af00\">66,560</span> │\n",
       "├──────────────────────────────────────┼─────────────────────────────┼─────────────────┤\n",
       "│ dropout_3 (<span style=\"color: #0087ff; text-decoration-color: #0087ff\">Dropout</span>)                  │ (<span style=\"color: #00d7ff; text-decoration-color: #00d7ff\">None</span>, <span style=\"color: #00af00; text-decoration-color: #00af00\">6</span>, <span style=\"color: #00af00; text-decoration-color: #00af00\">128</span>)              │               <span style=\"color: #00af00; text-decoration-color: #00af00\">0</span> │\n",
       "├──────────────────────────────────────┼─────────────────────────────┼─────────────────┤\n",
       "│ lstm_4 (<span style=\"color: #0087ff; text-decoration-color: #0087ff\">LSTM</span>)                        │ (<span style=\"color: #00d7ff; text-decoration-color: #00d7ff\">None</span>, <span style=\"color: #00af00; text-decoration-color: #00af00\">6</span>, <span style=\"color: #00af00; text-decoration-color: #00af00\">64</span>)               │          <span style=\"color: #00af00; text-decoration-color: #00af00\">49,408</span> │\n",
       "├──────────────────────────────────────┼─────────────────────────────┼─────────────────┤\n",
       "│ dropout_4 (<span style=\"color: #0087ff; text-decoration-color: #0087ff\">Dropout</span>)                  │ (<span style=\"color: #00d7ff; text-decoration-color: #00d7ff\">None</span>, <span style=\"color: #00af00; text-decoration-color: #00af00\">6</span>, <span style=\"color: #00af00; text-decoration-color: #00af00\">64</span>)               │               <span style=\"color: #00af00; text-decoration-color: #00af00\">0</span> │\n",
       "├──────────────────────────────────────┼─────────────────────────────┼─────────────────┤\n",
       "│ lstm_5 (<span style=\"color: #0087ff; text-decoration-color: #0087ff\">LSTM</span>)                        │ (<span style=\"color: #00d7ff; text-decoration-color: #00d7ff\">None</span>, <span style=\"color: #00af00; text-decoration-color: #00af00\">32</span>)                  │          <span style=\"color: #00af00; text-decoration-color: #00af00\">12,416</span> │\n",
       "├──────────────────────────────────────┼─────────────────────────────┼─────────────────┤\n",
       "│ dropout_5 (<span style=\"color: #0087ff; text-decoration-color: #0087ff\">Dropout</span>)                  │ (<span style=\"color: #00d7ff; text-decoration-color: #00d7ff\">None</span>, <span style=\"color: #00af00; text-decoration-color: #00af00\">32</span>)                  │               <span style=\"color: #00af00; text-decoration-color: #00af00\">0</span> │\n",
       "├──────────────────────────────────────┼─────────────────────────────┼─────────────────┤\n",
       "│ dense_1 (<span style=\"color: #0087ff; text-decoration-color: #0087ff\">Dense</span>)                      │ (<span style=\"color: #00d7ff; text-decoration-color: #00d7ff\">None</span>, <span style=\"color: #00af00; text-decoration-color: #00af00\">1</span>)                   │              <span style=\"color: #00af00; text-decoration-color: #00af00\">33</span> │\n",
       "└──────────────────────────────────────┴─────────────────────────────┴─────────────────┘\n",
       "</pre>\n"
      ],
      "text/plain": [
       "┏━━━━━━━━━━━━━━━━━━━━━━━━━━━━━━━━━━━━━━┳━━━━━━━━━━━━━━━━━━━━━━━━━━━━━┳━━━━━━━━━━━━━━━━━┓\n",
       "┃\u001b[1m \u001b[0m\u001b[1mLayer (type)                        \u001b[0m\u001b[1m \u001b[0m┃\u001b[1m \u001b[0m\u001b[1mOutput Shape               \u001b[0m\u001b[1m \u001b[0m┃\u001b[1m \u001b[0m\u001b[1m        Param #\u001b[0m\u001b[1m \u001b[0m┃\n",
       "┡━━━━━━━━━━━━━━━━━━━━━━━━━━━━━━━━━━━━━━╇━━━━━━━━━━━━━━━━━━━━━━━━━━━━━╇━━━━━━━━━━━━━━━━━┩\n",
       "│ lstm_3 (\u001b[38;5;33mLSTM\u001b[0m)                        │ (\u001b[38;5;45mNone\u001b[0m, \u001b[38;5;34m6\u001b[0m, \u001b[38;5;34m128\u001b[0m)              │          \u001b[38;5;34m66,560\u001b[0m │\n",
       "├──────────────────────────────────────┼─────────────────────────────┼─────────────────┤\n",
       "│ dropout_3 (\u001b[38;5;33mDropout\u001b[0m)                  │ (\u001b[38;5;45mNone\u001b[0m, \u001b[38;5;34m6\u001b[0m, \u001b[38;5;34m128\u001b[0m)              │               \u001b[38;5;34m0\u001b[0m │\n",
       "├──────────────────────────────────────┼─────────────────────────────┼─────────────────┤\n",
       "│ lstm_4 (\u001b[38;5;33mLSTM\u001b[0m)                        │ (\u001b[38;5;45mNone\u001b[0m, \u001b[38;5;34m6\u001b[0m, \u001b[38;5;34m64\u001b[0m)               │          \u001b[38;5;34m49,408\u001b[0m │\n",
       "├──────────────────────────────────────┼─────────────────────────────┼─────────────────┤\n",
       "│ dropout_4 (\u001b[38;5;33mDropout\u001b[0m)                  │ (\u001b[38;5;45mNone\u001b[0m, \u001b[38;5;34m6\u001b[0m, \u001b[38;5;34m64\u001b[0m)               │               \u001b[38;5;34m0\u001b[0m │\n",
       "├──────────────────────────────────────┼─────────────────────────────┼─────────────────┤\n",
       "│ lstm_5 (\u001b[38;5;33mLSTM\u001b[0m)                        │ (\u001b[38;5;45mNone\u001b[0m, \u001b[38;5;34m32\u001b[0m)                  │          \u001b[38;5;34m12,416\u001b[0m │\n",
       "├──────────────────────────────────────┼─────────────────────────────┼─────────────────┤\n",
       "│ dropout_5 (\u001b[38;5;33mDropout\u001b[0m)                  │ (\u001b[38;5;45mNone\u001b[0m, \u001b[38;5;34m32\u001b[0m)                  │               \u001b[38;5;34m0\u001b[0m │\n",
       "├──────────────────────────────────────┼─────────────────────────────┼─────────────────┤\n",
       "│ dense_1 (\u001b[38;5;33mDense\u001b[0m)                      │ (\u001b[38;5;45mNone\u001b[0m, \u001b[38;5;34m1\u001b[0m)                   │              \u001b[38;5;34m33\u001b[0m │\n",
       "└──────────────────────────────────────┴─────────────────────────────┴─────────────────┘\n"
      ]
     },
     "metadata": {},
     "output_type": "display_data"
    },
    {
     "data": {
      "text/html": [
       "<pre style=\"white-space:pre;overflow-x:auto;line-height:normal;font-family:Menlo,'DejaVu Sans Mono',consolas,'Courier New',monospace\"><span style=\"font-weight: bold\"> Total params: </span><span style=\"color: #00af00; text-decoration-color: #00af00\">128,417</span> (501.63 KB)\n",
       "</pre>\n"
      ],
      "text/plain": [
       "\u001b[1m Total params: \u001b[0m\u001b[38;5;34m128,417\u001b[0m (501.63 KB)\n"
      ]
     },
     "metadata": {},
     "output_type": "display_data"
    },
    {
     "data": {
      "text/html": [
       "<pre style=\"white-space:pre;overflow-x:auto;line-height:normal;font-family:Menlo,'DejaVu Sans Mono',consolas,'Courier New',monospace\"><span style=\"font-weight: bold\"> Trainable params: </span><span style=\"color: #00af00; text-decoration-color: #00af00\">128,417</span> (501.63 KB)\n",
       "</pre>\n"
      ],
      "text/plain": [
       "\u001b[1m Trainable params: \u001b[0m\u001b[38;5;34m128,417\u001b[0m (501.63 KB)\n"
      ]
     },
     "metadata": {},
     "output_type": "display_data"
    },
    {
     "data": {
      "text/html": [
       "<pre style=\"white-space:pre;overflow-x:auto;line-height:normal;font-family:Menlo,'DejaVu Sans Mono',consolas,'Courier New',monospace\"><span style=\"font-weight: bold\"> Non-trainable params: </span><span style=\"color: #00af00; text-decoration-color: #00af00\">0</span> (0.00 B)\n",
       "</pre>\n"
      ],
      "text/plain": [
       "\u001b[1m Non-trainable params: \u001b[0m\u001b[38;5;34m0\u001b[0m (0.00 B)\n"
      ]
     },
     "metadata": {},
     "output_type": "display_data"
    }
   ],
   "source": [
    "naive_model.summary()"
   ]
  },
  {
   "cell_type": "code",
   "execution_count": 22,
   "metadata": {
    "execution": {
     "iopub.execute_input": "2024-12-27T08:41:15.483471Z",
     "iopub.status.busy": "2024-12-27T08:41:15.483047Z",
     "iopub.status.idle": "2024-12-27T08:41:15.499219Z",
     "shell.execute_reply": "2024-12-27T08:41:15.498255Z",
     "shell.execute_reply.started": "2024-12-27T08:41:15.483425Z"
    },
    "trusted": true
   },
   "outputs": [],
   "source": [
    "naive_model.compile(optimizer=\"adam\",loss=\"mse\",metrics=[\"mae\"])"
   ]
  },
  {
   "cell_type": "code",
   "execution_count": 23,
   "metadata": {
    "execution": {
     "iopub.execute_input": "2024-12-27T08:41:34.513146Z",
     "iopub.status.busy": "2024-12-27T08:41:34.512761Z",
     "iopub.status.idle": "2024-12-27T08:43:53.748088Z",
     "shell.execute_reply": "2024-12-27T08:43:53.747266Z",
     "shell.execute_reply.started": "2024-12-27T08:41:34.513116Z"
    },
    "trusted": true
   },
   "outputs": [
    {
     "name": "stdout",
     "output_type": "stream",
     "text": [
      "Epoch 1/100\n",
      "\u001b[1m183/183\u001b[0m \u001b[32m━━━━━━━━━━━━━━━━━━━━\u001b[0m\u001b[37m\u001b[0m \u001b[1m7s\u001b[0m 9ms/step - loss: 0.0622 - mae: 0.1741 - val_loss: 0.0052 - val_mae: 0.0569\n",
      "Epoch 2/100\n",
      "\u001b[1m183/183\u001b[0m \u001b[32m━━━━━━━━━━━━━━━━━━━━\u001b[0m\u001b[37m\u001b[0m \u001b[1m1s\u001b[0m 7ms/step - loss: 0.0097 - mae: 0.0788 - val_loss: 0.0058 - val_mae: 0.0590\n",
      "Epoch 3/100\n",
      "\u001b[1m183/183\u001b[0m \u001b[32m━━━━━━━━━━━━━━━━━━━━\u001b[0m\u001b[37m\u001b[0m \u001b[1m1s\u001b[0m 7ms/step - loss: 0.0092 - mae: 0.0755 - val_loss: 0.0052 - val_mae: 0.0556\n",
      "Epoch 4/100\n",
      "\u001b[1m183/183\u001b[0m \u001b[32m━━━━━━━━━━━━━━━━━━━━\u001b[0m\u001b[37m\u001b[0m \u001b[1m1s\u001b[0m 7ms/step - loss: 0.0094 - mae: 0.0768 - val_loss: 0.0047 - val_mae: 0.0541\n",
      "Epoch 5/100\n",
      "\u001b[1m183/183\u001b[0m \u001b[32m━━━━━━━━━━━━━━━━━━━━\u001b[0m\u001b[37m\u001b[0m \u001b[1m1s\u001b[0m 7ms/step - loss: 0.0077 - mae: 0.0696 - val_loss: 0.0047 - val_mae: 0.0526\n",
      "Epoch 6/100\n",
      "\u001b[1m183/183\u001b[0m \u001b[32m━━━━━━━━━━━━━━━━━━━━\u001b[0m\u001b[37m\u001b[0m \u001b[1m1s\u001b[0m 7ms/step - loss: 0.0078 - mae: 0.0694 - val_loss: 0.0041 - val_mae: 0.0495\n",
      "Epoch 7/100\n",
      "\u001b[1m183/183\u001b[0m \u001b[32m━━━━━━━━━━━━━━━━━━━━\u001b[0m\u001b[37m\u001b[0m \u001b[1m1s\u001b[0m 7ms/step - loss: 0.0070 - mae: 0.0659 - val_loss: 0.0041 - val_mae: 0.0515\n",
      "Epoch 8/100\n",
      "\u001b[1m183/183\u001b[0m \u001b[32m━━━━━━━━━━━━━━━━━━━━\u001b[0m\u001b[37m\u001b[0m \u001b[1m1s\u001b[0m 7ms/step - loss: 0.0069 - mae: 0.0648 - val_loss: 0.0035 - val_mae: 0.0460\n",
      "Epoch 9/100\n",
      "\u001b[1m183/183\u001b[0m \u001b[32m━━━━━━━━━━━━━━━━━━━━\u001b[0m\u001b[37m\u001b[0m \u001b[1m1s\u001b[0m 7ms/step - loss: 0.0065 - mae: 0.0631 - val_loss: 0.0033 - val_mae: 0.0455\n",
      "Epoch 10/100\n",
      "\u001b[1m183/183\u001b[0m \u001b[32m━━━━━━━━━━━━━━━━━━━━\u001b[0m\u001b[37m\u001b[0m \u001b[1m1s\u001b[0m 7ms/step - loss: 0.0061 - mae: 0.0605 - val_loss: 0.0033 - val_mae: 0.0461\n",
      "Epoch 11/100\n",
      "\u001b[1m183/183\u001b[0m \u001b[32m━━━━━━━━━━━━━━━━━━━━\u001b[0m\u001b[37m\u001b[0m \u001b[1m1s\u001b[0m 7ms/step - loss: 0.0056 - mae: 0.0590 - val_loss: 0.0028 - val_mae: 0.0413\n",
      "Epoch 12/100\n",
      "\u001b[1m183/183\u001b[0m \u001b[32m━━━━━━━━━━━━━━━━━━━━\u001b[0m\u001b[37m\u001b[0m \u001b[1m1s\u001b[0m 7ms/step - loss: 0.0050 - mae: 0.0550 - val_loss: 0.0022 - val_mae: 0.0361\n",
      "Epoch 13/100\n",
      "\u001b[1m183/183\u001b[0m \u001b[32m━━━━━━━━━━━━━━━━━━━━\u001b[0m\u001b[37m\u001b[0m \u001b[1m1s\u001b[0m 7ms/step - loss: 0.0043 - mae: 0.0509 - val_loss: 0.0025 - val_mae: 0.0401\n",
      "Epoch 14/100\n",
      "\u001b[1m183/183\u001b[0m \u001b[32m━━━━━━━━━━━━━━━━━━━━\u001b[0m\u001b[37m\u001b[0m \u001b[1m1s\u001b[0m 7ms/step - loss: 0.0041 - mae: 0.0493 - val_loss: 0.0030 - val_mae: 0.0420\n",
      "Epoch 15/100\n",
      "\u001b[1m183/183\u001b[0m \u001b[32m━━━━━━━━━━━━━━━━━━━━\u001b[0m\u001b[37m\u001b[0m \u001b[1m1s\u001b[0m 7ms/step - loss: 0.0042 - mae: 0.0504 - val_loss: 0.0019 - val_mae: 0.0336\n",
      "Epoch 16/100\n",
      "\u001b[1m183/183\u001b[0m \u001b[32m━━━━━━━━━━━━━━━━━━━━\u001b[0m\u001b[37m\u001b[0m \u001b[1m1s\u001b[0m 7ms/step - loss: 0.0040 - mae: 0.0489 - val_loss: 0.0020 - val_mae: 0.0330\n",
      "Epoch 17/100\n",
      "\u001b[1m183/183\u001b[0m \u001b[32m━━━━━━━━━━━━━━━━━━━━\u001b[0m\u001b[37m\u001b[0m \u001b[1m1s\u001b[0m 7ms/step - loss: 0.0036 - mae: 0.0473 - val_loss: 0.0022 - val_mae: 0.0347\n",
      "Epoch 18/100\n",
      "\u001b[1m183/183\u001b[0m \u001b[32m━━━━━━━━━━━━━━━━━━━━\u001b[0m\u001b[37m\u001b[0m \u001b[1m1s\u001b[0m 7ms/step - loss: 0.0039 - mae: 0.0476 - val_loss: 0.0024 - val_mae: 0.0370\n",
      "Epoch 19/100\n",
      "\u001b[1m183/183\u001b[0m \u001b[32m━━━━━━━━━━━━━━━━━━━━\u001b[0m\u001b[37m\u001b[0m \u001b[1m1s\u001b[0m 8ms/step - loss: 0.0035 - mae: 0.0465 - val_loss: 0.0019 - val_mae: 0.0318\n",
      "Epoch 20/100\n",
      "\u001b[1m183/183\u001b[0m \u001b[32m━━━━━━━━━━━━━━━━━━━━\u001b[0m\u001b[37m\u001b[0m \u001b[1m1s\u001b[0m 7ms/step - loss: 0.0036 - mae: 0.0469 - val_loss: 0.0020 - val_mae: 0.0346\n",
      "Epoch 21/100\n",
      "\u001b[1m183/183\u001b[0m \u001b[32m━━━━━━━━━━━━━━━━━━━━\u001b[0m\u001b[37m\u001b[0m \u001b[1m1s\u001b[0m 7ms/step - loss: 0.0032 - mae: 0.0447 - val_loss: 0.0019 - val_mae: 0.0315\n",
      "Epoch 22/100\n",
      "\u001b[1m183/183\u001b[0m \u001b[32m━━━━━━━━━━━━━━━━━━━━\u001b[0m\u001b[37m\u001b[0m \u001b[1m1s\u001b[0m 7ms/step - loss: 0.0034 - mae: 0.0453 - val_loss: 0.0017 - val_mae: 0.0301\n",
      "Epoch 23/100\n",
      "\u001b[1m183/183\u001b[0m \u001b[32m━━━━━━━━━━━━━━━━━━━━\u001b[0m\u001b[37m\u001b[0m \u001b[1m1s\u001b[0m 7ms/step - loss: 0.0033 - mae: 0.0443 - val_loss: 0.0019 - val_mae: 0.0319\n",
      "Epoch 24/100\n",
      "\u001b[1m183/183\u001b[0m \u001b[32m━━━━━━━━━━━━━━━━━━━━\u001b[0m\u001b[37m\u001b[0m \u001b[1m1s\u001b[0m 7ms/step - loss: 0.0032 - mae: 0.0426 - val_loss: 0.0020 - val_mae: 0.0325\n",
      "Epoch 25/100\n",
      "\u001b[1m183/183\u001b[0m \u001b[32m━━━━━━━━━━━━━━━━━━━━\u001b[0m\u001b[37m\u001b[0m \u001b[1m1s\u001b[0m 7ms/step - loss: 0.0031 - mae: 0.0431 - val_loss: 0.0017 - val_mae: 0.0301\n",
      "Epoch 26/100\n",
      "\u001b[1m183/183\u001b[0m \u001b[32m━━━━━━━━━━━━━━━━━━━━\u001b[0m\u001b[37m\u001b[0m \u001b[1m1s\u001b[0m 7ms/step - loss: 0.0031 - mae: 0.0430 - val_loss: 0.0020 - val_mae: 0.0324\n",
      "Epoch 27/100\n",
      "\u001b[1m183/183\u001b[0m \u001b[32m━━━━━━━━━━━━━━━━━━━━\u001b[0m\u001b[37m\u001b[0m \u001b[1m1s\u001b[0m 7ms/step - loss: 0.0032 - mae: 0.0438 - val_loss: 0.0020 - val_mae: 0.0351\n",
      "Epoch 28/100\n",
      "\u001b[1m183/183\u001b[0m \u001b[32m━━━━━━━━━━━━━━━━━━━━\u001b[0m\u001b[37m\u001b[0m \u001b[1m1s\u001b[0m 7ms/step - loss: 0.0034 - mae: 0.0445 - val_loss: 0.0016 - val_mae: 0.0297\n",
      "Epoch 29/100\n",
      "\u001b[1m183/183\u001b[0m \u001b[32m━━━━━━━━━━━━━━━━━━━━\u001b[0m\u001b[37m\u001b[0m \u001b[1m1s\u001b[0m 7ms/step - loss: 0.0032 - mae: 0.0436 - val_loss: 0.0018 - val_mae: 0.0312\n",
      "Epoch 30/100\n",
      "\u001b[1m183/183\u001b[0m \u001b[32m━━━━━━━━━━━━━━━━━━━━\u001b[0m\u001b[37m\u001b[0m \u001b[1m1s\u001b[0m 7ms/step - loss: 0.0029 - mae: 0.0419 - val_loss: 0.0021 - val_mae: 0.0337\n",
      "Epoch 31/100\n",
      "\u001b[1m183/183\u001b[0m \u001b[32m━━━━━━━━━━━━━━━━━━━━\u001b[0m\u001b[37m\u001b[0m \u001b[1m1s\u001b[0m 7ms/step - loss: 0.0029 - mae: 0.0409 - val_loss: 0.0021 - val_mae: 0.0343\n",
      "Epoch 32/100\n",
      "\u001b[1m183/183\u001b[0m \u001b[32m━━━━━━━━━━━━━━━━━━━━\u001b[0m\u001b[37m\u001b[0m \u001b[1m1s\u001b[0m 7ms/step - loss: 0.0031 - mae: 0.0430 - val_loss: 0.0017 - val_mae: 0.0311\n",
      "Epoch 33/100\n",
      "\u001b[1m183/183\u001b[0m \u001b[32m━━━━━━━━━━━━━━━━━━━━\u001b[0m\u001b[37m\u001b[0m \u001b[1m1s\u001b[0m 7ms/step - loss: 0.0029 - mae: 0.0418 - val_loss: 0.0019 - val_mae: 0.0335\n",
      "Epoch 34/100\n",
      "\u001b[1m183/183\u001b[0m \u001b[32m━━━━━━━━━━━━━━━━━━━━\u001b[0m\u001b[37m\u001b[0m \u001b[1m1s\u001b[0m 7ms/step - loss: 0.0031 - mae: 0.0426 - val_loss: 0.0017 - val_mae: 0.0298\n",
      "Epoch 35/100\n",
      "\u001b[1m183/183\u001b[0m \u001b[32m━━━━━━━━━━━━━━━━━━━━\u001b[0m\u001b[37m\u001b[0m \u001b[1m1s\u001b[0m 7ms/step - loss: 0.0027 - mae: 0.0397 - val_loss: 0.0018 - val_mae: 0.0314\n",
      "Epoch 36/100\n",
      "\u001b[1m183/183\u001b[0m \u001b[32m━━━━━━━━━━━━━━━━━━━━\u001b[0m\u001b[37m\u001b[0m \u001b[1m1s\u001b[0m 7ms/step - loss: 0.0028 - mae: 0.0406 - val_loss: 0.0018 - val_mae: 0.0318\n",
      "Epoch 37/100\n",
      "\u001b[1m183/183\u001b[0m \u001b[32m━━━━━━━━━━━━━━━━━━━━\u001b[0m\u001b[37m\u001b[0m \u001b[1m1s\u001b[0m 7ms/step - loss: 0.0030 - mae: 0.0422 - val_loss: 0.0018 - val_mae: 0.0331\n",
      "Epoch 38/100\n",
      "\u001b[1m183/183\u001b[0m \u001b[32m━━━━━━━━━━━━━━━━━━━━\u001b[0m\u001b[37m\u001b[0m \u001b[1m1s\u001b[0m 7ms/step - loss: 0.0029 - mae: 0.0406 - val_loss: 0.0017 - val_mae: 0.0298\n",
      "Epoch 39/100\n",
      "\u001b[1m183/183\u001b[0m \u001b[32m━━━━━━━━━━━━━━━━━━━━\u001b[0m\u001b[37m\u001b[0m \u001b[1m1s\u001b[0m 7ms/step - loss: 0.0030 - mae: 0.0412 - val_loss: 0.0018 - val_mae: 0.0322\n",
      "Epoch 40/100\n",
      "\u001b[1m183/183\u001b[0m \u001b[32m━━━━━━━━━━━━━━━━━━━━\u001b[0m\u001b[37m\u001b[0m \u001b[1m1s\u001b[0m 7ms/step - loss: 0.0027 - mae: 0.0399 - val_loss: 0.0017 - val_mae: 0.0302\n",
      "Epoch 41/100\n",
      "\u001b[1m183/183\u001b[0m \u001b[32m━━━━━━━━━━━━━━━━━━━━\u001b[0m\u001b[37m\u001b[0m \u001b[1m1s\u001b[0m 7ms/step - loss: 0.0029 - mae: 0.0411 - val_loss: 0.0017 - val_mae: 0.0302\n",
      "Epoch 42/100\n",
      "\u001b[1m183/183\u001b[0m \u001b[32m━━━━━━━━━━━━━━━━━━━━\u001b[0m\u001b[37m\u001b[0m \u001b[1m1s\u001b[0m 7ms/step - loss: 0.0029 - mae: 0.0416 - val_loss: 0.0018 - val_mae: 0.0311\n",
      "Epoch 43/100\n",
      "\u001b[1m183/183\u001b[0m \u001b[32m━━━━━━━━━━━━━━━━━━━━\u001b[0m\u001b[37m\u001b[0m \u001b[1m1s\u001b[0m 8ms/step - loss: 0.0027 - mae: 0.0398 - val_loss: 0.0018 - val_mae: 0.0318\n",
      "Epoch 44/100\n",
      "\u001b[1m183/183\u001b[0m \u001b[32m━━━━━━━━━━━━━━━━━━━━\u001b[0m\u001b[37m\u001b[0m \u001b[1m1s\u001b[0m 7ms/step - loss: 0.0029 - mae: 0.0406 - val_loss: 0.0016 - val_mae: 0.0295\n",
      "Epoch 45/100\n",
      "\u001b[1m183/183\u001b[0m \u001b[32m━━━━━━━━━━━━━━━━━━━━\u001b[0m\u001b[37m\u001b[0m \u001b[1m1s\u001b[0m 7ms/step - loss: 0.0026 - mae: 0.0392 - val_loss: 0.0020 - val_mae: 0.0331\n",
      "Epoch 46/100\n",
      "\u001b[1m183/183\u001b[0m \u001b[32m━━━━━━━━━━━━━━━━━━━━\u001b[0m\u001b[37m\u001b[0m \u001b[1m1s\u001b[0m 7ms/step - loss: 0.0029 - mae: 0.0403 - val_loss: 0.0017 - val_mae: 0.0304\n",
      "Epoch 47/100\n",
      "\u001b[1m183/183\u001b[0m \u001b[32m━━━━━━━━━━━━━━━━━━━━\u001b[0m\u001b[37m\u001b[0m \u001b[1m1s\u001b[0m 7ms/step - loss: 0.0028 - mae: 0.0408 - val_loss: 0.0020 - val_mae: 0.0353\n",
      "Epoch 48/100\n",
      "\u001b[1m183/183\u001b[0m \u001b[32m━━━━━━━━━━━━━━━━━━━━\u001b[0m\u001b[37m\u001b[0m \u001b[1m1s\u001b[0m 7ms/step - loss: 0.0027 - mae: 0.0405 - val_loss: 0.0016 - val_mae: 0.0295\n",
      "Epoch 49/100\n",
      "\u001b[1m183/183\u001b[0m \u001b[32m━━━━━━━━━━━━━━━━━━━━\u001b[0m\u001b[37m\u001b[0m \u001b[1m1s\u001b[0m 7ms/step - loss: 0.0027 - mae: 0.0400 - val_loss: 0.0017 - val_mae: 0.0304\n",
      "Epoch 50/100\n",
      "\u001b[1m183/183\u001b[0m \u001b[32m━━━━━━━━━━━━━━━━━━━━\u001b[0m\u001b[37m\u001b[0m \u001b[1m1s\u001b[0m 7ms/step - loss: 0.0029 - mae: 0.0406 - val_loss: 0.0017 - val_mae: 0.0304\n",
      "Epoch 51/100\n",
      "\u001b[1m183/183\u001b[0m \u001b[32m━━━━━━━━━━━━━━━━━━━━\u001b[0m\u001b[37m\u001b[0m \u001b[1m1s\u001b[0m 7ms/step - loss: 0.0028 - mae: 0.0411 - val_loss: 0.0018 - val_mae: 0.0333\n",
      "Epoch 52/100\n",
      "\u001b[1m183/183\u001b[0m \u001b[32m━━━━━━━━━━━━━━━━━━━━\u001b[0m\u001b[37m\u001b[0m \u001b[1m1s\u001b[0m 7ms/step - loss: 0.0028 - mae: 0.0402 - val_loss: 0.0021 - val_mae: 0.0367\n",
      "Epoch 53/100\n",
      "\u001b[1m183/183\u001b[0m \u001b[32m━━━━━━━━━━━━━━━━━━━━\u001b[0m\u001b[37m\u001b[0m \u001b[1m1s\u001b[0m 7ms/step - loss: 0.0029 - mae: 0.0416 - val_loss: 0.0017 - val_mae: 0.0313\n",
      "Epoch 54/100\n",
      "\u001b[1m183/183\u001b[0m \u001b[32m━━━━━━━━━━━━━━━━━━━━\u001b[0m\u001b[37m\u001b[0m \u001b[1m1s\u001b[0m 7ms/step - loss: 0.0028 - mae: 0.0403 - val_loss: 0.0018 - val_mae: 0.0309\n",
      "Epoch 55/100\n",
      "\u001b[1m183/183\u001b[0m \u001b[32m━━━━━━━━━━━━━━━━━━━━\u001b[0m\u001b[37m\u001b[0m \u001b[1m1s\u001b[0m 7ms/step - loss: 0.0029 - mae: 0.0416 - val_loss: 0.0017 - val_mae: 0.0302\n",
      "Epoch 56/100\n",
      "\u001b[1m183/183\u001b[0m \u001b[32m━━━━━━━━━━━━━━━━━━━━\u001b[0m\u001b[37m\u001b[0m \u001b[1m1s\u001b[0m 7ms/step - loss: 0.0029 - mae: 0.0410 - val_loss: 0.0021 - val_mae: 0.0337\n",
      "Epoch 57/100\n",
      "\u001b[1m183/183\u001b[0m \u001b[32m━━━━━━━━━━━━━━━━━━━━\u001b[0m\u001b[37m\u001b[0m \u001b[1m1s\u001b[0m 7ms/step - loss: 0.0031 - mae: 0.0420 - val_loss: 0.0018 - val_mae: 0.0317\n",
      "Epoch 58/100\n",
      "\u001b[1m183/183\u001b[0m \u001b[32m━━━━━━━━━━━━━━━━━━━━\u001b[0m\u001b[37m\u001b[0m \u001b[1m1s\u001b[0m 7ms/step - loss: 0.0027 - mae: 0.0398 - val_loss: 0.0016 - val_mae: 0.0299\n",
      "Epoch 59/100\n",
      "\u001b[1m183/183\u001b[0m \u001b[32m━━━━━━━━━━━━━━━━━━━━\u001b[0m\u001b[37m\u001b[0m \u001b[1m1s\u001b[0m 7ms/step - loss: 0.0029 - mae: 0.0405 - val_loss: 0.0016 - val_mae: 0.0297\n",
      "Epoch 60/100\n",
      "\u001b[1m183/183\u001b[0m \u001b[32m━━━━━━━━━━━━━━━━━━━━\u001b[0m\u001b[37m\u001b[0m \u001b[1m1s\u001b[0m 7ms/step - loss: 0.0029 - mae: 0.0409 - val_loss: 0.0016 - val_mae: 0.0296\n",
      "Epoch 61/100\n",
      "\u001b[1m183/183\u001b[0m \u001b[32m━━━━━━━━━━━━━━━━━━━━\u001b[0m\u001b[37m\u001b[0m \u001b[1m1s\u001b[0m 7ms/step - loss: 0.0029 - mae: 0.0412 - val_loss: 0.0018 - val_mae: 0.0312\n",
      "Epoch 62/100\n",
      "\u001b[1m183/183\u001b[0m \u001b[32m━━━━━━━━━━━━━━━━━━━━\u001b[0m\u001b[37m\u001b[0m \u001b[1m1s\u001b[0m 7ms/step - loss: 0.0027 - mae: 0.0398 - val_loss: 0.0016 - val_mae: 0.0301\n",
      "Epoch 63/100\n",
      "\u001b[1m183/183\u001b[0m \u001b[32m━━━━━━━━━━━━━━━━━━━━\u001b[0m\u001b[37m\u001b[0m \u001b[1m1s\u001b[0m 7ms/step - loss: 0.0028 - mae: 0.0398 - val_loss: 0.0018 - val_mae: 0.0321\n",
      "Epoch 64/100\n",
      "\u001b[1m183/183\u001b[0m \u001b[32m━━━━━━━━━━━━━━━━━━━━\u001b[0m\u001b[37m\u001b[0m \u001b[1m1s\u001b[0m 7ms/step - loss: 0.0029 - mae: 0.0408 - val_loss: 0.0016 - val_mae: 0.0302\n",
      "Epoch 65/100\n",
      "\u001b[1m183/183\u001b[0m \u001b[32m━━━━━━━━━━━━━━━━━━━━\u001b[0m\u001b[37m\u001b[0m \u001b[1m1s\u001b[0m 7ms/step - loss: 0.0028 - mae: 0.0402 - val_loss: 0.0018 - val_mae: 0.0320\n",
      "Epoch 66/100\n",
      "\u001b[1m183/183\u001b[0m \u001b[32m━━━━━━━━━━━━━━━━━━━━\u001b[0m\u001b[37m\u001b[0m \u001b[1m1s\u001b[0m 7ms/step - loss: 0.0028 - mae: 0.0414 - val_loss: 0.0016 - val_mae: 0.0301\n",
      "Epoch 67/100\n",
      "\u001b[1m183/183\u001b[0m \u001b[32m━━━━━━━━━━━━━━━━━━━━\u001b[0m\u001b[37m\u001b[0m \u001b[1m2s\u001b[0m 8ms/step - loss: 0.0027 - mae: 0.0391 - val_loss: 0.0020 - val_mae: 0.0334\n",
      "Epoch 68/100\n",
      "\u001b[1m183/183\u001b[0m \u001b[32m━━━━━━━━━━━━━━━━━━━━\u001b[0m\u001b[37m\u001b[0m \u001b[1m1s\u001b[0m 7ms/step - loss: 0.0029 - mae: 0.0408 - val_loss: 0.0019 - val_mae: 0.0334\n",
      "Epoch 69/100\n",
      "\u001b[1m183/183\u001b[0m \u001b[32m━━━━━━━━━━━━━━━━━━━━\u001b[0m\u001b[37m\u001b[0m \u001b[1m1s\u001b[0m 7ms/step - loss: 0.0029 - mae: 0.0405 - val_loss: 0.0018 - val_mae: 0.0309\n",
      "Epoch 70/100\n",
      "\u001b[1m183/183\u001b[0m \u001b[32m━━━━━━━━━━━━━━━━━━━━\u001b[0m\u001b[37m\u001b[0m \u001b[1m1s\u001b[0m 7ms/step - loss: 0.0027 - mae: 0.0399 - val_loss: 0.0016 - val_mae: 0.0296\n",
      "Epoch 71/100\n",
      "\u001b[1m183/183\u001b[0m \u001b[32m━━━━━━━━━━━━━━━━━━━━\u001b[0m\u001b[37m\u001b[0m \u001b[1m1s\u001b[0m 7ms/step - loss: 0.0026 - mae: 0.0388 - val_loss: 0.0017 - val_mae: 0.0299\n",
      "Epoch 72/100\n",
      "\u001b[1m183/183\u001b[0m \u001b[32m━━━━━━━━━━━━━━━━━━━━\u001b[0m\u001b[37m\u001b[0m \u001b[1m1s\u001b[0m 7ms/step - loss: 0.0027 - mae: 0.0395 - val_loss: 0.0017 - val_mae: 0.0308\n",
      "Epoch 73/100\n",
      "\u001b[1m183/183\u001b[0m \u001b[32m━━━━━━━━━━━━━━━━━━━━\u001b[0m\u001b[37m\u001b[0m \u001b[1m1s\u001b[0m 7ms/step - loss: 0.0029 - mae: 0.0404 - val_loss: 0.0017 - val_mae: 0.0308\n",
      "Epoch 74/100\n",
      "\u001b[1m183/183\u001b[0m \u001b[32m━━━━━━━━━━━━━━━━━━━━\u001b[0m\u001b[37m\u001b[0m \u001b[1m1s\u001b[0m 7ms/step - loss: 0.0027 - mae: 0.0387 - val_loss: 0.0017 - val_mae: 0.0303\n",
      "Epoch 75/100\n",
      "\u001b[1m183/183\u001b[0m \u001b[32m━━━━━━━━━━━━━━━━━━━━\u001b[0m\u001b[37m\u001b[0m \u001b[1m1s\u001b[0m 7ms/step - loss: 0.0028 - mae: 0.0400 - val_loss: 0.0018 - val_mae: 0.0324\n",
      "Epoch 76/100\n",
      "\u001b[1m183/183\u001b[0m \u001b[32m━━━━━━━━━━━━━━━━━━━━\u001b[0m\u001b[37m\u001b[0m \u001b[1m1s\u001b[0m 7ms/step - loss: 0.0026 - mae: 0.0395 - val_loss: 0.0017 - val_mae: 0.0299\n",
      "Epoch 77/100\n",
      "\u001b[1m183/183\u001b[0m \u001b[32m━━━━━━━━━━━━━━━━━━━━\u001b[0m\u001b[37m\u001b[0m \u001b[1m1s\u001b[0m 7ms/step - loss: 0.0028 - mae: 0.0397 - val_loss: 0.0017 - val_mae: 0.0299\n",
      "Epoch 78/100\n",
      "\u001b[1m183/183\u001b[0m \u001b[32m━━━━━━━━━━━━━━━━━━━━\u001b[0m\u001b[37m\u001b[0m \u001b[1m1s\u001b[0m 7ms/step - loss: 0.0029 - mae: 0.0413 - val_loss: 0.0017 - val_mae: 0.0298\n",
      "Epoch 79/100\n",
      "\u001b[1m183/183\u001b[0m \u001b[32m━━━━━━━━━━━━━━━━━━━━\u001b[0m\u001b[37m\u001b[0m \u001b[1m1s\u001b[0m 7ms/step - loss: 0.0027 - mae: 0.0404 - val_loss: 0.0017 - val_mae: 0.0297\n",
      "Epoch 80/100\n",
      "\u001b[1m183/183\u001b[0m \u001b[32m━━━━━━━━━━━━━━━━━━━━\u001b[0m\u001b[37m\u001b[0m \u001b[1m1s\u001b[0m 7ms/step - loss: 0.0028 - mae: 0.0402 - val_loss: 0.0019 - val_mae: 0.0330\n",
      "Epoch 81/100\n",
      "\u001b[1m183/183\u001b[0m \u001b[32m━━━━━━━━━━━━━━━━━━━━\u001b[0m\u001b[37m\u001b[0m \u001b[1m1s\u001b[0m 7ms/step - loss: 0.0029 - mae: 0.0406 - val_loss: 0.0020 - val_mae: 0.0358\n",
      "Epoch 82/100\n",
      "\u001b[1m183/183\u001b[0m \u001b[32m━━━━━━━━━━━━━━━━━━━━\u001b[0m\u001b[37m\u001b[0m \u001b[1m1s\u001b[0m 7ms/step - loss: 0.0028 - mae: 0.0404 - val_loss: 0.0017 - val_mae: 0.0310\n",
      "Epoch 83/100\n",
      "\u001b[1m183/183\u001b[0m \u001b[32m━━━━━━━━━━━━━━━━━━━━\u001b[0m\u001b[37m\u001b[0m \u001b[1m1s\u001b[0m 7ms/step - loss: 0.0027 - mae: 0.0401 - val_loss: 0.0017 - val_mae: 0.0297\n",
      "Epoch 84/100\n",
      "\u001b[1m183/183\u001b[0m \u001b[32m━━━━━━━━━━━━━━━━━━━━\u001b[0m\u001b[37m\u001b[0m \u001b[1m1s\u001b[0m 7ms/step - loss: 0.0026 - mae: 0.0385 - val_loss: 0.0019 - val_mae: 0.0331\n",
      "Epoch 85/100\n",
      "\u001b[1m183/183\u001b[0m \u001b[32m━━━━━━━━━━━━━━━━━━━━\u001b[0m\u001b[37m\u001b[0m \u001b[1m1s\u001b[0m 7ms/step - loss: 0.0027 - mae: 0.0398 - val_loss: 0.0018 - val_mae: 0.0308\n",
      "Epoch 86/100\n",
      "\u001b[1m183/183\u001b[0m \u001b[32m━━━━━━━━━━━━━━━━━━━━\u001b[0m\u001b[37m\u001b[0m \u001b[1m1s\u001b[0m 7ms/step - loss: 0.0029 - mae: 0.0405 - val_loss: 0.0018 - val_mae: 0.0321\n",
      "Epoch 87/100\n",
      "\u001b[1m183/183\u001b[0m \u001b[32m━━━━━━━━━━━━━━━━━━━━\u001b[0m\u001b[37m\u001b[0m \u001b[1m1s\u001b[0m 7ms/step - loss: 0.0028 - mae: 0.0398 - val_loss: 0.0017 - val_mae: 0.0299\n",
      "Epoch 88/100\n",
      "\u001b[1m183/183\u001b[0m \u001b[32m━━━━━━━━━━━━━━━━━━━━\u001b[0m\u001b[37m\u001b[0m \u001b[1m1s\u001b[0m 7ms/step - loss: 0.0027 - mae: 0.0398 - val_loss: 0.0017 - val_mae: 0.0299\n",
      "Epoch 89/100\n",
      "\u001b[1m183/183\u001b[0m \u001b[32m━━━━━━━━━━━━━━━━━━━━\u001b[0m\u001b[37m\u001b[0m \u001b[1m1s\u001b[0m 7ms/step - loss: 0.0028 - mae: 0.0398 - val_loss: 0.0018 - val_mae: 0.0313\n",
      "Epoch 90/100\n",
      "\u001b[1m183/183\u001b[0m \u001b[32m━━━━━━━━━━━━━━━━━━━━\u001b[0m\u001b[37m\u001b[0m \u001b[1m1s\u001b[0m 8ms/step - loss: 0.0028 - mae: 0.0401 - val_loss: 0.0016 - val_mae: 0.0294\n",
      "Epoch 91/100\n",
      "\u001b[1m183/183\u001b[0m \u001b[32m━━━━━━━━━━━━━━━━━━━━\u001b[0m\u001b[37m\u001b[0m \u001b[1m1s\u001b[0m 8ms/step - loss: 0.0028 - mae: 0.0398 - val_loss: 0.0018 - val_mae: 0.0312\n",
      "Epoch 92/100\n",
      "\u001b[1m183/183\u001b[0m \u001b[32m━━━━━━━━━━━━━━━━━━━━\u001b[0m\u001b[37m\u001b[0m \u001b[1m1s\u001b[0m 7ms/step - loss: 0.0029 - mae: 0.0406 - val_loss: 0.0017 - val_mae: 0.0310\n",
      "Epoch 93/100\n",
      "\u001b[1m183/183\u001b[0m \u001b[32m━━━━━━━━━━━━━━━━━━━━\u001b[0m\u001b[37m\u001b[0m \u001b[1m1s\u001b[0m 7ms/step - loss: 0.0028 - mae: 0.0409 - val_loss: 0.0020 - val_mae: 0.0326\n",
      "Epoch 94/100\n",
      "\u001b[1m183/183\u001b[0m \u001b[32m━━━━━━━━━━━━━━━━━━━━\u001b[0m\u001b[37m\u001b[0m \u001b[1m1s\u001b[0m 7ms/step - loss: 0.0026 - mae: 0.0389 - val_loss: 0.0017 - val_mae: 0.0304\n",
      "Epoch 95/100\n",
      "\u001b[1m183/183\u001b[0m \u001b[32m━━━━━━━━━━━━━━━━━━━━\u001b[0m\u001b[37m\u001b[0m \u001b[1m1s\u001b[0m 7ms/step - loss: 0.0027 - mae: 0.0395 - val_loss: 0.0016 - val_mae: 0.0299\n",
      "Epoch 96/100\n",
      "\u001b[1m183/183\u001b[0m \u001b[32m━━━━━━━━━━━━━━━━━━━━\u001b[0m\u001b[37m\u001b[0m \u001b[1m1s\u001b[0m 7ms/step - loss: 0.0027 - mae: 0.0395 - val_loss: 0.0017 - val_mae: 0.0300\n",
      "Epoch 97/100\n",
      "\u001b[1m183/183\u001b[0m \u001b[32m━━━━━━━━━━━━━━━━━━━━\u001b[0m\u001b[37m\u001b[0m \u001b[1m1s\u001b[0m 7ms/step - loss: 0.0025 - mae: 0.0383 - val_loss: 0.0016 - val_mae: 0.0297\n",
      "Epoch 98/100\n",
      "\u001b[1m183/183\u001b[0m \u001b[32m━━━━━━━━━━━━━━━━━━━━\u001b[0m\u001b[37m\u001b[0m \u001b[1m1s\u001b[0m 7ms/step - loss: 0.0026 - mae: 0.0388 - val_loss: 0.0019 - val_mae: 0.0315\n",
      "Epoch 99/100\n",
      "\u001b[1m183/183\u001b[0m \u001b[32m━━━━━━━━━━━━━━━━━━━━\u001b[0m\u001b[37m\u001b[0m \u001b[1m1s\u001b[0m 7ms/step - loss: 0.0028 - mae: 0.0405 - val_loss: 0.0017 - val_mae: 0.0310\n",
      "Epoch 100/100\n",
      "\u001b[1m183/183\u001b[0m \u001b[32m━━━━━━━━━━━━━━━━━━━━\u001b[0m\u001b[37m\u001b[0m \u001b[1m1s\u001b[0m 7ms/step - loss: 0.0028 - mae: 0.0396 - val_loss: 0.0016 - val_mae: 0.0297\n"
     ]
    }
   ],
   "source": [
    "history=naive_model.fit(np.array(X_scaled).reshape(-1,window_size,1),Y_scaled,epochs=100,batch_size=16,validation_split=0.2)"
   ]
  },
  {
   "cell_type": "code",
   "execution_count": 24,
   "metadata": {
    "execution": {
     "iopub.execute_input": "2024-12-27T08:44:39.324016Z",
     "iopub.status.busy": "2024-12-27T08:44:39.323678Z",
     "iopub.status.idle": "2024-12-27T08:44:39.988888Z",
     "shell.execute_reply": "2024-12-27T08:44:39.987957Z",
     "shell.execute_reply.started": "2024-12-27T08:44:39.323991Z"
    },
    "trusted": true
   },
   "outputs": [
    {
     "data": {
      "image/png": "[encoded data removed]",
      "text/plain": [
       "<Figure size 640x480 with 1 Axes>"
      ]
     },
     "metadata": {},
     "output_type": "display_data"
    },
    {
     "data": {
      "image/png": "[encoded data removed]",
      "text/plain": [
       "<Figure size 640x480 with 1 Axes>"
      ]
     },
     "metadata": {},
     "output_type": "display_data"
    }
   ],
   "source": [
    "plot_loss_curves(history)"
   ]
  },
  {
   "cell_type": "code",
   "execution_count": null,
   "metadata": {
    "trusted": true
   },
   "outputs": [],
   "source": []
  },
  {
   "cell_type": "code",
   "execution_count": 29,
   "metadata": {
    "execution": {
     "iopub.execute_input": "2024-12-27T08:46:47.753756Z",
     "iopub.status.busy": "2024-12-27T08:46:47.753397Z",
     "iopub.status.idle": "2024-12-27T08:46:47.799979Z",
     "shell.execute_reply": "2024-12-27T08:46:47.799091Z",
     "shell.execute_reply.started": "2024-12-27T08:46:47.753729Z"
    },
    "trusted": true
   },
   "outputs": [
    {
     "name": "stdout",
     "output_type": "stream",
     "text": [
      "            tavg  tmin  tmax  prcp  snow   wdir  wspd  wpgt    pres  tsun\n",
      "time                                                                     \n",
      "2024-06-01  34.5  30.0  41.6   0.0   NaN  203.0  14.7   NaN  1003.3   NaN\n",
      "2024-06-02  34.5  30.0  41.4   0.0   NaN  212.0  10.9   NaN  1004.4   NaN\n",
      "2024-06-03  34.8  30.0  41.6   0.0   NaN  220.0  11.6   NaN  1003.9   NaN\n",
      "2024-06-04  34.8  30.0  41.4   0.0   NaN  227.0  15.0   NaN  1004.4   NaN\n",
      "2024-06-05  34.5  29.0  41.4   0.0   NaN  223.0  14.3   NaN  1005.1   NaN\n",
      "...          ...   ...   ...   ...   ...    ...   ...   ...     ...   ...\n",
      "2024-11-27  22.9  16.0  30.0   0.0   NaN   37.0   5.9   NaN  1013.2   NaN\n",
      "2024-11-28  23.6  18.0  30.0   0.0   NaN   40.0   6.4   NaN  1013.1   NaN\n",
      "2024-11-29  22.3  18.0  28.0   0.0   NaN   27.0  12.1   NaN  1014.1   NaN\n",
      "2024-11-30  21.0  16.0  27.0   0.0   NaN   20.0  13.3   NaN  1012.8   NaN\n",
      "2024-12-01  21.2  15.0  28.0   0.0   NaN   31.0  13.9   NaN  1010.9   NaN\n",
      "\n",
      "[184 rows x 10 columns]\n"
     ]
    }
   ],
   "source": [
    "from meteostat import Point, Daily\n",
    "import datetime\n",
    "\n",
    "\n",
    "location = Point( 23.0215374, 72.5800568)\n",
    "start = datetime.datetime(2024, 6, 1)\n",
    "end = datetime.datetime(2024, 12, 1)\n",
    "\n",
    "# Get historical data\n",
    "data = Daily(location, start, end)\n",
    "data = data.fetch()\n",
    "\n",
    "print(data)\n"
   ]
  },
  {
   "cell_type": "code",
   "execution_count": 30,
   "metadata": {
    "execution": {
     "iopub.execute_input": "2024-12-27T08:46:49.253617Z",
     "iopub.status.busy": "2024-12-27T08:46:49.253108Z",
     "iopub.status.idle": "2024-12-27T08:46:49.260040Z",
     "shell.execute_reply": "2024-12-27T08:46:49.258642Z",
     "shell.execute_reply.started": "2024-12-27T08:46:49.253575Z"
    },
    "trusted": true
   },
   "outputs": [
    {
     "name": "stdout",
     "output_type": "stream",
     "text": [
      "(184, 10)\n"
     ]
    }
   ],
   "source": [
    "print(data.shape)"
   ]
  },
  {
   "cell_type": "code",
   "execution_count": 31,
   "metadata": {
    "execution": {
     "iopub.execute_input": "2024-12-27T08:46:49.933492Z",
     "iopub.status.busy": "2024-12-27T08:46:49.933065Z",
     "iopub.status.idle": "2024-12-27T08:46:49.938404Z",
     "shell.execute_reply": "2024-12-27T08:46:49.937374Z",
     "shell.execute_reply.started": "2024-12-27T08:46:49.933456Z"
    },
    "trusted": true
   },
   "outputs": [],
   "source": [
    "next_6_months_temp=data[\"tavg\"]\n"
   ]
  },
  {
   "cell_type": "code",
   "execution_count": 32,
   "metadata": {
    "execution": {
     "iopub.execute_input": "2024-12-27T08:46:51.372878Z",
     "iopub.status.busy": "2024-12-27T08:46:51.372580Z",
     "iopub.status.idle": "2024-12-27T08:46:51.628729Z",
     "shell.execute_reply": "2024-12-27T08:46:51.627869Z",
     "shell.execute_reply.started": "2024-12-27T08:46:51.372854Z"
    },
    "trusted": true
   },
   "outputs": [
    {
     "data": {
      "text/plain": [
       "[<matplotlib.lines.Line2D at 0x7ea61ebcce80>]"
      ]
     },
     "execution_count": 32,
     "metadata": {},
     "output_type": "execute_result"
    },
    {
     "data": {
      "image/png": "[encoded data removed]",
      "text/plain": [
       "<Figure size 640x480 with 1 Axes>"
      ]
     },
     "metadata": {},
     "output_type": "display_data"
    }
   ],
   "source": [
    "plt.plot(next_6_months_temp.values.flatten())"
   ]
  },
  {
   "cell_type": "code",
   "execution_count": 69,
   "metadata": {
    "execution": {
     "iopub.execute_input": "2024-12-27T08:55:43.148577Z",
     "iopub.status.busy": "2024-12-27T08:55:43.148209Z",
     "iopub.status.idle": "2024-12-27T08:55:43.200645Z",
     "shell.execute_reply": "2024-12-27T08:55:43.199762Z",
     "shell.execute_reply.started": "2024-12-27T08:55:43.148553Z"
    },
    "trusted": true
   },
   "outputs": [
    {
     "name": "stdout",
     "output_type": "stream",
     "text": [
      "            tavg  tmin  tmax  prcp  snow   wdir  wspd  wpgt    pres  tsun\n",
      "time                                                                     \n",
      "2024-05-26  35.9  30.0  43.0   0.0   NaN  235.0  14.3   NaN  1000.6   NaN\n",
      "2024-05-27  35.2  29.0  45.0   0.0   NaN  221.0  13.9   NaN   999.1   NaN\n",
      "2024-05-28  34.4  29.0  43.4   0.0   NaN  214.0  15.5   NaN   999.4   NaN\n",
      "2024-05-29  34.1  29.0  41.4   0.0   NaN  206.0  17.7   NaN   999.8   NaN\n",
      "2024-05-30  34.3  30.0  43.0   0.0   NaN  201.0  13.6   NaN  1001.5   NaN\n",
      "2024-05-31  34.4  30.0  42.4   0.0   NaN  198.0  15.7   NaN  1003.3   NaN\n"
     ]
    }
   ],
   "source": [
    "location = Point( 23.0215374, 72.5800568)\n",
    "start = datetime.datetime(2024, 5, 26)\n",
    "end = datetime.datetime(2024, 5, 31)\n",
    "\n",
    "# Get historical data\n",
    "data_for_model = Daily(location, start, end)\n",
    "data_for_model = data_for_model.fetch()\n",
    "\n",
    "print(data_for_model)\n"
   ]
  },
  {
   "cell_type": "code",
   "execution_count": 70,
   "metadata": {
    "execution": {
     "iopub.execute_input": "2024-12-27T08:55:44.638106Z",
     "iopub.status.busy": "2024-12-27T08:55:44.637791Z",
     "iopub.status.idle": "2024-12-27T08:55:44.644578Z",
     "shell.execute_reply": "2024-12-27T08:55:44.643423Z",
     "shell.execute_reply.started": "2024-12-27T08:55:44.638082Z"
    },
    "trusted": true
   },
   "outputs": [
    {
     "data": {
      "text/plain": [
       "array([35.9, 35.2, 34.4, 34.1, 34.3, 34.4])"
      ]
     },
     "execution_count": 70,
     "metadata": {},
     "output_type": "execute_result"
    }
   ],
   "source": [
    "data_for_model[\"tavg\"].values"
   ]
  },
  {
   "cell_type": "code",
   "execution_count": 71,
   "metadata": {
    "execution": {
     "iopub.execute_input": "2024-12-27T08:55:45.208022Z",
     "iopub.status.busy": "2024-12-27T08:55:45.207676Z",
     "iopub.status.idle": "2024-12-27T08:55:45.213348Z",
     "shell.execute_reply": "2024-12-27T08:55:45.212303Z",
     "shell.execute_reply.started": "2024-12-27T08:55:45.207984Z"
    },
    "trusted": true
   },
   "outputs": [],
   "source": [
    "data_for_model=X_scaler.transform(np.array(data_for_model[\"tavg\"].values).reshape(-1,1))\n"
   ]
  },
  {
   "cell_type": "code",
   "execution_count": 72,
   "metadata": {
    "execution": {
     "iopub.execute_input": "2024-12-27T08:55:47.253815Z",
     "iopub.status.busy": "2024-12-27T08:55:47.253475Z",
     "iopub.status.idle": "2024-12-27T08:55:47.257824Z",
     "shell.execute_reply": "2024-12-27T08:55:47.256754Z",
     "shell.execute_reply.started": "2024-12-27T08:55:47.253787Z"
    },
    "trusted": true
   },
   "outputs": [],
   "source": [
    "data_for_model=data_for_model.reshape(1,6,1)"
   ]
  },
  {
   "cell_type": "code",
   "execution_count": 75,
   "metadata": {
    "execution": {
     "iopub.execute_input": "2024-12-27T08:55:52.473518Z",
     "iopub.status.busy": "2024-12-27T08:55:52.473137Z",
     "iopub.status.idle": "2024-12-27T08:55:52.479953Z",
     "shell.execute_reply": "2024-12-27T08:55:52.478878Z",
     "shell.execute_reply.started": "2024-12-27T08:55:52.473490Z"
    },
    "trusted": true
   },
   "outputs": [
    {
     "data": {
      "text/plain": [
       "array([0.83265306, 0.8       , 0.7877551 , 0.79591837, 0.8       ,\n",
       "       1.2       ])"
      ]
     },
     "execution_count": 75,
     "metadata": {},
     "output_type": "execute_result"
    }
   ],
   "source": [
    "copied=data_for_model.copy()\n",
    "copied=copied[1:]\n",
    "copied = np.append(copied, 1.2)\n",
    "copied"
   ]
  },
  {
   "cell_type": "code",
   "execution_count": 74,
   "metadata": {
    "execution": {
     "iopub.execute_input": "2024-12-27T08:55:50.358248Z",
     "iopub.status.busy": "2024-12-27T08:55:50.357882Z",
     "iopub.status.idle": "2024-12-27T08:55:50.362229Z",
     "shell.execute_reply": "2024-12-27T08:55:50.361097Z",
     "shell.execute_reply.started": "2024-12-27T08:55:50.358216Z"
    },
    "trusted": true
   },
   "outputs": [],
   "source": [
    "data_for_model=data_for_model.flatten()"
   ]
  },
  {
   "cell_type": "code",
   "execution_count": 76,
   "metadata": {
    "execution": {
     "iopub.execute_input": "2024-12-27T08:55:55.168418Z",
     "iopub.status.busy": "2024-12-27T08:55:55.168092Z",
     "iopub.status.idle": "2024-12-27T08:55:55.174039Z",
     "shell.execute_reply": "2024-12-27T08:55:55.172872Z",
     "shell.execute_reply.started": "2024-12-27T08:55:55.168394Z"
    },
    "trusted": true
   },
   "outputs": [
    {
     "data": {
      "text/plain": [
       "array([0.86122449, 0.83265306, 0.8       , 0.7877551 , 0.79591837,\n",
       "       0.8       ])"
      ]
     },
     "execution_count": 76,
     "metadata": {},
     "output_type": "execute_result"
    }
   ],
   "source": [
    "data_for_model"
   ]
  },
  {
   "cell_type": "code",
   "execution_count": 77,
   "metadata": {
    "collapsed": true,
    "execution": {
     "iopub.execute_input": "2024-12-27T08:56:01.293711Z",
     "iopub.status.busy": "2024-12-27T08:56:01.293368Z",
     "iopub.status.idle": "2024-12-27T08:56:12.930005Z",
     "shell.execute_reply": "2024-12-27T08:56:12.929274Z",
     "shell.execute_reply.started": "2024-12-27T08:56:01.293682Z"
    },
    "jupyter": {
     "outputs_hidden": true
    },
    "trusted": true
   },
   "outputs": [
    {
     "name": "stdout",
     "output_type": "stream",
     "text": [
      "[0.86122449 0.83265306 0.8        0.7877551  0.79591837 0.8       ]\n",
      "\u001b[1m1/1\u001b[0m \u001b[32m━━━━━━━━━━━━━━━━━━━━\u001b[0m\u001b[37m\u001b[0m \u001b[1m0s\u001b[0m 216ms/step\n",
      "[0.83265306 0.8        0.7877551  0.79591837 0.8        0.79534328]\n",
      "\u001b[1m1/1\u001b[0m \u001b[32m━━━━━━━━━━━━━━━━━━━━\u001b[0m\u001b[37m\u001b[0m \u001b[1m0s\u001b[0m 21ms/step\n",
      "[0.8        0.7877551  0.79591837 0.8        0.79534328 0.78833389]\n",
      "\u001b[1m1/1\u001b[0m \u001b[32m━━━━━━━━━━━━━━━━━━━━\u001b[0m\u001b[37m\u001b[0m \u001b[1m0s\u001b[0m 20ms/step\n",
      "[0.7877551  0.79591837 0.8        0.79534328 0.78833389 0.78208059]\n",
      "\u001b[1m1/1\u001b[0m \u001b[32m━━━━━━━━━━━━━━━━━━━━\u001b[0m\u001b[37m\u001b[0m \u001b[1m0s\u001b[0m 19ms/step\n",
      "[0.79591837 0.8        0.79534328 0.78833389 0.78208059 0.77802241]\n",
      "\u001b[1m1/1\u001b[0m \u001b[32m━━━━━━━━━━━━━━━━━━━━\u001b[0m\u001b[37m\u001b[0m \u001b[1m0s\u001b[0m 20ms/step\n",
      "[0.8        0.79534328 0.78833389 0.78208059 0.77802241 0.77534229]\n",
      "\u001b[1m1/1\u001b[0m \u001b[32m━━━━━━━━━━━━━━━━━━━━\u001b[0m\u001b[37m\u001b[0m \u001b[1m0s\u001b[0m 19ms/step\n",
      "[0.79534328 0.78833389 0.78208059 0.77802241 0.77534229 0.77279735]\n",
      "\u001b[1m1/1\u001b[0m \u001b[32m━━━━━━━━━━━━━━━━━━━━\u001b[0m\u001b[37m\u001b[0m \u001b[1m0s\u001b[0m 18ms/step\n",
      "[0.78833389 0.78208059 0.77802241 0.77534229 0.77279735 0.76998913]\n",
      "\u001b[1m1/1\u001b[0m \u001b[32m━━━━━━━━━━━━━━━━━━━━\u001b[0m\u001b[37m\u001b[0m \u001b[1m0s\u001b[0m 18ms/step\n",
      "[0.78208059 0.77802241 0.77534229 0.77279735 0.76998913 0.76708901]\n",
      "\u001b[1m1/1\u001b[0m \u001b[32m━━━━━━━━━━━━━━━━━━━━\u001b[0m\u001b[37m\u001b[0m \u001b[1m0s\u001b[0m 20ms/step\n",
      "[0.77802241 0.77534229 0.77279735 0.76998913 0.76708901 0.7643652 ]\n",
      "\u001b[1m1/1\u001b[0m \u001b[32m━━━━━━━━━━━━━━━━━━━━\u001b[0m\u001b[37m\u001b[0m \u001b[1m0s\u001b[0m 19ms/step\n",
      "[0.77534229 0.77279735 0.76998913 0.76708901 0.7643652  0.76193106]\n",
      "\u001b[1m1/1\u001b[0m \u001b[32m━━━━━━━━━━━━━━━━━━━━\u001b[0m\u001b[37m\u001b[0m \u001b[1m0s\u001b[0m 19ms/step\n",
      "[0.77279735 0.76998913 0.76708901 0.7643652  0.76193106 0.75973916]\n",
      "\u001b[1m1/1\u001b[0m \u001b[32m━━━━━━━━━━━━━━━━━━━━\u001b[0m\u001b[37m\u001b[0m \u001b[1m0s\u001b[0m 19ms/step\n",
      "[0.76998913 0.76708901 0.7643652  0.76193106 0.75973916 0.75770146]\n",
      "\u001b[1m1/1\u001b[0m \u001b[32m━━━━━━━━━━━━━━━━━━━━\u001b[0m\u001b[37m\u001b[0m \u001b[1m0s\u001b[0m 19ms/step\n",
      "[0.76708901 0.7643652  0.76193106 0.75973916 0.75770146 0.75576913]\n",
      "\u001b[1m1/1\u001b[0m \u001b[32m━━━━━━━━━━━━━━━━━━━━\u001b[0m\u001b[37m\u001b[0m \u001b[1m0s\u001b[0m 19ms/step\n",
      "[0.7643652  0.76193106 0.75973916 0.75770146 0.75576913 0.75393701]\n",
      "\u001b[1m1/1\u001b[0m \u001b[32m━━━━━━━━━━━━━━━━━━━━\u001b[0m\u001b[37m\u001b[0m \u001b[1m0s\u001b[0m 19ms/step\n",
      "[0.76193106 0.75973916 0.75770146 0.75576913 0.75393701 0.75221503]\n",
      "\u001b[1m1/1\u001b[0m \u001b[32m━━━━━━━━━━━━━━━━━━━━\u001b[0m\u001b[37m\u001b[0m \u001b[1m0s\u001b[0m 19ms/step\n",
      "[0.75973916 0.75770146 0.75576913 0.75393701 0.75221503 0.75060636]\n",
      "\u001b[1m1/1\u001b[0m \u001b[32m━━━━━━━━━━━━━━━━━━━━\u001b[0m\u001b[37m\u001b[0m \u001b[1m0s\u001b[0m 17ms/step\n",
      "[0.75770146 0.75576913 0.75393701 0.75221503 0.75060636 0.74910331]\n",
      "\u001b[1m1/1\u001b[0m \u001b[32m━━━━━━━━━━━━━━━━━━━━\u001b[0m\u001b[37m\u001b[0m \u001b[1m0s\u001b[0m 18ms/step\n",
      "[0.75576913 0.75393701 0.75221503 0.75060636 0.74910331 0.74769419]\n",
      "\u001b[1m1/1\u001b[0m \u001b[32m━━━━━━━━━━━━━━━━━━━━\u001b[0m\u001b[37m\u001b[0m \u001b[1m0s\u001b[0m 19ms/step\n",
      "[0.75393701 0.75221503 0.75060636 0.74910331 0.74769419 0.7463693 ]\n",
      "\u001b[1m1/1\u001b[0m \u001b[32m━━━━━━━━━━━━━━━━━━━━\u001b[0m\u001b[37m\u001b[0m \u001b[1m0s\u001b[0m 18ms/step\n",
      "[0.75221503 0.75060636 0.74910331 0.74769419 0.7463693  0.74512255]\n",
      "\u001b[1m1/1\u001b[0m \u001b[32m━━━━━━━━━━━━━━━━━━━━\u001b[0m\u001b[37m\u001b[0m \u001b[1m0s\u001b[0m 21ms/step\n",
      "[0.75060636 0.74910331 0.74769419 0.7463693  0.74512255 0.74394971]\n",
      "\u001b[1m1/1\u001b[0m \u001b[32m━━━━━━━━━━━━━━━━━━━━\u001b[0m\u001b[37m\u001b[0m \u001b[1m0s\u001b[0m 19ms/step\n",
      "[0.74910331 0.74769419 0.7463693  0.74512255 0.74394971 0.74284673]\n",
      "\u001b[1m1/1\u001b[0m \u001b[32m━━━━━━━━━━━━━━━━━━━━\u001b[0m\u001b[37m\u001b[0m \u001b[1m0s\u001b[0m 19ms/step\n",
      "[0.74769419 0.7463693  0.74512255 0.74394971 0.74284673 0.74180931]\n",
      "\u001b[1m1/1\u001b[0m \u001b[32m━━━━━━━━━━━━━━━━━━━━\u001b[0m\u001b[37m\u001b[0m \u001b[1m0s\u001b[0m 19ms/step\n",
      "[0.7463693  0.74512255 0.74394971 0.74284673 0.74180931 0.74083292]\n",
      "\u001b[1m1/1\u001b[0m \u001b[32m━━━━━━━━━━━━━━━━━━━━\u001b[0m\u001b[37m\u001b[0m \u001b[1m0s\u001b[0m 19ms/step\n",
      "[0.74512255 0.74394971 0.74284673 0.74180931 0.74083292 0.73991334]\n",
      "\u001b[1m1/1\u001b[0m \u001b[32m━━━━━━━━━━━━━━━━━━━━\u001b[0m\u001b[37m\u001b[0m \u001b[1m0s\u001b[0m 19ms/step\n",
      "[0.74394971 0.74284673 0.74180931 0.74083292 0.73991334 0.73904693]\n",
      "\u001b[1m1/1\u001b[0m \u001b[32m━━━━━━━━━━━━━━━━━━━━\u001b[0m\u001b[37m\u001b[0m \u001b[1m0s\u001b[0m 20ms/step\n",
      "[0.74284673 0.74180931 0.74083292 0.73991334 0.73904693 0.73823041]\n",
      "\u001b[1m1/1\u001b[0m \u001b[32m━━━━━━━━━━━━━━━━━━━━\u001b[0m\u001b[37m\u001b[0m \u001b[1m0s\u001b[0m 19ms/step\n",
      "[0.74180931 0.74083292 0.73991334 0.73904693 0.73823041 0.73746073]\n",
      "\u001b[1m1/1\u001b[0m \u001b[32m━━━━━━━━━━━━━━━━━━━━\u001b[0m\u001b[37m\u001b[0m \u001b[1m0s\u001b[0m 18ms/step\n",
      "[0.74083292 0.73991334 0.73904693 0.73823041 0.73746073 0.73673499]\n",
      "\u001b[1m1/1\u001b[0m \u001b[32m━━━━━━━━━━━━━━━━━━━━\u001b[0m\u001b[37m\u001b[0m \u001b[1m0s\u001b[0m 18ms/step\n",
      "[0.73991334 0.73904693 0.73823041 0.73746073 0.73673499 0.73605049]\n",
      "\u001b[1m1/1\u001b[0m \u001b[32m━━━━━━━━━━━━━━━━━━━━\u001b[0m\u001b[37m\u001b[0m \u001b[1m0s\u001b[0m 20ms/step\n",
      "[0.73904693 0.73823041 0.73746073 0.73673499 0.73605049 0.73540479]\n",
      "\u001b[1m1/1\u001b[0m \u001b[32m━━━━━━━━━━━━━━━━━━━━\u001b[0m\u001b[37m\u001b[0m \u001b[1m0s\u001b[0m 19ms/step\n",
      "[0.73823041 0.73746073 0.73673499 0.73605049 0.73540479 0.73479545]\n",
      "\u001b[1m1/1\u001b[0m \u001b[32m━━━━━━━━━━━━━━━━━━━━\u001b[0m\u001b[37m\u001b[0m \u001b[1m0s\u001b[0m 22ms/step\n",
      "[0.73746073 0.73673499 0.73605049 0.73540479 0.73479545 0.73422027]\n",
      "\u001b[1m1/1\u001b[0m \u001b[32m━━━━━━━━━━━━━━━━━━━━\u001b[0m\u001b[37m\u001b[0m \u001b[1m0s\u001b[0m 19ms/step\n",
      "[0.73673499 0.73605049 0.73540479 0.73479545 0.73422027 0.73367727]\n",
      "\u001b[1m1/1\u001b[0m \u001b[32m━━━━━━━━━━━━━━━━━━━━\u001b[0m\u001b[37m\u001b[0m \u001b[1m0s\u001b[0m 18ms/step\n",
      "[0.73605049 0.73540479 0.73479545 0.73422027 0.73367727 0.73316455]\n",
      "\u001b[1m1/1\u001b[0m \u001b[32m━━━━━━━━━━━━━━━━━━━━\u001b[0m\u001b[37m\u001b[0m \u001b[1m0s\u001b[0m 20ms/step\n",
      "[0.73540479 0.73479545 0.73422027 0.73367727 0.73316455 0.73268032]\n",
      "\u001b[1m1/1\u001b[0m \u001b[32m━━━━━━━━━━━━━━━━━━━━\u001b[0m\u001b[37m\u001b[0m \u001b[1m0s\u001b[0m 18ms/step\n",
      "[0.73479545 0.73422027 0.73367727 0.73316455 0.73268032 0.73222291]\n",
      "\u001b[1m1/1\u001b[0m \u001b[32m━━━━━━━━━━━━━━━━━━━━\u001b[0m\u001b[37m\u001b[0m \u001b[1m0s\u001b[0m 19ms/step\n",
      "[0.73422027 0.73367727 0.73316455 0.73268032 0.73222291 0.73179078]\n",
      "\u001b[1m1/1\u001b[0m \u001b[32m━━━━━━━━━━━━━━━━━━━━\u001b[0m\u001b[37m\u001b[0m \u001b[1m0s\u001b[0m 22ms/step\n",
      "[0.73367727 0.73316455 0.73268032 0.73222291 0.73179078 0.73138243]\n",
      "\u001b[1m1/1\u001b[0m \u001b[32m━━━━━━━━━━━━━━━━━━━━\u001b[0m\u001b[37m\u001b[0m \u001b[1m0s\u001b[0m 18ms/step\n",
      "[0.73316455 0.73268032 0.73222291 0.73179078 0.73138243 0.73099649]\n",
      "\u001b[1m1/1\u001b[0m \u001b[32m━━━━━━━━━━━━━━━━━━━━\u001b[0m\u001b[37m\u001b[0m \u001b[1m0s\u001b[0m 19ms/step\n",
      "[0.73268032 0.73222291 0.73179078 0.73138243 0.73099649 0.73063171]\n",
      "\u001b[1m1/1\u001b[0m \u001b[32m━━━━━━━━━━━━━━━━━━━━\u001b[0m\u001b[37m\u001b[0m \u001b[1m0s\u001b[0m 18ms/step\n",
      "[0.73222291 0.73179078 0.73138243 0.73099649 0.73063171 0.7302869 ]\n",
      "\u001b[1m1/1\u001b[0m \u001b[32m━━━━━━━━━━━━━━━━━━━━\u001b[0m\u001b[37m\u001b[0m \u001b[1m0s\u001b[0m 19ms/step\n",
      "[0.73179078 0.73138243 0.73099649 0.73063171 0.7302869  0.72996092]\n",
      "\u001b[1m1/1\u001b[0m \u001b[32m━━━━━━━━━━━━━━━━━━━━\u001b[0m\u001b[37m\u001b[0m \u001b[1m0s\u001b[0m 20ms/step\n",
      "[0.73138243 0.73099649 0.73063171 0.7302869  0.72996092 0.72965264]\n",
      "\u001b[1m1/1\u001b[0m \u001b[32m━━━━━━━━━━━━━━━━━━━━\u001b[0m\u001b[37m\u001b[0m \u001b[1m0s\u001b[0m 20ms/step\n",
      "[0.73099649 0.73063171 0.7302869  0.72996092 0.72965264 0.72936112]\n",
      "\u001b[1m1/1\u001b[0m \u001b[32m━━━━━━━━━━━━━━━━━━━━\u001b[0m\u001b[37m\u001b[0m \u001b[1m0s\u001b[0m 19ms/step\n",
      "[0.73063171 0.7302869  0.72996092 0.72965264 0.72936112 0.72908539]\n",
      "\u001b[1m1/1\u001b[0m \u001b[32m━━━━━━━━━━━━━━━━━━━━\u001b[0m\u001b[37m\u001b[0m \u001b[1m0s\u001b[0m 19ms/step\n",
      "[0.7302869  0.72996092 0.72965264 0.72936112 0.72908539 0.72882462]\n",
      "\u001b[1m1/1\u001b[0m \u001b[32m━━━━━━━━━━━━━━━━━━━━\u001b[0m\u001b[37m\u001b[0m \u001b[1m0s\u001b[0m 19ms/step\n",
      "[0.72996092 0.72965264 0.72936112 0.72908539 0.72882462 0.72857797]\n",
      "\u001b[1m1/1\u001b[0m \u001b[32m━━━━━━━━━━━━━━━━━━━━\u001b[0m\u001b[37m\u001b[0m \u001b[1m0s\u001b[0m 19ms/step\n",
      "[0.72965264 0.72936112 0.72908539 0.72882462 0.72857797 0.72834456]\n",
      "\u001b[1m1/1\u001b[0m \u001b[32m━━━━━━━━━━━━━━━━━━━━\u001b[0m\u001b[37m\u001b[0m \u001b[1m0s\u001b[0m 20ms/step\n",
      "[0.72936112 0.72908539 0.72882462 0.72857797 0.72834456 0.72812372]\n",
      "\u001b[1m1/1\u001b[0m \u001b[32m━━━━━━━━━━━━━━━━━━━━\u001b[0m\u001b[37m\u001b[0m \u001b[1m0s\u001b[0m 18ms/step\n",
      "[0.72908539 0.72882462 0.72857797 0.72834456 0.72812372 0.72791481]\n",
      "\u001b[1m1/1\u001b[0m \u001b[32m━━━━━━━━━━━━━━━━━━━━\u001b[0m\u001b[37m\u001b[0m \u001b[1m0s\u001b[0m 20ms/step\n",
      "[0.72882462 0.72857797 0.72834456 0.72812372 0.72791481 0.7277171 ]\n",
      "\u001b[1m1/1\u001b[0m \u001b[32m━━━━━━━━━━━━━━━━━━━━\u001b[0m\u001b[37m\u001b[0m \u001b[1m0s\u001b[0m 19ms/step\n",
      "[0.72857797 0.72834456 0.72812372 0.72791481 0.7277171  0.72753   ]\n",
      "\u001b[1m1/1\u001b[0m \u001b[32m━━━━━━━━━━━━━━━━━━━━\u001b[0m\u001b[37m\u001b[0m \u001b[1m0s\u001b[0m 20ms/step\n",
      "[0.72834456 0.72812372 0.72791481 0.7277171  0.72753    0.72735292]\n",
      "\u001b[1m1/1\u001b[0m \u001b[32m━━━━━━━━━━━━━━━━━━━━\u001b[0m\u001b[37m\u001b[0m \u001b[1m0s\u001b[0m 21ms/step\n",
      "[0.72812372 0.72791481 0.7277171  0.72753    0.72735292 0.72718531]\n",
      "\u001b[1m1/1\u001b[0m \u001b[32m━━━━━━━━━━━━━━━━━━━━\u001b[0m\u001b[37m\u001b[0m \u001b[1m0s\u001b[0m 19ms/step\n",
      "[0.72791481 0.7277171  0.72753    0.72735292 0.72718531 0.7270267 ]\n",
      "\u001b[1m1/1\u001b[0m \u001b[32m━━━━━━━━━━━━━━━━━━━━\u001b[0m\u001b[37m\u001b[0m \u001b[1m0s\u001b[0m 20ms/step\n",
      "[0.7277171  0.72753    0.72735292 0.72718531 0.7270267  0.7268765 ]\n",
      "\u001b[1m1/1\u001b[0m \u001b[32m━━━━━━━━━━━━━━━━━━━━\u001b[0m\u001b[37m\u001b[0m \u001b[1m0s\u001b[0m 21ms/step\n",
      "[0.72753    0.72735292 0.72718531 0.7270267  0.7268765  0.72673434]\n",
      "\u001b[1m1/1\u001b[0m \u001b[32m━━━━━━━━━━━━━━━━━━━━\u001b[0m\u001b[37m\u001b[0m \u001b[1m0s\u001b[0m 20ms/step\n",
      "[0.72735292 0.72718531 0.7270267  0.7268765  0.72673434 0.72659975]\n",
      "\u001b[1m1/1\u001b[0m \u001b[32m━━━━━━━━━━━━━━━━━━━━\u001b[0m\u001b[37m\u001b[0m \u001b[1m0s\u001b[0m 19ms/step\n",
      "[0.72718531 0.7270267  0.7268765  0.72673434 0.72659975 0.72647238]\n",
      "\u001b[1m1/1\u001b[0m \u001b[32m━━━━━━━━━━━━━━━━━━━━\u001b[0m\u001b[37m\u001b[0m \u001b[1m0s\u001b[0m 18ms/step\n",
      "[0.7270267  0.7268765  0.72673434 0.72659975 0.72647238 0.72635174]\n",
      "\u001b[1m1/1\u001b[0m \u001b[32m━━━━━━━━━━━━━━━━━━━━\u001b[0m\u001b[37m\u001b[0m \u001b[1m0s\u001b[0m 19ms/step\n",
      "[0.7268765  0.72673434 0.72659975 0.72647238 0.72635174 0.72623754]\n",
      "\u001b[1m1/1\u001b[0m \u001b[32m━━━━━━━━━━━━━━━━━━━━\u001b[0m\u001b[37m\u001b[0m \u001b[1m0s\u001b[0m 20ms/step\n",
      "[0.72673434 0.72659975 0.72647238 0.72635174 0.72623754 0.72612941]\n",
      "\u001b[1m1/1\u001b[0m \u001b[32m━━━━━━━━━━━━━━━━━━━━\u001b[0m\u001b[37m\u001b[0m \u001b[1m0s\u001b[0m 19ms/step\n",
      "[0.72659975 0.72647238 0.72635174 0.72623754 0.72612941 0.72602701]\n",
      "\u001b[1m1/1\u001b[0m \u001b[32m━━━━━━━━━━━━━━━━━━━━\u001b[0m\u001b[37m\u001b[0m \u001b[1m0s\u001b[0m 19ms/step\n",
      "[0.72647238 0.72635174 0.72623754 0.72612941 0.72602701 0.72593004]\n",
      "\u001b[1m1/1\u001b[0m \u001b[32m━━━━━━━━━━━━━━━━━━━━\u001b[0m\u001b[37m\u001b[0m \u001b[1m0s\u001b[0m 18ms/step\n",
      "[0.72635174 0.72623754 0.72612941 0.72602701 0.72593004 0.72583818]\n",
      "\u001b[1m1/1\u001b[0m \u001b[32m━━━━━━━━━━━━━━━━━━━━\u001b[0m\u001b[37m\u001b[0m \u001b[1m0s\u001b[0m 18ms/step\n",
      "[0.72623754 0.72612941 0.72602701 0.72593004 0.72583818 0.72575122]\n",
      "\u001b[1m1/1\u001b[0m \u001b[32m━━━━━━━━━━━━━━━━━━━━\u001b[0m\u001b[37m\u001b[0m \u001b[1m0s\u001b[0m 19ms/step\n",
      "[0.72612941 0.72602701 0.72593004 0.72583818 0.72575122 0.72566885]\n",
      "\u001b[1m1/1\u001b[0m \u001b[32m━━━━━━━━━━━━━━━━━━━━\u001b[0m\u001b[37m\u001b[0m \u001b[1m0s\u001b[0m 21ms/step\n",
      "[0.72602701 0.72593004 0.72583818 0.72575122 0.72566885 0.72559083]\n",
      "\u001b[1m1/1\u001b[0m \u001b[32m━━━━━━━━━━━━━━━━━━━━\u001b[0m\u001b[37m\u001b[0m \u001b[1m0s\u001b[0m 21ms/step\n",
      "[0.72593004 0.72583818 0.72575122 0.72566885 0.72559083 0.72551697]\n",
      "\u001b[1m1/1\u001b[0m \u001b[32m━━━━━━━━━━━━━━━━━━━━\u001b[0m\u001b[37m\u001b[0m \u001b[1m0s\u001b[0m 20ms/step\n",
      "[0.72583818 0.72575122 0.72566885 0.72559083 0.72551697 0.725447  ]\n",
      "\u001b[1m1/1\u001b[0m \u001b[32m━━━━━━━━━━━━━━━━━━━━\u001b[0m\u001b[37m\u001b[0m \u001b[1m0s\u001b[0m 19ms/step\n",
      "[0.72575122 0.72566885 0.72559083 0.72551697 0.725447   0.72538078]\n",
      "\u001b[1m1/1\u001b[0m \u001b[32m━━━━━━━━━━━━━━━━━━━━\u001b[0m\u001b[37m\u001b[0m \u001b[1m0s\u001b[0m 20ms/step\n",
      "[0.72566885 0.72559083 0.72551697 0.725447   0.72538078 0.72531801]\n",
      "\u001b[1m1/1\u001b[0m \u001b[32m━━━━━━━━━━━━━━━━━━━━\u001b[0m\u001b[37m\u001b[0m \u001b[1m0s\u001b[0m 19ms/step\n",
      "[0.72559083 0.72551697 0.725447   0.72538078 0.72531801 0.72525859]\n",
      "\u001b[1m1/1\u001b[0m \u001b[32m━━━━━━━━━━━━━━━━━━━━\u001b[0m\u001b[37m\u001b[0m \u001b[1m0s\u001b[0m 20ms/step\n",
      "[0.72551697 0.725447   0.72538078 0.72531801 0.72525859 0.72520226]\n",
      "\u001b[1m1/1\u001b[0m \u001b[32m━━━━━━━━━━━━━━━━━━━━\u001b[0m\u001b[37m\u001b[0m \u001b[1m0s\u001b[0m 18ms/step\n",
      "[0.725447   0.72538078 0.72531801 0.72525859 0.72520226 0.72514892]\n",
      "\u001b[1m1/1\u001b[0m \u001b[32m━━━━━━━━━━━━━━━━━━━━\u001b[0m\u001b[37m\u001b[0m \u001b[1m0s\u001b[0m 19ms/step\n",
      "[0.72538078 0.72531801 0.72525859 0.72520226 0.72514892 0.72509837]\n",
      "\u001b[1m1/1\u001b[0m \u001b[32m━━━━━━━━━━━━━━━━━━━━\u001b[0m\u001b[37m\u001b[0m \u001b[1m0s\u001b[0m 20ms/step\n",
      "[0.72531801 0.72525859 0.72520226 0.72514892 0.72509837 0.72505051]\n",
      "\u001b[1m1/1\u001b[0m \u001b[32m━━━━━━━━━━━━━━━━━━━━\u001b[0m\u001b[37m\u001b[0m \u001b[1m0s\u001b[0m 19ms/step\n",
      "[0.72525859 0.72520226 0.72514892 0.72509837 0.72505051 0.72500515]\n",
      "\u001b[1m1/1\u001b[0m \u001b[32m━━━━━━━━━━━━━━━━━━━━\u001b[0m\u001b[37m\u001b[0m \u001b[1m0s\u001b[0m 20ms/step\n",
      "[0.72520226 0.72514892 0.72509837 0.72505051 0.72500515 0.72496223]\n",
      "\u001b[1m1/1\u001b[0m \u001b[32m━━━━━━━━━━━━━━━━━━━━\u001b[0m\u001b[37m\u001b[0m \u001b[1m0s\u001b[0m 21ms/step\n",
      "[0.72514892 0.72509837 0.72505051 0.72500515 0.72496223 0.72492152]\n",
      "\u001b[1m1/1\u001b[0m \u001b[32m━━━━━━━━━━━━━━━━━━━━\u001b[0m\u001b[37m\u001b[0m \u001b[1m0s\u001b[0m 21ms/step\n",
      "[0.72509837 0.72505051 0.72500515 0.72496223 0.72492152 0.72488296]\n",
      "\u001b[1m1/1\u001b[0m \u001b[32m━━━━━━━━━━━━━━━━━━━━\u001b[0m\u001b[37m\u001b[0m \u001b[1m0s\u001b[0m 21ms/step\n",
      "[0.72505051 0.72500515 0.72496223 0.72492152 0.72488296 0.72484648]\n",
      "\u001b[1m1/1\u001b[0m \u001b[32m━━━━━━━━━━━━━━━━━━━━\u001b[0m\u001b[37m\u001b[0m \u001b[1m0s\u001b[0m 18ms/step\n",
      "[0.72500515 0.72496223 0.72492152 0.72488296 0.72484648 0.72481191]\n",
      "\u001b[1m1/1\u001b[0m \u001b[32m━━━━━━━━━━━━━━━━━━━━\u001b[0m\u001b[37m\u001b[0m \u001b[1m0s\u001b[0m 19ms/step\n",
      "[0.72496223 0.72492152 0.72488296 0.72484648 0.72481191 0.72477913]\n",
      "\u001b[1m1/1\u001b[0m \u001b[32m━━━━━━━━━━━━━━━━━━━━\u001b[0m\u001b[37m\u001b[0m \u001b[1m0s\u001b[0m 19ms/step\n",
      "[0.72492152 0.72488296 0.72484648 0.72481191 0.72477913 0.72474808]\n",
      "\u001b[1m1/1\u001b[0m \u001b[32m━━━━━━━━━━━━━━━━━━━━\u001b[0m\u001b[37m\u001b[0m \u001b[1m0s\u001b[0m 18ms/step\n",
      "[0.72488296 0.72484648 0.72481191 0.72477913 0.72474808 0.72471869]\n",
      "\u001b[1m1/1\u001b[0m \u001b[32m━━━━━━━━━━━━━━━━━━━━\u001b[0m\u001b[37m\u001b[0m \u001b[1m0s\u001b[0m 19ms/step\n",
      "[0.72484648 0.72481191 0.72477913 0.72474808 0.72471869 0.72469079]\n",
      "\u001b[1m1/1\u001b[0m \u001b[32m━━━━━━━━━━━━━━━━━━━━\u001b[0m\u001b[37m\u001b[0m \u001b[1m0s\u001b[0m 19ms/step\n",
      "[0.72481191 0.72477913 0.72474808 0.72471869 0.72469079 0.72466439]\n",
      "\u001b[1m1/1\u001b[0m \u001b[32m━━━━━━━━━━━━━━━━━━━━\u001b[0m\u001b[37m\u001b[0m \u001b[1m0s\u001b[0m 18ms/step\n",
      "[0.72477913 0.72474808 0.72471869 0.72469079 0.72466439 0.72463936]\n",
      "\u001b[1m1/1\u001b[0m \u001b[32m━━━━━━━━━━━━━━━━━━━━\u001b[0m\u001b[37m\u001b[0m \u001b[1m0s\u001b[0m 19ms/step\n",
      "[0.72474808 0.72471869 0.72469079 0.72466439 0.72463936 0.72461563]\n",
      "\u001b[1m1/1\u001b[0m \u001b[32m━━━━━━━━━━━━━━━━━━━━\u001b[0m\u001b[37m\u001b[0m \u001b[1m0s\u001b[0m 20ms/step\n",
      "[0.72471869 0.72469079 0.72466439 0.72463936 0.72461563 0.72459316]\n",
      "\u001b[1m1/1\u001b[0m \u001b[32m━━━━━━━━━━━━━━━━━━━━\u001b[0m\u001b[37m\u001b[0m \u001b[1m0s\u001b[0m 20ms/step\n",
      "[0.72469079 0.72466439 0.72463936 0.72461563 0.72459316 0.72457188]\n",
      "\u001b[1m1/1\u001b[0m \u001b[32m━━━━━━━━━━━━━━━━━━━━\u001b[0m\u001b[37m\u001b[0m \u001b[1m0s\u001b[0m 20ms/step\n",
      "[0.72466439 0.72463936 0.72461563 0.72459316 0.72457188 0.72455174]\n",
      "\u001b[1m1/1\u001b[0m \u001b[32m━━━━━━━━━━━━━━━━━━━━\u001b[0m\u001b[37m\u001b[0m \u001b[1m0s\u001b[0m 20ms/step\n",
      "[0.72463936 0.72461563 0.72459316 0.72457188 0.72455174 0.72453266]\n",
      "\u001b[1m1/1\u001b[0m \u001b[32m━━━━━━━━━━━━━━━━━━━━\u001b[0m\u001b[37m\u001b[0m \u001b[1m0s\u001b[0m 21ms/step\n",
      "[0.72461563 0.72459316 0.72457188 0.72455174 0.72453266 0.7245146 ]\n",
      "\u001b[1m1/1\u001b[0m \u001b[32m━━━━━━━━━━━━━━━━━━━━\u001b[0m\u001b[37m\u001b[0m \u001b[1m0s\u001b[0m 19ms/step\n",
      "[0.72459316 0.72457188 0.72455174 0.72453266 0.7245146  0.72449744]\n",
      "\u001b[1m1/1\u001b[0m \u001b[32m━━━━━━━━━━━━━━━━━━━━\u001b[0m\u001b[37m\u001b[0m \u001b[1m0s\u001b[0m 21ms/step\n",
      "[0.72457188 0.72455174 0.72453266 0.7245146  0.72449744 0.72448117]\n",
      "\u001b[1m1/1\u001b[0m \u001b[32m━━━━━━━━━━━━━━━━━━━━\u001b[0m\u001b[37m\u001b[0m \u001b[1m0s\u001b[0m 19ms/step\n",
      "[0.72455174 0.72453266 0.7245146  0.72449744 0.72448117 0.72446579]\n",
      "\u001b[1m1/1\u001b[0m \u001b[32m━━━━━━━━━━━━━━━━━━━━\u001b[0m\u001b[37m\u001b[0m \u001b[1m0s\u001b[0m 19ms/step\n",
      "[0.72453266 0.7245146  0.72449744 0.72448117 0.72446579 0.72445118]\n",
      "\u001b[1m1/1\u001b[0m \u001b[32m━━━━━━━━━━━━━━━━━━━━\u001b[0m\u001b[37m\u001b[0m \u001b[1m0s\u001b[0m 18ms/step\n",
      "[0.7245146  0.72449744 0.72448117 0.72446579 0.72445118 0.72443736]\n",
      "\u001b[1m1/1\u001b[0m \u001b[32m━━━━━━━━━━━━━━━━━━━━\u001b[0m\u001b[37m\u001b[0m \u001b[1m0s\u001b[0m 17ms/step\n",
      "[0.72449744 0.72448117 0.72446579 0.72445118 0.72443736 0.72442424]\n",
      "\u001b[1m1/1\u001b[0m \u001b[32m━━━━━━━━━━━━━━━━━━━━\u001b[0m\u001b[37m\u001b[0m \u001b[1m0s\u001b[0m 19ms/step\n",
      "[0.72448117 0.72446579 0.72445118 0.72443736 0.72442424 0.72441185]\n",
      "\u001b[1m1/1\u001b[0m \u001b[32m━━━━━━━━━━━━━━━━━━━━\u001b[0m\u001b[37m\u001b[0m \u001b[1m0s\u001b[0m 18ms/step\n",
      "[0.72446579 0.72445118 0.72443736 0.72442424 0.72441185 0.7244001 ]\n",
      "\u001b[1m1/1\u001b[0m \u001b[32m━━━━━━━━━━━━━━━━━━━━\u001b[0m\u001b[37m\u001b[0m \u001b[1m0s\u001b[0m 18ms/step\n",
      "[0.72445118 0.72443736 0.72442424 0.72441185 0.7244001  0.72438896]\n",
      "\u001b[1m1/1\u001b[0m \u001b[32m━━━━━━━━━━━━━━━━━━━━\u001b[0m\u001b[37m\u001b[0m \u001b[1m0s\u001b[0m 19ms/step\n",
      "[0.72443736 0.72442424 0.72441185 0.7244001  0.72438896 0.72437841]\n",
      "\u001b[1m1/1\u001b[0m \u001b[32m━━━━━━━━━━━━━━━━━━━━\u001b[0m\u001b[37m\u001b[0m \u001b[1m0s\u001b[0m 20ms/step\n",
      "[0.72442424 0.72441185 0.7244001  0.72438896 0.72437841 0.72436845]\n",
      "\u001b[1m1/1\u001b[0m \u001b[32m━━━━━━━━━━━━━━━━━━━━\u001b[0m\u001b[37m\u001b[0m \u001b[1m0s\u001b[0m 19ms/step\n",
      "[0.72441185 0.7244001  0.72438896 0.72437841 0.72436845 0.72435898]\n",
      "\u001b[1m1/1\u001b[0m \u001b[32m━━━━━━━━━━━━━━━━━━━━\u001b[0m\u001b[37m\u001b[0m \u001b[1m0s\u001b[0m 21ms/step\n",
      "[0.7244001  0.72438896 0.72437841 0.72436845 0.72435898 0.72434998]\n",
      "\u001b[1m1/1\u001b[0m \u001b[32m━━━━━━━━━━━━━━━━━━━━\u001b[0m\u001b[37m\u001b[0m \u001b[1m0s\u001b[0m 19ms/step\n",
      "[0.72438896 0.72437841 0.72436845 0.72435898 0.72434998 0.72434151]\n",
      "\u001b[1m1/1\u001b[0m \u001b[32m━━━━━━━━━━━━━━━━━━━━\u001b[0m\u001b[37m\u001b[0m \u001b[1m0s\u001b[0m 18ms/step\n",
      "[0.72437841 0.72436845 0.72435898 0.72434998 0.72434151 0.72433341]\n",
      "\u001b[1m1/1\u001b[0m \u001b[32m━━━━━━━━━━━━━━━━━━━━\u001b[0m\u001b[37m\u001b[0m \u001b[1m0s\u001b[0m 19ms/step\n",
      "[0.72436845 0.72435898 0.72434998 0.72434151 0.72433341 0.72432578]\n",
      "\u001b[1m1/1\u001b[0m \u001b[32m━━━━━━━━━━━━━━━━━━━━\u001b[0m\u001b[37m\u001b[0m \u001b[1m0s\u001b[0m 19ms/step\n",
      "[0.72435898 0.72434998 0.72434151 0.72433341 0.72432578 0.72431856]\n",
      "\u001b[1m1/1\u001b[0m \u001b[32m━━━━━━━━━━━━━━━━━━━━\u001b[0m\u001b[37m\u001b[0m \u001b[1m0s\u001b[0m 21ms/step\n",
      "[0.72434998 0.72434151 0.72433341 0.72432578 0.72431856 0.72431171]\n",
      "\u001b[1m1/1\u001b[0m \u001b[32m━━━━━━━━━━━━━━━━━━━━\u001b[0m\u001b[37m\u001b[0m \u001b[1m0s\u001b[0m 20ms/step\n",
      "[0.72434151 0.72433341 0.72432578 0.72431856 0.72431171 0.72430527]\n",
      "\u001b[1m1/1\u001b[0m \u001b[32m━━━━━━━━━━━━━━━━━━━━\u001b[0m\u001b[37m\u001b[0m \u001b[1m0s\u001b[0m 21ms/step\n",
      "[0.72433341 0.72432578 0.72431856 0.72431171 0.72430527 0.72429913]\n",
      "\u001b[1m1/1\u001b[0m \u001b[32m━━━━━━━━━━━━━━━━━━━━\u001b[0m\u001b[37m\u001b[0m \u001b[1m0s\u001b[0m 20ms/step\n",
      "[0.72432578 0.72431856 0.72431171 0.72430527 0.72429913 0.72429329]\n",
      "\u001b[1m1/1\u001b[0m \u001b[32m━━━━━━━━━━━━━━━━━━━━\u001b[0m\u001b[37m\u001b[0m \u001b[1m0s\u001b[0m 20ms/step\n",
      "[0.72431856 0.72431171 0.72430527 0.72429913 0.72429329 0.72428775]\n",
      "\u001b[1m1/1\u001b[0m \u001b[32m━━━━━━━━━━━━━━━━━━━━\u001b[0m\u001b[37m\u001b[0m \u001b[1m0s\u001b[0m 20ms/step\n",
      "[0.72431171 0.72430527 0.72429913 0.72429329 0.72428775 0.7242825 ]\n",
      "\u001b[1m1/1\u001b[0m \u001b[32m━━━━━━━━━━━━━━━━━━━━\u001b[0m\u001b[37m\u001b[0m \u001b[1m0s\u001b[0m 20ms/step\n",
      "[0.72430527 0.72429913 0.72429329 0.72428775 0.7242825  0.72427756]\n",
      "\u001b[1m1/1\u001b[0m \u001b[32m━━━━━━━━━━━━━━━━━━━━\u001b[0m\u001b[37m\u001b[0m \u001b[1m0s\u001b[0m 18ms/step\n",
      "[0.72429913 0.72429329 0.72428775 0.7242825  0.72427756 0.72427285]\n",
      "\u001b[1m1/1\u001b[0m \u001b[32m━━━━━━━━━━━━━━━━━━━━\u001b[0m\u001b[37m\u001b[0m \u001b[1m0s\u001b[0m 19ms/step\n",
      "[0.72429329 0.72428775 0.7242825  0.72427756 0.72427285 0.72426844]\n",
      "\u001b[1m1/1\u001b[0m \u001b[32m━━━━━━━━━━━━━━━━━━━━\u001b[0m\u001b[37m\u001b[0m \u001b[1m0s\u001b[0m 20ms/step\n",
      "[0.72428775 0.7242825  0.72427756 0.72427285 0.72426844 0.7242642 ]\n",
      "\u001b[1m1/1\u001b[0m \u001b[32m━━━━━━━━━━━━━━━━━━━━\u001b[0m\u001b[37m\u001b[0m \u001b[1m0s\u001b[0m 18ms/step\n",
      "[0.7242825  0.72427756 0.72427285 0.72426844 0.7242642  0.72426021]\n",
      "\u001b[1m1/1\u001b[0m \u001b[32m━━━━━━━━━━━━━━━━━━━━\u001b[0m\u001b[37m\u001b[0m \u001b[1m0s\u001b[0m 18ms/step\n",
      "[0.72427756 0.72427285 0.72426844 0.7242642  0.72426021 0.7242564 ]\n",
      "\u001b[1m1/1\u001b[0m \u001b[32m━━━━━━━━━━━━━━━━━━━━\u001b[0m\u001b[37m\u001b[0m \u001b[1m0s\u001b[0m 18ms/step\n",
      "[0.72427285 0.72426844 0.7242642  0.72426021 0.7242564  0.72425282]\n",
      "\u001b[1m1/1\u001b[0m \u001b[32m━━━━━━━━━━━━━━━━━━━━\u001b[0m\u001b[37m\u001b[0m \u001b[1m0s\u001b[0m 18ms/step\n",
      "[0.72426844 0.7242642  0.72426021 0.7242564  0.72425282 0.72424942]\n",
      "\u001b[1m1/1\u001b[0m \u001b[32m━━━━━━━━━━━━━━━━━━━━\u001b[0m\u001b[37m\u001b[0m \u001b[1m0s\u001b[0m 20ms/step\n",
      "[0.7242642  0.72426021 0.7242564  0.72425282 0.72424942 0.7242462 ]\n",
      "\u001b[1m1/1\u001b[0m \u001b[32m━━━━━━━━━━━━━━━━━━━━\u001b[0m\u001b[37m\u001b[0m \u001b[1m0s\u001b[0m 20ms/step\n",
      "[0.72426021 0.7242564  0.72425282 0.72424942 0.7242462  0.72424316]\n",
      "\u001b[1m1/1\u001b[0m \u001b[32m━━━━━━━━━━━━━━━━━━━━\u001b[0m\u001b[37m\u001b[0m \u001b[1m0s\u001b[0m 19ms/step\n",
      "[0.7242564  0.72425282 0.72424942 0.7242462  0.72424316 0.72424024]\n",
      "\u001b[1m1/1\u001b[0m \u001b[32m━━━━━━━━━━━━━━━━━━━━\u001b[0m\u001b[37m\u001b[0m \u001b[1m0s\u001b[0m 25ms/step\n",
      "[0.72425282 0.72424942 0.7242462  0.72424316 0.72424024 0.7242375 ]\n",
      "\u001b[1m1/1\u001b[0m \u001b[32m━━━━━━━━━━━━━━━━━━━━\u001b[0m\u001b[37m\u001b[0m \u001b[1m0s\u001b[0m 24ms/step\n",
      "[0.72424942 0.7242462  0.72424316 0.72424024 0.7242375  0.72423494]\n",
      "\u001b[1m1/1\u001b[0m \u001b[32m━━━━━━━━━━━━━━━━━━━━\u001b[0m\u001b[37m\u001b[0m \u001b[1m0s\u001b[0m 22ms/step\n",
      "[0.7242462  0.72424316 0.72424024 0.7242375  0.72423494 0.72423244]\n",
      "\u001b[1m1/1\u001b[0m \u001b[32m━━━━━━━━━━━━━━━━━━━━\u001b[0m\u001b[37m\u001b[0m \u001b[1m0s\u001b[0m 19ms/step\n",
      "[0.72424316 0.72424024 0.7242375  0.72423494 0.72423244 0.72423011]\n",
      "\u001b[1m1/1\u001b[0m \u001b[32m━━━━━━━━━━━━━━━━━━━━\u001b[0m\u001b[37m\u001b[0m \u001b[1m0s\u001b[0m 18ms/step\n",
      "[0.72424024 0.7242375  0.72423494 0.72423244 0.72423011 0.72422791]\n",
      "\u001b[1m1/1\u001b[0m \u001b[32m━━━━━━━━━━━━━━━━━━━━\u001b[0m\u001b[37m\u001b[0m \u001b[1m0s\u001b[0m 19ms/step\n",
      "[0.7242375  0.72423494 0.72423244 0.72423011 0.72422791 0.72422582]\n",
      "\u001b[1m1/1\u001b[0m \u001b[32m━━━━━━━━━━━━━━━━━━━━\u001b[0m\u001b[37m\u001b[0m \u001b[1m0s\u001b[0m 19ms/step\n",
      "[0.72423494 0.72423244 0.72423011 0.72422791 0.72422582 0.72422385]\n",
      "\u001b[1m1/1\u001b[0m \u001b[32m━━━━━━━━━━━━━━━━━━━━\u001b[0m\u001b[37m\u001b[0m \u001b[1m0s\u001b[0m 18ms/step\n",
      "[0.72423244 0.72423011 0.72422791 0.72422582 0.72422385 0.72422194]\n",
      "\u001b[1m1/1\u001b[0m \u001b[32m━━━━━━━━━━━━━━━━━━━━\u001b[0m\u001b[37m\u001b[0m \u001b[1m0s\u001b[0m 20ms/step\n",
      "[0.72423011 0.72422791 0.72422582 0.72422385 0.72422194 0.72422016]\n",
      "\u001b[1m1/1\u001b[0m \u001b[32m━━━━━━━━━━━━━━━━━━━━\u001b[0m\u001b[37m\u001b[0m \u001b[1m0s\u001b[0m 20ms/step\n",
      "[0.72422791 0.72422582 0.72422385 0.72422194 0.72422016 0.72421849]\n",
      "\u001b[1m1/1\u001b[0m \u001b[32m━━━━━━━━━━━━━━━━━━━━\u001b[0m\u001b[37m\u001b[0m \u001b[1m0s\u001b[0m 20ms/step\n",
      "[0.72422582 0.72422385 0.72422194 0.72422016 0.72421849 0.72421688]\n",
      "\u001b[1m1/1\u001b[0m \u001b[32m━━━━━━━━━━━━━━━━━━━━\u001b[0m\u001b[37m\u001b[0m \u001b[1m0s\u001b[0m 20ms/step\n",
      "[0.72422385 0.72422194 0.72422016 0.72421849 0.72421688 0.72421539]\n",
      "\u001b[1m1/1\u001b[0m \u001b[32m━━━━━━━━━━━━━━━━━━━━\u001b[0m\u001b[37m\u001b[0m \u001b[1m0s\u001b[0m 19ms/step\n",
      "[0.72422194 0.72422016 0.72421849 0.72421688 0.72421539 0.72421396]\n",
      "\u001b[1m1/1\u001b[0m \u001b[32m━━━━━━━━━━━━━━━━━━━━\u001b[0m\u001b[37m\u001b[0m \u001b[1m0s\u001b[0m 20ms/step\n",
      "[0.72422016 0.72421849 0.72421688 0.72421539 0.72421396 0.72421259]\n",
      "\u001b[1m1/1\u001b[0m \u001b[32m━━━━━━━━━━━━━━━━━━━━\u001b[0m\u001b[37m\u001b[0m \u001b[1m0s\u001b[0m 20ms/step\n",
      "[0.72421849 0.72421688 0.72421539 0.72421396 0.72421259 0.72421134]\n",
      "\u001b[1m1/1\u001b[0m \u001b[32m━━━━━━━━━━━━━━━━━━━━\u001b[0m\u001b[37m\u001b[0m \u001b[1m0s\u001b[0m 20ms/step\n",
      "[0.72421688 0.72421539 0.72421396 0.72421259 0.72421134 0.72421008]\n",
      "\u001b[1m1/1\u001b[0m \u001b[32m━━━━━━━━━━━━━━━━━━━━\u001b[0m\u001b[37m\u001b[0m \u001b[1m0s\u001b[0m 20ms/step\n",
      "[0.72421539 0.72421396 0.72421259 0.72421134 0.72421008 0.72420889]\n",
      "\u001b[1m1/1\u001b[0m \u001b[32m━━━━━━━━━━━━━━━━━━━━\u001b[0m\u001b[37m\u001b[0m \u001b[1m0s\u001b[0m 19ms/step\n",
      "[0.72421396 0.72421259 0.72421134 0.72421008 0.72420889 0.72420776]\n",
      "\u001b[1m1/1\u001b[0m \u001b[32m━━━━━━━━━━━━━━━━━━━━\u001b[0m\u001b[37m\u001b[0m \u001b[1m0s\u001b[0m 19ms/step\n",
      "[0.72421259 0.72421134 0.72421008 0.72420889 0.72420776 0.72420669]\n",
      "\u001b[1m1/1\u001b[0m \u001b[32m━━━━━━━━━━━━━━━━━━━━\u001b[0m\u001b[37m\u001b[0m \u001b[1m0s\u001b[0m 19ms/step\n",
      "[0.72421134 0.72421008 0.72420889 0.72420776 0.72420669 0.72420573]\n",
      "\u001b[1m1/1\u001b[0m \u001b[32m━━━━━━━━━━━━━━━━━━━━\u001b[0m\u001b[37m\u001b[0m \u001b[1m0s\u001b[0m 19ms/step\n",
      "[0.72421008 0.72420889 0.72420776 0.72420669 0.72420573 0.72420478]\n",
      "\u001b[1m1/1\u001b[0m \u001b[32m━━━━━━━━━━━━━━━━━━━━\u001b[0m\u001b[37m\u001b[0m \u001b[1m0s\u001b[0m 22ms/step\n",
      "[0.72420889 0.72420776 0.72420669 0.72420573 0.72420478 0.72420388]\n",
      "\u001b[1m1/1\u001b[0m \u001b[32m━━━━━━━━━━━━━━━━━━━━\u001b[0m\u001b[37m\u001b[0m \u001b[1m0s\u001b[0m 20ms/step\n",
      "[0.72420776 0.72420669 0.72420573 0.72420478 0.72420388 0.72420305]\n",
      "\u001b[1m1/1\u001b[0m \u001b[32m━━━━━━━━━━━━━━━━━━━━\u001b[0m\u001b[37m\u001b[0m \u001b[1m0s\u001b[0m 21ms/step\n",
      "[0.72420669 0.72420573 0.72420478 0.72420388 0.72420305 0.72420228]\n",
      "\u001b[1m1/1\u001b[0m \u001b[32m━━━━━━━━━━━━━━━━━━━━\u001b[0m\u001b[37m\u001b[0m \u001b[1m0s\u001b[0m 20ms/step\n",
      "[0.72420573 0.72420478 0.72420388 0.72420305 0.72420228 0.7242015 ]\n",
      "\u001b[1m1/1\u001b[0m \u001b[32m━━━━━━━━━━━━━━━━━━━━\u001b[0m\u001b[37m\u001b[0m \u001b[1m0s\u001b[0m 20ms/step\n",
      "[0.72420478 0.72420388 0.72420305 0.72420228 0.7242015  0.72420079]\n",
      "\u001b[1m1/1\u001b[0m \u001b[32m━━━━━━━━━━━━━━━━━━━━\u001b[0m\u001b[37m\u001b[0m \u001b[1m0s\u001b[0m 21ms/step\n",
      "[0.72420388 0.72420305 0.72420228 0.7242015  0.72420079 0.72420013]\n",
      "\u001b[1m1/1\u001b[0m \u001b[32m━━━━━━━━━━━━━━━━━━━━\u001b[0m\u001b[37m\u001b[0m \u001b[1m0s\u001b[0m 22ms/step\n",
      "[0.72420305 0.72420228 0.7242015  0.72420079 0.72420013 0.72419947]\n",
      "\u001b[1m1/1\u001b[0m \u001b[32m━━━━━━━━━━━━━━━━━━━━\u001b[0m\u001b[37m\u001b[0m \u001b[1m0s\u001b[0m 19ms/step\n",
      "[0.72420228 0.7242015  0.72420079 0.72420013 0.72419947 0.72419888]\n",
      "\u001b[1m1/1\u001b[0m \u001b[32m━━━━━━━━━━━━━━━━━━━━\u001b[0m\u001b[37m\u001b[0m \u001b[1m0s\u001b[0m 19ms/step\n",
      "[0.7242015  0.72420079 0.72420013 0.72419947 0.72419888 0.72419834]\n",
      "\u001b[1m1/1\u001b[0m \u001b[32m━━━━━━━━━━━━━━━━━━━━\u001b[0m\u001b[37m\u001b[0m \u001b[1m0s\u001b[0m 19ms/step\n",
      "[0.72420079 0.72420013 0.72419947 0.72419888 0.72419834 0.72419775]\n",
      "\u001b[1m1/1\u001b[0m \u001b[32m━━━━━━━━━━━━━━━━━━━━\u001b[0m\u001b[37m\u001b[0m \u001b[1m0s\u001b[0m 20ms/step\n",
      "[0.72420013 0.72419947 0.72419888 0.72419834 0.72419775 0.72419721]\n",
      "\u001b[1m1/1\u001b[0m \u001b[32m━━━━━━━━━━━━━━━━━━━━\u001b[0m\u001b[37m\u001b[0m \u001b[1m0s\u001b[0m 19ms/step\n",
      "[0.72419947 0.72419888 0.72419834 0.72419775 0.72419721 0.72419673]\n",
      "\u001b[1m1/1\u001b[0m \u001b[32m━━━━━━━━━━━━━━━━━━━━\u001b[0m\u001b[37m\u001b[0m \u001b[1m0s\u001b[0m 22ms/step\n",
      "[0.72419888 0.72419834 0.72419775 0.72419721 0.72419673 0.72419626]\n",
      "\u001b[1m1/1\u001b[0m \u001b[32m━━━━━━━━━━━━━━━━━━━━\u001b[0m\u001b[37m\u001b[0m \u001b[1m0s\u001b[0m 21ms/step\n",
      "[0.72419834 0.72419775 0.72419721 0.72419673 0.72419626 0.72419584]\n",
      "\u001b[1m1/1\u001b[0m \u001b[32m━━━━━━━━━━━━━━━━━━━━\u001b[0m\u001b[37m\u001b[0m \u001b[1m0s\u001b[0m 21ms/step\n",
      "[0.72419775 0.72419721 0.72419673 0.72419626 0.72419584 0.72419542]\n",
      "\u001b[1m1/1\u001b[0m \u001b[32m━━━━━━━━━━━━━━━━━━━━\u001b[0m\u001b[37m\u001b[0m \u001b[1m0s\u001b[0m 20ms/step\n",
      "[0.72419721 0.72419673 0.72419626 0.72419584 0.72419542 0.724195  ]\n",
      "\u001b[1m1/1\u001b[0m \u001b[32m━━━━━━━━━━━━━━━━━━━━\u001b[0m\u001b[37m\u001b[0m \u001b[1m0s\u001b[0m 20ms/step\n",
      "[0.72419673 0.72419626 0.72419584 0.72419542 0.724195   0.72419465]\n",
      "\u001b[1m1/1\u001b[0m \u001b[32m━━━━━━━━━━━━━━━━━━━━\u001b[0m\u001b[37m\u001b[0m \u001b[1m0s\u001b[0m 20ms/step\n",
      "[0.72419626 0.72419584 0.72419542 0.724195   0.72419465 0.72419429]\n",
      "\u001b[1m1/1\u001b[0m \u001b[32m━━━━━━━━━━━━━━━━━━━━\u001b[0m\u001b[37m\u001b[0m \u001b[1m0s\u001b[0m 21ms/step\n",
      "[0.72419584 0.72419542 0.724195   0.72419465 0.72419429 0.72419393]\n",
      "\u001b[1m1/1\u001b[0m \u001b[32m━━━━━━━━━━━━━━━━━━━━\u001b[0m\u001b[37m\u001b[0m \u001b[1m0s\u001b[0m 19ms/step\n",
      "[0.72419542 0.724195   0.72419465 0.72419429 0.72419393 0.72419363]\n",
      "\u001b[1m1/1\u001b[0m \u001b[32m━━━━━━━━━━━━━━━━━━━━\u001b[0m\u001b[37m\u001b[0m \u001b[1m0s\u001b[0m 19ms/step\n",
      "[0.724195   0.72419465 0.72419429 0.72419393 0.72419363 0.72419333]\n",
      "\u001b[1m1/1\u001b[0m \u001b[32m━━━━━━━━━━━━━━━━━━━━\u001b[0m\u001b[37m\u001b[0m \u001b[1m0s\u001b[0m 19ms/step\n",
      "[0.72419465 0.72419429 0.72419393 0.72419363 0.72419333 0.72419304]\n",
      "\u001b[1m1/1\u001b[0m \u001b[32m━━━━━━━━━━━━━━━━━━━━\u001b[0m\u001b[37m\u001b[0m \u001b[1m0s\u001b[0m 19ms/step\n",
      "[0.72419429 0.72419393 0.72419363 0.72419333 0.72419304 0.72419274]\n",
      "\u001b[1m1/1\u001b[0m \u001b[32m━━━━━━━━━━━━━━━━━━━━\u001b[0m\u001b[37m\u001b[0m \u001b[1m0s\u001b[0m 19ms/step\n",
      "[0.72419393 0.72419363 0.72419333 0.72419304 0.72419274 0.7241925 ]\n",
      "\u001b[1m1/1\u001b[0m \u001b[32m━━━━━━━━━━━━━━━━━━━━\u001b[0m\u001b[37m\u001b[0m \u001b[1m0s\u001b[0m 19ms/step\n",
      "[0.72419363 0.72419333 0.72419304 0.72419274 0.7241925  0.72419226]\n",
      "\u001b[1m1/1\u001b[0m \u001b[32m━━━━━━━━━━━━━━━━━━━━\u001b[0m\u001b[37m\u001b[0m \u001b[1m0s\u001b[0m 19ms/step\n",
      "[0.72419333 0.72419304 0.72419274 0.7241925  0.72419226 0.72419202]\n",
      "\u001b[1m1/1\u001b[0m \u001b[32m━━━━━━━━━━━━━━━━━━━━\u001b[0m\u001b[37m\u001b[0m \u001b[1m0s\u001b[0m 19ms/step\n",
      "[0.72419304 0.72419274 0.7241925  0.72419226 0.72419202 0.72419178]\n",
      "\u001b[1m1/1\u001b[0m \u001b[32m━━━━━━━━━━━━━━━━━━━━\u001b[0m\u001b[37m\u001b[0m \u001b[1m0s\u001b[0m 19ms/step\n",
      "[0.72419274 0.7241925  0.72419226 0.72419202 0.72419178 0.72419155]\n",
      "\u001b[1m1/1\u001b[0m \u001b[32m━━━━━━━━━━━━━━━━━━━━\u001b[0m\u001b[37m\u001b[0m \u001b[1m0s\u001b[0m 20ms/step\n",
      "[0.7241925  0.72419226 0.72419202 0.72419178 0.72419155 0.72419137]\n",
      "\u001b[1m1/1\u001b[0m \u001b[32m━━━━━━━━━━━━━━━━━━━━\u001b[0m\u001b[37m\u001b[0m \u001b[1m0s\u001b[0m 20ms/step\n",
      "[0.72419226 0.72419202 0.72419178 0.72419155 0.72419137 0.72419119]\n",
      "\u001b[1m1/1\u001b[0m \u001b[32m━━━━━━━━━━━━━━━━━━━━\u001b[0m\u001b[37m\u001b[0m \u001b[1m0s\u001b[0m 20ms/step\n",
      "[0.72419202 0.72419178 0.72419155 0.72419137 0.72419119 0.72419101]\n",
      "\u001b[1m1/1\u001b[0m \u001b[32m━━━━━━━━━━━━━━━━━━━━\u001b[0m\u001b[37m\u001b[0m \u001b[1m0s\u001b[0m 19ms/step\n",
      "[0.72419178 0.72419155 0.72419137 0.72419119 0.72419101 0.72419083]\n",
      "\u001b[1m1/1\u001b[0m \u001b[32m━━━━━━━━━━━━━━━━━━━━\u001b[0m\u001b[37m\u001b[0m \u001b[1m0s\u001b[0m 22ms/step\n"
     ]
    }
   ],
   "source": [
    "output=[]\n",
    "for i in range(184):\n",
    "    print(data_for_model)\n",
    "\n",
    "    prediction = naive_model.predict(np.array(data_for_model).reshape(-1, window_size, 1))\n",
    "    prediction_original = Y_scaler.inverse_transform(prediction.reshape(1, -1))\n",
    "    output.append(prediction_original[0, 0])\n",
    "    data_for_model = np.append(data_for_model[1:], prediction)"
   ]
  },
  {
   "cell_type": "code",
   "execution_count": 88,
   "metadata": {
    "execution": {
     "iopub.execute_input": "2024-12-27T08:58:25.016865Z",
     "iopub.status.busy": "2024-12-27T08:58:25.016551Z",
     "iopub.status.idle": "2024-12-27T08:58:25.021291Z",
     "shell.execute_reply": "2024-12-27T08:58:25.020162Z",
     "shell.execute_reply.started": "2024-12-27T08:58:25.016841Z"
    },
    "trusted": true
   },
   "outputs": [],
   "source": [
    "next_6_months_temp=list(next_6_months_temp.values)"
   ]
  },
  {
   "cell_type": "code",
   "execution_count": 90,
   "metadata": {
    "execution": {
     "iopub.execute_input": "2024-12-27T08:58:42.850677Z",
     "iopub.status.busy": "2024-12-27T08:58:42.850346Z",
     "iopub.status.idle": "2024-12-27T08:58:42.856705Z",
     "shell.execute_reply": "2024-12-27T08:58:42.855679Z",
     "shell.execute_reply.started": "2024-12-27T08:58:42.850651Z"
    },
    "trusted": true
   },
   "outputs": [
    {
     "name": "stdout",
     "output_type": "stream",
     "text": [
      "Len Output: 184\n",
      "Len next_6_months_temp: 184\n"
     ]
    }
   ],
   "source": [
    "print(\"Len Output:\",len(output))\n",
    "print(\"Len next_6_months_temp:\",len(next_6_months_temp))\n"
   ]
  },
  {
   "cell_type": "code",
   "execution_count": 92,
   "metadata": {
    "execution": {
     "iopub.execute_input": "2024-12-27T08:59:35.095684Z",
     "iopub.status.busy": "2024-12-27T08:59:35.095347Z",
     "iopub.status.idle": "2024-12-27T08:59:35.319761Z",
     "shell.execute_reply": "2024-12-27T08:59:35.318841Z",
     "shell.execute_reply.started": "2024-12-27T08:59:35.095659Z"
    },
    "trusted": true
   },
   "outputs": [
    {
     "data": {
      "image/png": "[encoded data removed]",
      "text/plain": [
       "<Figure size 640x480 with 1 Axes>"
      ]
     },
     "metadata": {},
     "output_type": "display_data"
    }
   ],
   "source": [
    "\n",
    "# Plot the two arrays\n",
    "import matplotlib.pyplot as plt\n",
    "\n",
    "plt.plot(list(next_6_months_temp), label=\"Actual Temperature\")\n",
    "plt.plot(list(output), label=\"Predicted Temperature\")\n",
    "plt.legend()\n",
    "plt.xlabel(\"Days\")\n",
    "plt.ylabel(\"Temperature\")\n",
    "plt.title(\"Actual vs Predicted Temperature\")\n",
    "plt.show()\n"
   ]
  },
  {
   "cell_type": "code",
   "execution_count": 91,
   "metadata": {
    "execution": {
     "iopub.execute_input": "2024-12-27T08:59:13.543975Z",
     "iopub.status.busy": "2024-12-27T08:59:13.543656Z",
     "iopub.status.idle": "2024-12-27T08:59:13.626611Z",
     "shell.execute_reply": "2024-12-27T08:59:13.625908Z",
     "shell.execute_reply.started": "2024-12-27T08:59:13.543951Z"
    },
    "trusted": true
   },
   "outputs": [
    {
     "data": {
      "text/plain": [
       "-1.6720556422151054"
      ]
     },
     "execution_count": 91,
     "metadata": {},
     "output_type": "execute_result"
    }
   ],
   "source": [
    "from sklearn.metrics import r2_score\n",
    "r2_score(list(next_6_months_temp),output)"
   ]
  },
  {
   "cell_type": "code",
   "execution_count": 93,
   "metadata": {
    "execution": {
     "iopub.execute_input": "2024-12-27T09:00:10.720867Z",
     "iopub.status.busy": "2024-12-27T09:00:10.720547Z",
     "iopub.status.idle": "2024-12-27T09:00:10.770671Z",
     "shell.execute_reply": "2024-12-27T09:00:10.769761Z",
     "shell.execute_reply.started": "2024-12-27T09:00:10.720841Z"
    },
    "trusted": true
   },
   "outputs": [],
   "source": [
    "naive_model.save(\"naive_model.h5\")"
   ]
  },
  {
   "cell_type": "markdown",
   "metadata": {},
   "source": [
    "# 1 FEATURE , PAST 27 YEAR , NEXT DAY PREDICTION WINDO SIZE=100"
   ]
  },
  {
   "cell_type": "code",
   "execution_count": null,
   "metadata": {
    "trusted": true
   },
   "outputs": [],
   "source": [
    "\"\"\"\n",
    "JUST CHANGE data[feature] : feature with tmin,tmax,tavg \n",
    "                            and change Scaler with Standard Scaler and MinMax Scaler\n",
    "                            remain all other code same \n",
    "\n",
    "And You wil get result as i got which i mentioned in All model evalution portion.\n",
    "\n",
    "\"\"\""
   ]
  },
  {
   "cell_type": "code",
   "execution_count": 368,
   "metadata": {
    "execution": {
     "iopub.execute_input": "2024-12-28T08:29:42.169796Z",
     "iopub.status.busy": "2024-12-28T08:29:42.169494Z",
     "iopub.status.idle": "2024-12-28T08:29:42.223311Z",
     "shell.execute_reply": "2024-12-28T08:29:42.222348Z",
     "shell.execute_reply.started": "2024-12-28T08:29:42.169772Z"
    },
    "trusted": true
   },
   "outputs": [
    {
     "name": "stdout",
     "output_type": "stream",
     "text": [
      "            tavg  tmin  tmax  prcp  snow   wdir  wspd  wpgt    pres  tsun\n",
      "time                                                                     \n",
      "1990-06-01  30.1  23.6  37.6  14.0   NaN    NaN   NaN   NaN     NaN   NaN\n",
      "1990-06-02  32.0  27.6  38.2   0.0   NaN    NaN   NaN   NaN     NaN   NaN\n",
      "1990-06-03  32.1  27.6   NaN   0.3   NaN    NaN   NaN   NaN     NaN   NaN\n",
      "1990-06-04  33.4  28.4  40.4   0.0   NaN    NaN   NaN   NaN     NaN   NaN\n",
      "1990-06-05  31.7  27.6   NaN   0.3   NaN    NaN   NaN   NaN     NaN   NaN\n",
      "...          ...   ...   ...   ...   ...    ...   ...   ...     ...   ...\n",
      "2024-05-28  34.4  29.0  43.4   0.0   NaN  214.0  15.5   NaN   999.4   NaN\n",
      "2024-05-29  34.1  29.0  41.4   0.0   NaN  206.0  17.7   NaN   999.8   NaN\n",
      "2024-05-30  34.3  30.0  43.0   0.0   NaN  201.0  13.6   NaN  1001.5   NaN\n",
      "2024-05-31  34.4  30.0  42.4   0.0   NaN  198.0  15.7   NaN  1003.3   NaN\n",
      "2024-06-01  34.5  30.0  41.6   0.0   NaN  203.0  14.7   NaN  1003.3   NaN\n",
      "\n",
      "[12420 rows x 10 columns]\n"
     ]
    }
   ],
   "source": [
    "from meteostat import Point, Daily\n",
    "import datetime\n",
    "\n",
    "\n",
    "location = Point( 23.0215374, 72.5800568)\n",
    "start = datetime.datetime(1990, 6, 1)\n",
    "end = datetime.datetime(2024, 6, 1)\n",
    "\n",
    "# Get historical data\n",
    "data = Daily(location, start, end)\n",
    "data = data.fetch()\n",
    "\n",
    "print(data)\n"
   ]
  },
  {
   "cell_type": "markdown",
   "metadata": {},
   "source": []
  },
  {
   "cell_type": "markdown",
   "metadata": {},
   "source": []
  },
  {
   "cell_type": "code",
   "execution_count": 369,
   "metadata": {
    "execution": {
     "iopub.execute_input": "2024-12-28T08:29:42.821043Z",
     "iopub.status.busy": "2024-12-28T08:29:42.820729Z",
     "iopub.status.idle": "2024-12-28T08:29:42.825118Z",
     "shell.execute_reply": "2024-12-28T08:29:42.824231Z",
     "shell.execute_reply.started": "2024-12-28T08:29:42.820995Z"
    },
    "trusted": true
   },
   "outputs": [],
   "source": [
    "temperature_avg=data[\"tmin\"]"
   ]
  },
  {
   "cell_type": "code",
   "execution_count": 370,
   "metadata": {
    "execution": {
     "iopub.execute_input": "2024-12-28T08:29:43.069953Z",
     "iopub.status.busy": "2024-12-28T08:29:43.069694Z",
     "iopub.status.idle": "2024-12-28T08:29:43.074807Z",
     "shell.execute_reply": "2024-12-28T08:29:43.073818Z",
     "shell.execute_reply.started": "2024-12-28T08:29:43.069932Z"
    },
    "trusted": true
   },
   "outputs": [
    {
     "name": "stdout",
     "output_type": "stream",
     "text": [
      "TOTAL NULL VALUES IN DATASET: 3011\n"
     ]
    }
   ],
   "source": [
    "print(\"TOTAL NULL VALUES IN DATASET:\",temperature_avg.isnull().sum())"
   ]
  },
  {
   "cell_type": "code",
   "execution_count": 371,
   "metadata": {
    "execution": {
     "iopub.execute_input": "2024-12-28T08:29:50.438883Z",
     "iopub.status.busy": "2024-12-28T08:29:50.438594Z",
     "iopub.status.idle": "2024-12-28T08:29:50.443444Z",
     "shell.execute_reply": "2024-12-28T08:29:50.442624Z",
     "shell.execute_reply.started": "2024-12-28T08:29:50.438859Z"
    },
    "trusted": true
   },
   "outputs": [],
   "source": [
    "temperature_avg.dropna(inplace=True)"
   ]
  },
  {
   "cell_type": "code",
   "execution_count": 372,
   "metadata": {
    "execution": {
     "iopub.execute_input": "2024-12-28T08:29:51.188735Z",
     "iopub.status.busy": "2024-12-28T08:29:51.188453Z",
     "iopub.status.idle": "2024-12-28T08:29:51.198150Z",
     "shell.execute_reply": "2024-12-28T08:29:51.197415Z",
     "shell.execute_reply.started": "2024-12-28T08:29:51.188712Z"
    },
    "trusted": true
   },
   "outputs": [
    {
     "data": {
      "text/plain": [
       "count    9409.000000\n",
       "mean       21.371708\n",
       "std         5.754475\n",
       "min         4.000000\n",
       "25%        16.600000\n",
       "50%        23.500000\n",
       "75%        26.000000\n",
       "max        31.600000\n",
       "Name: tmin, dtype: float64"
      ]
     },
     "execution_count": 372,
     "metadata": {},
     "output_type": "execute_result"
    }
   ],
   "source": [
    "temperature_avg.describe()"
   ]
  },
  {
   "cell_type": "code",
   "execution_count": 373,
   "metadata": {
    "execution": {
     "iopub.execute_input": "2024-12-28T08:29:56.854666Z",
     "iopub.status.busy": "2024-12-28T08:29:56.854323Z",
     "iopub.status.idle": "2024-12-28T08:29:56.863816Z",
     "shell.execute_reply": "2024-12-28T08:29:56.862898Z",
     "shell.execute_reply.started": "2024-12-28T08:29:56.854636Z"
    },
    "trusted": true
   },
   "outputs": [
    {
     "name": "stdout",
     "output_type": "stream",
     "text": [
      "<class 'pandas.core.series.Series'>\n",
      "DatetimeIndex: 9409 entries, 1990-06-01 to 2024-06-01\n",
      "Series name: tmin\n",
      "Non-Null Count  Dtype  \n",
      "--------------  -----  \n",
      "9409 non-null   float64\n",
      "dtypes: float64(1)\n",
      "memory usage: 147.0 KB\n"
     ]
    }
   ],
   "source": [
    "temperature_avg.info()"
   ]
  },
  {
   "cell_type": "code",
   "execution_count": 374,
   "metadata": {
    "execution": {
     "iopub.execute_input": "2024-12-28T08:29:57.968708Z",
     "iopub.status.busy": "2024-12-28T08:29:57.968398Z",
     "iopub.status.idle": "2024-12-28T08:29:57.974088Z",
     "shell.execute_reply": "2024-12-28T08:29:57.973050Z",
     "shell.execute_reply.started": "2024-12-28T08:29:57.968679Z"
    },
    "trusted": true
   },
   "outputs": [
    {
     "name": "stdout",
     "output_type": "stream",
     "text": [
      "[23.6 27.6 27.6 ... 30.  30.  30. ] (9409,)\n"
     ]
    }
   ],
   "source": [
    "temperature_avg_seq=temperature_avg.values\n",
    "print(temperature_avg_seq,temperature_avg_seq.shape)"
   ]
  },
  {
   "cell_type": "code",
   "execution_count": 375,
   "metadata": {
    "execution": {
     "iopub.execute_input": "2024-12-28T08:30:08.340528Z",
     "iopub.status.busy": "2024-12-28T08:30:08.340232Z",
     "iopub.status.idle": "2024-12-28T08:30:08.351081Z",
     "shell.execute_reply": "2024-12-28T08:30:08.350213Z",
     "shell.execute_reply.started": "2024-12-28T08:30:08.340503Z"
    },
    "trusted": true
   },
   "outputs": [],
   "source": [
    "\n",
    "window_size=100\n",
    "\n",
    "X=[]\n",
    "Y=[]\n",
    "for i in range(len(temperature_avg_seq)-window_size):\n",
    "  X.append(temperature_avg_seq[i:i+window_size])\n",
    "  Y.append(temperature_avg_seq[i+window_size])"
   ]
  },
  {
   "cell_type": "code",
   "execution_count": 376,
   "metadata": {
    "execution": {
     "iopub.execute_input": "2024-12-28T08:30:09.368906Z",
     "iopub.status.busy": "2024-12-28T08:30:09.368600Z",
     "iopub.status.idle": "2024-12-28T08:30:09.380672Z",
     "shell.execute_reply": "2024-12-28T08:30:09.379747Z",
     "shell.execute_reply.started": "2024-12-28T08:30:09.368880Z"
    },
    "trusted": true
   },
   "outputs": [],
   "source": [
    "X=np.array(X)\n",
    "Y=np.array(Y)"
   ]
  },
  {
   "cell_type": "code",
   "execution_count": 377,
   "metadata": {
    "execution": {
     "iopub.execute_input": "2024-12-28T08:30:09.458373Z",
     "iopub.status.busy": "2024-12-28T08:30:09.458151Z",
     "iopub.status.idle": "2024-12-28T08:30:09.463543Z",
     "shell.execute_reply": "2024-12-28T08:30:09.462730Z",
     "shell.execute_reply.started": "2024-12-28T08:30:09.458354Z"
    },
    "trusted": true
   },
   "outputs": [
    {
     "name": "stdout",
     "output_type": "stream",
     "text": [
      "X Shape (9309, 100)\n",
      "Y Shape (9309,)\n"
     ]
    }
   ],
   "source": [
    "print(\"X Shape\",X.shape)\n",
    "print(\"Y Shape\",Y.shape)\n"
   ]
  },
  {
   "cell_type": "code",
   "execution_count": 378,
   "metadata": {
    "execution": {
     "iopub.execute_input": "2024-12-28T08:30:14.698773Z",
     "iopub.status.busy": "2024-12-28T08:30:14.698459Z",
     "iopub.status.idle": "2024-12-28T08:30:14.704561Z",
     "shell.execute_reply": "2024-12-28T08:30:14.703645Z",
     "shell.execute_reply.started": "2024-12-28T08:30:14.698743Z"
    },
    "trusted": true
   },
   "outputs": [
    {
     "data": {
      "text/plain": [
       "array([[23.6, 27.6, 27.6, ..., 23.7, 23.4, 25. ],\n",
       "       [27.6, 27.6, 28.4, ..., 23.4, 25. , 24.8],\n",
       "       [27.6, 28.4, 27.6, ..., 25. , 24.8, 23.8],\n",
       "       ...,\n",
       "       [20. , 21. , 20. , ..., 29. , 29. , 29. ],\n",
       "       [21. , 20. , 15. , ..., 29. , 29. , 30. ],\n",
       "       [20. , 15. , 14. , ..., 29. , 30. , 30. ]])"
      ]
     },
     "execution_count": 378,
     "metadata": {},
     "output_type": "execute_result"
    }
   ],
   "source": [
    "X"
   ]
  },
  {
   "cell_type": "code",
   "execution_count": 379,
   "metadata": {
    "execution": {
     "iopub.execute_input": "2024-12-28T08:30:17.823994Z",
     "iopub.status.busy": "2024-12-28T08:30:17.823688Z",
     "iopub.status.idle": "2024-12-28T08:30:17.833716Z",
     "shell.execute_reply": "2024-12-28T08:30:17.832934Z",
     "shell.execute_reply.started": "2024-12-28T08:30:17.823970Z"
    },
    "trusted": true
   },
   "outputs": [],
   "source": [
    "from sklearn.model_selection import train_test_split\n",
    "\n",
    "X_train,X_test,Y_train,Y_test=train_test_split(X,Y,test_size=0.3,random_state=42)"
   ]
  },
  {
   "cell_type": "code",
   "execution_count": 380,
   "metadata": {
    "execution": {
     "iopub.execute_input": "2024-12-28T08:30:18.068855Z",
     "iopub.status.busy": "2024-12-28T08:30:18.068579Z",
     "iopub.status.idle": "2024-12-28T08:30:18.075131Z",
     "shell.execute_reply": "2024-12-28T08:30:18.074315Z",
     "shell.execute_reply.started": "2024-12-28T08:30:18.068834Z"
    },
    "trusted": true
   },
   "outputs": [
    {
     "name": "stdout",
     "output_type": "stream",
     "text": [
      "X_train Shape (6516, 100)\n",
      "X_test Shape (2793, 100)\n",
      "Y_train Shape (6516,)\n",
      "Y_test Shape (2793,)\n"
     ]
    }
   ],
   "source": [
    "print(\"X_train Shape\",X_train.shape)\n",
    "print(\"X_test Shape\",X_test.shape)\n",
    "print(\"Y_train Shape\",Y_train.shape)\n",
    "print(\"Y_test Shape\",Y_test.shape)\n"
   ]
  },
  {
   "cell_type": "code",
   "execution_count": 381,
   "metadata": {
    "execution": {
     "iopub.execute_input": "2024-12-28T08:30:20.154073Z",
     "iopub.status.busy": "2024-12-28T08:30:20.153734Z",
     "iopub.status.idle": "2024-12-28T08:30:20.159849Z",
     "shell.execute_reply": "2024-12-28T08:30:20.159113Z",
     "shell.execute_reply.started": "2024-12-28T08:30:20.154049Z"
    },
    "trusted": true
   },
   "outputs": [
    {
     "data": {
      "text/plain": [
       "array([[26.8, 26.8, 26.6, ..., 16. , 13.4, 14.8],\n",
       "       [25.8, 25.8, 26.2, ..., 13. , 15. , 11.5],\n",
       "       [20.2, 18. , 17. , ..., 15. , 16.8, 13. ],\n",
       "       ...,\n",
       "       [28.5, 27.6, 28.5, ..., 23.4, 23.4, 23.8],\n",
       "       [17.7, 19. , 19.2, ..., 22.9, 25.4, 27.4],\n",
       "       [25.2, 25.1, 25.7, ..., 21.8, 17.9, 19. ]])"
      ]
     },
     "execution_count": 381,
     "metadata": {},
     "output_type": "execute_result"
    }
   ],
   "source": [
    "X_train"
   ]
  },
  {
   "cell_type": "code",
   "execution_count": 382,
   "metadata": {
    "execution": {
     "iopub.execute_input": "2024-12-28T08:30:29.983818Z",
     "iopub.status.busy": "2024-12-28T08:30:29.983517Z",
     "iopub.status.idle": "2024-12-28T08:30:29.995333Z",
     "shell.execute_reply": "2024-12-28T08:30:29.994410Z",
     "shell.execute_reply.started": "2024-12-28T08:30:29.983792Z"
    },
    "trusted": true
   },
   "outputs": [],
   "source": [
    "from sklearn.preprocessing import StandardScaler\n",
    "MinMax=MinMaxScaler()\n",
    "X_train_Scaled=MinMax.fit_transform(X_train.reshape(-1,1))\n",
    "X_test_Scaled=MinMax.transform(X_test.reshape(-1,1))"
   ]
  },
  {
   "cell_type": "code",
   "execution_count": 383,
   "metadata": {
    "execution": {
     "iopub.execute_input": "2024-12-28T08:30:32.245190Z",
     "iopub.status.busy": "2024-12-28T08:30:32.244856Z",
     "iopub.status.idle": "2024-12-28T08:30:32.249086Z",
     "shell.execute_reply": "2024-12-28T08:30:32.248084Z",
     "shell.execute_reply.started": "2024-12-28T08:30:32.245156Z"
    },
    "trusted": true
   },
   "outputs": [],
   "source": [
    "X_train=X_train_Scaled.reshape(X_train.shape[0],100)"
   ]
  },
  {
   "cell_type": "code",
   "execution_count": 384,
   "metadata": {
    "execution": {
     "iopub.execute_input": "2024-12-28T08:30:32.250410Z",
     "iopub.status.busy": "2024-12-28T08:30:32.250200Z",
     "iopub.status.idle": "2024-12-28T08:30:32.265574Z",
     "shell.execute_reply": "2024-12-28T08:30:32.264842Z",
     "shell.execute_reply.started": "2024-12-28T08:30:32.250390Z"
    },
    "trusted": true
   },
   "outputs": [],
   "source": [
    "X_test=X_test_Scaled.reshape(X_test.shape[0],100)"
   ]
  },
  {
   "cell_type": "code",
   "execution_count": 385,
   "metadata": {
    "execution": {
     "iopub.execute_input": "2024-12-28T08:30:35.488641Z",
     "iopub.status.busy": "2024-12-28T08:30:35.488351Z",
     "iopub.status.idle": "2024-12-28T08:30:35.493918Z",
     "shell.execute_reply": "2024-12-28T08:30:35.493086Z",
     "shell.execute_reply.started": "2024-12-28T08:30:35.488618Z"
    },
    "trusted": true
   },
   "outputs": [
    {
     "name": "stdout",
     "output_type": "stream",
     "text": [
      "X_train Shape (6516, 100)\n",
      "X_test Shape (2793, 100)\n",
      "Y_train Shape (6516,)\n",
      "Y_test Shape (2793,)\n"
     ]
    }
   ],
   "source": [
    "print(\"X_train Shape\",X_train.shape)\n",
    "print(\"X_test Shape\",X_test.shape)\n",
    "print(\"Y_train Shape\",Y_train.shape)\n",
    "print(\"Y_test Shape\",Y_test.shape)\n"
   ]
  },
  {
   "cell_type": "code",
   "execution_count": 386,
   "metadata": {
    "execution": {
     "iopub.execute_input": "2024-12-28T08:30:49.388722Z",
     "iopub.status.busy": "2024-12-28T08:30:49.388378Z",
     "iopub.status.idle": "2024-12-28T08:30:49.521151Z",
     "shell.execute_reply": "2024-12-28T08:30:49.520296Z",
     "shell.execute_reply.started": "2024-12-28T08:30:49.388693Z"
    },
    "trusted": true
   },
   "outputs": [
    {
     "name": "stderr",
     "output_type": "stream",
     "text": [
      "UserWarning: Do not pass an `input_shape`/`input_dim` argument to a layer. When using Sequential models, prefer using an `Input(shape)` object as the first layer in the model instead.\n"
     ]
    }
   ],
   "source": [
    "maxLength=6\n",
    "upgraded_naive_model=Sequential()\n",
    "upgraded_naive_model.add(LSTM(128,return_sequences=True,input_shape=(window_size,1)))\n",
    "upgraded_naive_model.add(Dropout(0.2))\n",
    "upgraded_naive_model.add(LSTM(100,return_sequences=True))\n",
    "upgraded_naive_model.add(Dropout(0.2))\n",
    "upgraded_naive_model.add(LSTM(100,return_sequences=True))\n",
    "upgraded_naive_model.add(Dropout(0.2))\n",
    "upgraded_naive_model.add(LSTM(100))\n",
    "upgraded_naive_model.add(Dropout(0.2))\n",
    "\n",
    "upgraded_naive_model.add(Dense(64,activation=\"relu\"))\n",
    "upgraded_naive_model.add(Dropout(0.2))\n",
    "\n",
    "\n",
    "upgraded_naive_model.add(Dense(1))\n"
   ]
  },
  {
   "cell_type": "code",
   "execution_count": 387,
   "metadata": {
    "execution": {
     "iopub.execute_input": "2024-12-28T08:30:49.783518Z",
     "iopub.status.busy": "2024-12-28T08:30:49.783086Z",
     "iopub.status.idle": "2024-12-28T08:30:49.808581Z",
     "shell.execute_reply": "2024-12-28T08:30:49.807710Z",
     "shell.execute_reply.started": "2024-12-28T08:30:49.783480Z"
    },
    "trusted": true
   },
   "outputs": [
    {
     "data": {
      "text/html": [
       "<pre style=\"white-space:pre;overflow-x:auto;line-height:normal;font-family:Menlo,'DejaVu Sans Mono',consolas,'Courier New',monospace\"><span style=\"font-weight: bold\">Model: \"sequential_5\"</span>\n",
       "</pre>\n"
      ],
      "text/plain": [
       "\u001b[1mModel: \"sequential_5\"\u001b[0m\n"
      ]
     },
     "metadata": {},
     "output_type": "display_data"
    },
    {
     "data": {
      "text/html": [
       "<pre style=\"white-space:pre;overflow-x:auto;line-height:normal;font-family:Menlo,'DejaVu Sans Mono',consolas,'Courier New',monospace\">┏━━━━━━━━━━━━━━━━━━━━━━━━━━━━━━━━━━━━━━┳━━━━━━━━━━━━━━━━━━━━━━━━━━━━━┳━━━━━━━━━━━━━━━━━┓\n",
       "┃<span style=\"font-weight: bold\"> Layer (type)                         </span>┃<span style=\"font-weight: bold\"> Output Shape                </span>┃<span style=\"font-weight: bold\">         Param # </span>┃\n",
       "┡━━━━━━━━━━━━━━━━━━━━━━━━━━━━━━━━━━━━━━╇━━━━━━━━━━━━━━━━━━━━━━━━━━━━━╇━━━━━━━━━━━━━━━━━┩\n",
       "│ lstm_20 (<span style=\"color: #0087ff; text-decoration-color: #0087ff\">LSTM</span>)                       │ (<span style=\"color: #00d7ff; text-decoration-color: #00d7ff\">None</span>, <span style=\"color: #00af00; text-decoration-color: #00af00\">100</span>, <span style=\"color: #00af00; text-decoration-color: #00af00\">128</span>)            │          <span style=\"color: #00af00; text-decoration-color: #00af00\">66,560</span> │\n",
       "├──────────────────────────────────────┼─────────────────────────────┼─────────────────┤\n",
       "│ dropout_25 (<span style=\"color: #0087ff; text-decoration-color: #0087ff\">Dropout</span>)                 │ (<span style=\"color: #00d7ff; text-decoration-color: #00d7ff\">None</span>, <span style=\"color: #00af00; text-decoration-color: #00af00\">100</span>, <span style=\"color: #00af00; text-decoration-color: #00af00\">128</span>)            │               <span style=\"color: #00af00; text-decoration-color: #00af00\">0</span> │\n",
       "├──────────────────────────────────────┼─────────────────────────────┼─────────────────┤\n",
       "│ lstm_21 (<span style=\"color: #0087ff; text-decoration-color: #0087ff\">LSTM</span>)                       │ (<span style=\"color: #00d7ff; text-decoration-color: #00d7ff\">None</span>, <span style=\"color: #00af00; text-decoration-color: #00af00\">100</span>, <span style=\"color: #00af00; text-decoration-color: #00af00\">100</span>)            │          <span style=\"color: #00af00; text-decoration-color: #00af00\">91,600</span> │\n",
       "├──────────────────────────────────────┼─────────────────────────────┼─────────────────┤\n",
       "│ dropout_26 (<span style=\"color: #0087ff; text-decoration-color: #0087ff\">Dropout</span>)                 │ (<span style=\"color: #00d7ff; text-decoration-color: #00d7ff\">None</span>, <span style=\"color: #00af00; text-decoration-color: #00af00\">100</span>, <span style=\"color: #00af00; text-decoration-color: #00af00\">100</span>)            │               <span style=\"color: #00af00; text-decoration-color: #00af00\">0</span> │\n",
       "├──────────────────────────────────────┼─────────────────────────────┼─────────────────┤\n",
       "│ lstm_22 (<span style=\"color: #0087ff; text-decoration-color: #0087ff\">LSTM</span>)                       │ (<span style=\"color: #00d7ff; text-decoration-color: #00d7ff\">None</span>, <span style=\"color: #00af00; text-decoration-color: #00af00\">100</span>, <span style=\"color: #00af00; text-decoration-color: #00af00\">100</span>)            │          <span style=\"color: #00af00; text-decoration-color: #00af00\">80,400</span> │\n",
       "├──────────────────────────────────────┼─────────────────────────────┼─────────────────┤\n",
       "│ dropout_27 (<span style=\"color: #0087ff; text-decoration-color: #0087ff\">Dropout</span>)                 │ (<span style=\"color: #00d7ff; text-decoration-color: #00d7ff\">None</span>, <span style=\"color: #00af00; text-decoration-color: #00af00\">100</span>, <span style=\"color: #00af00; text-decoration-color: #00af00\">100</span>)            │               <span style=\"color: #00af00; text-decoration-color: #00af00\">0</span> │\n",
       "├──────────────────────────────────────┼─────────────────────────────┼─────────────────┤\n",
       "│ lstm_23 (<span style=\"color: #0087ff; text-decoration-color: #0087ff\">LSTM</span>)                       │ (<span style=\"color: #00d7ff; text-decoration-color: #00d7ff\">None</span>, <span style=\"color: #00af00; text-decoration-color: #00af00\">100</span>)                 │          <span style=\"color: #00af00; text-decoration-color: #00af00\">80,400</span> │\n",
       "├──────────────────────────────────────┼─────────────────────────────┼─────────────────┤\n",
       "│ dropout_28 (<span style=\"color: #0087ff; text-decoration-color: #0087ff\">Dropout</span>)                 │ (<span style=\"color: #00d7ff; text-decoration-color: #00d7ff\">None</span>, <span style=\"color: #00af00; text-decoration-color: #00af00\">100</span>)                 │               <span style=\"color: #00af00; text-decoration-color: #00af00\">0</span> │\n",
       "├──────────────────────────────────────┼─────────────────────────────┼─────────────────┤\n",
       "│ dense_10 (<span style=\"color: #0087ff; text-decoration-color: #0087ff\">Dense</span>)                     │ (<span style=\"color: #00d7ff; text-decoration-color: #00d7ff\">None</span>, <span style=\"color: #00af00; text-decoration-color: #00af00\">64</span>)                  │           <span style=\"color: #00af00; text-decoration-color: #00af00\">6,464</span> │\n",
       "├──────────────────────────────────────┼─────────────────────────────┼─────────────────┤\n",
       "│ dropout_29 (<span style=\"color: #0087ff; text-decoration-color: #0087ff\">Dropout</span>)                 │ (<span style=\"color: #00d7ff; text-decoration-color: #00d7ff\">None</span>, <span style=\"color: #00af00; text-decoration-color: #00af00\">64</span>)                  │               <span style=\"color: #00af00; text-decoration-color: #00af00\">0</span> │\n",
       "├──────────────────────────────────────┼─────────────────────────────┼─────────────────┤\n",
       "│ dense_11 (<span style=\"color: #0087ff; text-decoration-color: #0087ff\">Dense</span>)                     │ (<span style=\"color: #00d7ff; text-decoration-color: #00d7ff\">None</span>, <span style=\"color: #00af00; text-decoration-color: #00af00\">1</span>)                   │              <span style=\"color: #00af00; text-decoration-color: #00af00\">65</span> │\n",
       "└──────────────────────────────────────┴─────────────────────────────┴─────────────────┘\n",
       "</pre>\n"
      ],
      "text/plain": [
       "┏━━━━━━━━━━━━━━━━━━━━━━━━━━━━━━━━━━━━━━┳━━━━━━━━━━━━━━━━━━━━━━━━━━━━━┳━━━━━━━━━━━━━━━━━┓\n",
       "┃\u001b[1m \u001b[0m\u001b[1mLayer (type)                        \u001b[0m\u001b[1m \u001b[0m┃\u001b[1m \u001b[0m\u001b[1mOutput Shape               \u001b[0m\u001b[1m \u001b[0m┃\u001b[1m \u001b[0m\u001b[1m        Param #\u001b[0m\u001b[1m \u001b[0m┃\n",
       "┡━━━━━━━━━━━━━━━━━━━━━━━━━━━━━━━━━━━━━━╇━━━━━━━━━━━━━━━━━━━━━━━━━━━━━╇━━━━━━━━━━━━━━━━━┩\n",
       "│ lstm_20 (\u001b[38;5;33mLSTM\u001b[0m)                       │ (\u001b[38;5;45mNone\u001b[0m, \u001b[38;5;34m100\u001b[0m, \u001b[38;5;34m128\u001b[0m)            │          \u001b[38;5;34m66,560\u001b[0m │\n",
       "├──────────────────────────────────────┼─────────────────────────────┼─────────────────┤\n",
       "│ dropout_25 (\u001b[38;5;33mDropout\u001b[0m)                 │ (\u001b[38;5;45mNone\u001b[0m, \u001b[38;5;34m100\u001b[0m, \u001b[38;5;34m128\u001b[0m)            │               \u001b[38;5;34m0\u001b[0m │\n",
       "├──────────────────────────────────────┼─────────────────────────────┼─────────────────┤\n",
       "│ lstm_21 (\u001b[38;5;33mLSTM\u001b[0m)                       │ (\u001b[38;5;45mNone\u001b[0m, \u001b[38;5;34m100\u001b[0m, \u001b[38;5;34m100\u001b[0m)            │          \u001b[38;5;34m91,600\u001b[0m │\n",
       "├──────────────────────────────────────┼─────────────────────────────┼─────────────────┤\n",
       "│ dropout_26 (\u001b[38;5;33mDropout\u001b[0m)                 │ (\u001b[38;5;45mNone\u001b[0m, \u001b[38;5;34m100\u001b[0m, \u001b[38;5;34m100\u001b[0m)            │               \u001b[38;5;34m0\u001b[0m │\n",
       "├──────────────────────────────────────┼─────────────────────────────┼─────────────────┤\n",
       "│ lstm_22 (\u001b[38;5;33mLSTM\u001b[0m)                       │ (\u001b[38;5;45mNone\u001b[0m, \u001b[38;5;34m100\u001b[0m, \u001b[38;5;34m100\u001b[0m)            │          \u001b[38;5;34m80,400\u001b[0m │\n",
       "├──────────────────────────────────────┼─────────────────────────────┼─────────────────┤\n",
       "│ dropout_27 (\u001b[38;5;33mDropout\u001b[0m)                 │ (\u001b[38;5;45mNone\u001b[0m, \u001b[38;5;34m100\u001b[0m, \u001b[38;5;34m100\u001b[0m)            │               \u001b[38;5;34m0\u001b[0m │\n",
       "├──────────────────────────────────────┼─────────────────────────────┼─────────────────┤\n",
       "│ lstm_23 (\u001b[38;5;33mLSTM\u001b[0m)                       │ (\u001b[38;5;45mNone\u001b[0m, \u001b[38;5;34m100\u001b[0m)                 │          \u001b[38;5;34m80,400\u001b[0m │\n",
       "├──────────────────────────────────────┼─────────────────────────────┼─────────────────┤\n",
       "│ dropout_28 (\u001b[38;5;33mDropout\u001b[0m)                 │ (\u001b[38;5;45mNone\u001b[0m, \u001b[38;5;34m100\u001b[0m)                 │               \u001b[38;5;34m0\u001b[0m │\n",
       "├──────────────────────────────────────┼─────────────────────────────┼─────────────────┤\n",
       "│ dense_10 (\u001b[38;5;33mDense\u001b[0m)                     │ (\u001b[38;5;45mNone\u001b[0m, \u001b[38;5;34m64\u001b[0m)                  │           \u001b[38;5;34m6,464\u001b[0m │\n",
       "├──────────────────────────────────────┼─────────────────────────────┼─────────────────┤\n",
       "│ dropout_29 (\u001b[38;5;33mDropout\u001b[0m)                 │ (\u001b[38;5;45mNone\u001b[0m, \u001b[38;5;34m64\u001b[0m)                  │               \u001b[38;5;34m0\u001b[0m │\n",
       "├──────────────────────────────────────┼─────────────────────────────┼─────────────────┤\n",
       "│ dense_11 (\u001b[38;5;33mDense\u001b[0m)                     │ (\u001b[38;5;45mNone\u001b[0m, \u001b[38;5;34m1\u001b[0m)                   │              \u001b[38;5;34m65\u001b[0m │\n",
       "└──────────────────────────────────────┴─────────────────────────────┴─────────────────┘\n"
      ]
     },
     "metadata": {},
     "output_type": "display_data"
    },
    {
     "data": {
      "text/html": [
       "<pre style=\"white-space:pre;overflow-x:auto;line-height:normal;font-family:Menlo,'DejaVu Sans Mono',consolas,'Courier New',monospace\"><span style=\"font-weight: bold\"> Total params: </span><span style=\"color: #00af00; text-decoration-color: #00af00\">325,489</span> (1.24 MB)\n",
       "</pre>\n"
      ],
      "text/plain": [
       "\u001b[1m Total params: \u001b[0m\u001b[38;5;34m325,489\u001b[0m (1.24 MB)\n"
      ]
     },
     "metadata": {},
     "output_type": "display_data"
    },
    {
     "data": {
      "text/html": [
       "<pre style=\"white-space:pre;overflow-x:auto;line-height:normal;font-family:Menlo,'DejaVu Sans Mono',consolas,'Courier New',monospace\"><span style=\"font-weight: bold\"> Trainable params: </span><span style=\"color: #00af00; text-decoration-color: #00af00\">325,489</span> (1.24 MB)\n",
       "</pre>\n"
      ],
      "text/plain": [
       "\u001b[1m Trainable params: \u001b[0m\u001b[38;5;34m325,489\u001b[0m (1.24 MB)\n"
      ]
     },
     "metadata": {},
     "output_type": "display_data"
    },
    {
     "data": {
      "text/html": [
       "<pre style=\"white-space:pre;overflow-x:auto;line-height:normal;font-family:Menlo,'DejaVu Sans Mono',consolas,'Courier New',monospace\"><span style=\"font-weight: bold\"> Non-trainable params: </span><span style=\"color: #00af00; text-decoration-color: #00af00\">0</span> (0.00 B)\n",
       "</pre>\n"
      ],
      "text/plain": [
       "\u001b[1m Non-trainable params: \u001b[0m\u001b[38;5;34m0\u001b[0m (0.00 B)\n"
      ]
     },
     "metadata": {},
     "output_type": "display_data"
    }
   ],
   "source": [
    "upgraded_naive_model.summary()"
   ]
  },
  {
   "cell_type": "code",
   "execution_count": 388,
   "metadata": {
    "execution": {
     "iopub.execute_input": "2024-12-28T08:30:51.113756Z",
     "iopub.status.busy": "2024-12-28T08:30:51.113446Z",
     "iopub.status.idle": "2024-12-28T08:30:51.121798Z",
     "shell.execute_reply": "2024-12-28T08:30:51.121070Z",
     "shell.execute_reply.started": "2024-12-28T08:30:51.113730Z"
    },
    "trusted": true
   },
   "outputs": [],
   "source": [
    "upgraded_naive_model.compile(optimizer=\"adam\",loss=\"mse\",metrics=[\"mae\"])"
   ]
  },
  {
   "cell_type": "code",
   "execution_count": 389,
   "metadata": {
    "execution": {
     "iopub.execute_input": "2024-12-28T08:30:59.143982Z",
     "iopub.status.busy": "2024-12-28T08:30:59.143649Z",
     "iopub.status.idle": "2024-12-28T08:30:59.148268Z",
     "shell.execute_reply": "2024-12-28T08:30:59.147119Z",
     "shell.execute_reply.started": "2024-12-28T08:30:59.143954Z"
    },
    "trusted": true
   },
   "outputs": [],
   "source": [
    "from tensorflow.keras.callbacks import ModelCheckpoint\n",
    "checkpoint = ModelCheckpoint(\n",
    "    \"temperature_best_min_MinMax.keras\",\n",
    "    monitor = \"val_loss\",\n",
    "    mode = \"min\",\n",
    "    save_best_only = True,\n",
    "    verbose = 1\n",
    ")"
   ]
  },
  {
   "cell_type": "code",
   "execution_count": 390,
   "metadata": {
    "execution": {
     "iopub.execute_input": "2024-12-28T08:31:01.323815Z",
     "iopub.status.busy": "2024-12-28T08:31:01.323525Z",
     "iopub.status.idle": "2024-12-28T08:31:01.329088Z",
     "shell.execute_reply": "2024-12-28T08:31:01.328117Z",
     "shell.execute_reply.started": "2024-12-28T08:31:01.323790Z"
    },
    "trusted": true
   },
   "outputs": [
    {
     "data": {
      "text/plain": [
       "((2793, 100), (2793,))"
      ]
     },
     "execution_count": 390,
     "metadata": {},
     "output_type": "execute_result"
    }
   ],
   "source": [
    "X_test.shape, Y_test.shape"
   ]
  },
  {
   "cell_type": "code",
   "execution_count": 391,
   "metadata": {
    "execution": {
     "iopub.execute_input": "2024-12-28T08:31:05.768624Z",
     "iopub.status.busy": "2024-12-28T08:31:05.768333Z",
     "iopub.status.idle": "2024-12-28T08:38:20.687755Z",
     "shell.execute_reply": "2024-12-28T08:38:20.687072Z",
     "shell.execute_reply.started": "2024-12-28T08:31:05.768600Z"
    },
    "trusted": true
   },
   "outputs": [
    {
     "name": "stdout",
     "output_type": "stream",
     "text": [
      "Epoch 1/50\n",
      "\u001b[1m406/408\u001b[0m \u001b[32m━━━━━━━━━━━━━━━━━━━\u001b[0m\u001b[37m━\u001b[0m \u001b[1m0s\u001b[0m 19ms/step - loss: 90.1420 - mae: 7.3374\n",
      "Epoch 1: val_loss improved from inf to 33.00687, saving model to temperature_best_min_MinMax.keras\n",
      "\u001b[1m408/408\u001b[0m \u001b[32m━━━━━━━━━━━━━━━━━━━━\u001b[0m\u001b[37m\u001b[0m \u001b[1m13s\u001b[0m 22ms/step - loss: 89.8575 - mae: 7.3260 - val_loss: 33.0069 - val_mae: 4.9510\n",
      "Epoch 2/50\n",
      "\u001b[1m406/408\u001b[0m \u001b[32m━━━━━━━━━━━━━━━━━━━\u001b[0m\u001b[37m━\u001b[0m \u001b[1m0s\u001b[0m 19ms/step - loss: 38.4391 - mae: 5.1804\n",
      "Epoch 2: val_loss improved from 33.00687 to 32.95997, saving model to temperature_best_min_MinMax.keras\n",
      "\u001b[1m408/408\u001b[0m \u001b[32m━━━━━━━━━━━━━━━━━━━━\u001b[0m\u001b[37m\u001b[0m \u001b[1m9s\u001b[0m 21ms/step - loss: 38.4444 - mae: 5.1811 - val_loss: 32.9600 - val_mae: 5.0634\n",
      "Epoch 3/50\n",
      "\u001b[1m406/408\u001b[0m \u001b[32m━━━━━━━━━━━━━━━━━━━\u001b[0m\u001b[37m━\u001b[0m \u001b[1m0s\u001b[0m 18ms/step - loss: 39.0178 - mae: 5.3156\n",
      "Epoch 3: val_loss did not improve from 32.95997\n",
      "\u001b[1m408/408\u001b[0m \u001b[32m━━━━━━━━━━━━━━━━━━━━\u001b[0m\u001b[37m\u001b[0m \u001b[1m9s\u001b[0m 21ms/step - loss: 39.0144 - mae: 5.3152 - val_loss: 34.3803 - val_mae: 5.2415\n",
      "Epoch 4/50\n",
      "\u001b[1m406/408\u001b[0m \u001b[32m━━━━━━━━━━━━━━━━━━━\u001b[0m\u001b[37m━\u001b[0m \u001b[1m0s\u001b[0m 19ms/step - loss: 39.0488 - mae: 5.3273\n",
      "Epoch 4: val_loss improved from 32.95997 to 32.89360, saving model to temperature_best_min_MinMax.keras\n",
      "\u001b[1m408/408\u001b[0m \u001b[32m━━━━━━━━━━━━━━━━━━━━\u001b[0m\u001b[37m\u001b[0m \u001b[1m9s\u001b[0m 21ms/step - loss: 39.0462 - mae: 5.3270 - val_loss: 32.8936 - val_mae: 4.9759\n",
      "Epoch 5/50\n",
      "\u001b[1m406/408\u001b[0m \u001b[32m━━━━━━━━━━━━━━━━━━━\u001b[0m\u001b[37m━\u001b[0m \u001b[1m0s\u001b[0m 18ms/step - loss: 38.5706 - mae: 5.2799\n",
      "Epoch 5: val_loss improved from 32.89360 to 32.84924, saving model to temperature_best_min_MinMax.keras\n",
      "\u001b[1m408/408\u001b[0m \u001b[32m━━━━━━━━━━━━━━━━━━━━\u001b[0m\u001b[37m\u001b[0m \u001b[1m9s\u001b[0m 21ms/step - loss: 38.5739 - mae: 5.2801 - val_loss: 32.8492 - val_mae: 5.0192\n",
      "Epoch 6/50\n",
      "\u001b[1m406/408\u001b[0m \u001b[32m━━━━━━━━━━━━━━━━━━━\u001b[0m\u001b[37m━\u001b[0m \u001b[1m0s\u001b[0m 19ms/step - loss: 38.1864 - mae: 5.2273\n",
      "Epoch 6: val_loss did not improve from 32.84924\n",
      "\u001b[1m408/408\u001b[0m \u001b[32m━━━━━━━━━━━━━━━━━━━━\u001b[0m\u001b[37m\u001b[0m \u001b[1m9s\u001b[0m 21ms/step - loss: 38.1882 - mae: 5.2275 - val_loss: 32.8876 - val_mae: 4.9779\n",
      "Epoch 7/50\n",
      "\u001b[1m406/408\u001b[0m \u001b[32m━━━━━━━━━━━━━━━━━━━\u001b[0m\u001b[37m━\u001b[0m \u001b[1m0s\u001b[0m 18ms/step - loss: 39.4319 - mae: 5.3320\n",
      "Epoch 7: val_loss did not improve from 32.84924\n",
      "\u001b[1m408/408\u001b[0m \u001b[32m━━━━━━━━━━━━━━━━━━━━\u001b[0m\u001b[37m\u001b[0m \u001b[1m9s\u001b[0m 21ms/step - loss: 39.4255 - mae: 5.3315 - val_loss: 32.9404 - val_mae: 5.0584\n",
      "Epoch 8/50\n",
      "\u001b[1m406/408\u001b[0m \u001b[32m━━━━━━━━━━━━━━━━━━━\u001b[0m\u001b[37m━\u001b[0m \u001b[1m0s\u001b[0m 18ms/step - loss: 38.7115 - mae: 5.2601\n",
      "Epoch 8: val_loss did not improve from 32.84924\n",
      "\u001b[1m408/408\u001b[0m \u001b[32m━━━━━━━━━━━━━━━━━━━━\u001b[0m\u001b[37m\u001b[0m \u001b[1m9s\u001b[0m 21ms/step - loss: 38.7117 - mae: 5.2600 - val_loss: 33.9759 - val_mae: 5.2034\n",
      "Epoch 9/50\n",
      "\u001b[1m406/408\u001b[0m \u001b[32m━━━━━━━━━━━━━━━━━━━\u001b[0m\u001b[37m━\u001b[0m \u001b[1m0s\u001b[0m 19ms/step - loss: 37.0130 - mae: 5.1326\n",
      "Epoch 9: val_loss did not improve from 32.84924\n",
      "\u001b[1m408/408\u001b[0m \u001b[32m━━━━━━━━━━━━━━━━━━━━\u001b[0m\u001b[37m\u001b[0m \u001b[1m9s\u001b[0m 21ms/step - loss: 37.0184 - mae: 5.1331 - val_loss: 34.0608 - val_mae: 5.2118\n",
      "Epoch 10/50\n",
      "\u001b[1m406/408\u001b[0m \u001b[32m━━━━━━━━━━━━━━━━━━━\u001b[0m\u001b[37m━\u001b[0m \u001b[1m0s\u001b[0m 18ms/step - loss: 39.5847 - mae: 5.3717\n",
      "Epoch 10: val_loss did not improve from 32.84924\n",
      "\u001b[1m408/408\u001b[0m \u001b[32m━━━━━━━━━━━━━━━━━━━━\u001b[0m\u001b[37m\u001b[0m \u001b[1m9s\u001b[0m 21ms/step - loss: 39.5783 - mae: 5.3711 - val_loss: 32.8627 - val_mae: 5.0300\n",
      "Epoch 11/50\n",
      "\u001b[1m406/408\u001b[0m \u001b[32m━━━━━━━━━━━━━━━━━━━\u001b[0m\u001b[37m━\u001b[0m \u001b[1m0s\u001b[0m 18ms/step - loss: 37.5623 - mae: 5.2030\n",
      "Epoch 11: val_loss did not improve from 32.84924\n",
      "\u001b[1m408/408\u001b[0m \u001b[32m━━━━━━━━━━━━━━━━━━━━\u001b[0m\u001b[37m\u001b[0m \u001b[1m9s\u001b[0m 21ms/step - loss: 37.5671 - mae: 5.2034 - val_loss: 35.9488 - val_mae: 5.3688\n",
      "Epoch 12/50\n",
      "\u001b[1m406/408\u001b[0m \u001b[32m━━━━━━━━━━━━━━━━━━━\u001b[0m\u001b[37m━\u001b[0m \u001b[1m0s\u001b[0m 18ms/step - loss: 38.1180 - mae: 5.2433\n",
      "Epoch 12: val_loss did not improve from 32.84924\n",
      "\u001b[1m408/408\u001b[0m \u001b[32m━━━━━━━━━━━━━━━━━━━━\u001b[0m\u001b[37m\u001b[0m \u001b[1m9s\u001b[0m 21ms/step - loss: 38.1214 - mae: 5.2435 - val_loss: 36.6283 - val_mae: 5.4195\n",
      "Epoch 13/50\n",
      "\u001b[1m406/408\u001b[0m \u001b[32m━━━━━━━━━━━━━━━━━━━\u001b[0m\u001b[37m━\u001b[0m \u001b[1m0s\u001b[0m 19ms/step - loss: 38.3342 - mae: 5.2531\n",
      "Epoch 13: val_loss did not improve from 32.84924\n",
      "\u001b[1m408/408\u001b[0m \u001b[32m━━━━━━━━━━━━━━━━━━━━\u001b[0m\u001b[37m\u001b[0m \u001b[1m9s\u001b[0m 21ms/step - loss: 38.3344 - mae: 5.2531 - val_loss: 32.8861 - val_mae: 5.0412\n",
      "Epoch 14/50\n",
      "\u001b[1m406/408\u001b[0m \u001b[32m━━━━━━━━━━━━━━━━━━━\u001b[0m\u001b[37m━\u001b[0m \u001b[1m0s\u001b[0m 18ms/step - loss: 38.9047 - mae: 5.3385\n",
      "Epoch 14: val_loss improved from 32.84924 to 32.84667, saving model to temperature_best_min_MinMax.keras\n",
      "\u001b[1m408/408\u001b[0m \u001b[32m━━━━━━━━━━━━━━━━━━━━\u001b[0m\u001b[37m\u001b[0m \u001b[1m9s\u001b[0m 21ms/step - loss: 38.9015 - mae: 5.3381 - val_loss: 32.8467 - val_mae: 5.0026\n",
      "Epoch 15/50\n",
      "\u001b[1m406/408\u001b[0m \u001b[32m━━━━━━━━━━━━━━━━━━━\u001b[0m\u001b[37m━\u001b[0m \u001b[1m0s\u001b[0m 18ms/step - loss: 38.0769 - mae: 5.2286\n",
      "Epoch 15: val_loss did not improve from 32.84667\n",
      "\u001b[1m408/408\u001b[0m \u001b[32m━━━━━━━━━━━━━━━━━━━━\u001b[0m\u001b[37m\u001b[0m \u001b[1m9s\u001b[0m 21ms/step - loss: 38.0762 - mae: 5.2285 - val_loss: 35.0552 - val_mae: 5.2984\n",
      "Epoch 16/50\n",
      "\u001b[1m406/408\u001b[0m \u001b[32m━━━━━━━━━━━━━━━━━━━\u001b[0m\u001b[37m━\u001b[0m \u001b[1m0s\u001b[0m 18ms/step - loss: 37.9146 - mae: 5.2096\n",
      "Epoch 16: val_loss did not improve from 32.84667\n",
      "\u001b[1m408/408\u001b[0m \u001b[32m━━━━━━━━━━━━━━━━━━━━\u001b[0m\u001b[37m\u001b[0m \u001b[1m9s\u001b[0m 21ms/step - loss: 37.9146 - mae: 5.2096 - val_loss: 34.2546 - val_mae: 5.2301\n",
      "Epoch 17/50\n",
      "\u001b[1m406/408\u001b[0m \u001b[32m━━━━━━━━━━━━━━━━━━━\u001b[0m\u001b[37m━\u001b[0m \u001b[1m0s\u001b[0m 18ms/step - loss: 37.1788 - mae: 5.1957\n",
      "Epoch 17: val_loss did not improve from 32.84667\n",
      "\u001b[1m408/408\u001b[0m \u001b[32m━━━━━━━━━━━━━━━━━━━━\u001b[0m\u001b[37m\u001b[0m \u001b[1m9s\u001b[0m 21ms/step - loss: 37.1834 - mae: 5.1960 - val_loss: 32.9477 - val_mae: 5.0603\n",
      "Epoch 18/50\n",
      "\u001b[1m406/408\u001b[0m \u001b[32m━━━━━━━━━━━━━━━━━━━\u001b[0m\u001b[37m━\u001b[0m \u001b[1m0s\u001b[0m 18ms/step - loss: 37.7477 - mae: 5.2182\n",
      "Epoch 18: val_loss improved from 32.84667 to 32.84624, saving model to temperature_best_min_MinMax.keras\n",
      "\u001b[1m408/408\u001b[0m \u001b[32m━━━━━━━━━━━━━━━━━━━━\u001b[0m\u001b[37m\u001b[0m \u001b[1m9s\u001b[0m 21ms/step - loss: 37.7494 - mae: 5.2184 - val_loss: 32.8462 - val_mae: 5.0037\n",
      "Epoch 19/50\n",
      "\u001b[1m406/408\u001b[0m \u001b[32m━━━━━━━━━━━━━━━━━━━\u001b[0m\u001b[37m━\u001b[0m \u001b[1m0s\u001b[0m 18ms/step - loss: 38.9782 - mae: 5.3110\n",
      "Epoch 19: val_loss did not improve from 32.84624\n",
      "\u001b[1m408/408\u001b[0m \u001b[32m━━━━━━━━━━━━━━━━━━━━\u001b[0m\u001b[37m\u001b[0m \u001b[1m9s\u001b[0m 21ms/step - loss: 38.9722 - mae: 5.3106 - val_loss: 32.9573 - val_mae: 5.0628\n",
      "Epoch 20/50\n",
      "\u001b[1m406/408\u001b[0m \u001b[32m━━━━━━━━━━━━━━━━━━━\u001b[0m\u001b[37m━\u001b[0m \u001b[1m0s\u001b[0m 19ms/step - loss: 37.6921 - mae: 5.2145\n",
      "Epoch 20: val_loss did not improve from 32.84624\n",
      "\u001b[1m408/408\u001b[0m \u001b[32m━━━━━━━━━━━━━━━━━━━━\u001b[0m\u001b[37m\u001b[0m \u001b[1m9s\u001b[0m 21ms/step - loss: 37.6907 - mae: 5.2143 - val_loss: 34.1887 - val_mae: 5.2240\n",
      "Epoch 21/50\n",
      "\u001b[1m406/408\u001b[0m \u001b[32m━━━━━━━━━━━━━━━━━━━\u001b[0m\u001b[37m━\u001b[0m \u001b[1m0s\u001b[0m 18ms/step - loss: 38.2577 - mae: 5.2458\n",
      "Epoch 21: val_loss did not improve from 32.84624\n",
      "\u001b[1m408/408\u001b[0m \u001b[32m━━━━━━━━━━━━━━━━━━━━\u001b[0m\u001b[37m\u001b[0m \u001b[1m9s\u001b[0m 21ms/step - loss: 38.2567 - mae: 5.2459 - val_loss: 33.3455 - val_mae: 5.1304\n",
      "Epoch 22/50\n",
      "\u001b[1m406/408\u001b[0m \u001b[32m━━━━━━━━━━━━━━━━━━━\u001b[0m\u001b[37m━\u001b[0m \u001b[1m0s\u001b[0m 18ms/step - loss: 38.0243 - mae: 5.2368\n",
      "Epoch 22: val_loss did not improve from 32.84624\n",
      "\u001b[1m408/408\u001b[0m \u001b[32m━━━━━━━━━━━━━━━━━━━━\u001b[0m\u001b[37m\u001b[0m \u001b[1m9s\u001b[0m 21ms/step - loss: 38.0261 - mae: 5.2370 - val_loss: 34.4150 - val_mae: 5.2446\n",
      "Epoch 23/50\n",
      "\u001b[1m406/408\u001b[0m \u001b[32m━━━━━━━━━━━━━━━━━━━\u001b[0m\u001b[37m━\u001b[0m \u001b[1m0s\u001b[0m 18ms/step - loss: 38.5251 - mae: 5.2973\n",
      "Epoch 23: val_loss did not improve from 32.84624\n",
      "\u001b[1m408/408\u001b[0m \u001b[32m━━━━━━━━━━━━━━━━━━━━\u001b[0m\u001b[37m\u001b[0m \u001b[1m9s\u001b[0m 21ms/step - loss: 38.5249 - mae: 5.2972 - val_loss: 33.8325 - val_mae: 4.8863\n",
      "Epoch 24/50\n",
      "\u001b[1m406/408\u001b[0m \u001b[32m━━━━━━━━━━━━━━━━━━━\u001b[0m\u001b[37m━\u001b[0m \u001b[1m0s\u001b[0m 19ms/step - loss: 37.8652 - mae: 5.2617\n",
      "Epoch 24: val_loss did not improve from 32.84624\n",
      "\u001b[1m408/408\u001b[0m \u001b[32m━━━━━━━━━━━━━━━━━━━━\u001b[0m\u001b[37m\u001b[0m \u001b[1m9s\u001b[0m 21ms/step - loss: 37.8645 - mae: 5.2615 - val_loss: 33.1185 - val_mae: 5.0958\n",
      "Epoch 25/50\n",
      "\u001b[1m406/408\u001b[0m \u001b[32m━━━━━━━━━━━━━━━━━━━\u001b[0m\u001b[37m━\u001b[0m \u001b[1m0s\u001b[0m 18ms/step - loss: 37.6923 - mae: 5.2394\n",
      "Epoch 25: val_loss did not improve from 32.84624\n",
      "\u001b[1m408/408\u001b[0m \u001b[32m━━━━━━━━━━━━━━━━━━━━\u001b[0m\u001b[37m\u001b[0m \u001b[1m9s\u001b[0m 21ms/step - loss: 37.6926 - mae: 5.2394 - val_loss: 33.1168 - val_mae: 4.9355\n",
      "Epoch 26/50\n",
      "\u001b[1m406/408\u001b[0m \u001b[32m━━━━━━━━━━━━━━━━━━━\u001b[0m\u001b[37m━\u001b[0m \u001b[1m0s\u001b[0m 18ms/step - loss: 37.3828 - mae: 5.2056\n",
      "Epoch 26: val_loss did not improve from 32.84624\n",
      "\u001b[1m408/408\u001b[0m \u001b[32m━━━━━━━━━━━━━━━━━━━━\u001b[0m\u001b[37m\u001b[0m \u001b[1m9s\u001b[0m 21ms/step - loss: 37.3839 - mae: 5.2056 - val_loss: 33.1608 - val_mae: 5.1032\n",
      "Epoch 27/50\n",
      "\u001b[1m406/408\u001b[0m \u001b[32m━━━━━━━━━━━━━━━━━━━\u001b[0m\u001b[37m━\u001b[0m \u001b[1m0s\u001b[0m 18ms/step - loss: 37.7411 - mae: 5.2286\n",
      "Epoch 27: val_loss did not improve from 32.84624\n",
      "\u001b[1m408/408\u001b[0m \u001b[32m━━━━━━━━━━━━━━━━━━━━\u001b[0m\u001b[37m\u001b[0m \u001b[1m9s\u001b[0m 21ms/step - loss: 37.7435 - mae: 5.2288 - val_loss: 34.5312 - val_mae: 5.2547\n",
      "Epoch 28/50\n",
      "\u001b[1m406/408\u001b[0m \u001b[32m━━━━━━━━━━━━━━━━━━━\u001b[0m\u001b[37m━\u001b[0m \u001b[1m0s\u001b[0m 18ms/step - loss: 38.1943 - mae: 5.2917\n",
      "Epoch 28: val_loss did not improve from 32.84624\n",
      "\u001b[1m408/408\u001b[0m \u001b[32m━━━━━━━━━━━━━━━━━━━━\u001b[0m\u001b[37m\u001b[0m \u001b[1m9s\u001b[0m 21ms/step - loss: 38.1956 - mae: 5.2916 - val_loss: 32.8790 - val_mae: 4.9810\n",
      "Epoch 29/50\n",
      "\u001b[1m406/408\u001b[0m \u001b[32m━━━━━━━━━━━━━━━━━━━\u001b[0m\u001b[37m━\u001b[0m \u001b[1m0s\u001b[0m 18ms/step - loss: 36.6854 - mae: 5.1053\n",
      "Epoch 29: val_loss did not improve from 32.84624\n",
      "\u001b[1m408/408\u001b[0m \u001b[32m━━━━━━━━━━━━━━━━━━━━\u001b[0m\u001b[37m\u001b[0m \u001b[1m9s\u001b[0m 21ms/step - loss: 36.6893 - mae: 5.1058 - val_loss: 32.8542 - val_mae: 4.9942\n",
      "Epoch 30/50\n",
      "\u001b[1m406/408\u001b[0m \u001b[32m━━━━━━━━━━━━━━━━━━━\u001b[0m\u001b[37m━\u001b[0m \u001b[1m0s\u001b[0m 18ms/step - loss: 37.6370 - mae: 5.2051\n",
      "Epoch 30: val_loss did not improve from 32.84624\n",
      "\u001b[1m408/408\u001b[0m \u001b[32m━━━━━━━━━━━━━━━━━━━━\u001b[0m\u001b[37m\u001b[0m \u001b[1m9s\u001b[0m 21ms/step - loss: 37.6372 - mae: 5.2053 - val_loss: 32.8836 - val_mae: 5.0406\n",
      "Epoch 31/50\n",
      "\u001b[1m406/408\u001b[0m \u001b[32m━━━━━━━━━━━━━━━━━━━\u001b[0m\u001b[37m━\u001b[0m \u001b[1m0s\u001b[0m 19ms/step - loss: 38.3502 - mae: 5.2819\n",
      "Epoch 31: val_loss improved from 32.84624 to 6.20296, saving model to temperature_best_min_MinMax.keras\n",
      "\u001b[1m408/408\u001b[0m \u001b[32m━━━━━━━━━━━━━━━━━━━━\u001b[0m\u001b[37m\u001b[0m \u001b[1m9s\u001b[0m 21ms/step - loss: 38.3169 - mae: 5.2788 - val_loss: 6.2030 - val_mae: 1.8964\n",
      "Epoch 32/50\n",
      "\u001b[1m406/408\u001b[0m \u001b[32m━━━━━━━━━━━━━━━━━━━\u001b[0m\u001b[37m━\u001b[0m \u001b[1m0s\u001b[0m 18ms/step - loss: 12.2226 - mae: 2.7467\n",
      "Epoch 32: val_loss improved from 6.20296 to 4.00186, saving model to temperature_best_min_MinMax.keras\n",
      "\u001b[1m408/408\u001b[0m \u001b[32m━━━━━━━━━━━━━━━━━━━━\u001b[0m\u001b[37m\u001b[0m \u001b[1m9s\u001b[0m 21ms/step - loss: 12.2118 - mae: 2.7456 - val_loss: 4.0019 - val_mae: 1.4745\n",
      "Epoch 33/50\n",
      "\u001b[1m406/408\u001b[0m \u001b[32m━━━━━━━━━━━━━━━━━━━\u001b[0m\u001b[37m━\u001b[0m \u001b[1m0s\u001b[0m 18ms/step - loss: 9.2836 - mae: 2.4154\n",
      "Epoch 33: val_loss did not improve from 4.00186\n",
      "\u001b[1m408/408\u001b[0m \u001b[32m━━━━━━━━━━━━━━━━━━━━\u001b[0m\u001b[37m\u001b[0m \u001b[1m9s\u001b[0m 21ms/step - loss: 9.2835 - mae: 2.4153 - val_loss: 4.0410 - val_mae: 1.4876\n",
      "Epoch 34/50\n",
      "\u001b[1m406/408\u001b[0m \u001b[32m━━━━━━━━━━━━━━━━━━━\u001b[0m\u001b[37m━\u001b[0m \u001b[1m0s\u001b[0m 18ms/step - loss: 8.7638 - mae: 2.3422\n",
      "Epoch 34: val_loss improved from 4.00186 to 3.39264, saving model to temperature_best_min_MinMax.keras\n",
      "\u001b[1m408/408\u001b[0m \u001b[32m━━━━━━━━━━━━━━━━━━━━\u001b[0m\u001b[37m\u001b[0m \u001b[1m9s\u001b[0m 21ms/step - loss: 8.7644 - mae: 2.3423 - val_loss: 3.3926 - val_mae: 1.3600\n",
      "Epoch 35/50\n",
      "\u001b[1m406/408\u001b[0m \u001b[32m━━━━━━━━━━━━━━━━━━━\u001b[0m\u001b[37m━\u001b[0m \u001b[1m0s\u001b[0m 19ms/step - loss: 8.6455 - mae: 2.3215\n",
      "Epoch 35: val_loss did not improve from 3.39264\n",
      "\u001b[1m408/408\u001b[0m \u001b[32m━━━━━━━━━━━━━━━━━━━━\u001b[0m\u001b[37m\u001b[0m \u001b[1m9s\u001b[0m 21ms/step - loss: 8.6454 - mae: 2.3215 - val_loss: 3.8363 - val_mae: 1.5866\n",
      "Epoch 36/50\n",
      "\u001b[1m406/408\u001b[0m \u001b[32m━━━━━━━━━━━━━━━━━━━\u001b[0m\u001b[37m━\u001b[0m \u001b[1m0s\u001b[0m 18ms/step - loss: 8.3293 - mae: 2.2712\n",
      "Epoch 36: val_loss improved from 3.39264 to 3.18118, saving model to temperature_best_min_MinMax.keras\n",
      "\u001b[1m408/408\u001b[0m \u001b[32m━━━━━━━━━━━━━━━━━━━━\u001b[0m\u001b[37m\u001b[0m \u001b[1m9s\u001b[0m 21ms/step - loss: 8.3278 - mae: 2.2711 - val_loss: 3.1812 - val_mae: 1.4069\n",
      "Epoch 37/50\n",
      "\u001b[1m406/408\u001b[0m \u001b[32m━━━━━━━━━━━━━━━━━━━\u001b[0m\u001b[37m━\u001b[0m \u001b[1m0s\u001b[0m 18ms/step - loss: 7.8020 - mae: 2.1945\n",
      "Epoch 37: val_loss did not improve from 3.18118\n",
      "\u001b[1m408/408\u001b[0m \u001b[32m━━━━━━━━━━━━━━━━━━━━\u001b[0m\u001b[37m\u001b[0m \u001b[1m9s\u001b[0m 21ms/step - loss: 7.8030 - mae: 2.1947 - val_loss: 3.3706 - val_mae: 1.5046\n",
      "Epoch 38/50\n",
      "\u001b[1m406/408\u001b[0m \u001b[32m━━━━━━━━━━━━━━━━━━━\u001b[0m\u001b[37m━\u001b[0m \u001b[1m0s\u001b[0m 18ms/step - loss: 8.1547 - mae: 2.2465\n",
      "Epoch 38: val_loss did not improve from 3.18118\n",
      "\u001b[1m408/408\u001b[0m \u001b[32m━━━━━━━━━━━━━━━━━━━━\u001b[0m\u001b[37m\u001b[0m \u001b[1m9s\u001b[0m 21ms/step - loss: 8.1537 - mae: 2.2464 - val_loss: 3.7789 - val_mae: 1.6182\n",
      "Epoch 39/50\n",
      "\u001b[1m406/408\u001b[0m \u001b[32m━━━━━━━━━━━━━━━━━━━\u001b[0m\u001b[37m━\u001b[0m \u001b[1m0s\u001b[0m 18ms/step - loss: 7.5065 - mae: 2.1662\n",
      "Epoch 39: val_loss improved from 3.18118 to 3.08324, saving model to temperature_best_min_MinMax.keras\n",
      "\u001b[1m408/408\u001b[0m \u001b[32m━━━━━━━━━━━━━━━━━━━━\u001b[0m\u001b[37m\u001b[0m \u001b[1m9s\u001b[0m 21ms/step - loss: 7.5075 - mae: 2.1663 - val_loss: 3.0832 - val_mae: 1.3503\n",
      "Epoch 40/50\n",
      "\u001b[1m406/408\u001b[0m \u001b[32m━━━━━━━━━━━━━━━━━━━\u001b[0m\u001b[37m━\u001b[0m \u001b[1m0s\u001b[0m 18ms/step - loss: 7.5173 - mae: 2.1649\n",
      "Epoch 40: val_loss improved from 3.08324 to 2.85711, saving model to temperature_best_min_MinMax.keras\n",
      "\u001b[1m408/408\u001b[0m \u001b[32m━━━━━━━━━━━━━━━━━━━━\u001b[0m\u001b[37m\u001b[0m \u001b[1m9s\u001b[0m 21ms/step - loss: 7.5175 - mae: 2.1649 - val_loss: 2.8571 - val_mae: 1.2453\n",
      "Epoch 41/50\n",
      "\u001b[1m406/408\u001b[0m \u001b[32m━━━━━━━━━━━━━━━━━━━\u001b[0m\u001b[37m━\u001b[0m \u001b[1m0s\u001b[0m 18ms/step - loss: 7.5854 - mae: 2.1730\n",
      "Epoch 41: val_loss did not improve from 2.85711\n",
      "\u001b[1m408/408\u001b[0m \u001b[32m━━━━━━━━━━━━━━━━━━━━\u001b[0m\u001b[37m\u001b[0m \u001b[1m9s\u001b[0m 21ms/step - loss: 7.5848 - mae: 2.1729 - val_loss: 3.1200 - val_mae: 1.3481\n",
      "Epoch 42/50\n",
      "\u001b[1m408/408\u001b[0m \u001b[32m━━━━━━━━━━━━━━━━━━━━\u001b[0m\u001b[37m\u001b[0m \u001b[1m0s\u001b[0m 19ms/step - loss: 7.5190 - mae: 2.1600\n",
      "Epoch 42: val_loss improved from 2.85711 to 2.56557, saving model to temperature_best_min_MinMax.keras\n",
      "\u001b[1m408/408\u001b[0m \u001b[32m━━━━━━━━━━━━━━━━━━━━\u001b[0m\u001b[37m\u001b[0m \u001b[1m9s\u001b[0m 21ms/step - loss: 7.5189 - mae: 2.1600 - val_loss: 2.5656 - val_mae: 1.2045\n",
      "Epoch 43/50\n",
      "\u001b[1m406/408\u001b[0m \u001b[32m━━━━━━━━━━━━━━━━━━━\u001b[0m\u001b[37m━\u001b[0m \u001b[1m0s\u001b[0m 18ms/step - loss: 6.9524 - mae: 2.0808\n",
      "Epoch 43: val_loss did not improve from 2.56557\n",
      "\u001b[1m408/408\u001b[0m \u001b[32m━━━━━━━━━━━━━━━━━━━━\u001b[0m\u001b[37m\u001b[0m \u001b[1m9s\u001b[0m 21ms/step - loss: 6.9531 - mae: 2.0808 - val_loss: 3.9487 - val_mae: 1.6193\n",
      "Epoch 44/50\n",
      "\u001b[1m406/408\u001b[0m \u001b[32m━━━━━━━━━━━━━━━━━━━\u001b[0m\u001b[37m━\u001b[0m \u001b[1m0s\u001b[0m 18ms/step - loss: 7.2705 - mae: 2.1411\n",
      "Epoch 44: val_loss did not improve from 2.56557\n",
      "\u001b[1m408/408\u001b[0m \u001b[32m━━━━━━━━━━━━━━━━━━━━\u001b[0m\u001b[37m\u001b[0m \u001b[1m9s\u001b[0m 21ms/step - loss: 7.2688 - mae: 2.1407 - val_loss: 3.0112 - val_mae: 1.3122\n",
      "Epoch 45/50\n",
      "\u001b[1m408/408\u001b[0m \u001b[32m━━━━━━━━━━━━━━━━━━━━\u001b[0m\u001b[37m\u001b[0m \u001b[1m0s\u001b[0m 18ms/step - loss: 7.0967 - mae: 2.0784\n",
      "Epoch 45: val_loss did not improve from 2.56557\n",
      "\u001b[1m408/408\u001b[0m \u001b[32m━━━━━━━━━━━━━━━━━━━━\u001b[0m\u001b[37m\u001b[0m \u001b[1m9s\u001b[0m 21ms/step - loss: 7.0967 - mae: 2.0784 - val_loss: 2.8228 - val_mae: 1.3107\n",
      "Epoch 46/50\n",
      "\u001b[1m406/408\u001b[0m \u001b[32m━━━━━━━━━━━━━━━━━━━\u001b[0m\u001b[37m━\u001b[0m \u001b[1m0s\u001b[0m 19ms/step - loss: 7.3794 - mae: 2.1276\n",
      "Epoch 46: val_loss did not improve from 2.56557\n",
      "\u001b[1m408/408\u001b[0m \u001b[32m━━━━━━━━━━━━━━━━━━━━\u001b[0m\u001b[37m\u001b[0m \u001b[1m9s\u001b[0m 21ms/step - loss: 7.3787 - mae: 2.1275 - val_loss: 3.1138 - val_mae: 1.4232\n",
      "Epoch 47/50\n",
      "\u001b[1m406/408\u001b[0m \u001b[32m━━━━━━━━━━━━━━━━━━━\u001b[0m\u001b[37m━\u001b[0m \u001b[1m0s\u001b[0m 18ms/step - loss: 6.9786 - mae: 2.0713\n",
      "Epoch 47: val_loss did not improve from 2.56557\n",
      "\u001b[1m408/408\u001b[0m \u001b[32m━━━━━━━━━━━━━━━━━━━━\u001b[0m\u001b[37m\u001b[0m \u001b[1m9s\u001b[0m 21ms/step - loss: 6.9787 - mae: 2.0713 - val_loss: 2.7287 - val_mae: 1.1898\n",
      "Epoch 48/50\n",
      "\u001b[1m406/408\u001b[0m \u001b[32m━━━━━━━━━━━━━━━━━━━\u001b[0m\u001b[37m━\u001b[0m \u001b[1m0s\u001b[0m 18ms/step - loss: 6.8015 - mae: 2.0548\n",
      "Epoch 48: val_loss did not improve from 2.56557\n",
      "\u001b[1m408/408\u001b[0m \u001b[32m━━━━━━━━━━━━━━━━━━━━\u001b[0m\u001b[37m\u001b[0m \u001b[1m9s\u001b[0m 21ms/step - loss: 6.8022 - mae: 2.0549 - val_loss: 2.7358 - val_mae: 1.2045\n",
      "Epoch 49/50\n",
      "\u001b[1m406/408\u001b[0m \u001b[32m━━━━━━━━━━━━━━━━━━━\u001b[0m\u001b[37m━\u001b[0m \u001b[1m0s\u001b[0m 18ms/step - loss: 6.5816 - mae: 2.0234\n",
      "Epoch 49: val_loss did not improve from 2.56557\n",
      "\u001b[1m408/408\u001b[0m \u001b[32m━━━━━━━━━━━━━━━━━━━━\u001b[0m\u001b[37m\u001b[0m \u001b[1m9s\u001b[0m 21ms/step - loss: 6.5834 - mae: 2.0236 - val_loss: 4.3047 - val_mae: 1.6349\n",
      "Epoch 50/50\n",
      "\u001b[1m406/408\u001b[0m \u001b[32m━━━━━━━━━━━━━━━━━━━\u001b[0m\u001b[37m━\u001b[0m \u001b[1m0s\u001b[0m 18ms/step - loss: 6.6766 - mae: 2.0268\n",
      "Epoch 50: val_loss did not improve from 2.56557\n",
      "\u001b[1m408/408\u001b[0m \u001b[32m━━━━━━━━━━━━━━━━━━━━\u001b[0m\u001b[37m\u001b[0m \u001b[1m9s\u001b[0m 21ms/step - loss: 6.6765 - mae: 2.0268 - val_loss: 2.8057 - val_mae: 1.2278\n"
     ]
    }
   ],
   "source": [
    "history=upgraded_naive_model.fit(np.array(X_train).reshape(-1,window_size,1),Y_train,epochs=50,batch_size=16,validation_data=(X_test,Y_test),callbacks=[checkpoint])"
   ]
  },
  {
   "cell_type": "code",
   "execution_count": 392,
   "metadata": {
    "execution": {
     "iopub.execute_input": "2024-12-28T08:38:35.438943Z",
     "iopub.status.busy": "2024-12-28T08:38:35.438639Z",
     "iopub.status.idle": "2024-12-28T08:38:35.950310Z",
     "shell.execute_reply": "2024-12-28T08:38:35.949438Z",
     "shell.execute_reply.started": "2024-12-28T08:38:35.438920Z"
    },
    "trusted": true
   },
   "outputs": [
    {
     "data": {
      "image/png": "[encoded data removed]",
      "text/plain": [
       "<Figure size 640x480 with 1 Axes>"
      ]
     },
     "metadata": {},
     "output_type": "display_data"
    },
    {
     "data": {
      "image/png": "[encoded data removed]",
      "text/plain": [
       "<Figure size 640x480 with 1 Axes>"
      ]
     },
     "metadata": {},
     "output_type": "display_data"
    }
   ],
   "source": [
    "plot_loss_curves(history)"
   ]
  },
  {
   "cell_type": "code",
   "execution_count": 393,
   "metadata": {
    "execution": {
     "iopub.execute_input": "2024-12-28T08:39:02.548755Z",
     "iopub.status.busy": "2024-12-28T08:39:02.548465Z",
     "iopub.status.idle": "2024-12-28T08:39:02.784683Z",
     "shell.execute_reply": "2024-12-28T08:39:02.783914Z",
     "shell.execute_reply.started": "2024-12-28T08:39:02.548733Z"
    },
    "trusted": true
   },
   "outputs": [],
   "source": [
    "from tensorflow.keras.models import load_model\n",
    "best_model=load_model(\"/kaggle/working/temperature_best_min_MinMax.keras\")\n",
    "# best_model.save(\"upgraded_naive_model_best_avg.h5\")\n"
   ]
  },
  {
   "cell_type": "code",
   "execution_count": 394,
   "metadata": {
    "execution": {
     "iopub.execute_input": "2024-12-28T08:39:07.448393Z",
     "iopub.status.busy": "2024-12-28T08:39:07.448062Z",
     "iopub.status.idle": "2024-12-28T08:39:07.499955Z",
     "shell.execute_reply": "2024-12-28T08:39:07.499130Z",
     "shell.execute_reply.started": "2024-12-28T08:39:07.448365Z"
    },
    "trusted": true
   },
   "outputs": [
    {
     "name": "stdout",
     "output_type": "stream",
     "text": [
      "            tavg  tmin  tmax  prcp  snow   wdir  wspd  wpgt    pres  tsun\n",
      "time                                                                     \n",
      "2024-06-01  34.5  30.0  41.6   0.0   NaN  203.0  14.7   NaN  1003.3   NaN\n",
      "2024-06-02  34.5  30.0  41.4   0.0   NaN  212.0  10.9   NaN  1004.4   NaN\n",
      "2024-06-03  34.8  30.0  41.6   0.0   NaN  220.0  11.6   NaN  1003.9   NaN\n",
      "2024-06-04  34.8  30.0  41.4   0.0   NaN  227.0  15.0   NaN  1004.4   NaN\n",
      "2024-06-05  34.5  29.0  41.4   0.0   NaN  223.0  14.3   NaN  1005.1   NaN\n",
      "2024-06-06  34.6  29.0  41.6   0.0   NaN  227.0  12.6   NaN  1005.7   NaN\n",
      "2024-06-07  35.7  30.0  42.4   0.0   NaN  248.0  12.0   NaN  1003.6   NaN\n",
      "2024-06-08  35.5  31.0  41.8   0.0   NaN  224.0  11.0   NaN  1002.4   NaN\n",
      "2024-06-09  35.6  29.0  43.0   0.0   NaN  267.0  13.1   NaN  1001.9   NaN\n",
      "2024-06-10  32.5  27.4  39.6   1.0   NaN  234.0  10.1   NaN  1003.5   NaN\n",
      "2024-06-11  33.3  25.5  40.2  30.0   NaN  250.0  10.7   NaN  1003.5   NaN\n",
      "2024-06-12  33.5  29.0  40.8   0.0   NaN  234.0  11.7   NaN  1004.0   NaN\n",
      "2024-06-13  33.7  26.0  41.2   0.0   NaN  231.0  14.9   NaN  1003.5   NaN\n",
      "2024-06-14  32.4  28.0  39.2   4.1   NaN  233.0  10.5   NaN  1002.8   NaN\n",
      "2024-06-15  33.1  27.7  39.8   1.0   NaN  221.0  12.9   NaN  1002.5   NaN\n",
      "2024-06-16  33.5  29.0  40.2   0.0   NaN  192.0  12.7   NaN  1003.0   NaN\n",
      "2024-06-17  34.4  30.0  40.6   0.0   NaN  195.0  12.7   NaN  1003.1   NaN\n",
      "2024-06-18  34.1  30.0  40.0   0.1   NaN  201.0  14.9   NaN  1002.1   NaN\n",
      "2024-06-19  32.8  29.0  37.8   0.0   NaN  190.0  16.6   NaN   999.5   NaN\n",
      "2024-06-20  33.6  30.0  39.2   0.0   NaN  186.0  15.3   NaN   998.1   NaN\n",
      "2024-06-21  33.4  30.0  40.0   0.0   NaN  193.0  14.6   NaN   999.4   NaN\n",
      "2024-06-22  33.6  29.0  40.4   0.0   NaN  207.0  10.6   NaN   999.1   NaN\n",
      "2024-06-23  32.7  29.0  38.4   0.5   NaN  215.0   7.7   NaN   998.9   NaN\n",
      "2024-06-24  31.3  29.0  36.4   0.3   NaN  229.0   9.4   NaN   997.9   NaN\n",
      "2024-06-25  29.9  26.0  34.4   6.4   NaN  181.0   8.6   NaN   996.9   NaN\n",
      "2024-06-26  32.4  29.0  36.6   0.0   NaN  180.0   8.6   NaN   996.2   NaN\n",
      "2024-06-27  31.2  29.0  35.6   1.0   NaN  155.0  10.2   NaN   997.6   NaN\n",
      "2024-06-28  29.3  27.0  35.6   0.8   NaN  149.0  10.8   NaN   998.7   NaN\n",
      "2024-06-29  28.6  27.0  33.0   1.0   NaN  162.0  11.5   NaN   999.7   NaN\n",
      "2024-06-30  27.9  25.0  31.8   5.1   NaN  167.0   9.3   NaN  1000.0   NaN\n"
     ]
    }
   ],
   "source": [
    "from meteostat import Point, Daily\n",
    "import datetime\n",
    "\n",
    "\n",
    "location = Point( 23.0215374, 72.5800568)\n",
    "start = datetime.datetime(2024, 6, 1)\n",
    "end = datetime.datetime(2024, 6, 30)\n",
    "\n",
    "# Get historical data\n",
    "data = Daily(location, start, end)\n",
    "data = data.fetch()\n",
    "\n",
    "print(data)\n"
   ]
  },
  {
   "cell_type": "code",
   "execution_count": 395,
   "metadata": {
    "execution": {
     "iopub.execute_input": "2024-12-28T08:39:07.657985Z",
     "iopub.status.busy": "2024-12-28T08:39:07.657732Z",
     "iopub.status.idle": "2024-12-28T08:39:07.662250Z",
     "shell.execute_reply": "2024-12-28T08:39:07.661358Z",
     "shell.execute_reply.started": "2024-12-28T08:39:07.657961Z"
    },
    "trusted": true
   },
   "outputs": [
    {
     "name": "stdout",
     "output_type": "stream",
     "text": [
      "(30, 10)\n"
     ]
    }
   ],
   "source": [
    "print(data.shape)"
   ]
  },
  {
   "cell_type": "code",
   "execution_count": 396,
   "metadata": {
    "execution": {
     "iopub.execute_input": "2024-12-28T08:39:08.868277Z",
     "iopub.status.busy": "2024-12-28T08:39:08.867972Z",
     "iopub.status.idle": "2024-12-28T08:39:08.872153Z",
     "shell.execute_reply": "2024-12-28T08:39:08.871312Z",
     "shell.execute_reply.started": "2024-12-28T08:39:08.868253Z"
    },
    "trusted": true
   },
   "outputs": [],
   "source": [
    "next_6_months_temp=data[\"tmin\"]\n"
   ]
  },
  {
   "cell_type": "code",
   "execution_count": 397,
   "metadata": {
    "execution": {
     "iopub.execute_input": "2024-12-28T08:39:08.903125Z",
     "iopub.status.busy": "2024-12-28T08:39:08.902884Z",
     "iopub.status.idle": "2024-12-28T08:39:09.129901Z",
     "shell.execute_reply": "2024-12-28T08:39:09.129097Z",
     "shell.execute_reply.started": "2024-12-28T08:39:08.903103Z"
    },
    "trusted": true
   },
   "outputs": [
    {
     "data": {
      "text/plain": [
       "[<matplotlib.lines.Line2D at 0x7e89481a8670>]"
      ]
     },
     "execution_count": 397,
     "metadata": {},
     "output_type": "execute_result"
    },
    {
     "data": {
      "image/png": "[encoded data removed]",
      "text/plain": [
       "<Figure size 640x480 with 1 Axes>"
      ]
     },
     "metadata": {},
     "output_type": "display_data"
    }
   ],
   "source": [
    "plt.plot(next_6_months_temp.values.flatten())"
   ]
  },
  {
   "cell_type": "code",
   "execution_count": 398,
   "metadata": {
    "execution": {
     "iopub.execute_input": "2024-12-28T08:39:12.413419Z",
     "iopub.status.busy": "2024-12-28T08:39:12.413111Z",
     "iopub.status.idle": "2024-12-28T08:39:12.462209Z",
     "shell.execute_reply": "2024-12-28T08:39:12.461507Z",
     "shell.execute_reply.started": "2024-12-28T08:39:12.413388Z"
    },
    "trusted": true
   },
   "outputs": [
    {
     "name": "stdout",
     "output_type": "stream",
     "text": [
      "            tavg  tmin  tmax  prcp  snow   wdir  wspd  wpgt    pres  tsun\n",
      "time                                                                     \n",
      "2024-02-22  24.2  20.0  29.8   0.0   NaN  266.0  10.0   NaN  1012.2   NaN\n",
      "2024-02-23  22.6  15.0  30.0   0.0   NaN  347.0   5.7   NaN  1013.6   NaN\n",
      "2024-02-24  22.1  14.0  30.0   0.0   NaN  327.0   6.7   NaN  1013.6   NaN\n",
      "2024-02-25  22.4  13.0  30.6   0.0   NaN    6.0   9.5   NaN  1013.5   NaN\n",
      "2024-02-26  23.9  19.0  30.0   0.0   NaN   29.0  11.7   NaN  1012.2   NaN\n",
      "...          ...   ...   ...   ...   ...    ...   ...   ...     ...   ...\n",
      "2024-05-27  35.2  29.0  45.0   0.0   NaN  221.0  13.9   NaN   999.1   NaN\n",
      "2024-05-28  34.4  29.0  43.4   0.0   NaN  214.0  15.5   NaN   999.4   NaN\n",
      "2024-05-29  34.1  29.0  41.4   0.0   NaN  206.0  17.7   NaN   999.8   NaN\n",
      "2024-05-30  34.3  30.0  43.0   0.0   NaN  201.0  13.6   NaN  1001.5   NaN\n",
      "2024-05-31  34.4  30.0  42.4   0.0   NaN  198.0  15.7   NaN  1003.3   NaN\n",
      "\n",
      "[100 rows x 10 columns]\n"
     ]
    }
   ],
   "source": [
    "location = Point( 23.0215374, 72.5800568)\n",
    "start = datetime.datetime(2024, 2, 22)\n",
    "end = datetime.datetime(2024, 5, 31)\n",
    "\n",
    "# Get historical data\n",
    "data_for_model = Daily(location, start, end)\n",
    "data_for_model = data_for_model.fetch()\n",
    "\n",
    "print(data_for_model)\n"
   ]
  },
  {
   "cell_type": "code",
   "execution_count": 399,
   "metadata": {
    "execution": {
     "iopub.execute_input": "2024-12-28T08:39:13.489257Z",
     "iopub.status.busy": "2024-12-28T08:39:13.488782Z",
     "iopub.status.idle": "2024-12-28T08:39:13.497733Z",
     "shell.execute_reply": "2024-12-28T08:39:13.496556Z",
     "shell.execute_reply.started": "2024-12-28T08:39:13.489214Z"
    },
    "trusted": true
   },
   "outputs": [
    {
     "data": {
      "text/plain": [
       "array([20. , 15. , 14. , 13. , 19. , 21. , 20. , 20. , 22. , 22. , 15. ,\n",
       "       15. , 12. , 15. , 17. , 17. , 17. , 18.4, 20. , 22. , 21. , 21. ,\n",
       "       20. , 19. , 22. , 22. , 19. , 21. , 22. , 20. , 23. , 24. , 23. ,\n",
       "       23. , 25.1, 27. , 27. , 24. , 23. , 25. , 24. , 25. , 26. , 25. ,\n",
       "       26. , 24. , 26. , 24. , 27. , 26. , 26. , 25. , 28. , 25. , 26. ,\n",
       "       27. , 29. , 26.8, 25. , 26. , 26. , 25. , 27. , 27. , 28. , 27. ,\n",
       "       28. , 29. , 27. , 26. , 23. , 26. , 29. , 29. , 27. , 28. , 29. ,\n",
       "       29. , 29. , 29. , 29. , 25.8, 26. , 28. , 30. , 31. , 30. , 31. ,\n",
       "       31. , 31. , 31. , 31. , 30. , 30. , 30. , 29. , 29. , 29. , 30. ,\n",
       "       30. ])"
      ]
     },
     "execution_count": 399,
     "metadata": {},
     "output_type": "execute_result"
    }
   ],
   "source": [
    "data_for_model[\"tmin\"].values"
   ]
  },
  {
   "cell_type": "code",
   "execution_count": 400,
   "metadata": {
    "execution": {
     "iopub.execute_input": "2024-12-28T08:39:14.828517Z",
     "iopub.status.busy": "2024-12-28T08:39:14.828230Z",
     "iopub.status.idle": "2024-12-28T08:39:14.833068Z",
     "shell.execute_reply": "2024-12-28T08:39:14.831933Z",
     "shell.execute_reply.started": "2024-12-28T08:39:14.828494Z"
    },
    "trusted": true
   },
   "outputs": [],
   "source": [
    "data_for_model=MinMax.transform(np.array(data_for_model[\"tmin\"].values).reshape(-1,1))\n"
   ]
  },
  {
   "cell_type": "markdown",
   "metadata": {},
   "source": []
  },
  {
   "cell_type": "code",
   "execution_count": 401,
   "metadata": {
    "execution": {
     "iopub.execute_input": "2024-12-28T08:39:16.058563Z",
     "iopub.status.busy": "2024-12-28T08:39:16.058264Z",
     "iopub.status.idle": "2024-12-28T08:39:16.062539Z",
     "shell.execute_reply": "2024-12-28T08:39:16.061498Z",
     "shell.execute_reply.started": "2024-12-28T08:39:16.058538Z"
    },
    "trusted": true
   },
   "outputs": [],
   "source": [
    "data_for_model=data_for_model.reshape(1,100,1)"
   ]
  },
  {
   "cell_type": "code",
   "execution_count": 402,
   "metadata": {
    "execution": {
     "iopub.execute_input": "2024-12-28T08:39:17.438313Z",
     "iopub.status.busy": "2024-12-28T08:39:17.437970Z",
     "iopub.status.idle": "2024-12-28T08:39:17.444073Z",
     "shell.execute_reply": "2024-12-28T08:39:17.443233Z",
     "shell.execute_reply.started": "2024-12-28T08:39:17.438286Z"
    },
    "trusted": true
   },
   "outputs": [
    {
     "data": {
      "text/plain": [
       "array([0.57971014, 0.39855072, 0.36231884, 0.32608696, 0.54347826,\n",
       "       0.61594203, 0.57971014, 0.57971014, 0.65217391, 0.65217391,\n",
       "       0.39855072, 0.39855072, 0.28985507, 0.39855072, 0.47101449,\n",
       "       0.47101449, 0.47101449, 0.52173913, 0.57971014, 0.65217391,\n",
       "       0.61594203, 0.61594203, 0.57971014, 0.54347826, 0.65217391,\n",
       "       0.65217391, 0.54347826, 0.61594203, 0.65217391, 0.57971014,\n",
       "       0.6884058 , 0.72463768, 0.6884058 , 0.6884058 , 0.76449275,\n",
       "       0.83333333, 0.83333333, 0.72463768, 0.6884058 , 0.76086957,\n",
       "       0.72463768, 0.76086957, 0.79710145, 0.76086957, 0.79710145,\n",
       "       0.72463768, 0.79710145, 0.72463768, 0.83333333, 0.79710145,\n",
       "       0.79710145, 0.76086957, 0.86956522, 0.76086957, 0.79710145,\n",
       "       0.83333333, 0.9057971 , 0.82608696, 0.76086957, 0.79710145,\n",
       "       0.79710145, 0.76086957, 0.83333333, 0.83333333, 0.86956522,\n",
       "       0.83333333, 0.86956522, 0.9057971 , 0.83333333, 0.79710145,\n",
       "       0.6884058 , 0.79710145, 0.9057971 , 0.9057971 , 0.83333333,\n",
       "       0.86956522, 0.9057971 , 0.9057971 , 0.9057971 , 0.9057971 ,\n",
       "       0.9057971 , 0.78985507, 0.79710145, 0.86956522, 0.94202899,\n",
       "       0.97826087, 0.94202899, 0.97826087, 0.97826087, 0.97826087,\n",
       "       0.97826087, 0.97826087, 0.94202899, 0.94202899, 0.94202899,\n",
       "       0.9057971 , 0.9057971 , 0.9057971 , 0.94202899, 0.94202899])"
      ]
     },
     "execution_count": 402,
     "metadata": {},
     "output_type": "execute_result"
    }
   ],
   "source": [
    "data_for_model=data_for_model.flatten()\n",
    "data_for_model"
   ]
  },
  {
   "cell_type": "code",
   "execution_count": 75,
   "metadata": {
    "execution": {
     "iopub.execute_input": "2024-12-28T06:37:07.165186Z",
     "iopub.status.busy": "2024-12-28T06:37:07.164823Z",
     "iopub.status.idle": "2024-12-28T06:37:07.172051Z",
     "shell.execute_reply": "2024-12-28T06:37:07.171076Z",
     "shell.execute_reply.started": "2024-12-28T06:37:07.165141Z"
    },
    "trusted": true
   },
   "outputs": [
    {
     "data": {
      "text/plain": [
       "array([-1.01036587, -1.11302757, -1.05143055, -0.74344547, -0.41492805,\n",
       "       -0.35333103, -0.04534595,  0.24210679, -0.41492805, -1.52367434,\n",
       "       -1.40048031, -1.09249523, -0.82557483, -0.5997191 , -0.49705741,\n",
       "       -0.41492805, -0.27120168, -0.00428128,  0.0367834 , -0.12747531,\n",
       "       -0.08641063, -0.14800765, -0.04534595,  0.28317147,  0.28317147,\n",
       "        0.09838042,  0.36530082,  0.38583316,  0.28317147,  0.52955953,\n",
       "        0.44743018,  0.63222122,  0.7759476 ,  1.00180332,  1.042868  ,\n",
       "        0.81701227,  0.50902719,  0.36530082,  0.46796251,  0.52955953,\n",
       "        0.55009187,  0.52955953,  0.61168889,  0.73488292,  0.65275356,\n",
       "        0.94020631,  0.98127098,  1.12499735,  0.96073864,  0.85807695,\n",
       "        0.71435058,  0.79647993,  0.98127098,  1.12499735,  1.33032074,\n",
       "        1.45351477,  1.042868  ,  0.71435058,  0.73488292,  0.87860929,\n",
       "        0.96073864,  1.18659437,  1.26872373,  1.10446502,  1.06340034,\n",
       "        1.18659437,  1.26872373,  1.14552969,  1.042868  ,  1.042868  ,\n",
       "        1.20712671,  1.43298243,  1.24819139,  1.20712671,  1.45351477,\n",
       "        1.49457945,  1.47404711,  1.39191776,  1.45351477,  1.55617647,\n",
       "        1.02233566,  0.59115655,  1.16606203,  1.63830582,  1.80256453,\n",
       "        1.90522623,  2.06948494,  2.02842026,  2.00788792,  2.0489526 ,\n",
       "        2.15161429,  2.0489526 ,  1.76149985,  1.72043518,  1.57670881,\n",
       "        1.4124501 ,  1.35085308,  1.39191776,  1.4124501 ,  1.2       ])"
      ]
     },
     "execution_count": 75,
     "metadata": {},
     "output_type": "execute_result"
    }
   ],
   "source": [
    "copied=data_for_model.copy()\n",
    "copied=copied[1:]\n",
    "copied = np.append(copied, 1.2)\n",
    "copied"
   ]
  },
  {
   "cell_type": "code",
   "execution_count": 403,
   "metadata": {
    "collapsed": true,
    "execution": {
     "iopub.execute_input": "2024-12-28T08:39:22.113750Z",
     "iopub.status.busy": "2024-12-28T08:39:22.113452Z",
     "iopub.status.idle": "2024-12-28T08:39:24.113647Z",
     "shell.execute_reply": "2024-12-28T08:39:24.112930Z",
     "shell.execute_reply.started": "2024-12-28T08:39:22.113725Z"
    },
    "jupyter": {
     "outputs_hidden": true
    },
    "trusted": true
   },
   "outputs": [
    {
     "name": "stdout",
     "output_type": "stream",
     "text": [
      "[0.57971014 0.39855072 0.36231884 0.32608696 0.54347826 0.61594203\n",
      " 0.57971014 0.57971014 0.65217391 0.65217391 0.39855072 0.39855072\n",
      " 0.28985507 0.39855072 0.47101449 0.47101449 0.47101449 0.52173913\n",
      " 0.57971014 0.65217391 0.61594203 0.61594203 0.57971014 0.54347826\n",
      " 0.65217391 0.65217391 0.54347826 0.61594203 0.65217391 0.57971014\n",
      " 0.6884058  0.72463768 0.6884058  0.6884058  0.76449275 0.83333333\n",
      " 0.83333333 0.72463768 0.6884058  0.76086957 0.72463768 0.76086957\n",
      " 0.79710145 0.76086957 0.79710145 0.72463768 0.79710145 0.72463768\n",
      " 0.83333333 0.79710145 0.79710145 0.76086957 0.86956522 0.76086957\n",
      " 0.79710145 0.83333333 0.9057971  0.82608696 0.76086957 0.79710145\n",
      " 0.79710145 0.76086957 0.83333333 0.83333333 0.86956522 0.83333333\n",
      " 0.86956522 0.9057971  0.83333333 0.79710145 0.6884058  0.79710145\n",
      " 0.9057971  0.9057971  0.83333333 0.86956522 0.9057971  0.9057971\n",
      " 0.9057971  0.9057971  0.9057971  0.78985507 0.79710145 0.86956522\n",
      " 0.94202899 0.97826087 0.94202899 0.97826087 0.97826087 0.97826087\n",
      " 0.97826087 0.97826087 0.94202899 0.94202899 0.94202899 0.9057971\n",
      " 0.9057971  0.9057971  0.94202899 0.94202899]\n",
      "\u001b[1m1/1\u001b[0m \u001b[32m━━━━━━━━━━━━━━━━━━━━\u001b[0m\u001b[37m\u001b[0m \u001b[1m0s\u001b[0m 272ms/step\n",
      "[ 0.39855072  0.36231884  0.32608696  0.54347826  0.61594203  0.57971014\n",
      "  0.57971014  0.65217391  0.65217391  0.39855072  0.39855072  0.28985507\n",
      "  0.39855072  0.47101449  0.47101449  0.47101449  0.52173913  0.57971014\n",
      "  0.65217391  0.61594203  0.61594203  0.57971014  0.54347826  0.65217391\n",
      "  0.65217391  0.54347826  0.61594203  0.65217391  0.57971014  0.6884058\n",
      "  0.72463768  0.6884058   0.6884058   0.76449275  0.83333333  0.83333333\n",
      "  0.72463768  0.6884058   0.76086957  0.72463768  0.76086957  0.79710145\n",
      "  0.76086957  0.79710145  0.72463768  0.79710145  0.72463768  0.83333333\n",
      "  0.79710145  0.79710145  0.76086957  0.86956522  0.76086957  0.79710145\n",
      "  0.83333333  0.9057971   0.82608696  0.76086957  0.79710145  0.79710145\n",
      "  0.76086957  0.83333333  0.83333333  0.86956522  0.83333333  0.86956522\n",
      "  0.9057971   0.83333333  0.79710145  0.6884058   0.79710145  0.9057971\n",
      "  0.9057971   0.83333333  0.86956522  0.9057971   0.9057971   0.9057971\n",
      "  0.9057971   0.9057971   0.78985507  0.79710145  0.86956522  0.94202899\n",
      "  0.97826087  0.94202899  0.97826087  0.97826087  0.97826087  0.97826087\n",
      "  0.97826087  0.94202899  0.94202899  0.94202899  0.9057971   0.9057971\n",
      "  0.9057971   0.94202899  0.94202899 28.37628174]\n",
      "\u001b[1m1/1\u001b[0m \u001b[32m━━━━━━━━━━━━━━━━━━━━\u001b[0m\u001b[37m\u001b[0m \u001b[1m0s\u001b[0m 22ms/step\n",
      "[ 0.36231884  0.32608696  0.54347826  0.61594203  0.57971014  0.57971014\n",
      "  0.65217391  0.65217391  0.39855072  0.39855072  0.28985507  0.39855072\n",
      "  0.47101449  0.47101449  0.47101449  0.52173913  0.57971014  0.65217391\n",
      "  0.61594203  0.61594203  0.57971014  0.54347826  0.65217391  0.65217391\n",
      "  0.54347826  0.61594203  0.65217391  0.57971014  0.6884058   0.72463768\n",
      "  0.6884058   0.6884058   0.76449275  0.83333333  0.83333333  0.72463768\n",
      "  0.6884058   0.76086957  0.72463768  0.76086957  0.79710145  0.76086957\n",
      "  0.79710145  0.72463768  0.79710145  0.72463768  0.83333333  0.79710145\n",
      "  0.79710145  0.76086957  0.86956522  0.76086957  0.79710145  0.83333333\n",
      "  0.9057971   0.82608696  0.76086957  0.79710145  0.79710145  0.76086957\n",
      "  0.83333333  0.83333333  0.86956522  0.83333333  0.86956522  0.9057971\n",
      "  0.83333333  0.79710145  0.6884058   0.79710145  0.9057971   0.9057971\n",
      "  0.83333333  0.86956522  0.9057971   0.9057971   0.9057971   0.9057971\n",
      "  0.9057971   0.78985507  0.79710145  0.86956522  0.94202899  0.97826087\n",
      "  0.94202899  0.97826087  0.97826087  0.97826087  0.97826087  0.97826087\n",
      "  0.94202899  0.94202899  0.94202899  0.9057971   0.9057971   0.9057971\n",
      "  0.94202899  0.94202899 28.37628174 28.47230911]\n",
      "\u001b[1m1/1\u001b[0m \u001b[32m━━━━━━━━━━━━━━━━━━━━\u001b[0m\u001b[37m\u001b[0m \u001b[1m0s\u001b[0m 21ms/step\n",
      "[ 0.32608696  0.54347826  0.61594203  0.57971014  0.57971014  0.65217391\n",
      "  0.65217391  0.39855072  0.39855072  0.28985507  0.39855072  0.47101449\n",
      "  0.47101449  0.47101449  0.52173913  0.57971014  0.65217391  0.61594203\n",
      "  0.61594203  0.57971014  0.54347826  0.65217391  0.65217391  0.54347826\n",
      "  0.61594203  0.65217391  0.57971014  0.6884058   0.72463768  0.6884058\n",
      "  0.6884058   0.76449275  0.83333333  0.83333333  0.72463768  0.6884058\n",
      "  0.76086957  0.72463768  0.76086957  0.79710145  0.76086957  0.79710145\n",
      "  0.72463768  0.79710145  0.72463768  0.83333333  0.79710145  0.79710145\n",
      "  0.76086957  0.86956522  0.76086957  0.79710145  0.83333333  0.9057971\n",
      "  0.82608696  0.76086957  0.79710145  0.79710145  0.76086957  0.83333333\n",
      "  0.83333333  0.86956522  0.83333333  0.86956522  0.9057971   0.83333333\n",
      "  0.79710145  0.6884058   0.79710145  0.9057971   0.9057971   0.83333333\n",
      "  0.86956522  0.9057971   0.9057971   0.9057971   0.9057971   0.9057971\n",
      "  0.78985507  0.79710145  0.86956522  0.94202899  0.97826087  0.94202899\n",
      "  0.97826087  0.97826087  0.97826087  0.97826087  0.97826087  0.94202899\n",
      "  0.94202899  0.94202899  0.9057971   0.9057971   0.9057971   0.94202899\n",
      "  0.94202899 28.37628174 28.47230911 28.47626686]\n",
      "\u001b[1m1/1\u001b[0m \u001b[32m━━━━━━━━━━━━━━━━━━━━\u001b[0m\u001b[37m\u001b[0m \u001b[1m0s\u001b[0m 22ms/step\n",
      "[ 0.54347826  0.61594203  0.57971014  0.57971014  0.65217391  0.65217391\n",
      "  0.39855072  0.39855072  0.28985507  0.39855072  0.47101449  0.47101449\n",
      "  0.47101449  0.52173913  0.57971014  0.65217391  0.61594203  0.61594203\n",
      "  0.57971014  0.54347826  0.65217391  0.65217391  0.54347826  0.61594203\n",
      "  0.65217391  0.57971014  0.6884058   0.72463768  0.6884058   0.6884058\n",
      "  0.76449275  0.83333333  0.83333333  0.72463768  0.6884058   0.76086957\n",
      "  0.72463768  0.76086957  0.79710145  0.76086957  0.79710145  0.72463768\n",
      "  0.79710145  0.72463768  0.83333333  0.79710145  0.79710145  0.76086957\n",
      "  0.86956522  0.76086957  0.79710145  0.83333333  0.9057971   0.82608696\n",
      "  0.76086957  0.79710145  0.79710145  0.76086957  0.83333333  0.83333333\n",
      "  0.86956522  0.83333333  0.86956522  0.9057971   0.83333333  0.79710145\n",
      "  0.6884058   0.79710145  0.9057971   0.9057971   0.83333333  0.86956522\n",
      "  0.9057971   0.9057971   0.9057971   0.9057971   0.9057971   0.78985507\n",
      "  0.79710145  0.86956522  0.94202899  0.97826087  0.94202899  0.97826087\n",
      "  0.97826087  0.97826087  0.97826087  0.97826087  0.94202899  0.94202899\n",
      "  0.94202899  0.9057971   0.9057971   0.9057971   0.94202899  0.94202899\n",
      " 28.37628174 28.47230911 28.47626686 28.47696304]\n",
      "\u001b[1m1/1\u001b[0m \u001b[32m━━━━━━━━━━━━━━━━━━━━\u001b[0m\u001b[37m\u001b[0m \u001b[1m0s\u001b[0m 21ms/step\n",
      "[ 0.61594203  0.57971014  0.57971014  0.65217391  0.65217391  0.39855072\n",
      "  0.39855072  0.28985507  0.39855072  0.47101449  0.47101449  0.47101449\n",
      "  0.52173913  0.57971014  0.65217391  0.61594203  0.61594203  0.57971014\n",
      "  0.54347826  0.65217391  0.65217391  0.54347826  0.61594203  0.65217391\n",
      "  0.57971014  0.6884058   0.72463768  0.6884058   0.6884058   0.76449275\n",
      "  0.83333333  0.83333333  0.72463768  0.6884058   0.76086957  0.72463768\n",
      "  0.76086957  0.79710145  0.76086957  0.79710145  0.72463768  0.79710145\n",
      "  0.72463768  0.83333333  0.79710145  0.79710145  0.76086957  0.86956522\n",
      "  0.76086957  0.79710145  0.83333333  0.9057971   0.82608696  0.76086957\n",
      "  0.79710145  0.79710145  0.76086957  0.83333333  0.83333333  0.86956522\n",
      "  0.83333333  0.86956522  0.9057971   0.83333333  0.79710145  0.6884058\n",
      "  0.79710145  0.9057971   0.9057971   0.83333333  0.86956522  0.9057971\n",
      "  0.9057971   0.9057971   0.9057971   0.9057971   0.78985507  0.79710145\n",
      "  0.86956522  0.94202899  0.97826087  0.94202899  0.97826087  0.97826087\n",
      "  0.97826087  0.97826087  0.97826087  0.94202899  0.94202899  0.94202899\n",
      "  0.9057971   0.9057971   0.9057971   0.94202899  0.94202899 28.37628174\n",
      " 28.47230911 28.47626686 28.47696304 28.47733307]\n",
      "\u001b[1m1/1\u001b[0m \u001b[32m━━━━━━━━━━━━━━━━━━━━\u001b[0m\u001b[37m\u001b[0m \u001b[1m0s\u001b[0m 20ms/step\n",
      "[ 0.57971014  0.57971014  0.65217391  0.65217391  0.39855072  0.39855072\n",
      "  0.28985507  0.39855072  0.47101449  0.47101449  0.47101449  0.52173913\n",
      "  0.57971014  0.65217391  0.61594203  0.61594203  0.57971014  0.54347826\n",
      "  0.65217391  0.65217391  0.54347826  0.61594203  0.65217391  0.57971014\n",
      "  0.6884058   0.72463768  0.6884058   0.6884058   0.76449275  0.83333333\n",
      "  0.83333333  0.72463768  0.6884058   0.76086957  0.72463768  0.76086957\n",
      "  0.79710145  0.76086957  0.79710145  0.72463768  0.79710145  0.72463768\n",
      "  0.83333333  0.79710145  0.79710145  0.76086957  0.86956522  0.76086957\n",
      "  0.79710145  0.83333333  0.9057971   0.82608696  0.76086957  0.79710145\n",
      "  0.79710145  0.76086957  0.83333333  0.83333333  0.86956522  0.83333333\n",
      "  0.86956522  0.9057971   0.83333333  0.79710145  0.6884058   0.79710145\n",
      "  0.9057971   0.9057971   0.83333333  0.86956522  0.9057971   0.9057971\n",
      "  0.9057971   0.9057971   0.9057971   0.78985507  0.79710145  0.86956522\n",
      "  0.94202899  0.97826087  0.94202899  0.97826087  0.97826087  0.97826087\n",
      "  0.97826087  0.97826087  0.94202899  0.94202899  0.94202899  0.9057971\n",
      "  0.9057971   0.9057971   0.94202899  0.94202899 28.37628174 28.47230911\n",
      " 28.47626686 28.47696304 28.47733307 28.47784424]\n",
      "\u001b[1m1/1\u001b[0m \u001b[32m━━━━━━━━━━━━━━━━━━━━\u001b[0m\u001b[37m\u001b[0m \u001b[1m0s\u001b[0m 20ms/step\n",
      "[ 0.57971014  0.65217391  0.65217391  0.39855072  0.39855072  0.28985507\n",
      "  0.39855072  0.47101449  0.47101449  0.47101449  0.52173913  0.57971014\n",
      "  0.65217391  0.61594203  0.61594203  0.57971014  0.54347826  0.65217391\n",
      "  0.65217391  0.54347826  0.61594203  0.65217391  0.57971014  0.6884058\n",
      "  0.72463768  0.6884058   0.6884058   0.76449275  0.83333333  0.83333333\n",
      "  0.72463768  0.6884058   0.76086957  0.72463768  0.76086957  0.79710145\n",
      "  0.76086957  0.79710145  0.72463768  0.79710145  0.72463768  0.83333333\n",
      "  0.79710145  0.79710145  0.76086957  0.86956522  0.76086957  0.79710145\n",
      "  0.83333333  0.9057971   0.82608696  0.76086957  0.79710145  0.79710145\n",
      "  0.76086957  0.83333333  0.83333333  0.86956522  0.83333333  0.86956522\n",
      "  0.9057971   0.83333333  0.79710145  0.6884058   0.79710145  0.9057971\n",
      "  0.9057971   0.83333333  0.86956522  0.9057971   0.9057971   0.9057971\n",
      "  0.9057971   0.9057971   0.78985507  0.79710145  0.86956522  0.94202899\n",
      "  0.97826087  0.94202899  0.97826087  0.97826087  0.97826087  0.97826087\n",
      "  0.97826087  0.94202899  0.94202899  0.94202899  0.9057971   0.9057971\n",
      "  0.9057971   0.94202899  0.94202899 28.37628174 28.47230911 28.47626686\n",
      " 28.47696304 28.47733307 28.47784424 28.47834587]\n",
      "\u001b[1m1/1\u001b[0m \u001b[32m━━━━━━━━━━━━━━━━━━━━\u001b[0m\u001b[37m\u001b[0m \u001b[1m0s\u001b[0m 20ms/step\n",
      "[ 0.65217391  0.65217391  0.39855072  0.39855072  0.28985507  0.39855072\n",
      "  0.47101449  0.47101449  0.47101449  0.52173913  0.57971014  0.65217391\n",
      "  0.61594203  0.61594203  0.57971014  0.54347826  0.65217391  0.65217391\n",
      "  0.54347826  0.61594203  0.65217391  0.57971014  0.6884058   0.72463768\n",
      "  0.6884058   0.6884058   0.76449275  0.83333333  0.83333333  0.72463768\n",
      "  0.6884058   0.76086957  0.72463768  0.76086957  0.79710145  0.76086957\n",
      "  0.79710145  0.72463768  0.79710145  0.72463768  0.83333333  0.79710145\n",
      "  0.79710145  0.76086957  0.86956522  0.76086957  0.79710145  0.83333333\n",
      "  0.9057971   0.82608696  0.76086957  0.79710145  0.79710145  0.76086957\n",
      "  0.83333333  0.83333333  0.86956522  0.83333333  0.86956522  0.9057971\n",
      "  0.83333333  0.79710145  0.6884058   0.79710145  0.9057971   0.9057971\n",
      "  0.83333333  0.86956522  0.9057971   0.9057971   0.9057971   0.9057971\n",
      "  0.9057971   0.78985507  0.79710145  0.86956522  0.94202899  0.97826087\n",
      "  0.94202899  0.97826087  0.97826087  0.97826087  0.97826087  0.97826087\n",
      "  0.94202899  0.94202899  0.94202899  0.9057971   0.9057971   0.9057971\n",
      "  0.94202899  0.94202899 28.37628174 28.47230911 28.47626686 28.47696304\n",
      " 28.47733307 28.47784424 28.47834587 28.47875977]\n",
      "\u001b[1m1/1\u001b[0m \u001b[32m━━━━━━━━━━━━━━━━━━━━\u001b[0m\u001b[37m\u001b[0m \u001b[1m0s\u001b[0m 20ms/step\n",
      "[ 0.65217391  0.39855072  0.39855072  0.28985507  0.39855072  0.47101449\n",
      "  0.47101449  0.47101449  0.52173913  0.57971014  0.65217391  0.61594203\n",
      "  0.61594203  0.57971014  0.54347826  0.65217391  0.65217391  0.54347826\n",
      "  0.61594203  0.65217391  0.57971014  0.6884058   0.72463768  0.6884058\n",
      "  0.6884058   0.76449275  0.83333333  0.83333333  0.72463768  0.6884058\n",
      "  0.76086957  0.72463768  0.76086957  0.79710145  0.76086957  0.79710145\n",
      "  0.72463768  0.79710145  0.72463768  0.83333333  0.79710145  0.79710145\n",
      "  0.76086957  0.86956522  0.76086957  0.79710145  0.83333333  0.9057971\n",
      "  0.82608696  0.76086957  0.79710145  0.79710145  0.76086957  0.83333333\n",
      "  0.83333333  0.86956522  0.83333333  0.86956522  0.9057971   0.83333333\n",
      "  0.79710145  0.6884058   0.79710145  0.9057971   0.9057971   0.83333333\n",
      "  0.86956522  0.9057971   0.9057971   0.9057971   0.9057971   0.9057971\n",
      "  0.78985507  0.79710145  0.86956522  0.94202899  0.97826087  0.94202899\n",
      "  0.97826087  0.97826087  0.97826087  0.97826087  0.97826087  0.94202899\n",
      "  0.94202899  0.94202899  0.9057971   0.9057971   0.9057971   0.94202899\n",
      "  0.94202899 28.37628174 28.47230911 28.47626686 28.47696304 28.47733307\n",
      " 28.47784424 28.47834587 28.47875977 28.47912216]\n",
      "\u001b[1m1/1\u001b[0m \u001b[32m━━━━━━━━━━━━━━━━━━━━\u001b[0m\u001b[37m\u001b[0m \u001b[1m0s\u001b[0m 20ms/step\n",
      "[ 0.39855072  0.39855072  0.28985507  0.39855072  0.47101449  0.47101449\n",
      "  0.47101449  0.52173913  0.57971014  0.65217391  0.61594203  0.61594203\n",
      "  0.57971014  0.54347826  0.65217391  0.65217391  0.54347826  0.61594203\n",
      "  0.65217391  0.57971014  0.6884058   0.72463768  0.6884058   0.6884058\n",
      "  0.76449275  0.83333333  0.83333333  0.72463768  0.6884058   0.76086957\n",
      "  0.72463768  0.76086957  0.79710145  0.76086957  0.79710145  0.72463768\n",
      "  0.79710145  0.72463768  0.83333333  0.79710145  0.79710145  0.76086957\n",
      "  0.86956522  0.76086957  0.79710145  0.83333333  0.9057971   0.82608696\n",
      "  0.76086957  0.79710145  0.79710145  0.76086957  0.83333333  0.83333333\n",
      "  0.86956522  0.83333333  0.86956522  0.9057971   0.83333333  0.79710145\n",
      "  0.6884058   0.79710145  0.9057971   0.9057971   0.83333333  0.86956522\n",
      "  0.9057971   0.9057971   0.9057971   0.9057971   0.9057971   0.78985507\n",
      "  0.79710145  0.86956522  0.94202899  0.97826087  0.94202899  0.97826087\n",
      "  0.97826087  0.97826087  0.97826087  0.97826087  0.94202899  0.94202899\n",
      "  0.94202899  0.9057971   0.9057971   0.9057971   0.94202899  0.94202899\n",
      " 28.37628174 28.47230911 28.47626686 28.47696304 28.47733307 28.47784424\n",
      " 28.47834587 28.47875977 28.47912216 28.479496  ]\n",
      "\u001b[1m1/1\u001b[0m \u001b[32m━━━━━━━━━━━━━━━━━━━━\u001b[0m\u001b[37m\u001b[0m \u001b[1m0s\u001b[0m 20ms/step\n",
      "[ 0.39855072  0.28985507  0.39855072  0.47101449  0.47101449  0.47101449\n",
      "  0.52173913  0.57971014  0.65217391  0.61594203  0.61594203  0.57971014\n",
      "  0.54347826  0.65217391  0.65217391  0.54347826  0.61594203  0.65217391\n",
      "  0.57971014  0.6884058   0.72463768  0.6884058   0.6884058   0.76449275\n",
      "  0.83333333  0.83333333  0.72463768  0.6884058   0.76086957  0.72463768\n",
      "  0.76086957  0.79710145  0.76086957  0.79710145  0.72463768  0.79710145\n",
      "  0.72463768  0.83333333  0.79710145  0.79710145  0.76086957  0.86956522\n",
      "  0.76086957  0.79710145  0.83333333  0.9057971   0.82608696  0.76086957\n",
      "  0.79710145  0.79710145  0.76086957  0.83333333  0.83333333  0.86956522\n",
      "  0.83333333  0.86956522  0.9057971   0.83333333  0.79710145  0.6884058\n",
      "  0.79710145  0.9057971   0.9057971   0.83333333  0.86956522  0.9057971\n",
      "  0.9057971   0.9057971   0.9057971   0.9057971   0.78985507  0.79710145\n",
      "  0.86956522  0.94202899  0.97826087  0.94202899  0.97826087  0.97826087\n",
      "  0.97826087  0.97826087  0.97826087  0.94202899  0.94202899  0.94202899\n",
      "  0.9057971   0.9057971   0.9057971   0.94202899  0.94202899 28.37628174\n",
      " 28.47230911 28.47626686 28.47696304 28.47733307 28.47784424 28.47834587\n",
      " 28.47875977 28.47912216 28.479496   28.47987366]\n",
      "\u001b[1m1/1\u001b[0m \u001b[32m━━━━━━━━━━━━━━━━━━━━\u001b[0m\u001b[37m\u001b[0m \u001b[1m0s\u001b[0m 21ms/step\n",
      "[ 0.28985507  0.39855072  0.47101449  0.47101449  0.47101449  0.52173913\n",
      "  0.57971014  0.65217391  0.61594203  0.61594203  0.57971014  0.54347826\n",
      "  0.65217391  0.65217391  0.54347826  0.61594203  0.65217391  0.57971014\n",
      "  0.6884058   0.72463768  0.6884058   0.6884058   0.76449275  0.83333333\n",
      "  0.83333333  0.72463768  0.6884058   0.76086957  0.72463768  0.76086957\n",
      "  0.79710145  0.76086957  0.79710145  0.72463768  0.79710145  0.72463768\n",
      "  0.83333333  0.79710145  0.79710145  0.76086957  0.86956522  0.76086957\n",
      "  0.79710145  0.83333333  0.9057971   0.82608696  0.76086957  0.79710145\n",
      "  0.79710145  0.76086957  0.83333333  0.83333333  0.86956522  0.83333333\n",
      "  0.86956522  0.9057971   0.83333333  0.79710145  0.6884058   0.79710145\n",
      "  0.9057971   0.9057971   0.83333333  0.86956522  0.9057971   0.9057971\n",
      "  0.9057971   0.9057971   0.9057971   0.78985507  0.79710145  0.86956522\n",
      "  0.94202899  0.97826087  0.94202899  0.97826087  0.97826087  0.97826087\n",
      "  0.97826087  0.97826087  0.94202899  0.94202899  0.94202899  0.9057971\n",
      "  0.9057971   0.9057971   0.94202899  0.94202899 28.37628174 28.47230911\n",
      " 28.47626686 28.47696304 28.47733307 28.47784424 28.47834587 28.47875977\n",
      " 28.47912216 28.479496   28.47987366 28.48008347]\n",
      "\u001b[1m1/1\u001b[0m \u001b[32m━━━━━━━━━━━━━━━━━━━━\u001b[0m\u001b[37m\u001b[0m \u001b[1m0s\u001b[0m 21ms/step\n",
      "[ 0.39855072  0.47101449  0.47101449  0.47101449  0.52173913  0.57971014\n",
      "  0.65217391  0.61594203  0.61594203  0.57971014  0.54347826  0.65217391\n",
      "  0.65217391  0.54347826  0.61594203  0.65217391  0.57971014  0.6884058\n",
      "  0.72463768  0.6884058   0.6884058   0.76449275  0.83333333  0.83333333\n",
      "  0.72463768  0.6884058   0.76086957  0.72463768  0.76086957  0.79710145\n",
      "  0.76086957  0.79710145  0.72463768  0.79710145  0.72463768  0.83333333\n",
      "  0.79710145  0.79710145  0.76086957  0.86956522  0.76086957  0.79710145\n",
      "  0.83333333  0.9057971   0.82608696  0.76086957  0.79710145  0.79710145\n",
      "  0.76086957  0.83333333  0.83333333  0.86956522  0.83333333  0.86956522\n",
      "  0.9057971   0.83333333  0.79710145  0.6884058   0.79710145  0.9057971\n",
      "  0.9057971   0.83333333  0.86956522  0.9057971   0.9057971   0.9057971\n",
      "  0.9057971   0.9057971   0.78985507  0.79710145  0.86956522  0.94202899\n",
      "  0.97826087  0.94202899  0.97826087  0.97826087  0.97826087  0.97826087\n",
      "  0.97826087  0.94202899  0.94202899  0.94202899  0.9057971   0.9057971\n",
      "  0.9057971   0.94202899  0.94202899 28.37628174 28.47230911 28.47626686\n",
      " 28.47696304 28.47733307 28.47784424 28.47834587 28.47875977 28.47912216\n",
      " 28.479496   28.47987366 28.48008347 28.48026276]\n",
      "\u001b[1m1/1\u001b[0m \u001b[32m━━━━━━━━━━━━━━━━━━━━\u001b[0m\u001b[37m\u001b[0m \u001b[1m0s\u001b[0m 21ms/step\n",
      "[ 0.47101449  0.47101449  0.47101449  0.52173913  0.57971014  0.65217391\n",
      "  0.61594203  0.61594203  0.57971014  0.54347826  0.65217391  0.65217391\n",
      "  0.54347826  0.61594203  0.65217391  0.57971014  0.6884058   0.72463768\n",
      "  0.6884058   0.6884058   0.76449275  0.83333333  0.83333333  0.72463768\n",
      "  0.6884058   0.76086957  0.72463768  0.76086957  0.79710145  0.76086957\n",
      "  0.79710145  0.72463768  0.79710145  0.72463768  0.83333333  0.79710145\n",
      "  0.79710145  0.76086957  0.86956522  0.76086957  0.79710145  0.83333333\n",
      "  0.9057971   0.82608696  0.76086957  0.79710145  0.79710145  0.76086957\n",
      "  0.83333333  0.83333333  0.86956522  0.83333333  0.86956522  0.9057971\n",
      "  0.83333333  0.79710145  0.6884058   0.79710145  0.9057971   0.9057971\n",
      "  0.83333333  0.86956522  0.9057971   0.9057971   0.9057971   0.9057971\n",
      "  0.9057971   0.78985507  0.79710145  0.86956522  0.94202899  0.97826087\n",
      "  0.94202899  0.97826087  0.97826087  0.97826087  0.97826087  0.97826087\n",
      "  0.94202899  0.94202899  0.94202899  0.9057971   0.9057971   0.9057971\n",
      "  0.94202899  0.94202899 28.37628174 28.47230911 28.47626686 28.47696304\n",
      " 28.47733307 28.47784424 28.47834587 28.47875977 28.47912216 28.479496\n",
      " 28.47987366 28.48008347 28.48026276 28.48036957]\n",
      "\u001b[1m1/1\u001b[0m \u001b[32m━━━━━━━━━━━━━━━━━━━━\u001b[0m\u001b[37m\u001b[0m \u001b[1m0s\u001b[0m 20ms/step\n",
      "[ 0.47101449  0.47101449  0.52173913  0.57971014  0.65217391  0.61594203\n",
      "  0.61594203  0.57971014  0.54347826  0.65217391  0.65217391  0.54347826\n",
      "  0.61594203  0.65217391  0.57971014  0.6884058   0.72463768  0.6884058\n",
      "  0.6884058   0.76449275  0.83333333  0.83333333  0.72463768  0.6884058\n",
      "  0.76086957  0.72463768  0.76086957  0.79710145  0.76086957  0.79710145\n",
      "  0.72463768  0.79710145  0.72463768  0.83333333  0.79710145  0.79710145\n",
      "  0.76086957  0.86956522  0.76086957  0.79710145  0.83333333  0.9057971\n",
      "  0.82608696  0.76086957  0.79710145  0.79710145  0.76086957  0.83333333\n",
      "  0.83333333  0.86956522  0.83333333  0.86956522  0.9057971   0.83333333\n",
      "  0.79710145  0.6884058   0.79710145  0.9057971   0.9057971   0.83333333\n",
      "  0.86956522  0.9057971   0.9057971   0.9057971   0.9057971   0.9057971\n",
      "  0.78985507  0.79710145  0.86956522  0.94202899  0.97826087  0.94202899\n",
      "  0.97826087  0.97826087  0.97826087  0.97826087  0.97826087  0.94202899\n",
      "  0.94202899  0.94202899  0.9057971   0.9057971   0.9057971   0.94202899\n",
      "  0.94202899 28.37628174 28.47230911 28.47626686 28.47696304 28.47733307\n",
      " 28.47784424 28.47834587 28.47875977 28.47912216 28.479496   28.47987366\n",
      " 28.48008347 28.48026276 28.48036957 28.48049927]\n",
      "\u001b[1m1/1\u001b[0m \u001b[32m━━━━━━━━━━━━━━━━━━━━\u001b[0m\u001b[37m\u001b[0m \u001b[1m0s\u001b[0m 21ms/step\n",
      "[ 0.47101449  0.52173913  0.57971014  0.65217391  0.61594203  0.61594203\n",
      "  0.57971014  0.54347826  0.65217391  0.65217391  0.54347826  0.61594203\n",
      "  0.65217391  0.57971014  0.6884058   0.72463768  0.6884058   0.6884058\n",
      "  0.76449275  0.83333333  0.83333333  0.72463768  0.6884058   0.76086957\n",
      "  0.72463768  0.76086957  0.79710145  0.76086957  0.79710145  0.72463768\n",
      "  0.79710145  0.72463768  0.83333333  0.79710145  0.79710145  0.76086957\n",
      "  0.86956522  0.76086957  0.79710145  0.83333333  0.9057971   0.82608696\n",
      "  0.76086957  0.79710145  0.79710145  0.76086957  0.83333333  0.83333333\n",
      "  0.86956522  0.83333333  0.86956522  0.9057971   0.83333333  0.79710145\n",
      "  0.6884058   0.79710145  0.9057971   0.9057971   0.83333333  0.86956522\n",
      "  0.9057971   0.9057971   0.9057971   0.9057971   0.9057971   0.78985507\n",
      "  0.79710145  0.86956522  0.94202899  0.97826087  0.94202899  0.97826087\n",
      "  0.97826087  0.97826087  0.97826087  0.97826087  0.94202899  0.94202899\n",
      "  0.94202899  0.9057971   0.9057971   0.9057971   0.94202899  0.94202899\n",
      " 28.37628174 28.47230911 28.47626686 28.47696304 28.47733307 28.47784424\n",
      " 28.47834587 28.47875977 28.47912216 28.479496   28.47987366 28.48008347\n",
      " 28.48026276 28.48036957 28.48049927 28.48062515]\n",
      "\u001b[1m1/1\u001b[0m \u001b[32m━━━━━━━━━━━━━━━━━━━━\u001b[0m\u001b[37m\u001b[0m \u001b[1m0s\u001b[0m 21ms/step\n",
      "[ 0.52173913  0.57971014  0.65217391  0.61594203  0.61594203  0.57971014\n",
      "  0.54347826  0.65217391  0.65217391  0.54347826  0.61594203  0.65217391\n",
      "  0.57971014  0.6884058   0.72463768  0.6884058   0.6884058   0.76449275\n",
      "  0.83333333  0.83333333  0.72463768  0.6884058   0.76086957  0.72463768\n",
      "  0.76086957  0.79710145  0.76086957  0.79710145  0.72463768  0.79710145\n",
      "  0.72463768  0.83333333  0.79710145  0.79710145  0.76086957  0.86956522\n",
      "  0.76086957  0.79710145  0.83333333  0.9057971   0.82608696  0.76086957\n",
      "  0.79710145  0.79710145  0.76086957  0.83333333  0.83333333  0.86956522\n",
      "  0.83333333  0.86956522  0.9057971   0.83333333  0.79710145  0.6884058\n",
      "  0.79710145  0.9057971   0.9057971   0.83333333  0.86956522  0.9057971\n",
      "  0.9057971   0.9057971   0.9057971   0.9057971   0.78985507  0.79710145\n",
      "  0.86956522  0.94202899  0.97826087  0.94202899  0.97826087  0.97826087\n",
      "  0.97826087  0.97826087  0.97826087  0.94202899  0.94202899  0.94202899\n",
      "  0.9057971   0.9057971   0.9057971   0.94202899  0.94202899 28.37628174\n",
      " 28.47230911 28.47626686 28.47696304 28.47733307 28.47784424 28.47834587\n",
      " 28.47875977 28.47912216 28.479496   28.47987366 28.48008347 28.48026276\n",
      " 28.48036957 28.48049927 28.48062515 28.48072433]\n",
      "\u001b[1m1/1\u001b[0m \u001b[32m━━━━━━━━━━━━━━━━━━━━\u001b[0m\u001b[37m\u001b[0m \u001b[1m0s\u001b[0m 20ms/step\n",
      "[ 0.57971014  0.65217391  0.61594203  0.61594203  0.57971014  0.54347826\n",
      "  0.65217391  0.65217391  0.54347826  0.61594203  0.65217391  0.57971014\n",
      "  0.6884058   0.72463768  0.6884058   0.6884058   0.76449275  0.83333333\n",
      "  0.83333333  0.72463768  0.6884058   0.76086957  0.72463768  0.76086957\n",
      "  0.79710145  0.76086957  0.79710145  0.72463768  0.79710145  0.72463768\n",
      "  0.83333333  0.79710145  0.79710145  0.76086957  0.86956522  0.76086957\n",
      "  0.79710145  0.83333333  0.9057971   0.82608696  0.76086957  0.79710145\n",
      "  0.79710145  0.76086957  0.83333333  0.83333333  0.86956522  0.83333333\n",
      "  0.86956522  0.9057971   0.83333333  0.79710145  0.6884058   0.79710145\n",
      "  0.9057971   0.9057971   0.83333333  0.86956522  0.9057971   0.9057971\n",
      "  0.9057971   0.9057971   0.9057971   0.78985507  0.79710145  0.86956522\n",
      "  0.94202899  0.97826087  0.94202899  0.97826087  0.97826087  0.97826087\n",
      "  0.97826087  0.97826087  0.94202899  0.94202899  0.94202899  0.9057971\n",
      "  0.9057971   0.9057971   0.94202899  0.94202899 28.37628174 28.47230911\n",
      " 28.47626686 28.47696304 28.47733307 28.47784424 28.47834587 28.47875977\n",
      " 28.47912216 28.479496   28.47987366 28.48008347 28.48026276 28.48036957\n",
      " 28.48049927 28.48062515 28.48072433 28.48080826]\n",
      "\u001b[1m1/1\u001b[0m \u001b[32m━━━━━━━━━━━━━━━━━━━━\u001b[0m\u001b[37m\u001b[0m \u001b[1m0s\u001b[0m 22ms/step\n",
      "[ 0.65217391  0.61594203  0.61594203  0.57971014  0.54347826  0.65217391\n",
      "  0.65217391  0.54347826  0.61594203  0.65217391  0.57971014  0.6884058\n",
      "  0.72463768  0.6884058   0.6884058   0.76449275  0.83333333  0.83333333\n",
      "  0.72463768  0.6884058   0.76086957  0.72463768  0.76086957  0.79710145\n",
      "  0.76086957  0.79710145  0.72463768  0.79710145  0.72463768  0.83333333\n",
      "  0.79710145  0.79710145  0.76086957  0.86956522  0.76086957  0.79710145\n",
      "  0.83333333  0.9057971   0.82608696  0.76086957  0.79710145  0.79710145\n",
      "  0.76086957  0.83333333  0.83333333  0.86956522  0.83333333  0.86956522\n",
      "  0.9057971   0.83333333  0.79710145  0.6884058   0.79710145  0.9057971\n",
      "  0.9057971   0.83333333  0.86956522  0.9057971   0.9057971   0.9057971\n",
      "  0.9057971   0.9057971   0.78985507  0.79710145  0.86956522  0.94202899\n",
      "  0.97826087  0.94202899  0.97826087  0.97826087  0.97826087  0.97826087\n",
      "  0.97826087  0.94202899  0.94202899  0.94202899  0.9057971   0.9057971\n",
      "  0.9057971   0.94202899  0.94202899 28.37628174 28.47230911 28.47626686\n",
      " 28.47696304 28.47733307 28.47784424 28.47834587 28.47875977 28.47912216\n",
      " 28.479496   28.47987366 28.48008347 28.48026276 28.48036957 28.48049927\n",
      " 28.48062515 28.48072433 28.48080826 28.48088837]\n",
      "\u001b[1m1/1\u001b[0m \u001b[32m━━━━━━━━━━━━━━━━━━━━\u001b[0m\u001b[37m\u001b[0m \u001b[1m0s\u001b[0m 20ms/step\n",
      "[ 0.61594203  0.61594203  0.57971014  0.54347826  0.65217391  0.65217391\n",
      "  0.54347826  0.61594203  0.65217391  0.57971014  0.6884058   0.72463768\n",
      "  0.6884058   0.6884058   0.76449275  0.83333333  0.83333333  0.72463768\n",
      "  0.6884058   0.76086957  0.72463768  0.76086957  0.79710145  0.76086957\n",
      "  0.79710145  0.72463768  0.79710145  0.72463768  0.83333333  0.79710145\n",
      "  0.79710145  0.76086957  0.86956522  0.76086957  0.79710145  0.83333333\n",
      "  0.9057971   0.82608696  0.76086957  0.79710145  0.79710145  0.76086957\n",
      "  0.83333333  0.83333333  0.86956522  0.83333333  0.86956522  0.9057971\n",
      "  0.83333333  0.79710145  0.6884058   0.79710145  0.9057971   0.9057971\n",
      "  0.83333333  0.86956522  0.9057971   0.9057971   0.9057971   0.9057971\n",
      "  0.9057971   0.78985507  0.79710145  0.86956522  0.94202899  0.97826087\n",
      "  0.94202899  0.97826087  0.97826087  0.97826087  0.97826087  0.97826087\n",
      "  0.94202899  0.94202899  0.94202899  0.9057971   0.9057971   0.9057971\n",
      "  0.94202899  0.94202899 28.37628174 28.47230911 28.47626686 28.47696304\n",
      " 28.47733307 28.47784424 28.47834587 28.47875977 28.47912216 28.479496\n",
      " 28.47987366 28.48008347 28.48026276 28.48036957 28.48049927 28.48062515\n",
      " 28.48072433 28.48080826 28.48088837 28.48095131]\n",
      "\u001b[1m1/1\u001b[0m \u001b[32m━━━━━━━━━━━━━━━━━━━━\u001b[0m\u001b[37m\u001b[0m \u001b[1m0s\u001b[0m 20ms/step\n",
      "[ 0.61594203  0.57971014  0.54347826  0.65217391  0.65217391  0.54347826\n",
      "  0.61594203  0.65217391  0.57971014  0.6884058   0.72463768  0.6884058\n",
      "  0.6884058   0.76449275  0.83333333  0.83333333  0.72463768  0.6884058\n",
      "  0.76086957  0.72463768  0.76086957  0.79710145  0.76086957  0.79710145\n",
      "  0.72463768  0.79710145  0.72463768  0.83333333  0.79710145  0.79710145\n",
      "  0.76086957  0.86956522  0.76086957  0.79710145  0.83333333  0.9057971\n",
      "  0.82608696  0.76086957  0.79710145  0.79710145  0.76086957  0.83333333\n",
      "  0.83333333  0.86956522  0.83333333  0.86956522  0.9057971   0.83333333\n",
      "  0.79710145  0.6884058   0.79710145  0.9057971   0.9057971   0.83333333\n",
      "  0.86956522  0.9057971   0.9057971   0.9057971   0.9057971   0.9057971\n",
      "  0.78985507  0.79710145  0.86956522  0.94202899  0.97826087  0.94202899\n",
      "  0.97826087  0.97826087  0.97826087  0.97826087  0.97826087  0.94202899\n",
      "  0.94202899  0.94202899  0.9057971   0.9057971   0.9057971   0.94202899\n",
      "  0.94202899 28.37628174 28.47230911 28.47626686 28.47696304 28.47733307\n",
      " 28.47784424 28.47834587 28.47875977 28.47912216 28.479496   28.47987366\n",
      " 28.48008347 28.48026276 28.48036957 28.48049927 28.48062515 28.48072433\n",
      " 28.48080826 28.48088837 28.48095131 28.48099518]\n",
      "\u001b[1m1/1\u001b[0m \u001b[32m━━━━━━━━━━━━━━━━━━━━\u001b[0m\u001b[37m\u001b[0m \u001b[1m0s\u001b[0m 20ms/step\n",
      "[ 0.57971014  0.54347826  0.65217391  0.65217391  0.54347826  0.61594203\n",
      "  0.65217391  0.57971014  0.6884058   0.72463768  0.6884058   0.6884058\n",
      "  0.76449275  0.83333333  0.83333333  0.72463768  0.6884058   0.76086957\n",
      "  0.72463768  0.76086957  0.79710145  0.76086957  0.79710145  0.72463768\n",
      "  0.79710145  0.72463768  0.83333333  0.79710145  0.79710145  0.76086957\n",
      "  0.86956522  0.76086957  0.79710145  0.83333333  0.9057971   0.82608696\n",
      "  0.76086957  0.79710145  0.79710145  0.76086957  0.83333333  0.83333333\n",
      "  0.86956522  0.83333333  0.86956522  0.9057971   0.83333333  0.79710145\n",
      "  0.6884058   0.79710145  0.9057971   0.9057971   0.83333333  0.86956522\n",
      "  0.9057971   0.9057971   0.9057971   0.9057971   0.9057971   0.78985507\n",
      "  0.79710145  0.86956522  0.94202899  0.97826087  0.94202899  0.97826087\n",
      "  0.97826087  0.97826087  0.97826087  0.97826087  0.94202899  0.94202899\n",
      "  0.94202899  0.9057971   0.9057971   0.9057971   0.94202899  0.94202899\n",
      " 28.37628174 28.47230911 28.47626686 28.47696304 28.47733307 28.47784424\n",
      " 28.47834587 28.47875977 28.47912216 28.479496   28.47987366 28.48008347\n",
      " 28.48026276 28.48036957 28.48049927 28.48062515 28.48072433 28.48080826\n",
      " 28.48088837 28.48095131 28.48099518 28.48103714]\n",
      "\u001b[1m1/1\u001b[0m \u001b[32m━━━━━━━━━━━━━━━━━━━━\u001b[0m\u001b[37m\u001b[0m \u001b[1m0s\u001b[0m 20ms/step\n",
      "[ 0.54347826  0.65217391  0.65217391  0.54347826  0.61594203  0.65217391\n",
      "  0.57971014  0.6884058   0.72463768  0.6884058   0.6884058   0.76449275\n",
      "  0.83333333  0.83333333  0.72463768  0.6884058   0.76086957  0.72463768\n",
      "  0.76086957  0.79710145  0.76086957  0.79710145  0.72463768  0.79710145\n",
      "  0.72463768  0.83333333  0.79710145  0.79710145  0.76086957  0.86956522\n",
      "  0.76086957  0.79710145  0.83333333  0.9057971   0.82608696  0.76086957\n",
      "  0.79710145  0.79710145  0.76086957  0.83333333  0.83333333  0.86956522\n",
      "  0.83333333  0.86956522  0.9057971   0.83333333  0.79710145  0.6884058\n",
      "  0.79710145  0.9057971   0.9057971   0.83333333  0.86956522  0.9057971\n",
      "  0.9057971   0.9057971   0.9057971   0.9057971   0.78985507  0.79710145\n",
      "  0.86956522  0.94202899  0.97826087  0.94202899  0.97826087  0.97826087\n",
      "  0.97826087  0.97826087  0.97826087  0.94202899  0.94202899  0.94202899\n",
      "  0.9057971   0.9057971   0.9057971   0.94202899  0.94202899 28.37628174\n",
      " 28.47230911 28.47626686 28.47696304 28.47733307 28.47784424 28.47834587\n",
      " 28.47875977 28.47912216 28.479496   28.47987366 28.48008347 28.48026276\n",
      " 28.48036957 28.48049927 28.48062515 28.48072433 28.48080826 28.48088837\n",
      " 28.48095131 28.48099518 28.48103714 28.48108673]\n",
      "\u001b[1m1/1\u001b[0m \u001b[32m━━━━━━━━━━━━━━━━━━━━\u001b[0m\u001b[37m\u001b[0m \u001b[1m0s\u001b[0m 20ms/step\n",
      "[ 0.65217391  0.65217391  0.54347826  0.61594203  0.65217391  0.57971014\n",
      "  0.6884058   0.72463768  0.6884058   0.6884058   0.76449275  0.83333333\n",
      "  0.83333333  0.72463768  0.6884058   0.76086957  0.72463768  0.76086957\n",
      "  0.79710145  0.76086957  0.79710145  0.72463768  0.79710145  0.72463768\n",
      "  0.83333333  0.79710145  0.79710145  0.76086957  0.86956522  0.76086957\n",
      "  0.79710145  0.83333333  0.9057971   0.82608696  0.76086957  0.79710145\n",
      "  0.79710145  0.76086957  0.83333333  0.83333333  0.86956522  0.83333333\n",
      "  0.86956522  0.9057971   0.83333333  0.79710145  0.6884058   0.79710145\n",
      "  0.9057971   0.9057971   0.83333333  0.86956522  0.9057971   0.9057971\n",
      "  0.9057971   0.9057971   0.9057971   0.78985507  0.79710145  0.86956522\n",
      "  0.94202899  0.97826087  0.94202899  0.97826087  0.97826087  0.97826087\n",
      "  0.97826087  0.97826087  0.94202899  0.94202899  0.94202899  0.9057971\n",
      "  0.9057971   0.9057971   0.94202899  0.94202899 28.37628174 28.47230911\n",
      " 28.47626686 28.47696304 28.47733307 28.47784424 28.47834587 28.47875977\n",
      " 28.47912216 28.479496   28.47987366 28.48008347 28.48026276 28.48036957\n",
      " 28.48049927 28.48062515 28.48072433 28.48080826 28.48088837 28.48095131\n",
      " 28.48099518 28.48103714 28.48108673 28.48112106]\n",
      "\u001b[1m1/1\u001b[0m \u001b[32m━━━━━━━━━━━━━━━━━━━━\u001b[0m\u001b[37m\u001b[0m \u001b[1m0s\u001b[0m 20ms/step\n",
      "[ 0.65217391  0.54347826  0.61594203  0.65217391  0.57971014  0.6884058\n",
      "  0.72463768  0.6884058   0.6884058   0.76449275  0.83333333  0.83333333\n",
      "  0.72463768  0.6884058   0.76086957  0.72463768  0.76086957  0.79710145\n",
      "  0.76086957  0.79710145  0.72463768  0.79710145  0.72463768  0.83333333\n",
      "  0.79710145  0.79710145  0.76086957  0.86956522  0.76086957  0.79710145\n",
      "  0.83333333  0.9057971   0.82608696  0.76086957  0.79710145  0.79710145\n",
      "  0.76086957  0.83333333  0.83333333  0.86956522  0.83333333  0.86956522\n",
      "  0.9057971   0.83333333  0.79710145  0.6884058   0.79710145  0.9057971\n",
      "  0.9057971   0.83333333  0.86956522  0.9057971   0.9057971   0.9057971\n",
      "  0.9057971   0.9057971   0.78985507  0.79710145  0.86956522  0.94202899\n",
      "  0.97826087  0.94202899  0.97826087  0.97826087  0.97826087  0.97826087\n",
      "  0.97826087  0.94202899  0.94202899  0.94202899  0.9057971   0.9057971\n",
      "  0.9057971   0.94202899  0.94202899 28.37628174 28.47230911 28.47626686\n",
      " 28.47696304 28.47733307 28.47784424 28.47834587 28.47875977 28.47912216\n",
      " 28.479496   28.47987366 28.48008347 28.48026276 28.48036957 28.48049927\n",
      " 28.48062515 28.48072433 28.48080826 28.48088837 28.48095131 28.48099518\n",
      " 28.48103714 28.48108673 28.48112106 28.48114777]\n",
      "\u001b[1m1/1\u001b[0m \u001b[32m━━━━━━━━━━━━━━━━━━━━\u001b[0m\u001b[37m\u001b[0m \u001b[1m0s\u001b[0m 20ms/step\n",
      "[ 0.54347826  0.61594203  0.65217391  0.57971014  0.6884058   0.72463768\n",
      "  0.6884058   0.6884058   0.76449275  0.83333333  0.83333333  0.72463768\n",
      "  0.6884058   0.76086957  0.72463768  0.76086957  0.79710145  0.76086957\n",
      "  0.79710145  0.72463768  0.79710145  0.72463768  0.83333333  0.79710145\n",
      "  0.79710145  0.76086957  0.86956522  0.76086957  0.79710145  0.83333333\n",
      "  0.9057971   0.82608696  0.76086957  0.79710145  0.79710145  0.76086957\n",
      "  0.83333333  0.83333333  0.86956522  0.83333333  0.86956522  0.9057971\n",
      "  0.83333333  0.79710145  0.6884058   0.79710145  0.9057971   0.9057971\n",
      "  0.83333333  0.86956522  0.9057971   0.9057971   0.9057971   0.9057971\n",
      "  0.9057971   0.78985507  0.79710145  0.86956522  0.94202899  0.97826087\n",
      "  0.94202899  0.97826087  0.97826087  0.97826087  0.97826087  0.97826087\n",
      "  0.94202899  0.94202899  0.94202899  0.9057971   0.9057971   0.9057971\n",
      "  0.94202899  0.94202899 28.37628174 28.47230911 28.47626686 28.47696304\n",
      " 28.47733307 28.47784424 28.47834587 28.47875977 28.47912216 28.479496\n",
      " 28.47987366 28.48008347 28.48026276 28.48036957 28.48049927 28.48062515\n",
      " 28.48072433 28.48080826 28.48088837 28.48095131 28.48099518 28.48103714\n",
      " 28.48108673 28.48112106 28.48114777 28.48116112]\n",
      "\u001b[1m1/1\u001b[0m \u001b[32m━━━━━━━━━━━━━━━━━━━━\u001b[0m\u001b[37m\u001b[0m \u001b[1m0s\u001b[0m 19ms/step\n",
      "[ 0.61594203  0.65217391  0.57971014  0.6884058   0.72463768  0.6884058\n",
      "  0.6884058   0.76449275  0.83333333  0.83333333  0.72463768  0.6884058\n",
      "  0.76086957  0.72463768  0.76086957  0.79710145  0.76086957  0.79710145\n",
      "  0.72463768  0.79710145  0.72463768  0.83333333  0.79710145  0.79710145\n",
      "  0.76086957  0.86956522  0.76086957  0.79710145  0.83333333  0.9057971\n",
      "  0.82608696  0.76086957  0.79710145  0.79710145  0.76086957  0.83333333\n",
      "  0.83333333  0.86956522  0.83333333  0.86956522  0.9057971   0.83333333\n",
      "  0.79710145  0.6884058   0.79710145  0.9057971   0.9057971   0.83333333\n",
      "  0.86956522  0.9057971   0.9057971   0.9057971   0.9057971   0.9057971\n",
      "  0.78985507  0.79710145  0.86956522  0.94202899  0.97826087  0.94202899\n",
      "  0.97826087  0.97826087  0.97826087  0.97826087  0.97826087  0.94202899\n",
      "  0.94202899  0.94202899  0.9057971   0.9057971   0.9057971   0.94202899\n",
      "  0.94202899 28.37628174 28.47230911 28.47626686 28.47696304 28.47733307\n",
      " 28.47784424 28.47834587 28.47875977 28.47912216 28.479496   28.47987366\n",
      " 28.48008347 28.48026276 28.48036957 28.48049927 28.48062515 28.48072433\n",
      " 28.48080826 28.48088837 28.48095131 28.48099518 28.48103714 28.48108673\n",
      " 28.48112106 28.48114777 28.48116112 28.48115921]\n",
      "\u001b[1m1/1\u001b[0m \u001b[32m━━━━━━━━━━━━━━━━━━━━\u001b[0m\u001b[37m\u001b[0m \u001b[1m0s\u001b[0m 20ms/step\n",
      "[ 0.65217391  0.57971014  0.6884058   0.72463768  0.6884058   0.6884058\n",
      "  0.76449275  0.83333333  0.83333333  0.72463768  0.6884058   0.76086957\n",
      "  0.72463768  0.76086957  0.79710145  0.76086957  0.79710145  0.72463768\n",
      "  0.79710145  0.72463768  0.83333333  0.79710145  0.79710145  0.76086957\n",
      "  0.86956522  0.76086957  0.79710145  0.83333333  0.9057971   0.82608696\n",
      "  0.76086957  0.79710145  0.79710145  0.76086957  0.83333333  0.83333333\n",
      "  0.86956522  0.83333333  0.86956522  0.9057971   0.83333333  0.79710145\n",
      "  0.6884058   0.79710145  0.9057971   0.9057971   0.83333333  0.86956522\n",
      "  0.9057971   0.9057971   0.9057971   0.9057971   0.9057971   0.78985507\n",
      "  0.79710145  0.86956522  0.94202899  0.97826087  0.94202899  0.97826087\n",
      "  0.97826087  0.97826087  0.97826087  0.97826087  0.94202899  0.94202899\n",
      "  0.94202899  0.9057971   0.9057971   0.9057971   0.94202899  0.94202899\n",
      " 28.37628174 28.47230911 28.47626686 28.47696304 28.47733307 28.47784424\n",
      " 28.47834587 28.47875977 28.47912216 28.479496   28.47987366 28.48008347\n",
      " 28.48026276 28.48036957 28.48049927 28.48062515 28.48072433 28.48080826\n",
      " 28.48088837 28.48095131 28.48099518 28.48103714 28.48108673 28.48112106\n",
      " 28.48114777 28.48116112 28.48115921 28.48115921]\n",
      "\u001b[1m1/1\u001b[0m \u001b[32m━━━━━━━━━━━━━━━━━━━━\u001b[0m\u001b[37m\u001b[0m \u001b[1m0s\u001b[0m 19ms/step\n",
      "[ 0.57971014  0.6884058   0.72463768  0.6884058   0.6884058   0.76449275\n",
      "  0.83333333  0.83333333  0.72463768  0.6884058   0.76086957  0.72463768\n",
      "  0.76086957  0.79710145  0.76086957  0.79710145  0.72463768  0.79710145\n",
      "  0.72463768  0.83333333  0.79710145  0.79710145  0.76086957  0.86956522\n",
      "  0.76086957  0.79710145  0.83333333  0.9057971   0.82608696  0.76086957\n",
      "  0.79710145  0.79710145  0.76086957  0.83333333  0.83333333  0.86956522\n",
      "  0.83333333  0.86956522  0.9057971   0.83333333  0.79710145  0.6884058\n",
      "  0.79710145  0.9057971   0.9057971   0.83333333  0.86956522  0.9057971\n",
      "  0.9057971   0.9057971   0.9057971   0.9057971   0.78985507  0.79710145\n",
      "  0.86956522  0.94202899  0.97826087  0.94202899  0.97826087  0.97826087\n",
      "  0.97826087  0.97826087  0.97826087  0.94202899  0.94202899  0.94202899\n",
      "  0.9057971   0.9057971   0.9057971   0.94202899  0.94202899 28.37628174\n",
      " 28.47230911 28.47626686 28.47696304 28.47733307 28.47784424 28.47834587\n",
      " 28.47875977 28.47912216 28.479496   28.47987366 28.48008347 28.48026276\n",
      " 28.48036957 28.48049927 28.48062515 28.48072433 28.48080826 28.48088837\n",
      " 28.48095131 28.48099518 28.48103714 28.48108673 28.48112106 28.48114777\n",
      " 28.48116112 28.48115921 28.48115921 28.48114777]\n",
      "\u001b[1m1/1\u001b[0m \u001b[32m━━━━━━━━━━━━━━━━━━━━\u001b[0m\u001b[37m\u001b[0m \u001b[1m0s\u001b[0m 22ms/step\n"
     ]
    }
   ],
   "source": [
    "output=[]\n",
    "for i in range(30):\n",
    "    print(data_for_model)\n",
    "\n",
    "    prediction = best_model.predict(np.array(data_for_model).reshape(-1, window_size, 1))\n",
    "    \n",
    "    output.append(prediction)\n",
    "    data_for_model = np.append(data_for_model[1:], prediction)"
   ]
  },
  {
   "cell_type": "code",
   "execution_count": 404,
   "metadata": {
    "execution": {
     "iopub.execute_input": "2024-12-28T08:39:30.260106Z",
     "iopub.status.busy": "2024-12-28T08:39:30.259741Z",
     "iopub.status.idle": "2024-12-28T08:39:30.263872Z",
     "shell.execute_reply": "2024-12-28T08:39:30.262928Z",
     "shell.execute_reply.started": "2024-12-28T08:39:30.260076Z"
    },
    "trusted": true
   },
   "outputs": [],
   "source": [
    "next_6_months_temp=list(next_6_months_temp.values)"
   ]
  },
  {
   "cell_type": "code",
   "execution_count": 405,
   "metadata": {
    "execution": {
     "iopub.execute_input": "2024-12-28T08:39:30.265436Z",
     "iopub.status.busy": "2024-12-28T08:39:30.265127Z",
     "iopub.status.idle": "2024-12-28T08:39:30.282642Z",
     "shell.execute_reply": "2024-12-28T08:39:30.281782Z",
     "shell.execute_reply.started": "2024-12-28T08:39:30.265396Z"
    },
    "trusted": true
   },
   "outputs": [
    {
     "name": "stdout",
     "output_type": "stream",
     "text": [
      "Len Output: 30\n",
      "Len next_6_months_temp: 30\n"
     ]
    }
   ],
   "source": [
    "print(\"Len Output:\",len(output))\n",
    "print(\"Len next_6_months_temp:\",len(next_6_months_temp))\n"
   ]
  },
  {
   "cell_type": "code",
   "execution_count": 302,
   "metadata": {
    "collapsed": true,
    "execution": {
     "iopub.execute_input": "2024-12-28T08:14:11.189578Z",
     "iopub.status.busy": "2024-12-28T08:14:11.189273Z",
     "iopub.status.idle": "2024-12-28T08:14:11.195950Z",
     "shell.execute_reply": "2024-12-28T08:14:11.195266Z",
     "shell.execute_reply.started": "2024-12-28T08:14:11.189553Z"
    },
    "jupyter": {
     "outputs_hidden": true
    },
    "trusted": true
   },
   "outputs": [
    {
     "data": {
      "text/plain": [
       "[42.26219,\n",
       " 43.584137,\n",
       " 43.63522,\n",
       " 43.651714,\n",
       " 43.65484,\n",
       " 43.41555,\n",
       " 43.422462,\n",
       " 43.423683,\n",
       " 43.413635,\n",
       " 43.61869,\n",
       " 43.50193,\n",
       " 43.36956,\n",
       " 43.212875,\n",
       " 43.339005,\n",
       " 43.33207,\n",
       " 43.325966,\n",
       " 43.320354,\n",
       " 43.31549,\n",
       " 43.31143,\n",
       " 43.308105,\n",
       " 43.3054,\n",
       " 43.30322,\n",
       " 43.301453,\n",
       " 43.30001,\n",
       " 43.298832,\n",
       " 43.297867,\n",
       " 43.297073,\n",
       " 43.296406,\n",
       " 43.295853,\n",
       " 43.295387]"
      ]
     },
     "execution_count": 302,
     "metadata": {},
     "output_type": "execute_result"
    }
   ],
   "source": [
    "list(np.array(output).flatten())"
   ]
  },
  {
   "cell_type": "code",
   "execution_count": 406,
   "metadata": {
    "execution": {
     "iopub.execute_input": "2024-12-28T08:39:33.363717Z",
     "iopub.status.busy": "2024-12-28T08:39:33.363424Z",
     "iopub.status.idle": "2024-12-28T08:39:33.564202Z",
     "shell.execute_reply": "2024-12-28T08:39:33.563099Z",
     "shell.execute_reply.started": "2024-12-28T08:39:33.363695Z"
    },
    "trusted": true
   },
   "outputs": [
    {
     "data": {
      "image/png": "[encoded data removed]",
      "text/plain": [
       "<Figure size 640x480 with 1 Axes>"
      ]
     },
     "metadata": {},
     "output_type": "display_data"
    }
   ],
   "source": [
    "\n",
    "# Plot the two arrays\n",
    "import matplotlib.pyplot as plt\n",
    "\n",
    "plt.plot(list(next_6_months_temp), label=\"Actual Temperature\")\n",
    "plt.plot(list(np.array(output).flatten()), label=\"Predicted Temperature\")\n",
    "plt.legend()\n",
    "plt.xlabel(\"Days\")\n",
    "plt.ylabel(\"Temperature\")\n",
    "plt.title(\"Actual vs Predicted Temperature\")\n",
    "plt.show()\n"
   ]
  },
  {
   "cell_type": "code",
   "execution_count": 407,
   "metadata": {
    "execution": {
     "iopub.execute_input": "2024-12-28T08:39:36.828195Z",
     "iopub.status.busy": "2024-12-28T08:39:36.827854Z",
     "iopub.status.idle": "2024-12-28T08:39:36.834880Z",
     "shell.execute_reply": "2024-12-28T08:39:36.834031Z",
     "shell.execute_reply.started": "2024-12-28T08:39:36.828160Z"
    },
    "trusted": true
   },
   "outputs": [
    {
     "data": {
      "text/plain": [
       "2.339544878304781"
      ]
     },
     "execution_count": 407,
     "metadata": {},
     "output_type": "execute_result"
    }
   ],
   "source": [
    "from sklearn.metrics import r2_score,mean_squared_error\n",
    "mean_squared_error(list(next_6_months_temp),list(np.array(output).flatten()))"
   ]
  },
  {
   "cell_type": "code",
   "execution_count": 408,
   "metadata": {
    "execution": {
     "iopub.execute_input": "2024-12-28T08:39:38.633565Z",
     "iopub.status.busy": "2024-12-28T08:39:38.633264Z",
     "iopub.status.idle": "2024-12-28T08:39:39.643316Z",
     "shell.execute_reply": "2024-12-28T08:39:39.642076Z",
     "shell.execute_reply.started": "2024-12-28T08:39:38.633538Z"
    },
    "trusted": true
   },
   "outputs": [
    {
     "name": "stdout",
     "output_type": "stream",
     "text": [
      "\u001b[1m88/88\u001b[0m \u001b[32m━━━━━━━━━━━━━━━━━━━━\u001b[0m\u001b[37m\u001b[0m \u001b[1m1s\u001b[0m 7ms/step\n"
     ]
    }
   ],
   "source": [
    "y_prediction_x=best_model.predict(np.array(X_test).reshape(-1,window_size,1))"
   ]
  },
  {
   "cell_type": "code",
   "execution_count": 409,
   "metadata": {
    "execution": {
     "iopub.execute_input": "2024-12-28T08:39:39.843445Z",
     "iopub.status.busy": "2024-12-28T08:39:39.843113Z",
     "iopub.status.idle": "2024-12-28T08:39:39.848738Z",
     "shell.execute_reply": "2024-12-28T08:39:39.847889Z",
     "shell.execute_reply.started": "2024-12-28T08:39:39.843416Z"
    },
    "trusted": true
   },
   "outputs": [
    {
     "data": {
      "text/plain": [
       "2793"
      ]
     },
     "execution_count": 409,
     "metadata": {},
     "output_type": "execute_result"
    }
   ],
   "source": [
    "len(y_prediction_x)"
   ]
  },
  {
   "cell_type": "code",
   "execution_count": 44,
   "metadata": {
    "execution": {
     "iopub.execute_input": "2024-12-28T05:40:38.785868Z",
     "iopub.status.busy": "2024-12-28T05:40:38.785541Z",
     "iopub.status.idle": "2024-12-28T05:40:38.956643Z",
     "shell.execute_reply": "2024-12-28T05:40:38.955963Z",
     "shell.execute_reply.started": "2024-12-28T05:40:38.785841Z"
    },
    "trusted": true
   },
   "outputs": [],
   "source": [
    "y_pred_final=[]\n",
    "for i in y_prediction_x:\n",
    "  # print(i)\n",
    "  y_pred_final.append(MinMax.inverse_transform(i.reshape(-1,1))[0,0])\n"
   ]
  },
  {
   "cell_type": "code",
   "execution_count": 779,
   "metadata": {
    "execution": {
     "iopub.execute_input": "2024-12-27T17:08:27.798077Z",
     "iopub.status.busy": "2024-12-27T17:08:27.797779Z",
     "iopub.status.idle": "2024-12-27T17:08:27.947147Z",
     "shell.execute_reply": "2024-12-27T17:08:27.946393Z",
     "shell.execute_reply.started": "2024-12-27T17:08:27.798052Z"
    },
    "trusted": true
   },
   "outputs": [],
   "source": [
    "y_true_final=[]\n",
    "\n",
    "for i in Y_test:\n",
    "  # print(i)\n",
    "  y_true_final.append(MinMax_Loaded.inverse_transform(np.array(i).reshape(-1,1))[0,0])\n"
   ]
  },
  {
   "cell_type": "code",
   "execution_count": 850,
   "metadata": {
    "execution": {
     "iopub.execute_input": "2024-12-27T17:48:52.669413Z",
     "iopub.status.busy": "2024-12-27T17:48:52.669004Z",
     "iopub.status.idle": "2024-12-27T17:48:52.675828Z",
     "shell.execute_reply": "2024-12-27T17:48:52.674808Z",
     "shell.execute_reply.started": "2024-12-27T17:48:52.669380Z"
    },
    "trusted": true
   },
   "outputs": [
    {
     "data": {
      "text/plain": [
       "(28.4, 164.64227, 28.4, array([28.154232], dtype=float32))"
      ]
     },
     "execution_count": 850,
     "metadata": {},
     "output_type": "execute_result"
    }
   ],
   "source": [
    "y_true_final[0], y_pred_final[0], Y_test[0],y_prediction_x[0]"
   ]
  },
  {
   "cell_type": "code",
   "execution_count": 730,
   "metadata": {
    "execution": {
     "iopub.execute_input": "2024-12-27T16:28:00.778268Z",
     "iopub.status.busy": "2024-12-27T16:28:00.777883Z",
     "iopub.status.idle": "2024-12-27T16:28:00.783331Z",
     "shell.execute_reply": "2024-12-27T16:28:00.782605Z",
     "shell.execute_reply.started": "2024-12-27T16:28:00.778231Z"
    },
    "trusted": true
   },
   "outputs": [
    {
     "data": {
      "text/plain": [
       "3028"
      ]
     },
     "execution_count": 730,
     "metadata": {},
     "output_type": "execute_result"
    }
   ],
   "source": [
    "len(y_true_final)"
   ]
  },
  {
   "cell_type": "code",
   "execution_count": 410,
   "metadata": {
    "execution": {
     "iopub.execute_input": "2024-12-28T08:39:46.933663Z",
     "iopub.status.busy": "2024-12-28T08:39:46.933217Z",
     "iopub.status.idle": "2024-12-28T08:39:46.940350Z",
     "shell.execute_reply": "2024-12-28T08:39:46.939631Z",
     "shell.execute_reply.started": "2024-12-28T08:39:46.933619Z"
    },
    "trusted": true
   },
   "outputs": [
    {
     "data": {
      "text/plain": [
       "2.565570408730117"
      ]
     },
     "execution_count": 410,
     "metadata": {},
     "output_type": "execute_result"
    }
   ],
   "source": [
    "mean_squared_error(Y_test,y_prediction_x)"
   ]
  },
  {
   "cell_type": "code",
   "execution_count": 386,
   "metadata": {
    "execution": {
     "iopub.execute_input": "2024-12-27T12:13:31.240080Z",
     "iopub.status.busy": "2024-12-27T12:13:31.239722Z",
     "iopub.status.idle": "2024-12-27T12:13:31.246098Z",
     "shell.execute_reply": "2024-12-27T12:13:31.244775Z",
     "shell.execute_reply.started": "2024-12-27T12:13:31.240042Z"
    },
    "trusted": true
   },
   "outputs": [
    {
     "data": {
      "text/plain": [
       "3028"
      ]
     },
     "execution_count": 386,
     "metadata": {},
     "output_type": "execute_result"
    }
   ],
   "source": [
    "len(y_true_final)"
   ]
  },
  {
   "cell_type": "code",
   "execution_count": 254,
   "metadata": {
    "execution": {
     "iopub.execute_input": "2024-12-28T07:20:43.540995Z",
     "iopub.status.busy": "2024-12-28T07:20:43.540614Z",
     "iopub.status.idle": "2024-12-28T07:20:43.889065Z",
     "shell.execute_reply": "2024-12-28T07:20:43.888108Z",
     "shell.execute_reply.started": "2024-12-28T07:20:43.540953Z"
    },
    "trusted": true
   },
   "outputs": [
    {
     "data": {
      "image/png": "[encoded data removed]",
      "text/plain": [
       "<Figure size 640x480 with 1 Axes>"
      ]
     },
     "metadata": {},
     "output_type": "display_data"
    }
   ],
   "source": [
    "\n",
    "\n",
    "# Plot the two arrays\n",
    "import matplotlib.pyplot as plt\n",
    "\n",
    "plt.plot(Y_test, label=\"Actual Temperature\")\n",
    "plt.plot(y_prediction_x, label=\"Predicted Temperature\")\n",
    "plt.legend()\n",
    "plt.xlabel(\"Days\")\n",
    "plt.ylabel(\"Temperature\")\n",
    "plt.title(\"Actual vs Predicted Temperature\")\n",
    "plt.show()\n"
   ]
  },
  {
   "cell_type": "code",
   "execution_count": 411,
   "metadata": {
    "execution": {
     "iopub.execute_input": "2024-12-28T08:40:01.883470Z",
     "iopub.status.busy": "2024-12-28T08:40:01.883169Z",
     "iopub.status.idle": "2024-12-28T08:40:01.887839Z",
     "shell.execute_reply": "2024-12-28T08:40:01.887050Z",
     "shell.execute_reply.started": "2024-12-28T08:40:01.883445Z"
    },
    "trusted": true
   },
   "outputs": [],
   "source": [
    "import pickle as pkl\n",
    "\n",
    "pkl.dump(MinMax,open(\"MinMaxScaler_min.pkl\",'wb'))"
   ]
  },
  {
   "cell_type": "code",
   "execution_count": 66,
   "metadata": {
    "execution": {
     "iopub.execute_input": "2024-12-28T06:36:11.060400Z",
     "iopub.status.busy": "2024-12-28T06:36:11.060076Z",
     "iopub.status.idle": "2024-12-28T06:36:11.064761Z",
     "shell.execute_reply": "2024-12-28T06:36:11.063813Z",
     "shell.execute_reply.started": "2024-12-28T06:36:11.060374Z"
    },
    "trusted": true
   },
   "outputs": [],
   "source": [
    "MinMax_Loaded=pkl.load(open(\"/kaggle/working/MinMax_Avg.pkl\",\"rb\"))"
   ]
  },
  {
   "cell_type": "markdown",
   "metadata": {},
   "source": [
    "# EVALUTION "
   ]
  },
  {
   "cell_type": "code",
   "execution_count": 412,
   "metadata": {
    "execution": {
     "iopub.execute_input": "2024-12-28T08:40:04.138260Z",
     "iopub.status.busy": "2024-12-28T08:40:04.137895Z",
     "iopub.status.idle": "2024-12-28T08:40:04.142225Z",
     "shell.execute_reply": "2024-12-28T08:40:04.141143Z",
     "shell.execute_reply.started": "2024-12-28T08:40:04.138227Z"
    },
    "trusted": true
   },
   "outputs": [],
   "source": [
    "from sklearn.metrics import mean_squared_error,mean_absolute_error,median_absolute_error\n"
   ]
  },
  {
   "cell_type": "code",
   "execution_count": 413,
   "metadata": {
    "execution": {
     "iopub.execute_input": "2024-12-28T08:40:04.798543Z",
     "iopub.status.busy": "2024-12-28T08:40:04.798203Z",
     "iopub.status.idle": "2024-12-28T08:40:04.803139Z",
     "shell.execute_reply": "2024-12-28T08:40:04.802175Z",
     "shell.execute_reply.started": "2024-12-28T08:40:04.798513Z"
    },
    "trusted": true
   },
   "outputs": [],
   "source": [
    "def model_evaluation(y_true, y_pred):\n",
    "    \"\"\"Compute evaluation metrics.\"\"\"\n",
    "    mse = mean_squared_error(y_true, y_pred)\n",
    "    mae=mean_absolute_error(y_true,y_pred)\n",
    "    medianae=median_absolute_error(y_true,y_pred)\n",
    "    \n",
    "    \n",
    "    metrics = {\n",
    "        \"Mean Sqaured Error\": mse,\n",
    "        \"Mean Absolute Error\": mae,\n",
    "        \"Median Absolute Error\": medianae\n",
    "    }\n",
    "    return metrics"
   ]
  },
  {
   "cell_type": "code",
   "execution_count": 414,
   "metadata": {
    "execution": {
     "iopub.execute_input": "2024-12-28T08:40:05.125146Z",
     "iopub.status.busy": "2024-12-28T08:40:05.124713Z",
     "iopub.status.idle": "2024-12-28T08:40:05.131208Z",
     "shell.execute_reply": "2024-12-28T08:40:05.130246Z",
     "shell.execute_reply.started": "2024-12-28T08:40:05.125106Z"
    },
    "trusted": true
   },
   "outputs": [],
   "source": [
    "def display_metrics(metrics, save_path=None):\n",
    "    \"\"\"Stylishly display metrics using Matplotlib and optionally save the plot.\"\"\"\n",
    "    fig, ax = plt.subplots(figsize=(10, 4))\n",
    "    ax.barh(list(metrics.keys()), list(metrics.values()), color=\"skyblue\")\n",
    "    ax.set_title(\"Model Evaluation Metrics\", fontsize=16, fontweight=\"bold\")\n",
    "    ax.set_xlabel(\"Scores\", fontsize=12)\n",
    "    ax.set_xlim(0, 4)\n",
    "    for i, v in enumerate(metrics.values()):\n",
    "        ax.text(v + 0.01, i, f\"{v:.2f}\", color=\"black\", va=\"center\", fontsize=10)\n",
    "    plt.tight_layout()\n",
    "    \n",
    "    # Save the plot if a save path is provided\n",
    "    if save_path:\n",
    "        fig.savefig(save_path, dpi=300, bbox_inches=\"tight\")\n",
    "        print(f\"Metrics plot saved to {save_path}\")\n",
    "    plt.show()"
   ]
  },
  {
   "cell_type": "code",
   "execution_count": 415,
   "metadata": {
    "execution": {
     "iopub.execute_input": "2024-12-28T08:40:06.488246Z",
     "iopub.status.busy": "2024-12-28T08:40:06.487901Z",
     "iopub.status.idle": "2024-12-28T08:40:07.196731Z",
     "shell.execute_reply": "2024-12-28T08:40:07.196082Z",
     "shell.execute_reply.started": "2024-12-28T08:40:06.488217Z"
    },
    "trusted": true
   },
   "outputs": [
    {
     "name": "stdout",
     "output_type": "stream",
     "text": [
      "\u001b[1m88/88\u001b[0m \u001b[32m━━━━━━━━━━━━━━━━━━━━\u001b[0m\u001b[37m\u001b[0m \u001b[1m1s\u001b[0m 7ms/step\n"
     ]
    }
   ],
   "source": [
    "y_prediction_x=best_model.predict(np.array(X_test).reshape(-1,window_size,1))"
   ]
  },
  {
   "cell_type": "code",
   "execution_count": 420,
   "metadata": {
    "execution": {
     "iopub.execute_input": "2024-12-28T09:34:04.125700Z",
     "iopub.status.busy": "2024-12-28T09:34:04.125421Z",
     "iopub.status.idle": "2024-12-28T09:34:04.132530Z",
     "shell.execute_reply": "2024-12-28T09:34:04.131387Z",
     "shell.execute_reply.started": "2024-12-28T09:34:04.125678Z"
    },
    "trusted": true
   },
   "outputs": [
    {
     "data": {
      "text/plain": [
       "0.9278844664625172"
      ]
     },
     "execution_count": 420,
     "metadata": {},
     "output_type": "execute_result"
    }
   ],
   "source": [
    "r2_score(Y_test[:30],y_prediction_x[:30])"
   ]
  },
  {
   "cell_type": "markdown",
   "metadata": {},
   "source": [
    "## ALL MODEL EVALUTION"
   ]
  },
  {
   "cell_type": "markdown",
   "metadata": {},
   "source": []
  },
  {
   "cell_type": "code",
   "execution_count": 530,
   "metadata": {
    "execution": {
     "iopub.execute_input": "2024-12-28T10:13:33.564094Z",
     "iopub.status.busy": "2024-12-28T10:13:33.563779Z",
     "iopub.status.idle": "2024-12-28T10:13:33.567870Z",
     "shell.execute_reply": "2024-12-28T10:13:33.566925Z",
     "shell.execute_reply.started": "2024-12-28T10:13:33.564067Z"
    },
    "trusted": true
   },
   "outputs": [],
   "source": [
    "from sklearn.metrics import mean_squared_error,mean_absolute_error,median_absolute_error\n"
   ]
  },
  {
   "cell_type": "code",
   "execution_count": 489,
   "metadata": {
    "execution": {
     "iopub.execute_input": "2024-12-28T09:57:39.150697Z",
     "iopub.status.busy": "2024-12-28T09:57:39.150400Z",
     "iopub.status.idle": "2024-12-28T09:57:39.158664Z",
     "shell.execute_reply": "2024-12-28T09:57:39.157593Z",
     "shell.execute_reply.started": "2024-12-28T09:57:39.150674Z"
    },
    "trusted": true
   },
   "outputs": [],
   "source": [
    "from meteostat import Point, Daily\n",
    "import datetime\n",
    "\n",
    "def prepare_data(feature,scaler):    \n",
    "    location = Point( 23.0215374, 72.5800568)\n",
    "    start = datetime.datetime(1990, 6, 1)\n",
    "    end = datetime.datetime(2024, 6, 1)\n",
    "    \n",
    "    # Get historical data\n",
    "    data = Daily(location, start, end)\n",
    "    data = data.fetch()\n",
    "    \n",
    "    \n",
    "    temperature_avg=data[feature]\n",
    "    print(\"TOTAL NULL VALUES IN DATASET:\",temperature_avg.isnull().sum())\n",
    "    temperature_avg.dropna(inplace=True)\n",
    "    \n",
    "    temperature_avg_seq=temperature_avg.values\n",
    "    print(temperature_avg_seq,temperature_avg_seq.shape)\n",
    "    \n",
    "    \n",
    "    \n",
    "    window_size=100\n",
    "    \n",
    "    X=[]\n",
    "    Y=[]\n",
    "    for i in range(len(temperature_avg_seq)-window_size):\n",
    "      X.append(temperature_avg_seq[i:i+window_size])\n",
    "      Y.append(temperature_avg_seq[i+window_size])\n",
    "    \n",
    "    X=np.array(X)\n",
    "    Y=np.array(Y)\n",
    "\n",
    "    X_train,X_test,Y_train,Y_test=train_test_split(X,Y,test_size=0.3,random_state=42)\n",
    "\n",
    "    print(\"X_train Shape\",X_train.shape)\n",
    "    print(\"X_test Shape\",X_test.shape)\n",
    "    print(\"Y_train Shape\",Y_train.shape)\n",
    "    print(\"Y_test Shape\",Y_test.shape)\n",
    "\n",
    "\n",
    "    X_train_Scaled=scaler.transform(X_train.reshape(-1,1))\n",
    "    X_test_Scaled=scaler.transform(X_test.reshape(-1,1))\n",
    "\n",
    "    X_train=X_train_Scaled.reshape(X_train.shape[0],100)\n",
    "    X_test=X_test_Scaled.reshape(X_test.shape[0],100)\n",
    "\n",
    "    \n",
    "    print(\"AFTER SCALED\")\n",
    "    print(\"X_train Shape\",X_train.shape)\n",
    "    print(\"X_test Shape\",X_test.shape)\n",
    "    print(\"Y_train Shape\",Y_train.shape)\n",
    "    print(\"Y_test Shape\",Y_test.shape)\n",
    "    \n",
    "\n",
    "\n",
    "\n",
    "\n",
    "    \n",
    "    return X_train,X_test,Y_train,Y_test"
   ]
  },
  {
   "cell_type": "code",
   "execution_count": 533,
   "metadata": {
    "execution": {
     "iopub.execute_input": "2024-12-28T10:15:36.040829Z",
     "iopub.status.busy": "2024-12-28T10:15:36.040514Z",
     "iopub.status.idle": "2024-12-28T10:15:36.045114Z",
     "shell.execute_reply": "2024-12-28T10:15:36.044110Z",
     "shell.execute_reply.started": "2024-12-28T10:15:36.040803Z"
    },
    "trusted": true
   },
   "outputs": [],
   "source": [
    "def model_evaluation(y_true, y_pred):\n",
    "    \"\"\"Compute evaluation metrics.\"\"\"\n",
    "    mse = mean_squared_error(y_true, y_pred)\n",
    "    mae=mean_absolute_error(y_true,y_pred)\n",
    "    medianae=median_absolute_error(y_true,y_pred)\n",
    "    \n",
    "    \n",
    "    metrics = {\n",
    "        \"Mean Sqaured Error\": mse,\n",
    "        \"Mean Absolute Error\": mae,\n",
    "        \"Median Absolute Error\": medianae\n",
    "    }\n",
    "    return metrics"
   ]
  },
  {
   "cell_type": "code",
   "execution_count": 570,
   "metadata": {
    "execution": {
     "iopub.execute_input": "2024-12-28T10:23:54.038071Z",
     "iopub.status.busy": "2024-12-28T10:23:54.037723Z",
     "iopub.status.idle": "2024-12-28T10:23:54.045266Z",
     "shell.execute_reply": "2024-12-28T10:23:54.044139Z",
     "shell.execute_reply.started": "2024-12-28T10:23:54.038028Z"
    },
    "trusted": true
   },
   "outputs": [],
   "source": [
    "\n",
    "def display_all_metrics(metrics_dicts, features):\n",
    "   \n",
    "    fig, ax = plt.subplots(figsize=(12, 6))\n",
    " \n",
    "    num_groups = len(metrics_dicts)\n",
    "    bar_width = 0.15\n",
    "    indices = np.arange(len(metrics_dicts[0])) \n",
    "    \n",
    "    \n",
    "    for i, (metrics, feature) in enumerate(zip(metrics_dicts, features)):\n",
    "        bar_positions = indices + i * bar_width\n",
    "        ax.barh(bar_positions, list(metrics.values()), bar_width, label=feature)\n",
    " \n",
    "        for j, v in enumerate(metrics.values()):\n",
    "            ax.text(v + 0.01, bar_positions[j], f\"{v:.2f}\", va=\"center\", fontsize=9)\n",
    "    \n",
    " \n",
    "    ax.set_title(\"Model Evaluation Metrics\", fontsize=16, fontweight=\"bold\")\n",
    "    ax.set_xlabel(\"Scores\", fontsize=12)\n",
    "    ax.set_xlim(0, 4) \n",
    "    ax.set_yticks(indices + (num_groups - 1) * bar_width / 2)\n",
    "    ax.set_yticklabels(metrics_dicts[0].keys(), fontsize=10)\n",
    "    ax.legend(loc=\"best\", title=\"Feature Sets\", fontsize=10)\n",
    "    \n",
    "    plt.tight_layout()\n",
    "    plt.show()\n"
   ]
  },
  {
   "cell_type": "markdown",
   "metadata": {},
   "source": [
    "## 1. TEMPERATURE AVERAGE"
   ]
  },
  {
   "cell_type": "markdown",
   "metadata": {},
   "source": [
    "## MIN MAX SCALER"
   ]
  },
  {
   "cell_type": "code",
   "execution_count": 534,
   "metadata": {
    "execution": {
     "iopub.execute_input": "2024-12-28T10:15:39.591376Z",
     "iopub.status.busy": "2024-12-28T10:15:39.591079Z",
     "iopub.status.idle": "2024-12-28T10:15:39.796643Z",
     "shell.execute_reply": "2024-12-28T10:15:39.795933Z",
     "shell.execute_reply.started": "2024-12-28T10:15:39.591353Z"
    },
    "trusted": true
   },
   "outputs": [],
   "source": [
    "from tensorflow.keras.models import load_model\n",
    "best_model=load_model(\"/kaggle/working/temperature_best_avg_MinMax.keras\")\n",
    "# best_model.save(\"upgraded_naive_model_best_avg.h5\")\n"
   ]
  },
  {
   "cell_type": "code",
   "execution_count": 535,
   "metadata": {
    "execution": {
     "iopub.execute_input": "2024-12-28T10:15:40.219618Z",
     "iopub.status.busy": "2024-12-28T10:15:40.219219Z",
     "iopub.status.idle": "2024-12-28T10:15:40.224255Z",
     "shell.execute_reply": "2024-12-28T10:15:40.223336Z",
     "shell.execute_reply.started": "2024-12-28T10:15:40.219579Z"
    },
    "trusted": true
   },
   "outputs": [],
   "source": [
    "MinMax_Avg=pkl.load(open(\"/kaggle/working/MinMax_Avg_MinMax.pkl\",\"rb\"))"
   ]
  },
  {
   "cell_type": "code",
   "execution_count": 536,
   "metadata": {
    "execution": {
     "iopub.execute_input": "2024-12-28T10:15:41.826881Z",
     "iopub.status.busy": "2024-12-28T10:15:41.826587Z",
     "iopub.status.idle": "2024-12-28T10:15:41.898284Z",
     "shell.execute_reply": "2024-12-28T10:15:41.897512Z",
     "shell.execute_reply.started": "2024-12-28T10:15:41.826856Z"
    },
    "trusted": true
   },
   "outputs": [
    {
     "name": "stdout",
     "output_type": "stream",
     "text": [
      "TOTAL NULL VALUES IN DATASET: 48\n",
      "[30.1 32.  32.1 ... 34.3 34.4 34.5] (12372,)\n",
      "X_train Shape (8590, 100)\n",
      "X_test Shape (3682, 100)\n",
      "Y_train Shape (8590,)\n",
      "Y_test Shape (3682,)\n",
      "AFTER SCALED\n",
      "X_train Shape (8590, 100)\n",
      "X_test Shape (3682, 100)\n",
      "Y_train Shape (8590,)\n",
      "Y_test Shape (3682,)\n"
     ]
    }
   ],
   "source": [
    "X_train,X_test,Y_train,Y_test=prepare_data(\"tavg\",MinMax_Avg)"
   ]
  },
  {
   "cell_type": "code",
   "execution_count": 537,
   "metadata": {
    "execution": {
     "iopub.execute_input": "2024-12-28T10:15:43.194919Z",
     "iopub.status.busy": "2024-12-28T10:15:43.194641Z",
     "iopub.status.idle": "2024-12-28T10:15:44.623094Z",
     "shell.execute_reply": "2024-12-28T10:15:44.622396Z",
     "shell.execute_reply.started": "2024-12-28T10:15:43.194897Z"
    },
    "trusted": true
   },
   "outputs": [
    {
     "name": "stdout",
     "output_type": "stream",
     "text": [
      "\u001b[1m116/116\u001b[0m \u001b[32m━━━━━━━━━━━━━━━━━━━━\u001b[0m\u001b[37m\u001b[0m \u001b[1m1s\u001b[0m 9ms/step\n"
     ]
    }
   ],
   "source": [
    "y_prediction_x=best_model.predict(np.array(X_test).reshape(-1,window_size,1))"
   ]
  },
  {
   "cell_type": "code",
   "execution_count": 538,
   "metadata": {
    "execution": {
     "iopub.execute_input": "2024-12-28T10:15:46.318164Z",
     "iopub.status.busy": "2024-12-28T10:15:46.317840Z",
     "iopub.status.idle": "2024-12-28T10:15:46.323857Z",
     "shell.execute_reply": "2024-12-28T10:15:46.322883Z",
     "shell.execute_reply.started": "2024-12-28T10:15:46.318137Z"
    },
    "trusted": true
   },
   "outputs": [
    {
     "data": {
      "text/plain": [
       "(array([28.638676], dtype=float32), 29.3)"
      ]
     },
     "execution_count": 538,
     "metadata": {},
     "output_type": "execute_result"
    }
   ],
   "source": [
    "y_prediction_x[0],Y_test[0]"
   ]
  },
  {
   "cell_type": "code",
   "execution_count": 539,
   "metadata": {
    "execution": {
     "iopub.execute_input": "2024-12-28T10:16:27.379762Z",
     "iopub.status.busy": "2024-12-28T10:16:27.379475Z",
     "iopub.status.idle": "2024-12-28T10:16:27.387273Z",
     "shell.execute_reply": "2024-12-28T10:16:27.386366Z",
     "shell.execute_reply.started": "2024-12-28T10:16:27.379740Z"
    },
    "trusted": true
   },
   "outputs": [
    {
     "name": "stdout",
     "output_type": "stream",
     "text": [
      "MEAN SQAURED ERROR: 1.4699073893118446\n"
     ]
    }
   ],
   "source": [
    "from sklearn.metrics import mean_squared_error\n",
    "print(\"MEAN SQAURED ERROR:\",mean_squared_error(Y_test,y_prediction_x))\n",
    "\n",
    "temp_avg_minmax=model_evaluation(Y_test,y_prediction_x)"
   ]
  },
  {
   "cell_type": "markdown",
   "metadata": {},
   "source": [
    "## STANDARD SCALER"
   ]
  },
  {
   "cell_type": "code",
   "execution_count": 540,
   "metadata": {
    "execution": {
     "iopub.execute_input": "2024-12-28T10:16:33.849981Z",
     "iopub.status.busy": "2024-12-28T10:16:33.849703Z",
     "iopub.status.idle": "2024-12-28T10:16:34.052140Z",
     "shell.execute_reply": "2024-12-28T10:16:34.051273Z",
     "shell.execute_reply.started": "2024-12-28T10:16:33.849958Z"
    },
    "trusted": true
   },
   "outputs": [],
   "source": [
    "from tensorflow.keras.models import load_model\n",
    "best_model=load_model(\"/kaggle/working/temperature_best_avg.keras\")\n",
    "# best_model.save(\"upgraded_naive_model_best_avg.h5\")\n"
   ]
  },
  {
   "cell_type": "code",
   "execution_count": 541,
   "metadata": {
    "execution": {
     "iopub.execute_input": "2024-12-28T10:16:34.337928Z",
     "iopub.status.busy": "2024-12-28T10:16:34.337663Z",
     "iopub.status.idle": "2024-12-28T10:16:34.342203Z",
     "shell.execute_reply": "2024-12-28T10:16:34.341402Z",
     "shell.execute_reply.started": "2024-12-28T10:16:34.337905Z"
    },
    "trusted": true
   },
   "outputs": [],
   "source": [
    "Standard_Avg=pkl.load(open(\"/kaggle/working/MinMax_Avg.pkl\",\"rb\"))"
   ]
  },
  {
   "cell_type": "code",
   "execution_count": 542,
   "metadata": {
    "execution": {
     "iopub.execute_input": "2024-12-28T10:16:35.568318Z",
     "iopub.status.busy": "2024-12-28T10:16:35.567946Z",
     "iopub.status.idle": "2024-12-28T10:16:35.637623Z",
     "shell.execute_reply": "2024-12-28T10:16:35.636722Z",
     "shell.execute_reply.started": "2024-12-28T10:16:35.568292Z"
    },
    "trusted": true
   },
   "outputs": [
    {
     "name": "stdout",
     "output_type": "stream",
     "text": [
      "TOTAL NULL VALUES IN DATASET: 48\n",
      "[30.1 32.  32.1 ... 34.3 34.4 34.5] (12372,)\n",
      "X_train Shape (8590, 100)\n",
      "X_test Shape (3682, 100)\n",
      "Y_train Shape (8590,)\n",
      "Y_test Shape (3682,)\n",
      "AFTER SCALED\n",
      "X_train Shape (8590, 100)\n",
      "X_test Shape (3682, 100)\n",
      "Y_train Shape (8590,)\n",
      "Y_test Shape (3682,)\n"
     ]
    }
   ],
   "source": [
    "X_train,X_test,Y_train,Y_test=prepare_data(\"tavg\",Standard_Avg)"
   ]
  },
  {
   "cell_type": "code",
   "execution_count": 544,
   "metadata": {
    "execution": {
     "iopub.execute_input": "2024-12-28T10:16:44.102520Z",
     "iopub.status.busy": "2024-12-28T10:16:44.102202Z",
     "iopub.status.idle": "2024-12-28T10:16:44.966689Z",
     "shell.execute_reply": "2024-12-28T10:16:44.965721Z",
     "shell.execute_reply.started": "2024-12-28T10:16:44.102492Z"
    },
    "trusted": true
   },
   "outputs": [
    {
     "name": "stdout",
     "output_type": "stream",
     "text": [
      "\u001b[1m116/116\u001b[0m \u001b[32m━━━━━━━━━━━━━━━━━━━━\u001b[0m\u001b[37m\u001b[0m \u001b[1m1s\u001b[0m 7ms/step\n"
     ]
    }
   ],
   "source": [
    "y_prediction_x=best_model.predict(np.array(X_test).reshape(-1,window_size,1))"
   ]
  },
  {
   "cell_type": "code",
   "execution_count": 545,
   "metadata": {
    "execution": {
     "iopub.execute_input": "2024-12-28T10:16:55.778885Z",
     "iopub.status.busy": "2024-12-28T10:16:55.778573Z",
     "iopub.status.idle": "2024-12-28T10:16:55.786668Z",
     "shell.execute_reply": "2024-12-28T10:16:55.785733Z",
     "shell.execute_reply.started": "2024-12-28T10:16:55.778861Z"
    },
    "trusted": true
   },
   "outputs": [
    {
     "name": "stdout",
     "output_type": "stream",
     "text": [
      "MEAN SQAURED ERROR: 1.3862552974219862\n"
     ]
    }
   ],
   "source": [
    "from sklearn.metrics import mean_squared_error\n",
    "print(\"MEAN SQAURED ERROR:\",mean_squared_error(Y_test,y_prediction_x))\n",
    "\n",
    "\n",
    "temp_avg_Standard=model_evaluation(Y_test,y_prediction_x)"
   ]
  },
  {
   "cell_type": "markdown",
   "metadata": {},
   "source": [
    "# 2.TEMPERATURE MINIMUM "
   ]
  },
  {
   "cell_type": "markdown",
   "metadata": {},
   "source": [
    "## 1.MINMAX SCALER "
   ]
  },
  {
   "cell_type": "code",
   "execution_count": 546,
   "metadata": {
    "execution": {
     "iopub.execute_input": "2024-12-28T10:17:00.210381Z",
     "iopub.status.busy": "2024-12-28T10:17:00.210070Z",
     "iopub.status.idle": "2024-12-28T10:17:00.416149Z",
     "shell.execute_reply": "2024-12-28T10:17:00.415242Z",
     "shell.execute_reply.started": "2024-12-28T10:17:00.210354Z"
    },
    "trusted": true
   },
   "outputs": [],
   "source": [
    "from tensorflow.keras.models import load_model\n",
    "best_model=load_model(\"/kaggle/working/temperature_best_min_MinMax.keras\")\n",
    "# best_model.save(\"upgraded_naive_model_best_avg.h5\")\n"
   ]
  },
  {
   "cell_type": "code",
   "execution_count": 547,
   "metadata": {
    "execution": {
     "iopub.execute_input": "2024-12-28T10:17:00.691950Z",
     "iopub.status.busy": "2024-12-28T10:17:00.691657Z",
     "iopub.status.idle": "2024-12-28T10:17:00.696275Z",
     "shell.execute_reply": "2024-12-28T10:17:00.695549Z",
     "shell.execute_reply.started": "2024-12-28T10:17:00.691921Z"
    },
    "trusted": true
   },
   "outputs": [],
   "source": [
    "MinMax_Avg=pkl.load(open(\"/kaggle/working/MinMaxScaler_min.pkl\",\"rb\"))"
   ]
  },
  {
   "cell_type": "code",
   "execution_count": 548,
   "metadata": {
    "execution": {
     "iopub.execute_input": "2024-12-28T10:17:01.224730Z",
     "iopub.status.busy": "2024-12-28T10:17:01.224451Z",
     "iopub.status.idle": "2024-12-28T10:17:01.290985Z",
     "shell.execute_reply": "2024-12-28T10:17:01.290167Z",
     "shell.execute_reply.started": "2024-12-28T10:17:01.224707Z"
    },
    "trusted": true
   },
   "outputs": [
    {
     "name": "stdout",
     "output_type": "stream",
     "text": [
      "TOTAL NULL VALUES IN DATASET: 3011\n",
      "[23.6 27.6 27.6 ... 30.  30.  30. ] (9409,)\n",
      "X_train Shape (6516, 100)\n",
      "X_test Shape (2793, 100)\n",
      "Y_train Shape (6516,)\n",
      "Y_test Shape (2793,)\n",
      "AFTER SCALED\n",
      "X_train Shape (6516, 100)\n",
      "X_test Shape (2793, 100)\n",
      "Y_train Shape (6516,)\n",
      "Y_test Shape (2793,)\n"
     ]
    }
   ],
   "source": [
    "X_train,X_test,Y_train,Y_test=prepare_data(\"tmin\",MinMax_Avg)"
   ]
  },
  {
   "cell_type": "code",
   "execution_count": 549,
   "metadata": {
    "execution": {
     "iopub.execute_input": "2024-12-28T10:17:06.482993Z",
     "iopub.status.busy": "2024-12-28T10:17:06.482669Z",
     "iopub.status.idle": "2024-12-28T10:17:07.697249Z",
     "shell.execute_reply": "2024-12-28T10:17:07.696498Z",
     "shell.execute_reply.started": "2024-12-28T10:17:06.482967Z"
    },
    "trusted": true
   },
   "outputs": [
    {
     "name": "stdout",
     "output_type": "stream",
     "text": [
      "\u001b[1m88/88\u001b[0m \u001b[32m━━━━━━━━━━━━━━━━━━━━\u001b[0m\u001b[37m\u001b[0m \u001b[1m1s\u001b[0m 10ms/step\n"
     ]
    }
   ],
   "source": [
    "y_prediction_x=best_model.predict(np.array(X_test).reshape(-1,window_size,1))"
   ]
  },
  {
   "cell_type": "code",
   "execution_count": 550,
   "metadata": {
    "execution": {
     "iopub.execute_input": "2024-12-28T10:17:20.686474Z",
     "iopub.status.busy": "2024-12-28T10:17:20.686161Z",
     "iopub.status.idle": "2024-12-28T10:17:20.693924Z",
     "shell.execute_reply": "2024-12-28T10:17:20.693113Z",
     "shell.execute_reply.started": "2024-12-28T10:17:20.686447Z"
    },
    "trusted": true
   },
   "outputs": [
    {
     "name": "stdout",
     "output_type": "stream",
     "text": [
      "MEAN SQAURED ERROR: 2.565570408730117\n"
     ]
    }
   ],
   "source": [
    "from sklearn.metrics import mean_squared_error\n",
    "print(\"MEAN SQAURED ERROR:\",mean_squared_error(Y_test,y_prediction_x))\n",
    "\n",
    "\n",
    "\n",
    "temp_min_minmax=model_evaluation(Y_test,y_prediction_x)"
   ]
  },
  {
   "cell_type": "markdown",
   "metadata": {},
   "source": [
    "## 2. Standard Scaler"
   ]
  },
  {
   "cell_type": "code",
   "execution_count": 551,
   "metadata": {
    "execution": {
     "iopub.execute_input": "2024-12-28T10:17:24.376888Z",
     "iopub.status.busy": "2024-12-28T10:17:24.376612Z",
     "iopub.status.idle": "2024-12-28T10:17:24.580459Z",
     "shell.execute_reply": "2024-12-28T10:17:24.579529Z",
     "shell.execute_reply.started": "2024-12-28T10:17:24.376867Z"
    },
    "trusted": true
   },
   "outputs": [],
   "source": [
    "from tensorflow.keras.models import load_model\n",
    "best_model=load_model(\"/kaggle/working/temperature_best_min_StandardScaler.keras\")\n",
    "# best_model.save(\"upgraded_naive_model_best_avg.h5\")\n"
   ]
  },
  {
   "cell_type": "code",
   "execution_count": 552,
   "metadata": {
    "execution": {
     "iopub.execute_input": "2024-12-28T10:17:24.793914Z",
     "iopub.status.busy": "2024-12-28T10:17:24.793647Z",
     "iopub.status.idle": "2024-12-28T10:17:24.797863Z",
     "shell.execute_reply": "2024-12-28T10:17:24.797133Z",
     "shell.execute_reply.started": "2024-12-28T10:17:24.793892Z"
    },
    "trusted": true
   },
   "outputs": [],
   "source": [
    "Standard_Avg=pkl.load(open(\"/kaggle/working/StandardScaler_min.pkl\",\"rb\"))"
   ]
  },
  {
   "cell_type": "code",
   "execution_count": 553,
   "metadata": {
    "execution": {
     "iopub.execute_input": "2024-12-28T10:17:25.083900Z",
     "iopub.status.busy": "2024-12-28T10:17:25.083596Z",
     "iopub.status.idle": "2024-12-28T10:17:25.147181Z",
     "shell.execute_reply": "2024-12-28T10:17:25.146250Z",
     "shell.execute_reply.started": "2024-12-28T10:17:25.083877Z"
    },
    "trusted": true
   },
   "outputs": [
    {
     "name": "stdout",
     "output_type": "stream",
     "text": [
      "TOTAL NULL VALUES IN DATASET: 3011\n",
      "[23.6 27.6 27.6 ... 30.  30.  30. ] (9409,)\n",
      "X_train Shape (6516, 100)\n",
      "X_test Shape (2793, 100)\n",
      "Y_train Shape (6516,)\n",
      "Y_test Shape (2793,)\n",
      "AFTER SCALED\n",
      "X_train Shape (6516, 100)\n",
      "X_test Shape (2793, 100)\n",
      "Y_train Shape (6516,)\n",
      "Y_test Shape (2793,)\n"
     ]
    }
   ],
   "source": [
    "X_train,X_test,Y_train,Y_test=prepare_data(\"tmin\",Standard_Avg)"
   ]
  },
  {
   "cell_type": "code",
   "execution_count": 554,
   "metadata": {
    "execution": {
     "iopub.execute_input": "2024-12-28T10:17:28.210185Z",
     "iopub.status.busy": "2024-12-28T10:17:28.209820Z",
     "iopub.status.idle": "2024-12-28T10:17:29.452759Z",
     "shell.execute_reply": "2024-12-28T10:17:29.452094Z",
     "shell.execute_reply.started": "2024-12-28T10:17:28.210145Z"
    },
    "trusted": true
   },
   "outputs": [
    {
     "name": "stdout",
     "output_type": "stream",
     "text": [
      "\u001b[1m88/88\u001b[0m \u001b[32m━━━━━━━━━━━━━━━━━━━━\u001b[0m\u001b[37m\u001b[0m \u001b[1m1s\u001b[0m 10ms/step\n"
     ]
    }
   ],
   "source": [
    "y_prediction_x=best_model.predict(np.array(X_test).reshape(-1,window_size,1))"
   ]
  },
  {
   "cell_type": "code",
   "execution_count": 555,
   "metadata": {
    "execution": {
     "iopub.execute_input": "2024-12-28T10:17:45.668802Z",
     "iopub.status.busy": "2024-12-28T10:17:45.668494Z",
     "iopub.status.idle": "2024-12-28T10:17:45.677585Z",
     "shell.execute_reply": "2024-12-28T10:17:45.676552Z",
     "shell.execute_reply.started": "2024-12-28T10:17:45.668777Z"
    },
    "trusted": true
   },
   "outputs": [
    {
     "name": "stdout",
     "output_type": "stream",
     "text": [
      "MEAN SQAURED ERROR: 2.415942131112203\n"
     ]
    }
   ],
   "source": [
    "from sklearn.metrics import mean_squared_error\n",
    "print(\"MEAN SQAURED ERROR:\",mean_squared_error(Y_test,y_prediction_x))\n",
    "\n",
    "\n",
    "temp_min_Standard=model_evaluation(Y_test,y_prediction_x)"
   ]
  },
  {
   "cell_type": "markdown",
   "metadata": {},
   "source": [
    "# 3.TEMPERATURE MAX"
   ]
  },
  {
   "cell_type": "markdown",
   "metadata": {},
   "source": [
    "## 1. MinMax Scaler"
   ]
  },
  {
   "cell_type": "code",
   "execution_count": 556,
   "metadata": {
    "execution": {
     "iopub.execute_input": "2024-12-28T10:17:51.197355Z",
     "iopub.status.busy": "2024-12-28T10:17:51.197058Z",
     "iopub.status.idle": "2024-12-28T10:17:51.404028Z",
     "shell.execute_reply": "2024-12-28T10:17:51.403103Z",
     "shell.execute_reply.started": "2024-12-28T10:17:51.197331Z"
    },
    "trusted": true
   },
   "outputs": [],
   "source": [
    "from tensorflow.keras.models import load_model\n",
    "best_model=load_model(\"/kaggle/working/temperature_best_max_MinMax.keras\")\n",
    "# best_model.save(\"upgraded_naive_model_best_avg.h5\")\n"
   ]
  },
  {
   "cell_type": "code",
   "execution_count": 557,
   "metadata": {
    "execution": {
     "iopub.execute_input": "2024-12-28T10:17:51.614161Z",
     "iopub.status.busy": "2024-12-28T10:17:51.613822Z",
     "iopub.status.idle": "2024-12-28T10:17:51.618147Z",
     "shell.execute_reply": "2024-12-28T10:17:51.617224Z",
     "shell.execute_reply.started": "2024-12-28T10:17:51.614131Z"
    },
    "trusted": true
   },
   "outputs": [],
   "source": [
    "MinMax_Max=pkl.load(open(\"/kaggle/working/MinMax_Max.pkl\",\"rb\"))"
   ]
  },
  {
   "cell_type": "code",
   "execution_count": 558,
   "metadata": {
    "execution": {
     "iopub.execute_input": "2024-12-28T10:17:52.022281Z",
     "iopub.status.busy": "2024-12-28T10:17:52.021953Z",
     "iopub.status.idle": "2024-12-28T10:17:52.087378Z",
     "shell.execute_reply": "2024-12-28T10:17:52.086580Z",
     "shell.execute_reply.started": "2024-12-28T10:17:52.022255Z"
    },
    "trusted": true
   },
   "outputs": [
    {
     "name": "stdout",
     "output_type": "stream",
     "text": [
      "TOTAL NULL VALUES IN DATASET: 2433\n",
      "[37.6 38.2 40.4 ... 43.  42.4 41.6] (9987,)\n",
      "X_train Shape (6920, 100)\n",
      "X_test Shape (2967, 100)\n",
      "Y_train Shape (6920,)\n",
      "Y_test Shape (2967,)\n",
      "AFTER SCALED\n",
      "X_train Shape (6920, 100)\n",
      "X_test Shape (2967, 100)\n",
      "Y_train Shape (6920,)\n",
      "Y_test Shape (2967,)\n"
     ]
    }
   ],
   "source": [
    "X_train,X_test,Y_train,Y_test=prepare_data(\"tmax\",MinMax_Max)"
   ]
  },
  {
   "cell_type": "code",
   "execution_count": 559,
   "metadata": {
    "execution": {
     "iopub.execute_input": "2024-12-28T10:17:53.838180Z",
     "iopub.status.busy": "2024-12-28T10:17:53.837822Z",
     "iopub.status.idle": "2024-12-28T10:17:55.079562Z",
     "shell.execute_reply": "2024-12-28T10:17:55.078684Z",
     "shell.execute_reply.started": "2024-12-28T10:17:53.838147Z"
    },
    "trusted": true
   },
   "outputs": [
    {
     "name": "stdout",
     "output_type": "stream",
     "text": [
      "\u001b[1m93/93\u001b[0m \u001b[32m━━━━━━━━━━━━━━━━━━━━\u001b[0m\u001b[37m\u001b[0m \u001b[1m1s\u001b[0m 10ms/step\n"
     ]
    }
   ],
   "source": [
    "y_prediction_x=best_model.predict(np.array(X_test).reshape(-1,window_size,1))"
   ]
  },
  {
   "cell_type": "code",
   "execution_count": 560,
   "metadata": {
    "execution": {
     "iopub.execute_input": "2024-12-28T10:18:01.376059Z",
     "iopub.status.busy": "2024-12-28T10:18:01.375718Z",
     "iopub.status.idle": "2024-12-28T10:18:01.383898Z",
     "shell.execute_reply": "2024-12-28T10:18:01.383099Z",
     "shell.execute_reply.started": "2024-12-28T10:18:01.376030Z"
    },
    "trusted": true
   },
   "outputs": [
    {
     "name": "stdout",
     "output_type": "stream",
     "text": [
      "MEAN SQAURED ERROR: 2.937895511113981\n"
     ]
    }
   ],
   "source": [
    "from sklearn.metrics import mean_squared_error\n",
    "print(\"MEAN SQAURED ERROR:\",mean_squared_error(Y_test,y_prediction_x))\n",
    "\n",
    "\n",
    "temp_max_minmax=model_evaluation(Y_test,y_prediction_x)"
   ]
  },
  {
   "cell_type": "markdown",
   "metadata": {},
   "source": [
    "## 2. Standard Scaler"
   ]
  },
  {
   "cell_type": "code",
   "execution_count": 561,
   "metadata": {
    "execution": {
     "iopub.execute_input": "2024-12-28T10:18:04.175906Z",
     "iopub.status.busy": "2024-12-28T10:18:04.175631Z",
     "iopub.status.idle": "2024-12-28T10:18:04.377736Z",
     "shell.execute_reply": "2024-12-28T10:18:04.377080Z",
     "shell.execute_reply.started": "2024-12-28T10:18:04.175882Z"
    },
    "trusted": true
   },
   "outputs": [],
   "source": [
    "from tensorflow.keras.models import load_model\n",
    "best_model=load_model(\"/kaggle/working/temperature_best_max_StandardScaler.keras\")\n",
    "# best_model.save(\"upgraded_naive_model_best_avg.h5\")\n"
   ]
  },
  {
   "cell_type": "code",
   "execution_count": 562,
   "metadata": {
    "execution": {
     "iopub.execute_input": "2024-12-28T10:18:04.486947Z",
     "iopub.status.busy": "2024-12-28T10:18:04.486667Z",
     "iopub.status.idle": "2024-12-28T10:18:04.491261Z",
     "shell.execute_reply": "2024-12-28T10:18:04.490375Z",
     "shell.execute_reply.started": "2024-12-28T10:18:04.486925Z"
    },
    "trusted": true
   },
   "outputs": [],
   "source": [
    "Standard_Max=pkl.load(open(\"/kaggle/working/StandardScaler.pkl\",\"rb\"))"
   ]
  },
  {
   "cell_type": "code",
   "execution_count": 563,
   "metadata": {
    "execution": {
     "iopub.execute_input": "2024-12-28T10:18:04.707133Z",
     "iopub.status.busy": "2024-12-28T10:18:04.706826Z",
     "iopub.status.idle": "2024-12-28T10:18:04.770605Z",
     "shell.execute_reply": "2024-12-28T10:18:04.769825Z",
     "shell.execute_reply.started": "2024-12-28T10:18:04.707105Z"
    },
    "trusted": true
   },
   "outputs": [
    {
     "name": "stdout",
     "output_type": "stream",
     "text": [
      "TOTAL NULL VALUES IN DATASET: 2433\n",
      "[37.6 38.2 40.4 ... 43.  42.4 41.6] (9987,)\n",
      "X_train Shape (6920, 100)\n",
      "X_test Shape (2967, 100)\n",
      "Y_train Shape (6920,)\n",
      "Y_test Shape (2967,)\n",
      "AFTER SCALED\n",
      "X_train Shape (6920, 100)\n",
      "X_test Shape (2967, 100)\n",
      "Y_train Shape (6920,)\n",
      "Y_test Shape (2967,)\n"
     ]
    }
   ],
   "source": [
    "X_train,X_test,Y_train,Y_test=prepare_data(\"tmax\",Standard_Max)"
   ]
  },
  {
   "cell_type": "code",
   "execution_count": 564,
   "metadata": {
    "execution": {
     "iopub.execute_input": "2024-12-28T10:18:06.555145Z",
     "iopub.status.busy": "2024-12-28T10:18:06.554815Z",
     "iopub.status.idle": "2024-12-28T10:18:07.857103Z",
     "shell.execute_reply": "2024-12-28T10:18:07.856419Z",
     "shell.execute_reply.started": "2024-12-28T10:18:06.555117Z"
    },
    "trusted": true
   },
   "outputs": [
    {
     "name": "stdout",
     "output_type": "stream",
     "text": [
      "\u001b[1m93/93\u001b[0m \u001b[32m━━━━━━━━━━━━━━━━━━━━\u001b[0m\u001b[37m\u001b[0m \u001b[1m1s\u001b[0m 11ms/step\n"
     ]
    }
   ],
   "source": [
    "y_prediction_x=best_model.predict(np.array(X_test).reshape(-1,window_size,1))"
   ]
  },
  {
   "cell_type": "code",
   "execution_count": 565,
   "metadata": {
    "execution": {
     "iopub.execute_input": "2024-12-28T10:18:20.994720Z",
     "iopub.status.busy": "2024-12-28T10:18:20.994428Z",
     "iopub.status.idle": "2024-12-28T10:18:21.002340Z",
     "shell.execute_reply": "2024-12-28T10:18:21.001339Z",
     "shell.execute_reply.started": "2024-12-28T10:18:20.994694Z"
    },
    "trusted": true
   },
   "outputs": [
    {
     "name": "stdout",
     "output_type": "stream",
     "text": [
      "MEAN SQAURED ERROR: 2.6217363697288256\n"
     ]
    }
   ],
   "source": [
    "from sklearn.metrics import mean_squared_error\n",
    "print(\"MEAN SQAURED ERROR:\",mean_squared_error(Y_test,y_prediction_x))\n",
    "\n",
    "\n",
    "temp_max_standard=model_evaluation(Y_test,y_prediction_x)"
   ]
  },
  {
   "cell_type": "markdown",
   "metadata": {},
   "source": [
    "## VISUAL"
   ]
  },
  {
   "cell_type": "code",
   "execution_count": 571,
   "metadata": {
    "execution": {
     "iopub.execute_input": "2024-12-28T10:24:05.064384Z",
     "iopub.status.busy": "2024-12-28T10:24:05.064098Z",
     "iopub.status.idle": "2024-12-28T10:24:05.387909Z",
     "shell.execute_reply": "2024-12-28T10:24:05.386994Z",
     "shell.execute_reply.started": "2024-12-28T10:24:05.064362Z"
    },
    "trusted": true
   },
   "outputs": [
    {
     "data": {
      "image/png": "[encoded data removed]",
      "text/plain": [
       "<Figure size 1200x600 with 1 Axes>"
      ]
     },
     "metadata": {},
     "output_type": "display_data"
    }
   ],
   "source": [
    "metrics_dicts = [\n",
    "    temp_avg_minmax, temp_avg_Standard,\n",
    "    temp_min_minmax, temp_min_Standard,\n",
    "    temp_max_minmax, temp_max_standard\n",
    "]\n",
    "features = [\n",
    "    \"Temperature Average MinMax\", \"Temperature Average Standard\",\n",
    "    \"Temperature MiniMum MinMax\", \"Temperature MiniMum Standard\",\n",
    "    \"Temperature Maximum MinMax\", \"Temperature Maximum Standard\"\n",
    "]\n",
    "\n",
    "# Display all metrics in a single plot\n",
    "display_all_metrics(metrics_dicts, features)"
   ]
  },
  {
   "cell_type": "markdown",
   "metadata": {},
   "source": [
    " <h1 style=\"text-align:center;\">END</h1>"
   ]
  },
  {
   "cell_type": "markdown",
   "metadata": {},
   "source": [
    "---"
   ]
  }
 ],
 "metadata": {
  "colab": {
   "provenance": []
  },
  "kaggle": {
   "accelerator": "nvidiaTeslaT4",
   "dataSources": [],
   "dockerImageVersionId": 30823,
   "isGpuEnabled": true,
   "isInternetEnabled": true,
   "language": "python",
   "sourceType": "notebook"
  },
  "kernelspec": {
   "display_name": "Python 3",
   "language": "python",
   "name": "python3"
  },
  "language_info": {
   "codemirror_mode": {
    "name": "ipython",
    "version": 3
   },
   "file_extension": ".py",
   "mimetype": "text/x-python",
   "name": "python",
   "nbconvert_exporter": "python",
   "pygments_lexer": "ipython3",
   "version": "3.11.8"
  }
 },
 "nbformat": 4,
 "nbformat_minor": 4
}
